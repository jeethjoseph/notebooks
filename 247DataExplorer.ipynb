{
 "cells": [
  {
   "cell_type": "code",
   "execution_count": 2,
   "metadata": {},
   "outputs": [],
   "source": [
    "#imports\n",
    "import pandas as pd\n",
    "import numpy as np\n"
   ]
  },
  {
   "cell_type": "code",
   "execution_count": 8,
   "metadata": {},
   "outputs": [],
   "source": [
    "data = pd.read_csv('../data/newtest.csv', names =['BillId','ItemId1', 'ItemId2', 'ItemName', 'Level1', 'Level2', 'Level3', 'Level4','Level5'])"
   ]
  },
  {
   "cell_type": "code",
   "execution_count": 9,
   "metadata": {},
   "outputs": [
    {
     "data": {
      "text/plain": [
       "(9480766, 9)"
      ]
     },
     "execution_count": 9,
     "metadata": {},
     "output_type": "execute_result"
    }
   ],
   "source": [
    "data.shape"
   ]
  },
  {
   "cell_type": "code",
   "execution_count": 10,
   "metadata": {
    "scrolled": true
   },
   "outputs": [
    {
     "data": {
      "text/html": [
       "<div>\n",
       "<style scoped>\n",
       "    .dataframe tbody tr th:only-of-type {\n",
       "        vertical-align: middle;\n",
       "    }\n",
       "\n",
       "    .dataframe tbody tr th {\n",
       "        vertical-align: top;\n",
       "    }\n",
       "\n",
       "    .dataframe thead th {\n",
       "        text-align: right;\n",
       "    }\n",
       "</style>\n",
       "<table border=\"1\" class=\"dataframe\">\n",
       "  <thead>\n",
       "    <tr style=\"text-align: right;\">\n",
       "      <th></th>\n",
       "      <th>BillId</th>\n",
       "      <th>ItemId1</th>\n",
       "      <th>ItemId2</th>\n",
       "      <th>ItemName</th>\n",
       "      <th>Level1</th>\n",
       "      <th>Level2</th>\n",
       "      <th>Level3</th>\n",
       "      <th>Level4</th>\n",
       "      <th>Level5</th>\n",
       "    </tr>\n",
       "  </thead>\n",
       "  <tbody>\n",
       "    <tr>\n",
       "      <th>0</th>\n",
       "      <td>2-2018-2019-0-2552754</td>\n",
       "      <td>44133</td>\n",
       "      <td>101202.0</td>\n",
       "      <td>B NUTA BROWNIE</td>\n",
       "      <td>TFS TRADED GOODS</td>\n",
       "      <td>FB SERVICES</td>\n",
       "      <td>FBS BITES</td>\n",
       "      <td>FBS READY TO EAT MEA</td>\n",
       "      <td>FBS CONTINENTAL</td>\n",
       "    </tr>\n",
       "    <tr>\n",
       "      <th>1</th>\n",
       "      <td>2-2018-2019-0-2552754</td>\n",
       "      <td>41889</td>\n",
       "      <td>100955.0</td>\n",
       "      <td>B TUTTI FRUITY CAKE SLICE 120G</td>\n",
       "      <td>TFS TRADED GOODS</td>\n",
       "      <td>FB SERVICES</td>\n",
       "      <td>FBS BITES</td>\n",
       "      <td>FBS BAKERY</td>\n",
       "      <td>FBS CONFECTIONERY</td>\n",
       "    </tr>\n",
       "    <tr>\n",
       "      <th>2</th>\n",
       "      <td>2-2018-2019-0-2552754</td>\n",
       "      <td>41886</td>\n",
       "      <td>100952.0</td>\n",
       "      <td>B CHOCOLATE MUFFIN 90</td>\n",
       "      <td>TFS TRADED GOODS</td>\n",
       "      <td>FB SERVICES</td>\n",
       "      <td>FBS BITES</td>\n",
       "      <td>FBS BAKERY</td>\n",
       "      <td>FBS CONFECTIONERY</td>\n",
       "    </tr>\n",
       "    <tr>\n",
       "      <th>3</th>\n",
       "      <td>2-2018-2019-0-2552755</td>\n",
       "      <td>3164</td>\n",
       "      <td>202178.0</td>\n",
       "      <td>HARVEST GOLD BREAD 700G</td>\n",
       "      <td>TFS TRADED GOODS</td>\n",
       "      <td>GROCERY FRESH</td>\n",
       "      <td>DAILY FRESH NEEDS</td>\n",
       "      <td>BAKERY</td>\n",
       "      <td>SANDWICH BREAD</td>\n",
       "    </tr>\n",
       "    <tr>\n",
       "      <th>4</th>\n",
       "      <td>2-2018-2019-0-2552756</td>\n",
       "      <td>43706</td>\n",
       "      <td>213208.0</td>\n",
       "      <td>YOGA BAR BREAKFAST BAR ALMD COCONUT 50G</td>\n",
       "      <td>TFS TRADED GOODS</td>\n",
       "      <td>GROCERY DRY</td>\n",
       "      <td>INSTANT FOODS</td>\n",
       "      <td>BREAKFAST CEREALS</td>\n",
       "      <td>CEREAL BASED</td>\n",
       "    </tr>\n",
       "  </tbody>\n",
       "</table>\n",
       "</div>"
      ],
      "text/plain": [
       "                  BillId  ItemId1   ItemId2  \\\n",
       "0  2-2018-2019-0-2552754    44133  101202.0   \n",
       "1  2-2018-2019-0-2552754    41889  100955.0   \n",
       "2  2-2018-2019-0-2552754    41886  100952.0   \n",
       "3  2-2018-2019-0-2552755     3164  202178.0   \n",
       "4  2-2018-2019-0-2552756    43706  213208.0   \n",
       "\n",
       "                                  ItemName            Level1         Level2  \\\n",
       "0                           B NUTA BROWNIE  TFS TRADED GOODS    FB SERVICES   \n",
       "1           B TUTTI FRUITY CAKE SLICE 120G  TFS TRADED GOODS    FB SERVICES   \n",
       "2                    B CHOCOLATE MUFFIN 90  TFS TRADED GOODS    FB SERVICES   \n",
       "3                  HARVEST GOLD BREAD 700G  TFS TRADED GOODS  GROCERY FRESH   \n",
       "4  YOGA BAR BREAKFAST BAR ALMD COCONUT 50G  TFS TRADED GOODS    GROCERY DRY   \n",
       "\n",
       "              Level3                Level4             Level5  \n",
       "0          FBS BITES  FBS READY TO EAT MEA    FBS CONTINENTAL  \n",
       "1          FBS BITES            FBS BAKERY  FBS CONFECTIONERY  \n",
       "2          FBS BITES            FBS BAKERY  FBS CONFECTIONERY  \n",
       "3  DAILY FRESH NEEDS                BAKERY     SANDWICH BREAD  \n",
       "4      INSTANT FOODS     BREAKFAST CEREALS       CEREAL BASED  "
      ]
     },
     "execution_count": 10,
     "metadata": {},
     "output_type": "execute_result"
    }
   ],
   "source": [
    "data.head()"
   ]
  },
  {
   "cell_type": "code",
   "execution_count": 11,
   "metadata": {},
   "outputs": [
    {
     "data": {
      "text/html": [
       "<div>\n",
       "<style scoped>\n",
       "    .dataframe tbody tr th:only-of-type {\n",
       "        vertical-align: middle;\n",
       "    }\n",
       "\n",
       "    .dataframe tbody tr th {\n",
       "        vertical-align: top;\n",
       "    }\n",
       "\n",
       "    .dataframe thead th {\n",
       "        text-align: right;\n",
       "    }\n",
       "</style>\n",
       "<table border=\"1\" class=\"dataframe\">\n",
       "  <thead>\n",
       "    <tr style=\"text-align: right;\">\n",
       "      <th></th>\n",
       "      <th>count</th>\n",
       "      <th>mean</th>\n",
       "      <th>std</th>\n",
       "      <th>min</th>\n",
       "      <th>25%</th>\n",
       "      <th>50%</th>\n",
       "      <th>75%</th>\n",
       "      <th>max</th>\n",
       "    </tr>\n",
       "  </thead>\n",
       "  <tbody>\n",
       "    <tr>\n",
       "      <th>ItemId1</th>\n",
       "      <td>9480766.0</td>\n",
       "      <td>3.081675e+04</td>\n",
       "      <td>1.480195e+04</td>\n",
       "      <td>78.0</td>\n",
       "      <td>23220.0</td>\n",
       "      <td>37903.0</td>\n",
       "      <td>42244.0</td>\n",
       "      <td>4.497300e+04</td>\n",
       "    </tr>\n",
       "    <tr>\n",
       "      <th>ItemId2</th>\n",
       "      <td>9480765.0</td>\n",
       "      <td>2.075130e+06</td>\n",
       "      <td>4.088351e+09</td>\n",
       "      <td>100071.0</td>\n",
       "      <td>200877.0</td>\n",
       "      <td>205106.0</td>\n",
       "      <td>210730.0</td>\n",
       "      <td>8.901648e+12</td>\n",
       "    </tr>\n",
       "  </tbody>\n",
       "</table>\n",
       "</div>"
      ],
      "text/plain": [
       "             count          mean           std       min       25%       50%  \\\n",
       "ItemId1  9480766.0  3.081675e+04  1.480195e+04      78.0   23220.0   37903.0   \n",
       "ItemId2  9480765.0  2.075130e+06  4.088351e+09  100071.0  200877.0  205106.0   \n",
       "\n",
       "              75%           max  \n",
       "ItemId1   42244.0  4.497300e+04  \n",
       "ItemId2  210730.0  8.901648e+12  "
      ]
     },
     "execution_count": 11,
     "metadata": {},
     "output_type": "execute_result"
    }
   ],
   "source": [
    "data.describe().transpose()"
   ]
  },
  {
   "cell_type": "code",
   "execution_count": 12,
   "metadata": {},
   "outputs": [
    {
     "data": {
      "text/plain": [
       "BillId      False\n",
       "ItemId1     False\n",
       "ItemId2      True\n",
       "ItemName    False\n",
       "Level1      False\n",
       "Level2      False\n",
       "Level3      False\n",
       "Level4      False\n",
       "Level5      False\n",
       "dtype: bool"
      ]
     },
     "execution_count": 12,
     "metadata": {},
     "output_type": "execute_result"
    }
   ],
   "source": [
    "data.isnull().any()"
   ]
  },
  {
   "cell_type": "code",
   "execution_count": 14,
   "metadata": {},
   "outputs": [],
   "source": [
    "data = data.dropna()"
   ]
  },
  {
   "cell_type": "code",
   "execution_count": 15,
   "metadata": {},
   "outputs": [
    {
     "data": {
      "text/plain": [
       "3669689"
      ]
     },
     "execution_count": 15,
     "metadata": {},
     "output_type": "execute_result"
    }
   ],
   "source": [
    "len(data['BillId'].unique())"
   ]
  },
  {
   "cell_type": "code",
   "execution_count": null,
   "metadata": {},
   "outputs": [],
   "source": []
  }
 ],
 "metadata": {
  "kernelspec": {
   "display_name": "Python 3",
   "language": "python",
   "name": "python3"
  },
  "language_info": {
   "codemirror_mode": {
    "name": "ipython",
    "version": 3
   },
   "file_extension": ".py",
   "mimetype": "text/x-python",
   "name": "python",
   "nbconvert_exporter": "python",
   "pygments_lexer": "ipython3",
   "version": "3.6.7"
  }
 },
 "nbformat": 4,
 "nbformat_minor": 2
}
