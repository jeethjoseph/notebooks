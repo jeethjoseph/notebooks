{
 "cells": [
  {
   "cell_type": "markdown",
   "metadata": {},
   "source": [
    "# Hybrid\n",
    "* Movie title and user as input\n",
    "* Use content based to compute 25 most similar movies\n",
    "* Compute the predicted ratings using a collaborative model\n",
    "Return top 10"
   ]
  },
  {
   "cell_type": "code",
   "execution_count": 1,
   "metadata": {},
   "outputs": [],
   "source": [
    "import pandas as pd\n",
    "import numpy as np\n",
    "from sklearn.metrics.pairwise import cosine_similarity\n",
    "from surprise import KNNBasic, Reader, Dataset, evaluate"
   ]
  },
  {
   "cell_type": "code",
   "execution_count": 3,
   "metadata": {},
   "outputs": [
    {
     "data": {
      "text/html": [
       "<div>\n",
       "<style scoped>\n",
       "    .dataframe tbody tr th:only-of-type {\n",
       "        vertical-align: middle;\n",
       "    }\n",
       "\n",
       "    .dataframe tbody tr th {\n",
       "        vertical-align: top;\n",
       "    }\n",
       "\n",
       "    .dataframe thead th {\n",
       "        text-align: right;\n",
       "    }\n",
       "</style>\n",
       "<table border=\"1\" class=\"dataframe\">\n",
       "  <thead>\n",
       "    <tr style=\"text-align: right;\">\n",
       "      <th></th>\n",
       "      <th>LYBID</th>\n",
       "      <th>ITEMID</th>\n",
       "      <th>bool</th>\n",
       "    </tr>\n",
       "  </thead>\n",
       "  <tbody>\n",
       "    <tr>\n",
       "      <th>0</th>\n",
       "      <td>10004</td>\n",
       "      <td>29009</td>\n",
       "      <td>True</td>\n",
       "    </tr>\n",
       "    <tr>\n",
       "      <th>1</th>\n",
       "      <td>10004</td>\n",
       "      <td>33815</td>\n",
       "      <td>True</td>\n",
       "    </tr>\n",
       "    <tr>\n",
       "      <th>2</th>\n",
       "      <td>10004</td>\n",
       "      <td>43517</td>\n",
       "      <td>True</td>\n",
       "    </tr>\n",
       "    <tr>\n",
       "      <th>3</th>\n",
       "      <td>10004</td>\n",
       "      <td>43519</td>\n",
       "      <td>True</td>\n",
       "    </tr>\n",
       "    <tr>\n",
       "      <th>4</th>\n",
       "      <td>10004</td>\n",
       "      <td>43598</td>\n",
       "      <td>True</td>\n",
       "    </tr>\n",
       "  </tbody>\n",
       "</table>\n",
       "</div>"
      ],
      "text/plain": [
       "   LYBID  ITEMID  bool\n",
       "0  10004   29009  True\n",
       "1  10004   33815  True\n",
       "2  10004   43517  True\n",
       "3  10004   43519  True\n",
       "4  10004   43598  True"
      ]
     },
     "execution_count": 3,
     "metadata": {},
     "output_type": "execute_result"
    }
   ],
   "source": [
    "# data 10k import from .xlsx\n",
    "data = pd.read_excel('full_data_quest_jan.xlsx')\n",
    "data['bool'] = data['TotalQtyPurchased'] != 0\n",
    "del data['TotalQtyPurchased']\n",
    "data.head()\n"
   ]
  },
  {
   "cell_type": "code",
   "execution_count": 4,
   "metadata": {},
   "outputs": [
    {
     "data": {
      "text/html": [
       "<div>\n",
       "<style scoped>\n",
       "    .dataframe tbody tr th:only-of-type {\n",
       "        vertical-align: middle;\n",
       "    }\n",
       "\n",
       "    .dataframe tbody tr th {\n",
       "        vertical-align: top;\n",
       "    }\n",
       "\n",
       "    .dataframe thead th {\n",
       "        text-align: right;\n",
       "    }\n",
       "</style>\n",
       "<table border=\"1\" class=\"dataframe\">\n",
       "  <thead>\n",
       "    <tr style=\"text-align: right;\">\n",
       "      <th></th>\n",
       "      <th>count</th>\n",
       "      <th>mean</th>\n",
       "      <th>std</th>\n",
       "      <th>min</th>\n",
       "      <th>25%</th>\n",
       "      <th>50%</th>\n",
       "      <th>75%</th>\n",
       "      <th>max</th>\n",
       "    </tr>\n",
       "  </thead>\n",
       "  <tbody>\n",
       "    <tr>\n",
       "      <th>LYBID</th>\n",
       "      <td>352444.0</td>\n",
       "      <td>2.947456e+08</td>\n",
       "      <td>4.357904e+08</td>\n",
       "      <td>10004.0</td>\n",
       "      <td>31227556.0</td>\n",
       "      <td>31847358.0</td>\n",
       "      <td>1.030520e+09</td>\n",
       "      <td>1.131601e+09</td>\n",
       "    </tr>\n",
       "    <tr>\n",
       "      <th>ITEMID</th>\n",
       "      <td>352444.0</td>\n",
       "      <td>3.766882e+04</td>\n",
       "      <td>1.012811e+04</td>\n",
       "      <td>69.0</td>\n",
       "      <td>35655.0</td>\n",
       "      <td>43442.0</td>\n",
       "      <td>4.363800e+04</td>\n",
       "      <td>4.430400e+04</td>\n",
       "    </tr>\n",
       "  </tbody>\n",
       "</table>\n",
       "</div>"
      ],
      "text/plain": [
       "           count          mean           std      min         25%         50%  \\\n",
       "LYBID   352444.0  2.947456e+08  4.357904e+08  10004.0  31227556.0  31847358.0   \n",
       "ITEMID  352444.0  3.766882e+04  1.012811e+04     69.0     35655.0     43442.0   \n",
       "\n",
       "                 75%           max  \n",
       "LYBID   1.030520e+09  1.131601e+09  \n",
       "ITEMID  4.363800e+04  4.430400e+04  "
      ]
     },
     "execution_count": 4,
     "metadata": {},
     "output_type": "execute_result"
    }
   ],
   "source": [
    "data.describe().transpose()"
   ]
  },
  {
   "cell_type": "code",
   "execution_count": null,
   "metadata": {
    "scrolled": false
   },
   "outputs": [],
   "source": [
    "matrix = data.pivot_table(values='bool',index ='ITEMID', columns ='LYBID')\n",
    "matrix.head()"
   ]
  },
  {
   "cell_type": "code",
   "execution_count": null,
   "metadata": {},
   "outputs": [],
   "source": [
    "matrix_dummy =matrix.copy().fillna(0)"
   ]
  },
  {
   "cell_type": "code",
   "execution_count": null,
   "metadata": {},
   "outputs": [],
   "source": [
    "matrix_dummy.head()"
   ]
  },
  {
   "cell_type": "code",
   "execution_count": null,
   "metadata": {},
   "outputs": [],
   "source": [
    "cosine_sim = cosine_similarity(matrix_dummy, matrix_dummy)"
   ]
  },
  {
   "cell_type": "code",
   "execution_count": null,
   "metadata": {},
   "outputs": [],
   "source": [
    "cosine_sim = pd.DataFrame(cosine_sim, index =matrix.index,columns =matrix.index)"
   ]
  },
  {
   "cell_type": "code",
   "execution_count": null,
   "metadata": {
    "scrolled": true
   },
   "outputs": [],
   "source": [
    "cosine_sim.head(10)"
   ]
  },
  {
   "cell_type": "markdown",
   "metadata": {},
   "source": [
    "# Prep done use SVD"
   ]
  },
  {
   "cell_type": "code",
   "execution_count": null,
   "metadata": {},
   "outputs": [],
   "source": [
    "\n",
    "\n",
    "reader = Reader()\n",
    "data = Dataset.load_from_df(data, reader) #need evaluation\n",
    "data.split(n_folds=5)\n",
    "algo = KNNBasic()\n",
    "trainset =data.build_full_trainset()\n",
    "algo.train(trainset)"
   ]
  },
  {
   "cell_type": "code",
   "execution_count": null,
   "metadata": {},
   "outputs": [],
   "source": [
    "sim_options = {'name': 'cosine',\n",
    "               'user_based': False  # compute  similarities between items\n",
    "               }\n"
   ]
  },
  {
   "cell_type": "code",
   "execution_count": null,
   "metadata": {},
   "outputs": [],
   "source": [
    "algo.predict(10012, 325)"
   ]
  },
  {
   "cell_type": "code",
   "execution_count": null,
   "metadata": {
    "scrolled": true
   },
   "outputs": [],
   "source": [
    "evaluate(algo, data, measures =['RMSE'])"
   ]
  },
  {
   "cell_type": "code",
   "execution_count": null,
   "metadata": {},
   "outputs": [],
   "source": [
    "# Final Function\n",
    "# Takes title, userId and returns to 25 sorted movie names on est\n",
    "def reco(userId,item):\n",
    "    df = cosine_sim.loc[item].to_frame(name=None)\n",
    "    df = df.sort_values(by =[item],ascending = False).head(26)\n",
    "    df = df.reset_index()\n",
    "    df['est'] = df['ITEMID'].apply(lambda x: svd.predict(userId, x).est)\n",
    "    df =df.sort_values('est', ascending=False)\n",
    "    \n",
    "    return df.head(10)\n",
    "\n"
   ]
  },
  {
   "cell_type": "code",
   "execution_count": null,
   "metadata": {},
   "outputs": [],
   "source": [
    "def reco(userId,item):\n",
    "    df = cosine_sim.loc[item].to_frame(name=None)\n",
    "    df = df.sort_values(by =[item],ascending = False).head(26)\n",
    "    df = df.reset_index()\n",
    "    df['est'] = df['ITEMID'].apply(lambda x: svd.predict(userId, x).est)\n",
    "    df =df.sort_values('est', ascending=False)\n",
    "    \n",
    "    return df\n",
    "x = reco(10009,200)\n",
    "x"
   ]
  },
  {
   "cell_type": "code",
   "execution_count": null,
   "metadata": {
    "scrolled": true
   },
   "outputs": [],
   "source": [
    "reco(10009, 481)"
   ]
  },
  {
   "cell_type": "code",
   "execution_count": null,
   "metadata": {},
   "outputs": [],
   "source": []
  }
 ],
 "metadata": {
  "kernelspec": {
   "display_name": "Python 3",
   "language": "python",
   "name": "python3"
  },
  "language_info": {
   "codemirror_mode": {
    "name": "ipython",
    "version": 3
   },
   "file_extension": ".py",
   "mimetype": "text/x-python",
   "name": "python",
   "nbconvert_exporter": "python",
   "pygments_lexer": "ipython3",
   "version": "3.6.7"
  }
 },
 "nbformat": 4,
 "nbformat_minor": 2
}
