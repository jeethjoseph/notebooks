{
 "cells": [
  {
   "cell_type": "markdown",
   "metadata": {},
   "source": [
    "# Product Recommendation Engine Analysis\n",
    "Product Lead: Jeeth Joseph \n",
    "Based on the ideas so elegantly put by Moorissa Tjokro\n",
    "\n",
    "## Problem statement\n",
    "The steps below aim to recommend users their top 10 items to place into their basket. The final output will be a csv file in the `output` folder, and a function that searches for a recommendation list based on a speficied user:\n",
    "* Input: user - customer ID\n",
    "* Returns: ranked list of items (product IDs), that the user is most likely to want to put in his/her (empty) \"basket\"\n",
    "\n",
    "## 1. Import modules\n",
    "* `pandas` and `numpy` for data manipulation\n",
    "* `turicreate` for performing model selection and evaluation\n",
    "* `sklearn` for splitting the data into train and test set\n",
    "* `xlrd` for excel import\n",
    "* sudo apt-get install libatlas-base-dev for missing package"
   ]
  },
  {
   "cell_type": "code",
   "execution_count": 1,
   "metadata": {
    "scrolled": false
   },
   "outputs": [],
   "source": [
    "%load_ext autoreload\n",
    "%autoreload 2\n",
    "\n",
    "import pandas as pd\n",
    "import numpy as np\n",
    "import time\n",
    "import turicreate as tc\n",
    "from sklearn.model_selection import train_test_split\n",
    "\n",
    "import sys\n",
    "sys.path.append(\"..\")\n",
    "import scripts.data_layer as data_layer"
   ]
  },
  {
   "cell_type": "markdown",
   "metadata": {},
   "source": [
    "## 2. Load data\n",
    "Single dataset from db, which can be found in `data` folder: \n",
    "* Lyb data QUEST JAN WITH PURQTY 10k (to avoid memory error)\n",
    "* XLSX Format\n",
    "* Possible error expected dude to difference between expected purchase frequency and purchase qty\n",
    "\n"
   ]
  },
  {
   "cell_type": "code",
   "execution_count": 2,
   "metadata": {},
   "outputs": [
    {
     "name": "stdout",
     "output_type": "stream",
     "text": [
      "Import time: 0.11 minutes\n",
      "(9999, 3)\n"
     ]
    },
    {
     "data": {
      "text/html": [
       "<div>\n",
       "<style scoped>\n",
       "    .dataframe tbody tr th:only-of-type {\n",
       "        vertical-align: middle;\n",
       "    }\n",
       "\n",
       "    .dataframe tbody tr th {\n",
       "        vertical-align: top;\n",
       "    }\n",
       "\n",
       "    .dataframe thead th {\n",
       "        text-align: right;\n",
       "    }\n",
       "</style>\n",
       "<table border=\"1\" class=\"dataframe\">\n",
       "  <thead>\n",
       "    <tr style=\"text-align: right;\">\n",
       "      <th></th>\n",
       "      <th>LYBID</th>\n",
       "      <th>ITEMID</th>\n",
       "      <th>TotalQtyPurchased</th>\n",
       "    </tr>\n",
       "  </thead>\n",
       "  <tbody>\n",
       "    <tr>\n",
       "      <th>0</th>\n",
       "      <td>10004</td>\n",
       "      <td>29009</td>\n",
       "      <td>1</td>\n",
       "    </tr>\n",
       "    <tr>\n",
       "      <th>1</th>\n",
       "      <td>10004</td>\n",
       "      <td>33815</td>\n",
       "      <td>2</td>\n",
       "    </tr>\n",
       "  </tbody>\n",
       "</table>\n",
       "</div>"
      ],
      "text/plain": [
       "   LYBID  ITEMID  TotalQtyPurchased\n",
       "0  10004   29009                  1\n",
       "1  10004   33815                  2"
      ]
     },
     "execution_count": 2,
     "metadata": {},
     "output_type": "execute_result"
    }
   ],
   "source": [
    "s=time.time()\n",
    "\n",
    "data=pd.read_excel('../data/Lyb data QUEST JAN WITH PURQTY 10k.xlsx')\n",
    "\n",
    "print(\"Import time:\", round((time.time()-s)/60,2), \"minutes\")\n",
    "\n",
    "print(data.shape)\n",
    "data.head(2)"
   ]
  },
  {
   "cell_type": "markdown",
   "metadata": {},
   "source": [
    "### 3 Create dummy\n",
    "* Dummy for marking whether a customer bought that item or not.\n",
    "* If one buys an item, then `purchase_dummy` are marked as 1\n",
    "* Why create a dummy instead of normalizing it?\n",
    "    * Normalizing the purchase count, say by each user, would not work because customers may have different buying frequency don't have the same taste\n",
    "    * However, we can normalize items by purchase frequency across all users, which is done in section 3.3. below."
   ]
  },
  {
   "cell_type": "code",
   "execution_count": 3,
   "metadata": {},
   "outputs": [],
   "source": [
    "def create_data_dummy(data):\n",
    "    data_dummy = data.copy()\n",
    "    data_dummy['purchase_dummy'] = 1\n",
    "    return data_dummy"
   ]
  },
  {
   "cell_type": "code",
   "execution_count": 4,
   "metadata": {},
   "outputs": [],
   "source": [
    "data_dummy = create_data_dummy(data)"
   ]
  },
  {
   "cell_type": "code",
   "execution_count": 5,
   "metadata": {
    "scrolled": true
   },
   "outputs": [
    {
     "name": "stdout",
     "output_type": "stream",
     "text": [
      "(9999, 4)\n"
     ]
    },
    {
     "data": {
      "text/html": [
       "<div>\n",
       "<style scoped>\n",
       "    .dataframe tbody tr th:only-of-type {\n",
       "        vertical-align: middle;\n",
       "    }\n",
       "\n",
       "    .dataframe tbody tr th {\n",
       "        vertical-align: top;\n",
       "    }\n",
       "\n",
       "    .dataframe thead th {\n",
       "        text-align: right;\n",
       "    }\n",
       "</style>\n",
       "<table border=\"1\" class=\"dataframe\">\n",
       "  <thead>\n",
       "    <tr style=\"text-align: right;\">\n",
       "      <th></th>\n",
       "      <th>LYBID</th>\n",
       "      <th>ITEMID</th>\n",
       "      <th>TotalQtyPurchased</th>\n",
       "      <th>purchase_dummy</th>\n",
       "    </tr>\n",
       "  </thead>\n",
       "  <tbody>\n",
       "    <tr>\n",
       "      <th>0</th>\n",
       "      <td>10004</td>\n",
       "      <td>29009</td>\n",
       "      <td>1</td>\n",
       "      <td>1</td>\n",
       "    </tr>\n",
       "    <tr>\n",
       "      <th>1</th>\n",
       "      <td>10004</td>\n",
       "      <td>33815</td>\n",
       "      <td>2</td>\n",
       "      <td>1</td>\n",
       "    </tr>\n",
       "    <tr>\n",
       "      <th>2</th>\n",
       "      <td>10004</td>\n",
       "      <td>43517</td>\n",
       "      <td>1</td>\n",
       "      <td>1</td>\n",
       "    </tr>\n",
       "    <tr>\n",
       "      <th>3</th>\n",
       "      <td>10004</td>\n",
       "      <td>43519</td>\n",
       "      <td>2</td>\n",
       "      <td>1</td>\n",
       "    </tr>\n",
       "    <tr>\n",
       "      <th>4</th>\n",
       "      <td>10004</td>\n",
       "      <td>43598</td>\n",
       "      <td>1</td>\n",
       "      <td>1</td>\n",
       "    </tr>\n",
       "  </tbody>\n",
       "</table>\n",
       "</div>"
      ],
      "text/plain": [
       "   LYBID  ITEMID  TotalQtyPurchased  purchase_dummy\n",
       "0  10004   29009                  1               1\n",
       "1  10004   33815                  2               1\n",
       "2  10004   43517                  1               1\n",
       "3  10004   43519                  2               1\n",
       "4  10004   43598                  1               1"
      ]
     },
     "execution_count": 5,
     "metadata": {},
     "output_type": "execute_result"
    }
   ],
   "source": [
    "print(data_dummy.shape)\n",
    "data_dummy.head()"
   ]
  },
  {
   "cell_type": "markdown",
   "metadata": {},
   "source": [
    "### 3.3. Normalize item values across users\n",
    "* To do this, we normalize purchase frequency of each item across users by first creating a user-item matrix as follows"
   ]
  },
  {
   "cell_type": "code",
   "execution_count": 6,
   "metadata": {},
   "outputs": [
    {
     "name": "stdout",
     "output_type": "stream",
     "text": [
      "Import time: 0.01 minutes\n"
     ]
    },
    {
     "data": {
      "text/html": [
       "<div>\n",
       "<style scoped>\n",
       "    .dataframe tbody tr th:only-of-type {\n",
       "        vertical-align: middle;\n",
       "    }\n",
       "\n",
       "    .dataframe tbody tr th {\n",
       "        vertical-align: top;\n",
       "    }\n",
       "\n",
       "    .dataframe thead th {\n",
       "        text-align: right;\n",
       "    }\n",
       "</style>\n",
       "<table border=\"1\" class=\"dataframe\">\n",
       "  <thead>\n",
       "    <tr style=\"text-align: right;\">\n",
       "      <th>ITEMID</th>\n",
       "      <th>69</th>\n",
       "      <th>200</th>\n",
       "      <th>208</th>\n",
       "      <th>325</th>\n",
       "      <th>481</th>\n",
       "      <th>504</th>\n",
       "      <th>1672</th>\n",
       "      <th>1717</th>\n",
       "      <th>1969</th>\n",
       "      <th>2041</th>\n",
       "      <th>...</th>\n",
       "      <th>44168</th>\n",
       "      <th>44169</th>\n",
       "      <th>44182</th>\n",
       "      <th>44186</th>\n",
       "      <th>44196</th>\n",
       "      <th>44197</th>\n",
       "      <th>44199</th>\n",
       "      <th>44257</th>\n",
       "      <th>44270</th>\n",
       "      <th>44289</th>\n",
       "    </tr>\n",
       "    <tr>\n",
       "      <th>LYBID</th>\n",
       "      <th></th>\n",
       "      <th></th>\n",
       "      <th></th>\n",
       "      <th></th>\n",
       "      <th></th>\n",
       "      <th></th>\n",
       "      <th></th>\n",
       "      <th></th>\n",
       "      <th></th>\n",
       "      <th></th>\n",
       "      <th></th>\n",
       "      <th></th>\n",
       "      <th></th>\n",
       "      <th></th>\n",
       "      <th></th>\n",
       "      <th></th>\n",
       "      <th></th>\n",
       "      <th></th>\n",
       "      <th></th>\n",
       "      <th></th>\n",
       "      <th></th>\n",
       "    </tr>\n",
       "  </thead>\n",
       "  <tbody>\n",
       "    <tr>\n",
       "      <th>10004</th>\n",
       "      <td>NaN</td>\n",
       "      <td>NaN</td>\n",
       "      <td>NaN</td>\n",
       "      <td>NaN</td>\n",
       "      <td>NaN</td>\n",
       "      <td>NaN</td>\n",
       "      <td>NaN</td>\n",
       "      <td>NaN</td>\n",
       "      <td>NaN</td>\n",
       "      <td>NaN</td>\n",
       "      <td>...</td>\n",
       "      <td>NaN</td>\n",
       "      <td>NaN</td>\n",
       "      <td>NaN</td>\n",
       "      <td>NaN</td>\n",
       "      <td>NaN</td>\n",
       "      <td>NaN</td>\n",
       "      <td>NaN</td>\n",
       "      <td>NaN</td>\n",
       "      <td>NaN</td>\n",
       "      <td>NaN</td>\n",
       "    </tr>\n",
       "    <tr>\n",
       "      <th>10009</th>\n",
       "      <td>NaN</td>\n",
       "      <td>NaN</td>\n",
       "      <td>NaN</td>\n",
       "      <td>NaN</td>\n",
       "      <td>NaN</td>\n",
       "      <td>NaN</td>\n",
       "      <td>NaN</td>\n",
       "      <td>NaN</td>\n",
       "      <td>NaN</td>\n",
       "      <td>NaN</td>\n",
       "      <td>...</td>\n",
       "      <td>NaN</td>\n",
       "      <td>NaN</td>\n",
       "      <td>NaN</td>\n",
       "      <td>NaN</td>\n",
       "      <td>NaN</td>\n",
       "      <td>NaN</td>\n",
       "      <td>NaN</td>\n",
       "      <td>NaN</td>\n",
       "      <td>NaN</td>\n",
       "      <td>NaN</td>\n",
       "    </tr>\n",
       "    <tr>\n",
       "      <th>10012</th>\n",
       "      <td>NaN</td>\n",
       "      <td>NaN</td>\n",
       "      <td>NaN</td>\n",
       "      <td>NaN</td>\n",
       "      <td>NaN</td>\n",
       "      <td>NaN</td>\n",
       "      <td>NaN</td>\n",
       "      <td>NaN</td>\n",
       "      <td>NaN</td>\n",
       "      <td>NaN</td>\n",
       "      <td>...</td>\n",
       "      <td>NaN</td>\n",
       "      <td>NaN</td>\n",
       "      <td>NaN</td>\n",
       "      <td>NaN</td>\n",
       "      <td>NaN</td>\n",
       "      <td>NaN</td>\n",
       "      <td>NaN</td>\n",
       "      <td>NaN</td>\n",
       "      <td>NaN</td>\n",
       "      <td>NaN</td>\n",
       "    </tr>\n",
       "    <tr>\n",
       "      <th>10022</th>\n",
       "      <td>NaN</td>\n",
       "      <td>NaN</td>\n",
       "      <td>NaN</td>\n",
       "      <td>NaN</td>\n",
       "      <td>NaN</td>\n",
       "      <td>NaN</td>\n",
       "      <td>NaN</td>\n",
       "      <td>NaN</td>\n",
       "      <td>NaN</td>\n",
       "      <td>NaN</td>\n",
       "      <td>...</td>\n",
       "      <td>NaN</td>\n",
       "      <td>NaN</td>\n",
       "      <td>NaN</td>\n",
       "      <td>NaN</td>\n",
       "      <td>NaN</td>\n",
       "      <td>NaN</td>\n",
       "      <td>NaN</td>\n",
       "      <td>NaN</td>\n",
       "      <td>NaN</td>\n",
       "      <td>NaN</td>\n",
       "    </tr>\n",
       "    <tr>\n",
       "      <th>10023</th>\n",
       "      <td>NaN</td>\n",
       "      <td>NaN</td>\n",
       "      <td>NaN</td>\n",
       "      <td>NaN</td>\n",
       "      <td>NaN</td>\n",
       "      <td>NaN</td>\n",
       "      <td>NaN</td>\n",
       "      <td>NaN</td>\n",
       "      <td>NaN</td>\n",
       "      <td>NaN</td>\n",
       "      <td>...</td>\n",
       "      <td>NaN</td>\n",
       "      <td>NaN</td>\n",
       "      <td>NaN</td>\n",
       "      <td>NaN</td>\n",
       "      <td>NaN</td>\n",
       "      <td>NaN</td>\n",
       "      <td>NaN</td>\n",
       "      <td>NaN</td>\n",
       "      <td>NaN</td>\n",
       "      <td>NaN</td>\n",
       "    </tr>\n",
       "  </tbody>\n",
       "</table>\n",
       "<p>5 rows × 921 columns</p>\n",
       "</div>"
      ],
      "text/plain": [
       "ITEMID  69     200    208    325    481    504    1672   1717   1969   2041   \\\n",
       "LYBID                                                                          \n",
       "10004     NaN    NaN    NaN    NaN    NaN    NaN    NaN    NaN    NaN    NaN   \n",
       "10009     NaN    NaN    NaN    NaN    NaN    NaN    NaN    NaN    NaN    NaN   \n",
       "10012     NaN    NaN    NaN    NaN    NaN    NaN    NaN    NaN    NaN    NaN   \n",
       "10022     NaN    NaN    NaN    NaN    NaN    NaN    NaN    NaN    NaN    NaN   \n",
       "10023     NaN    NaN    NaN    NaN    NaN    NaN    NaN    NaN    NaN    NaN   \n",
       "\n",
       "ITEMID  ...  44168  44169  44182  44186  44196  44197  44199  44257  44270  \\\n",
       "LYBID   ...                                                                  \n",
       "10004   ...    NaN    NaN    NaN    NaN    NaN    NaN    NaN    NaN    NaN   \n",
       "10009   ...    NaN    NaN    NaN    NaN    NaN    NaN    NaN    NaN    NaN   \n",
       "10012   ...    NaN    NaN    NaN    NaN    NaN    NaN    NaN    NaN    NaN   \n",
       "10022   ...    NaN    NaN    NaN    NaN    NaN    NaN    NaN    NaN    NaN   \n",
       "10023   ...    NaN    NaN    NaN    NaN    NaN    NaN    NaN    NaN    NaN   \n",
       "\n",
       "ITEMID  44289  \n",
       "LYBID          \n",
       "10004     NaN  \n",
       "10009     NaN  \n",
       "10012     NaN  \n",
       "10022     NaN  \n",
       "10023     NaN  \n",
       "\n",
       "[5 rows x 921 columns]"
      ]
     },
     "execution_count": 6,
     "metadata": {},
     "output_type": "execute_result"
    }
   ],
   "source": [
    "s=time.time()\n",
    "df_matrix = pd.pivot_table(data, values='TotalQtyPurchased', index='LYBID', columns='ITEMID')\n",
    "print(\"Import time:\", round((time.time()-s)/60,2), \"minutes\")\n",
    "df_matrix.head()"
   ]
  },
  {
   "cell_type": "code",
   "execution_count": 7,
   "metadata": {},
   "outputs": [
    {
     "data": {
      "text/plain": [
       "(2616, 921)"
      ]
     },
     "execution_count": 7,
     "metadata": {},
     "output_type": "execute_result"
    }
   ],
   "source": [
    "(df_matrix.shape)"
   ]
  },
  {
   "cell_type": "code",
   "execution_count": 8,
   "metadata": {},
   "outputs": [
    {
     "name": "stdout",
     "output_type": "stream",
     "text": [
      "Import time: 0.01 minutes\n",
      "(2616, 921)\n"
     ]
    },
    {
     "data": {
      "text/html": [
       "<div>\n",
       "<style scoped>\n",
       "    .dataframe tbody tr th:only-of-type {\n",
       "        vertical-align: middle;\n",
       "    }\n",
       "\n",
       "    .dataframe tbody tr th {\n",
       "        vertical-align: top;\n",
       "    }\n",
       "\n",
       "    .dataframe thead th {\n",
       "        text-align: right;\n",
       "    }\n",
       "</style>\n",
       "<table border=\"1\" class=\"dataframe\">\n",
       "  <thead>\n",
       "    <tr style=\"text-align: right;\">\n",
       "      <th>ITEMID</th>\n",
       "      <th>69</th>\n",
       "      <th>200</th>\n",
       "      <th>208</th>\n",
       "      <th>325</th>\n",
       "      <th>481</th>\n",
       "      <th>504</th>\n",
       "      <th>1672</th>\n",
       "      <th>1717</th>\n",
       "      <th>1969</th>\n",
       "      <th>2041</th>\n",
       "      <th>...</th>\n",
       "      <th>44168</th>\n",
       "      <th>44169</th>\n",
       "      <th>44182</th>\n",
       "      <th>44186</th>\n",
       "      <th>44196</th>\n",
       "      <th>44197</th>\n",
       "      <th>44199</th>\n",
       "      <th>44257</th>\n",
       "      <th>44270</th>\n",
       "      <th>44289</th>\n",
       "    </tr>\n",
       "    <tr>\n",
       "      <th>LYBID</th>\n",
       "      <th></th>\n",
       "      <th></th>\n",
       "      <th></th>\n",
       "      <th></th>\n",
       "      <th></th>\n",
       "      <th></th>\n",
       "      <th></th>\n",
       "      <th></th>\n",
       "      <th></th>\n",
       "      <th></th>\n",
       "      <th></th>\n",
       "      <th></th>\n",
       "      <th></th>\n",
       "      <th></th>\n",
       "      <th></th>\n",
       "      <th></th>\n",
       "      <th></th>\n",
       "      <th></th>\n",
       "      <th></th>\n",
       "      <th></th>\n",
       "      <th></th>\n",
       "    </tr>\n",
       "  </thead>\n",
       "  <tbody>\n",
       "    <tr>\n",
       "      <th>10004</th>\n",
       "      <td>NaN</td>\n",
       "      <td>NaN</td>\n",
       "      <td>NaN</td>\n",
       "      <td>NaN</td>\n",
       "      <td>NaN</td>\n",
       "      <td>NaN</td>\n",
       "      <td>NaN</td>\n",
       "      <td>NaN</td>\n",
       "      <td>NaN</td>\n",
       "      <td>NaN</td>\n",
       "      <td>...</td>\n",
       "      <td>NaN</td>\n",
       "      <td>NaN</td>\n",
       "      <td>NaN</td>\n",
       "      <td>NaN</td>\n",
       "      <td>NaN</td>\n",
       "      <td>NaN</td>\n",
       "      <td>NaN</td>\n",
       "      <td>NaN</td>\n",
       "      <td>NaN</td>\n",
       "      <td>NaN</td>\n",
       "    </tr>\n",
       "    <tr>\n",
       "      <th>10009</th>\n",
       "      <td>NaN</td>\n",
       "      <td>NaN</td>\n",
       "      <td>NaN</td>\n",
       "      <td>NaN</td>\n",
       "      <td>NaN</td>\n",
       "      <td>NaN</td>\n",
       "      <td>NaN</td>\n",
       "      <td>NaN</td>\n",
       "      <td>NaN</td>\n",
       "      <td>NaN</td>\n",
       "      <td>...</td>\n",
       "      <td>NaN</td>\n",
       "      <td>NaN</td>\n",
       "      <td>NaN</td>\n",
       "      <td>NaN</td>\n",
       "      <td>NaN</td>\n",
       "      <td>NaN</td>\n",
       "      <td>NaN</td>\n",
       "      <td>NaN</td>\n",
       "      <td>NaN</td>\n",
       "      <td>NaN</td>\n",
       "    </tr>\n",
       "    <tr>\n",
       "      <th>10012</th>\n",
       "      <td>NaN</td>\n",
       "      <td>NaN</td>\n",
       "      <td>NaN</td>\n",
       "      <td>NaN</td>\n",
       "      <td>NaN</td>\n",
       "      <td>NaN</td>\n",
       "      <td>NaN</td>\n",
       "      <td>NaN</td>\n",
       "      <td>NaN</td>\n",
       "      <td>NaN</td>\n",
       "      <td>...</td>\n",
       "      <td>NaN</td>\n",
       "      <td>NaN</td>\n",
       "      <td>NaN</td>\n",
       "      <td>NaN</td>\n",
       "      <td>NaN</td>\n",
       "      <td>NaN</td>\n",
       "      <td>NaN</td>\n",
       "      <td>NaN</td>\n",
       "      <td>NaN</td>\n",
       "      <td>NaN</td>\n",
       "    </tr>\n",
       "    <tr>\n",
       "      <th>10022</th>\n",
       "      <td>NaN</td>\n",
       "      <td>NaN</td>\n",
       "      <td>NaN</td>\n",
       "      <td>NaN</td>\n",
       "      <td>NaN</td>\n",
       "      <td>NaN</td>\n",
       "      <td>NaN</td>\n",
       "      <td>NaN</td>\n",
       "      <td>NaN</td>\n",
       "      <td>NaN</td>\n",
       "      <td>...</td>\n",
       "      <td>NaN</td>\n",
       "      <td>NaN</td>\n",
       "      <td>NaN</td>\n",
       "      <td>NaN</td>\n",
       "      <td>NaN</td>\n",
       "      <td>NaN</td>\n",
       "      <td>NaN</td>\n",
       "      <td>NaN</td>\n",
       "      <td>NaN</td>\n",
       "      <td>NaN</td>\n",
       "    </tr>\n",
       "    <tr>\n",
       "      <th>10023</th>\n",
       "      <td>NaN</td>\n",
       "      <td>NaN</td>\n",
       "      <td>NaN</td>\n",
       "      <td>NaN</td>\n",
       "      <td>NaN</td>\n",
       "      <td>NaN</td>\n",
       "      <td>NaN</td>\n",
       "      <td>NaN</td>\n",
       "      <td>NaN</td>\n",
       "      <td>NaN</td>\n",
       "      <td>...</td>\n",
       "      <td>NaN</td>\n",
       "      <td>NaN</td>\n",
       "      <td>NaN</td>\n",
       "      <td>NaN</td>\n",
       "      <td>NaN</td>\n",
       "      <td>NaN</td>\n",
       "      <td>NaN</td>\n",
       "      <td>NaN</td>\n",
       "      <td>NaN</td>\n",
       "      <td>NaN</td>\n",
       "    </tr>\n",
       "  </tbody>\n",
       "</table>\n",
       "<p>5 rows × 921 columns</p>\n",
       "</div>"
      ],
      "text/plain": [
       "ITEMID  69     200    208    325    481    504    1672   1717   1969   2041   \\\n",
       "LYBID                                                                          \n",
       "10004     NaN    NaN    NaN    NaN    NaN    NaN    NaN    NaN    NaN    NaN   \n",
       "10009     NaN    NaN    NaN    NaN    NaN    NaN    NaN    NaN    NaN    NaN   \n",
       "10012     NaN    NaN    NaN    NaN    NaN    NaN    NaN    NaN    NaN    NaN   \n",
       "10022     NaN    NaN    NaN    NaN    NaN    NaN    NaN    NaN    NaN    NaN   \n",
       "10023     NaN    NaN    NaN    NaN    NaN    NaN    NaN    NaN    NaN    NaN   \n",
       "\n",
       "ITEMID  ...  44168  44169  44182  44186  44196  44197  44199  44257  44270  \\\n",
       "LYBID   ...                                                                  \n",
       "10004   ...    NaN    NaN    NaN    NaN    NaN    NaN    NaN    NaN    NaN   \n",
       "10009   ...    NaN    NaN    NaN    NaN    NaN    NaN    NaN    NaN    NaN   \n",
       "10012   ...    NaN    NaN    NaN    NaN    NaN    NaN    NaN    NaN    NaN   \n",
       "10022   ...    NaN    NaN    NaN    NaN    NaN    NaN    NaN    NaN    NaN   \n",
       "10023   ...    NaN    NaN    NaN    NaN    NaN    NaN    NaN    NaN    NaN   \n",
       "\n",
       "ITEMID  44289  \n",
       "LYBID          \n",
       "10004     NaN  \n",
       "10009     NaN  \n",
       "10012     NaN  \n",
       "10022     NaN  \n",
       "10023     NaN  \n",
       "\n",
       "[5 rows x 921 columns]"
      ]
     },
     "execution_count": 8,
     "metadata": {},
     "output_type": "execute_result"
    }
   ],
   "source": [
    "s=time.time()\n",
    "df_matrix_norm = (df_matrix-df_matrix.min())/(df_matrix.max()-df_matrix.min())\n",
    "print(\"Import time:\", round((time.time()-s)/60,2), \"minutes\")\n",
    "print(df_matrix_norm.shape)\n",
    "df_matrix_norm.head()"
   ]
  },
  {
   "cell_type": "code",
   "execution_count": 9,
   "metadata": {},
   "outputs": [
    {
     "name": "stdout",
     "output_type": "stream",
     "text": [
      "Import time: 0.01 minutes\n",
      "(7637, 3)\n"
     ]
    },
    {
     "data": {
      "text/html": [
       "<div>\n",
       "<style scoped>\n",
       "    .dataframe tbody tr th:only-of-type {\n",
       "        vertical-align: middle;\n",
       "    }\n",
       "\n",
       "    .dataframe tbody tr th {\n",
       "        vertical-align: top;\n",
       "    }\n",
       "\n",
       "    .dataframe thead th {\n",
       "        text-align: right;\n",
       "    }\n",
       "</style>\n",
       "<table border=\"1\" class=\"dataframe\">\n",
       "  <thead>\n",
       "    <tr style=\"text-align: right;\">\n",
       "      <th></th>\n",
       "      <th>LYBID</th>\n",
       "      <th>ITEMID</th>\n",
       "      <th>scaled_purchase_freq</th>\n",
       "    </tr>\n",
       "  </thead>\n",
       "  <tbody>\n",
       "    <tr>\n",
       "      <th>24168</th>\n",
       "      <td>30516806</td>\n",
       "      <td>2041</td>\n",
       "      <td>0.0</td>\n",
       "    </tr>\n",
       "    <tr>\n",
       "      <th>24588</th>\n",
       "      <td>30524044</td>\n",
       "      <td>2041</td>\n",
       "      <td>0.0</td>\n",
       "    </tr>\n",
       "    <tr>\n",
       "      <th>24605</th>\n",
       "      <td>30524259</td>\n",
       "      <td>2041</td>\n",
       "      <td>0.0</td>\n",
       "    </tr>\n",
       "    <tr>\n",
       "      <th>25035</th>\n",
       "      <td>30529803</td>\n",
       "      <td>2041</td>\n",
       "      <td>1.0</td>\n",
       "    </tr>\n",
       "    <tr>\n",
       "      <th>25090</th>\n",
       "      <td>30551695</td>\n",
       "      <td>2041</td>\n",
       "      <td>0.0</td>\n",
       "    </tr>\n",
       "  </tbody>\n",
       "</table>\n",
       "</div>"
      ],
      "text/plain": [
       "          LYBID ITEMID  scaled_purchase_freq\n",
       "24168  30516806   2041                   0.0\n",
       "24588  30524044   2041                   0.0\n",
       "24605  30524259   2041                   0.0\n",
       "25035  30529803   2041                   1.0\n",
       "25090  30551695   2041                   0.0"
      ]
     },
     "execution_count": 9,
     "metadata": {},
     "output_type": "execute_result"
    }
   ],
   "source": [
    "# create a table for input to the modeling\n",
    "s=time.time()\n",
    "d = df_matrix_norm.reset_index()\n",
    "d.index.names = ['scaled_purchase_freq']\n",
    "data_norm = pd.melt(d, id_vars=['LYBID'], value_name='scaled_purchase_freq').dropna()\n",
    "data_norm\n",
    "print(\"Import time:\", round((time.time()-s)/60,2), \"minutes\")\n",
    "print(data_norm.shape)\n",
    "data_norm.head()"
   ]
  },
  {
   "cell_type": "markdown",
   "metadata": {},
   "source": [
    "#### Define a function for normalizing data"
   ]
  },
  {
   "cell_type": "code",
   "execution_count": 10,
   "metadata": {},
   "outputs": [],
   "source": [
    "def normalize_data(data):\n",
    "    df_matrix = pd.pivot_table(data, values='TotalQtyPurchased', index='LYBID', columns='ITEMID')\n",
    "    df_matrix_norm = (df_matrix-df_matrix.min())/(df_matrix.max()-df_matrix.min())\n",
    "    d = df_matrix_norm.reset_index()\n",
    "    d.index.names = ['scaled_purchase_freq']\n",
    "    return pd.melt(d, id_vars=['customerId'], value_name='scaled_purchase_freq').dropna()"
   ]
  },
  {
   "cell_type": "markdown",
   "metadata": {},
   "source": [
    "* We can normalize the their purchase history, from 0-1 (with 1 being the most number of purchase for an item and 0 being 0 purchase count for that item)."
   ]
  },
  {
   "cell_type": "markdown",
   "metadata": {},
   "source": [
    "## 4. Split train and test set\n",
    "* Splitting the data into training and testing sets is an important part of evaluating predictive modeling, in this case a collaborative filtering model. Typically, we use a larger portion of the data for training and a smaller portion for testing. \n",
    "* We use 80:20 ratio for our train-test set size.\n",
    "* Our training portion will be used to develop a predictive model, while the other to evaluate the model's performance.\n",
    "* Now that we have three datasets with purchase counts, purchase dummy, and scaled purchase counts, we would like to split each."
   ]
  },
  {
   "cell_type": "code",
   "execution_count": 11,
   "metadata": {},
   "outputs": [
    {
     "name": "stdout",
     "output_type": "stream",
     "text": [
      "(7999, 3) (2000, 3)\n"
     ]
    }
   ],
   "source": [
    "train, test = train_test_split(data, test_size = .2)\n",
    "print(train.shape, test.shape)"
   ]
  },
  {
   "cell_type": "code",
   "execution_count": 12,
   "metadata": {},
   "outputs": [],
   "source": [
    "# Using turicreate library, we convert dataframe to SFrame - this will be useful in the modeling part\n",
    "\n",
    "train_data = tc.SFrame(train)\n",
    "test_data = tc.SFrame(test)"
   ]
  },
  {
   "cell_type": "code",
   "execution_count": 13,
   "metadata": {},
   "outputs": [
    {
     "data": {
      "text/html": [
       "<div style=\"max-height:1000px;max-width:1500px;overflow:auto;\"><table frame=\"box\" rules=\"cols\">\n",
       "    <tr>\n",
       "        <th style=\"padding-left: 1em; padding-right: 1em; text-align: center\">LYBID</th>\n",
       "        <th style=\"padding-left: 1em; padding-right: 1em; text-align: center\">ITEMID</th>\n",
       "        <th style=\"padding-left: 1em; padding-right: 1em; text-align: center\">TotalQtyPurchased</th>\n",
       "    </tr>\n",
       "    <tr>\n",
       "        <td style=\"padding-left: 1em; padding-right: 1em; text-align: center; vertical-align: top\">30567875</td>\n",
       "        <td style=\"padding-left: 1em; padding-right: 1em; text-align: center; vertical-align: top\">35849</td>\n",
       "        <td style=\"padding-left: 1em; padding-right: 1em; text-align: center; vertical-align: top\">1</td>\n",
       "    </tr>\n",
       "    <tr>\n",
       "        <td style=\"padding-left: 1em; padding-right: 1em; text-align: center; vertical-align: top\">30515049</td>\n",
       "        <td style=\"padding-left: 1em; padding-right: 1em; text-align: center; vertical-align: top\">35841</td>\n",
       "        <td style=\"padding-left: 1em; padding-right: 1em; text-align: center; vertical-align: top\">1</td>\n",
       "    </tr>\n",
       "    <tr>\n",
       "        <td style=\"padding-left: 1em; padding-right: 1em; text-align: center; vertical-align: top\">30524091</td>\n",
       "        <td style=\"padding-left: 1em; padding-right: 1em; text-align: center; vertical-align: top\">35826</td>\n",
       "        <td style=\"padding-left: 1em; padding-right: 1em; text-align: center; vertical-align: top\">1</td>\n",
       "    </tr>\n",
       "    <tr>\n",
       "        <td style=\"padding-left: 1em; padding-right: 1em; text-align: center; vertical-align: top\">30519862</td>\n",
       "        <td style=\"padding-left: 1em; padding-right: 1em; text-align: center; vertical-align: top\">38022</td>\n",
       "        <td style=\"padding-left: 1em; padding-right: 1em; text-align: center; vertical-align: top\">1</td>\n",
       "    </tr>\n",
       "    <tr>\n",
       "        <td style=\"padding-left: 1em; padding-right: 1em; text-align: center; vertical-align: top\">30524518</td>\n",
       "        <td style=\"padding-left: 1em; padding-right: 1em; text-align: center; vertical-align: top\">43987</td>\n",
       "        <td style=\"padding-left: 1em; padding-right: 1em; text-align: center; vertical-align: top\">1</td>\n",
       "    </tr>\n",
       "    <tr>\n",
       "        <td style=\"padding-left: 1em; padding-right: 1em; text-align: center; vertical-align: top\">30516084</td>\n",
       "        <td style=\"padding-left: 1em; padding-right: 1em; text-align: center; vertical-align: top\">33834</td>\n",
       "        <td style=\"padding-left: 1em; padding-right: 1em; text-align: center; vertical-align: top\">3</td>\n",
       "    </tr>\n",
       "    <tr>\n",
       "        <td style=\"padding-left: 1em; padding-right: 1em; text-align: center; vertical-align: top\">30526727</td>\n",
       "        <td style=\"padding-left: 1em; padding-right: 1em; text-align: center; vertical-align: top\">43334</td>\n",
       "        <td style=\"padding-left: 1em; padding-right: 1em; text-align: center; vertical-align: top\">1</td>\n",
       "    </tr>\n",
       "    <tr>\n",
       "        <td style=\"padding-left: 1em; padding-right: 1em; text-align: center; vertical-align: top\">81036</td>\n",
       "        <td style=\"padding-left: 1em; padding-right: 1em; text-align: center; vertical-align: top\">15146</td>\n",
       "        <td style=\"padding-left: 1em; padding-right: 1em; text-align: center; vertical-align: top\">1</td>\n",
       "    </tr>\n",
       "    <tr>\n",
       "        <td style=\"padding-left: 1em; padding-right: 1em; text-align: center; vertical-align: top\">30556603</td>\n",
       "        <td style=\"padding-left: 1em; padding-right: 1em; text-align: center; vertical-align: top\">42657</td>\n",
       "        <td style=\"padding-left: 1em; padding-right: 1em; text-align: center; vertical-align: top\">1</td>\n",
       "    </tr>\n",
       "    <tr>\n",
       "        <td style=\"padding-left: 1em; padding-right: 1em; text-align: center; vertical-align: top\">30529265</td>\n",
       "        <td style=\"padding-left: 1em; padding-right: 1em; text-align: center; vertical-align: top\">41058</td>\n",
       "        <td style=\"padding-left: 1em; padding-right: 1em; text-align: center; vertical-align: top\">1</td>\n",
       "    </tr>\n",
       "</table>\n",
       "[7999 rows x 3 columns]<br/>Note: Only the head of the SFrame is printed.<br/>You can use print_rows(num_rows=m, num_columns=n) to print more rows and columns.\n",
       "</div>"
      ],
      "text/plain": [
       "Columns:\n",
       "\tLYBID\tint\n",
       "\tITEMID\tint\n",
       "\tTotalQtyPurchased\tint\n",
       "\n",
       "Rows: 7999\n",
       "\n",
       "Data:\n",
       "+----------+--------+-------------------+\n",
       "|  LYBID   | ITEMID | TotalQtyPurchased |\n",
       "+----------+--------+-------------------+\n",
       "| 30567875 | 35849  |         1         |\n",
       "| 30515049 | 35841  |         1         |\n",
       "| 30524091 | 35826  |         1         |\n",
       "| 30519862 | 38022  |         1         |\n",
       "| 30524518 | 43987  |         1         |\n",
       "| 30516084 | 33834  |         3         |\n",
       "| 30526727 | 43334  |         1         |\n",
       "|  81036   | 15146  |         1         |\n",
       "| 30556603 | 42657  |         1         |\n",
       "| 30529265 | 41058  |         1         |\n",
       "+----------+--------+-------------------+\n",
       "[7999 rows x 3 columns]\n",
       "Note: Only the head of the SFrame is printed.\n",
       "You can use print_rows(num_rows=m, num_columns=n) to print more rows and columns."
      ]
     },
     "execution_count": 13,
     "metadata": {},
     "output_type": "execute_result"
    }
   ],
   "source": [
    "train_data"
   ]
  },
  {
   "cell_type": "code",
   "execution_count": 14,
   "metadata": {},
   "outputs": [
    {
     "data": {
      "text/html": [
       "<div style=\"max-height:1000px;max-width:1500px;overflow:auto;\"><table frame=\"box\" rules=\"cols\">\n",
       "    <tr>\n",
       "        <th style=\"padding-left: 1em; padding-right: 1em; text-align: center\">LYBID</th>\n",
       "        <th style=\"padding-left: 1em; padding-right: 1em; text-align: center\">ITEMID</th>\n",
       "        <th style=\"padding-left: 1em; padding-right: 1em; text-align: center\">TotalQtyPurchased</th>\n",
       "    </tr>\n",
       "    <tr>\n",
       "        <td style=\"padding-left: 1em; padding-right: 1em; text-align: center; vertical-align: top\">30552847</td>\n",
       "        <td style=\"padding-left: 1em; padding-right: 1em; text-align: center; vertical-align: top\">43511</td>\n",
       "        <td style=\"padding-left: 1em; padding-right: 1em; text-align: center; vertical-align: top\">1</td>\n",
       "    </tr>\n",
       "    <tr>\n",
       "        <td style=\"padding-left: 1em; padding-right: 1em; text-align: center; vertical-align: top\">30553343</td>\n",
       "        <td style=\"padding-left: 1em; padding-right: 1em; text-align: center; vertical-align: top\">43442</td>\n",
       "        <td style=\"padding-left: 1em; padding-right: 1em; text-align: center; vertical-align: top\">1</td>\n",
       "    </tr>\n",
       "    <tr>\n",
       "        <td style=\"padding-left: 1em; padding-right: 1em; text-align: center; vertical-align: top\">30571834</td>\n",
       "        <td style=\"padding-left: 1em; padding-right: 1em; text-align: center; vertical-align: top\">43581</td>\n",
       "        <td style=\"padding-left: 1em; padding-right: 1em; text-align: center; vertical-align: top\">1</td>\n",
       "    </tr>\n",
       "    <tr>\n",
       "        <td style=\"padding-left: 1em; padding-right: 1em; text-align: center; vertical-align: top\">30564442</td>\n",
       "        <td style=\"padding-left: 1em; padding-right: 1em; text-align: center; vertical-align: top\">35652</td>\n",
       "        <td style=\"padding-left: 1em; padding-right: 1em; text-align: center; vertical-align: top\">1</td>\n",
       "    </tr>\n",
       "    <tr>\n",
       "        <td style=\"padding-left: 1em; padding-right: 1em; text-align: center; vertical-align: top\">30569504</td>\n",
       "        <td style=\"padding-left: 1em; padding-right: 1em; text-align: center; vertical-align: top\">43507</td>\n",
       "        <td style=\"padding-left: 1em; padding-right: 1em; text-align: center; vertical-align: top\">1</td>\n",
       "    </tr>\n",
       "    <tr>\n",
       "        <td style=\"padding-left: 1em; padding-right: 1em; text-align: center; vertical-align: top\">30517195</td>\n",
       "        <td style=\"padding-left: 1em; padding-right: 1em; text-align: center; vertical-align: top\">43669</td>\n",
       "        <td style=\"padding-left: 1em; padding-right: 1em; text-align: center; vertical-align: top\">1</td>\n",
       "    </tr>\n",
       "    <tr>\n",
       "        <td style=\"padding-left: 1em; padding-right: 1em; text-align: center; vertical-align: top\">30572315</td>\n",
       "        <td style=\"padding-left: 1em; padding-right: 1em; text-align: center; vertical-align: top\">43929</td>\n",
       "        <td style=\"padding-left: 1em; padding-right: 1em; text-align: center; vertical-align: top\">1</td>\n",
       "    </tr>\n",
       "    <tr>\n",
       "        <td style=\"padding-left: 1em; padding-right: 1em; text-align: center; vertical-align: top\">30528062</td>\n",
       "        <td style=\"padding-left: 1em; padding-right: 1em; text-align: center; vertical-align: top\">35650</td>\n",
       "        <td style=\"padding-left: 1em; padding-right: 1em; text-align: center; vertical-align: top\">1</td>\n",
       "    </tr>\n",
       "    <tr>\n",
       "        <td style=\"padding-left: 1em; padding-right: 1em; text-align: center; vertical-align: top\">30514917</td>\n",
       "        <td style=\"padding-left: 1em; padding-right: 1em; text-align: center; vertical-align: top\">43914</td>\n",
       "        <td style=\"padding-left: 1em; padding-right: 1em; text-align: center; vertical-align: top\">1</td>\n",
       "    </tr>\n",
       "    <tr>\n",
       "        <td style=\"padding-left: 1em; padding-right: 1em; text-align: center; vertical-align: top\">30559992</td>\n",
       "        <td style=\"padding-left: 1em; padding-right: 1em; text-align: center; vertical-align: top\">15082</td>\n",
       "        <td style=\"padding-left: 1em; padding-right: 1em; text-align: center; vertical-align: top\">1</td>\n",
       "    </tr>\n",
       "</table>\n",
       "[2000 rows x 3 columns]<br/>Note: Only the head of the SFrame is printed.<br/>You can use print_rows(num_rows=m, num_columns=n) to print more rows and columns.\n",
       "</div>"
      ],
      "text/plain": [
       "Columns:\n",
       "\tLYBID\tint\n",
       "\tITEMID\tint\n",
       "\tTotalQtyPurchased\tint\n",
       "\n",
       "Rows: 2000\n",
       "\n",
       "Data:\n",
       "+----------+--------+-------------------+\n",
       "|  LYBID   | ITEMID | TotalQtyPurchased |\n",
       "+----------+--------+-------------------+\n",
       "| 30552847 | 43511  |         1         |\n",
       "| 30553343 | 43442  |         1         |\n",
       "| 30571834 | 43581  |         1         |\n",
       "| 30564442 | 35652  |         1         |\n",
       "| 30569504 | 43507  |         1         |\n",
       "| 30517195 | 43669  |         1         |\n",
       "| 30572315 | 43929  |         1         |\n",
       "| 30528062 | 35650  |         1         |\n",
       "| 30514917 | 43914  |         1         |\n",
       "| 30559992 | 15082  |         1         |\n",
       "+----------+--------+-------------------+\n",
       "[2000 rows x 3 columns]\n",
       "Note: Only the head of the SFrame is printed.\n",
       "You can use print_rows(num_rows=m, num_columns=n) to print more rows and columns."
      ]
     },
     "execution_count": 14,
     "metadata": {},
     "output_type": "execute_result"
    }
   ],
   "source": [
    "test_data"
   ]
  },
  {
   "cell_type": "markdown",
   "metadata": {},
   "source": [
    "#### Define a `split_data` function for splitting data to training and test set"
   ]
  },
  {
   "cell_type": "code",
   "execution_count": 16,
   "metadata": {},
   "outputs": [],
   "source": [
    "# We can define a function for this step as follows\n",
    "\n",
    "def split_data(data):\n",
    "    '''\n",
    "    Splits dataset into training and test set.\n",
    "    \n",
    "    Args:\n",
    "        data (pandas.DataFrame)\n",
    "        \n",
    "    Returns\n",
    "        train_data (tc.SFrame)\n",
    "        test_data (tc.SFrame)\n",
    "    '''\n",
    "    train, test = train_test_split(data, test_size = .2)\n",
    "    train_data = tc.SFrame(train)\n",
    "    test_data = tc.SFrame(test)\n",
    "    return train_data, test_data"
   ]
  },
  {
   "cell_type": "code",
   "execution_count": 17,
   "metadata": {},
   "outputs": [],
   "source": [
    "# lets try with both dummy table and scaled/normalized purchase table\n",
    "\n",
    "train_data_dummy, test_data_dummy = split_data(data_dummy)\n",
    "train_data_norm, test_data_norm = split_data(data_norm)"
   ]
  },
  {
   "cell_type": "markdown",
   "metadata": {},
   "source": [
    "## 5. Baseline Model\n",
    "Before running a more complicated approach such as collaborative filtering, we would like to use a baseline model to compare and evaluate models. Since baseline typically uses a very simple approach, techniques used beyond this approach should be chosen if they show relatively better accuracy and complexity.\n",
    "\n",
    "### 5.1. Using a Popularity model as a baseline\n",
    "* The popularity model takes the most popular items for recommendation. These items are products with the highest number of sells across customers.\n",
    "* We use `turicreate` library for running and evaluating both baseline and collaborative filtering models below\n",
    "* Training data is used for model selection\n",
    "* Yet to evaluate is the math behind turicerate.popularity model\n",
    "\n",
    "#### Using purchase counts"
   ]
  },
  {
   "cell_type": "code",
   "execution_count": 18,
   "metadata": {},
   "outputs": [],
   "source": [
    "# variables to define field names\n",
    "user_id = 'LYBID'\n",
    "item_id = 'ITEMID'\n",
    "target = 'TotalQtyPurchased'\n",
    "users_to_recommend = list(data[user_id].unique())\n",
    "n_rec = 5 # number of items to recommend\n",
    "n_display = 30"
   ]
  },
  {
   "cell_type": "code",
   "execution_count": null,
   "metadata": {
    "scrolled": false
   },
   "outputs": [],
   "source": [
    "#print(list(data[user_id].unique()))  #tester for error raakshsasan20190222"
   ]
  },
  {
   "cell_type": "code",
   "execution_count": 19,
   "metadata": {},
   "outputs": [
    {
     "data": {
      "text/html": [
       "<pre>Preparing data set.</pre>"
      ],
      "text/plain": [
       "Preparing data set."
      ]
     },
     "metadata": {},
     "output_type": "display_data"
    },
    {
     "data": {
      "text/html": [
       "<pre>    Data has 7999 observations with 2469 users and 874 items.</pre>"
      ],
      "text/plain": [
       "    Data has 7999 observations with 2469 users and 874 items."
      ]
     },
     "metadata": {},
     "output_type": "display_data"
    },
    {
     "data": {
      "text/html": [
       "<pre>    Data prepared in: 0.062338s</pre>"
      ],
      "text/plain": [
       "    Data prepared in: 0.062338s"
      ]
     },
     "metadata": {},
     "output_type": "display_data"
    },
    {
     "data": {
      "text/html": [
       "<pre>7999 observations to process; with 874 unique items.</pre>"
      ],
      "text/plain": [
       "7999 observations to process; with 874 unique items."
      ]
     },
     "metadata": {},
     "output_type": "display_data"
    }
   ],
   "source": [
    "popularity_model = tc.popularity_recommender.create(train_data, \n",
    "                                                    user_id=user_id, \n",
    "                                                    item_id=item_id, \n",
    "                                                    target=target)"
   ]
  },
  {
   "cell_type": "code",
   "execution_count": 20,
   "metadata": {},
   "outputs": [
    {
     "data": {
      "text/html": [
       "<pre>recommendations finished on 1000/2616 queries. users per second: 100462</pre>"
      ],
      "text/plain": [
       "recommendations finished on 1000/2616 queries. users per second: 100462"
      ]
     },
     "metadata": {},
     "output_type": "display_data"
    },
    {
     "data": {
      "text/html": [
       "<pre>recommendations finished on 2000/2616 queries. users per second: 80102.5</pre>"
      ],
      "text/plain": [
       "recommendations finished on 2000/2616 queries. users per second: 80102.5"
      ]
     },
     "metadata": {},
     "output_type": "display_data"
    },
    {
     "name": "stdout",
     "output_type": "stream",
     "text": [
      "+-------+--------+-------+------+\n",
      "| LYBID | ITEMID | score | rank |\n",
      "+-------+--------+-------+------+\n",
      "| 10004 | 42048  |  19.0 |  1   |\n",
      "| 10004 | 35912  |  5.5  |  2   |\n",
      "| 10004 | 35906  |  4.0  |  3   |\n",
      "| 10004 | 15885  |  3.6  |  4   |\n",
      "| 10004 | 15834  |  3.2  |  5   |\n",
      "| 10009 | 42048  |  19.0 |  1   |\n",
      "| 10009 | 35912  |  5.5  |  2   |\n",
      "| 10009 | 35906  |  4.0  |  3   |\n",
      "| 10009 | 15885  |  3.6  |  4   |\n",
      "| 10009 | 15834  |  3.2  |  5   |\n",
      "| 10012 | 42048  |  19.0 |  1   |\n",
      "| 10012 | 35912  |  5.5  |  2   |\n",
      "| 10012 | 35906  |  4.0  |  3   |\n",
      "| 10012 | 15885  |  3.6  |  4   |\n",
      "| 10012 | 15834  |  3.2  |  5   |\n",
      "| 10022 | 42048  |  19.0 |  1   |\n",
      "| 10022 | 35912  |  5.5  |  2   |\n",
      "| 10022 | 35906  |  4.0  |  3   |\n",
      "| 10022 | 15885  |  3.6  |  4   |\n",
      "| 10022 | 15834  |  3.2  |  5   |\n",
      "| 10023 | 42048  |  19.0 |  1   |\n",
      "| 10023 | 35912  |  5.5  |  2   |\n",
      "| 10023 | 35906  |  4.0  |  3   |\n",
      "| 10023 | 15885  |  3.6  |  4   |\n",
      "| 10023 | 15834  |  3.2  |  5   |\n",
      "| 10029 | 42048  |  19.0 |  1   |\n",
      "| 10029 | 35912  |  5.5  |  2   |\n",
      "| 10029 | 35906  |  4.0  |  3   |\n",
      "| 10029 | 15885  |  3.6  |  4   |\n",
      "| 10029 | 15834  |  3.2  |  5   |\n",
      "+-------+--------+-------+------+\n",
      "[13080 rows x 4 columns]\n",
      "\n"
     ]
    }
   ],
   "source": [
    "# Get recommendations for a list of users to recommend (from data file)\n",
    "# Printed below is head / top 30 rows for first 6 customers with 5 recommendations each\n",
    "\n",
    "popularity_recomm = popularity_model.recommend(users=users_to_recommend, k=n_rec)\n",
    "popularity_recomm.print_rows(n_display)"
   ]
  },
  {
   "cell_type": "markdown",
   "metadata": {},
   "source": [
    "#### Define a `model` function for model selection"
   ]
  },
  {
   "cell_type": "code",
   "execution_count": 21,
   "metadata": {},
   "outputs": [],
   "source": [
    "# Since turicreate is very accessible library, we can define a model selection function as below\n",
    "\n",
    "def model(train_data, name, user_id, item_id, target, users_to_recommend, n_rec, n_display):\n",
    "    if name == 'popularity':\n",
    "        model = tc.popularity_recommender.create(train_data, \n",
    "                                                    user_id=user_id, \n",
    "                                                    item_id=item_id, \n",
    "                                                    target=target)\n",
    "    elif name == 'cosine':\n",
    "        model = tc.item_similarity_recommender.create(train_data, \n",
    "                                                    user_id=user_id, \n",
    "                                                    item_id=item_id, \n",
    "                                                    target=target, \n",
    "                                                    similarity_type='cosine')\n",
    "    elif name == 'pearson':\n",
    "        model = tc.item_similarity_recommender.create(train_data, \n",
    "                                                    user_id=user_id, \n",
    "                                                    item_id=item_id, \n",
    "                                                    target=target, \n",
    "                                                    similarity_type='pearson')\n",
    "        \n",
    "    recom = model.recommend(users=users_to_recommend, k=n_rec)\n",
    "    recom.print_rows(n_display)\n",
    "    return model"
   ]
  },
  {
   "cell_type": "code",
   "execution_count": 22,
   "metadata": {},
   "outputs": [],
   "source": [
    "# variables to define field names\n",
    "# constant variables include:\n",
    "user_id = 'LYBID'\n",
    "item_id = 'ITEMID'\n",
    "users_to_recommend = list(data[user_id].unique())\n",
    "n_rec = 5 # number of items to recommend\n",
    "n_display = 30 # to print the head / first few rows in a defined dataset"
   ]
  },
  {
   "cell_type": "markdown",
   "metadata": {},
   "source": [
    "#### Using purchase dummy"
   ]
  },
  {
   "cell_type": "code",
   "execution_count": 23,
   "metadata": {},
   "outputs": [
    {
     "data": {
      "text/html": [
       "<pre>Warning: Ignoring columns TotalQtyPurchased;</pre>"
      ],
      "text/plain": [
       "Warning: Ignoring columns TotalQtyPurchased;"
      ]
     },
     "metadata": {},
     "output_type": "display_data"
    },
    {
     "data": {
      "text/html": [
       "<pre>    To use these columns in scoring predictions, use a model that allows the use of additional features.</pre>"
      ],
      "text/plain": [
       "    To use these columns in scoring predictions, use a model that allows the use of additional features."
      ]
     },
     "metadata": {},
     "output_type": "display_data"
    },
    {
     "data": {
      "text/html": [
       "<pre>Preparing data set.</pre>"
      ],
      "text/plain": [
       "Preparing data set."
      ]
     },
     "metadata": {},
     "output_type": "display_data"
    },
    {
     "data": {
      "text/html": [
       "<pre>    Data has 7999 observations with 2463 users and 876 items.</pre>"
      ],
      "text/plain": [
       "    Data has 7999 observations with 2463 users and 876 items."
      ]
     },
     "metadata": {},
     "output_type": "display_data"
    },
    {
     "data": {
      "text/html": [
       "<pre>    Data prepared in: 0.019708s</pre>"
      ],
      "text/plain": [
       "    Data prepared in: 0.019708s"
      ]
     },
     "metadata": {},
     "output_type": "display_data"
    },
    {
     "data": {
      "text/html": [
       "<pre>7999 observations to process; with 876 unique items.</pre>"
      ],
      "text/plain": [
       "7999 observations to process; with 876 unique items."
      ]
     },
     "metadata": {},
     "output_type": "display_data"
    },
    {
     "data": {
      "text/html": [
       "<pre>recommendations finished on 1000/2616 queries. users per second: 57617</pre>"
      ],
      "text/plain": [
       "recommendations finished on 1000/2616 queries. users per second: 57617"
      ]
     },
     "metadata": {},
     "output_type": "display_data"
    },
    {
     "data": {
      "text/html": [
       "<pre>recommendations finished on 2000/2616 queries. users per second: 71973.5</pre>"
      ],
      "text/plain": [
       "recommendations finished on 2000/2616 queries. users per second: 71973.5"
      ]
     },
     "metadata": {},
     "output_type": "display_data"
    },
    {
     "name": "stdout",
     "output_type": "stream",
     "text": [
      "+-------+--------+-------+------+\n",
      "| LYBID | ITEMID | score | rank |\n",
      "+-------+--------+-------+------+\n",
      "| 10004 | 38011  |  1.0  |  1   |\n",
      "| 10004 | 33586  |  1.0  |  2   |\n",
      "| 10004 | 29036  |  1.0  |  3   |\n",
      "| 10004 | 38012  |  1.0  |  4   |\n",
      "| 10004 | 33819  |  1.0  |  5   |\n",
      "| 10009 | 38011  |  1.0  |  1   |\n",
      "| 10009 | 33586  |  1.0  |  2   |\n",
      "| 10009 | 29036  |  1.0  |  3   |\n",
      "| 10009 | 38012  |  1.0  |  4   |\n",
      "| 10009 | 33819  |  1.0  |  5   |\n",
      "| 10012 | 38011  |  1.0  |  1   |\n",
      "| 10012 | 33586  |  1.0  |  2   |\n",
      "| 10012 | 29036  |  1.0  |  3   |\n",
      "| 10012 | 38012  |  1.0  |  4   |\n",
      "| 10012 | 33819  |  1.0  |  5   |\n",
      "| 10022 | 38011  |  1.0  |  1   |\n",
      "| 10022 | 33586  |  1.0  |  2   |\n",
      "| 10022 | 29036  |  1.0  |  3   |\n",
      "| 10022 | 38012  |  1.0  |  4   |\n",
      "| 10022 | 33819  |  1.0  |  5   |\n",
      "| 10023 | 38011  |  1.0  |  1   |\n",
      "| 10023 | 33586  |  1.0  |  2   |\n",
      "| 10023 | 29036  |  1.0  |  3   |\n",
      "| 10023 | 38012  |  1.0  |  4   |\n",
      "| 10023 | 33819  |  1.0  |  5   |\n",
      "| 10029 | 38011  |  1.0  |  1   |\n",
      "| 10029 | 33586  |  1.0  |  2   |\n",
      "| 10029 | 29036  |  1.0  |  3   |\n",
      "| 10029 | 38012  |  1.0  |  4   |\n",
      "| 10029 | 33819  |  1.0  |  5   |\n",
      "+-------+--------+-------+------+\n",
      "[13080 rows x 4 columns]\n",
      "\n"
     ]
    }
   ],
   "source": [
    "# these variables will change accordingly\n",
    "name = 'popularity'\n",
    "target = 'purchase_dummy'\n",
    "pop_dummy = model(train_data_dummy, name, user_id, item_id, target, users_to_recommend, n_rec, n_display)"
   ]
  },
  {
   "cell_type": "markdown",
   "metadata": {},
   "source": [
    "#### Using normalized purchase count"
   ]
  },
  {
   "cell_type": "code",
   "execution_count": 24,
   "metadata": {},
   "outputs": [
    {
     "data": {
      "text/html": [
       "<pre>Preparing data set.</pre>"
      ],
      "text/plain": [
       "Preparing data set."
      ]
     },
     "metadata": {},
     "output_type": "display_data"
    },
    {
     "data": {
      "text/html": [
       "<pre>    Data has 6109 observations with 2253 users and 312 items.</pre>"
      ],
      "text/plain": [
       "    Data has 6109 observations with 2253 users and 312 items."
      ]
     },
     "metadata": {},
     "output_type": "display_data"
    },
    {
     "data": {
      "text/html": [
       "<pre>    Data prepared in: 0.011026s</pre>"
      ],
      "text/plain": [
       "    Data prepared in: 0.011026s"
      ]
     },
     "metadata": {},
     "output_type": "display_data"
    },
    {
     "data": {
      "text/html": [
       "<pre>6109 observations to process; with 312 unique items.</pre>"
      ],
      "text/plain": [
       "6109 observations to process; with 312 unique items."
      ]
     },
     "metadata": {},
     "output_type": "display_data"
    },
    {
     "data": {
      "text/html": [
       "<pre>recommendations finished on 1000/2616 queries. users per second: 209820</pre>"
      ],
      "text/plain": [
       "recommendations finished on 1000/2616 queries. users per second: 209820"
      ]
     },
     "metadata": {},
     "output_type": "display_data"
    },
    {
     "data": {
      "text/html": [
       "<pre>recommendations finished on 2000/2616 queries. users per second: 167140</pre>"
      ],
      "text/plain": [
       "recommendations finished on 2000/2616 queries. users per second: 167140"
      ]
     },
     "metadata": {},
     "output_type": "display_data"
    },
    {
     "name": "stdout",
     "output_type": "stream",
     "text": [
      "+-------+--------+-------+------+\n",
      "| LYBID | ITEMID | score | rank |\n",
      "+-------+--------+-------+------+\n",
      "| 10004 | 28884  |  1.0  |  1   |\n",
      "| 10004 |  4370  |  1.0  |  2   |\n",
      "| 10004 | 42048  |  1.0  |  3   |\n",
      "| 10004 |  3848  |  1.0  |  4   |\n",
      "| 10004 | 35796  |  1.0  |  5   |\n",
      "| 10009 | 28884  |  1.0  |  1   |\n",
      "| 10009 |  4370  |  1.0  |  2   |\n",
      "| 10009 | 42048  |  1.0  |  3   |\n",
      "| 10009 |  3848  |  1.0  |  4   |\n",
      "| 10009 | 35796  |  1.0  |  5   |\n",
      "| 10012 | 28884  |  1.0  |  1   |\n",
      "| 10012 |  4370  |  1.0  |  2   |\n",
      "| 10012 | 42048  |  1.0  |  3   |\n",
      "| 10012 |  3848  |  1.0  |  4   |\n",
      "| 10012 | 35796  |  1.0  |  5   |\n",
      "| 10022 | 28884  |  1.0  |  1   |\n",
      "| 10022 |  4370  |  1.0  |  2   |\n",
      "| 10022 | 42048  |  1.0  |  3   |\n",
      "| 10022 |  3848  |  1.0  |  4   |\n",
      "| 10022 | 35796  |  1.0  |  5   |\n",
      "| 10023 | 28884  |  1.0  |  1   |\n",
      "| 10023 |  4370  |  1.0  |  2   |\n",
      "| 10023 | 42048  |  1.0  |  3   |\n",
      "| 10023 |  3848  |  1.0  |  4   |\n",
      "| 10023 | 35796  |  1.0  |  5   |\n",
      "| 10029 | 28884  |  1.0  |  1   |\n",
      "| 10029 |  4370  |  1.0  |  2   |\n",
      "| 10029 | 42048  |  1.0  |  3   |\n",
      "| 10029 |  3848  |  1.0  |  4   |\n",
      "| 10029 | 35796  |  1.0  |  5   |\n",
      "+-------+--------+-------+------+\n",
      "[13080 rows x 4 columns]\n",
      "\n"
     ]
    }
   ],
   "source": [
    "name = 'popularity'\n",
    "target = 'scaled_purchase_freq'\n",
    "pop_norm = model(train_data_norm, name, user_id, item_id, target, users_to_recommend, n_rec, n_display)"
   ]
  },
  {
   "cell_type": "markdown",
   "metadata": {},
   "source": [
    "## 6. Collaborative Filtering Model\n",
    "\n",
    "* In collaborative filtering, we would recommend items based on how similar users purchase items. For instance, if customer 1 and customer 2 bought similar items, e.g. 1 bought X, Y, Z and 2 bought X, Y, we would recommend an item Z to customer 2.\n",
    "\n",
    "* To define similarity across users, we use the following steps:\n",
    "    1. Create a user-item matrix, where index values represent unique customer IDs and column values represent unique product IDs\n",
    "    \n",
    "    2. Create an item-to-item similarity matrix. The idea is to calculate how similar a product is to another product. There are a number of ways of calculating this. In steps 6.1 and 6.2, we use cosine and pearson similarity measure, respectively.  \n",
    "    \n",
    "        * To calculate similarity between products X and Y, look at all customers who have bought both these items. For example, both X and Y have been bought by customers 1 and 2. \n",
    "        * We then create two item-vectors, v1 for item X and v2 for item Y, in the user-space of (1, 2) and then find the `cosine` or `pearson` angle/distance between these vectors. A zero angle or overlapping vectors with cosine value of 1 means total similarity (or per user, across all items, there is same rating) and an angle of 90 degree would mean cosine of 0 or no similarity.\n",
    "        \n",
    "    3. For each customer, we then predict his likelihood to buy a product (or his purchase counts) for products that he had not bought. \n",
    "    \n",
    "        * For our example, we will calculate rating for user 2 in the case of item Z (target item). To calculate this we weigh the just-calculated similarity-measure between the target item and other items that customer has already bought. The weighing factor is the purchase counts given by the user to items already bought by him. \n",
    "        * We then scale this weighted sum with the sum of similarity-measures so that the calculated rating remains within a predefined limits. Thus, the predicted rating for item Z for user 2 would be calculated using similarity measures.\n",
    "\n",
    "* While I wrote python scripts for all the process including finding similarity using python scripts (which can be found in `scripts` folder, we can use `turicreate` library for now to capture different measures like using `cosine` and `pearson` distance, and evaluate the best model."
   ]
  },
  {
   "cell_type": "markdown",
   "metadata": {},
   "source": [
    "### 6.1. `Cosine` similarity\n",
    "* Similarity is the cosine of the angle between the 2 vectors of the item vectors of A and B\n",
    "* It is defined by the following formula\n",
    "![](https://encrypted-tbn0.gstatic.com/images?q=tbn:ANd9GcTnRHSAx1c084UXF2wIHYwaHJLmq2qKtNk_YIv3RjHUO00xwlkt)\n",
    "* Closer the vectors, smaller will be the angle and larger the cosine"
   ]
  },
  {
   "cell_type": "markdown",
   "metadata": {},
   "source": [
    "#### Using purchase count"
   ]
  },
  {
   "cell_type": "code",
   "execution_count": 25,
   "metadata": {},
   "outputs": [
    {
     "data": {
      "text/html": [
       "<pre>Preparing data set.</pre>"
      ],
      "text/plain": [
       "Preparing data set."
      ]
     },
     "metadata": {},
     "output_type": "display_data"
    },
    {
     "data": {
      "text/html": [
       "<pre>    Data has 7999 observations with 2469 users and 874 items.</pre>"
      ],
      "text/plain": [
       "    Data has 7999 observations with 2469 users and 874 items."
      ]
     },
     "metadata": {},
     "output_type": "display_data"
    },
    {
     "data": {
      "text/html": [
       "<pre>    Data prepared in: 0.113715s</pre>"
      ],
      "text/plain": [
       "    Data prepared in: 0.113715s"
      ]
     },
     "metadata": {},
     "output_type": "display_data"
    },
    {
     "data": {
      "text/html": [
       "<pre>Training model from provided data.</pre>"
      ],
      "text/plain": [
       "Training model from provided data."
      ]
     },
     "metadata": {},
     "output_type": "display_data"
    },
    {
     "data": {
      "text/html": [
       "<pre>Gathering per-item and per-user statistics.</pre>"
      ],
      "text/plain": [
       "Gathering per-item and per-user statistics."
      ]
     },
     "metadata": {},
     "output_type": "display_data"
    },
    {
     "data": {
      "text/html": [
       "<pre>+--------------------------------+------------+</pre>"
      ],
      "text/plain": [
       "+--------------------------------+------------+"
      ]
     },
     "metadata": {},
     "output_type": "display_data"
    },
    {
     "data": {
      "text/html": [
       "<pre>| Elapsed Time (Item Statistics) | % Complete |</pre>"
      ],
      "text/plain": [
       "| Elapsed Time (Item Statistics) | % Complete |"
      ]
     },
     "metadata": {},
     "output_type": "display_data"
    },
    {
     "data": {
      "text/html": [
       "<pre>+--------------------------------+------------+</pre>"
      ],
      "text/plain": [
       "+--------------------------------+------------+"
      ]
     },
     "metadata": {},
     "output_type": "display_data"
    },
    {
     "data": {
      "text/html": [
       "<pre>| 880us                          | 40.5       |</pre>"
      ],
      "text/plain": [
       "| 880us                          | 40.5       |"
      ]
     },
     "metadata": {},
     "output_type": "display_data"
    },
    {
     "data": {
      "text/html": [
       "<pre>| 28.588ms                       | 100        |</pre>"
      ],
      "text/plain": [
       "| 28.588ms                       | 100        |"
      ]
     },
     "metadata": {},
     "output_type": "display_data"
    },
    {
     "data": {
      "text/html": [
       "<pre>+--------------------------------+------------+</pre>"
      ],
      "text/plain": [
       "+--------------------------------+------------+"
      ]
     },
     "metadata": {},
     "output_type": "display_data"
    },
    {
     "data": {
      "text/html": [
       "<pre>Setting up lookup tables.</pre>"
      ],
      "text/plain": [
       "Setting up lookup tables."
      ]
     },
     "metadata": {},
     "output_type": "display_data"
    },
    {
     "data": {
      "text/html": [
       "<pre>Processing data in one pass using dense lookup tables.</pre>"
      ],
      "text/plain": [
       "Processing data in one pass using dense lookup tables."
      ]
     },
     "metadata": {},
     "output_type": "display_data"
    },
    {
     "data": {
      "text/html": [
       "<pre>+-------------------------------------+------------------+-----------------+</pre>"
      ],
      "text/plain": [
       "+-------------------------------------+------------------+-----------------+"
      ]
     },
     "metadata": {},
     "output_type": "display_data"
    },
    {
     "data": {
      "text/html": [
       "<pre>| Elapsed Time (Constructing Lookups) | Total % Complete | Items Processed |</pre>"
      ],
      "text/plain": [
       "| Elapsed Time (Constructing Lookups) | Total % Complete | Items Processed |"
      ]
     },
     "metadata": {},
     "output_type": "display_data"
    },
    {
     "data": {
      "text/html": [
       "<pre>+-------------------------------------+------------------+-----------------+</pre>"
      ],
      "text/plain": [
       "+-------------------------------------+------------------+-----------------+"
      ]
     },
     "metadata": {},
     "output_type": "display_data"
    },
    {
     "data": {
      "text/html": [
       "<pre>| 30.839ms                            | 0.25             | 2               |</pre>"
      ],
      "text/plain": [
       "| 30.839ms                            | 0.25             | 2               |"
      ]
     },
     "metadata": {},
     "output_type": "display_data"
    },
    {
     "data": {
      "text/html": [
       "<pre>| 46.781ms                            | 100              | 874             |</pre>"
      ],
      "text/plain": [
       "| 46.781ms                            | 100              | 874             |"
      ]
     },
     "metadata": {},
     "output_type": "display_data"
    },
    {
     "data": {
      "text/html": [
       "<pre>+-------------------------------------+------------------+-----------------+</pre>"
      ],
      "text/plain": [
       "+-------------------------------------+------------------+-----------------+"
      ]
     },
     "metadata": {},
     "output_type": "display_data"
    },
    {
     "data": {
      "text/html": [
       "<pre>Finalizing lookup tables.</pre>"
      ],
      "text/plain": [
       "Finalizing lookup tables."
      ]
     },
     "metadata": {},
     "output_type": "display_data"
    },
    {
     "data": {
      "text/html": [
       "<pre>Generating candidate set for working with new users.</pre>"
      ],
      "text/plain": [
       "Generating candidate set for working with new users."
      ]
     },
     "metadata": {},
     "output_type": "display_data"
    },
    {
     "data": {
      "text/html": [
       "<pre>Finished training in 1.10844s</pre>"
      ],
      "text/plain": [
       "Finished training in 1.10844s"
      ]
     },
     "metadata": {},
     "output_type": "display_data"
    },
    {
     "data": {
      "text/html": [
       "<pre>recommendations finished on 1000/2616 queries. users per second: 27590.8</pre>"
      ],
      "text/plain": [
       "recommendations finished on 1000/2616 queries. users per second: 27590.8"
      ]
     },
     "metadata": {},
     "output_type": "display_data"
    },
    {
     "data": {
      "text/html": [
       "<pre>recommendations finished on 2000/2616 queries. users per second: 35269.6</pre>"
      ],
      "text/plain": [
       "recommendations finished on 2000/2616 queries. users per second: 35269.6"
      ]
     },
     "metadata": {},
     "output_type": "display_data"
    },
    {
     "name": "stdout",
     "output_type": "stream",
     "text": [
      "+-------+--------+---------------------+------+\n",
      "| LYBID | ITEMID |        score        | rank |\n",
      "+-------+--------+---------------------+------+\n",
      "| 10004 | 43496  |  0.2952265938123067 |  1   |\n",
      "| 10004 | 43872  | 0.22404481967290243 |  2   |\n",
      "| 10004 | 41058  | 0.21192516883214316 |  3   |\n",
      "| 10004 | 43511  | 0.20645380020141602 |  4   |\n",
      "| 10004 | 43609  | 0.20537441968917847 |  5   |\n",
      "| 10009 | 43496  |  0.3829347292582194 |  1   |\n",
      "| 10009 | 35633  |  0.3442651828130086 |  2   |\n",
      "| 10009 | 35647  | 0.20256135861078897 |  3   |\n",
      "| 10009 | 15822  | 0.17181557416915894 |  4   |\n",
      "| 10009 | 43504  | 0.17181557416915894 |  5   |\n",
      "| 10012 | 42655  | 0.46770358085632324 |  1   |\n",
      "| 10012 |  4351  | 0.23408228158950806 |  2   |\n",
      "| 10012 | 33583  | 0.22229552268981934 |  3   |\n",
      "| 10012 | 43925  | 0.21592989563941956 |  4   |\n",
      "| 10012 | 35636  |  0.2003745138645172 |  5   |\n",
      "| 10022 | 43496  |  0.4334707119885613 |  1   |\n",
      "| 10022 | 43872  |  0.4110976527718937 |  2   |\n",
      "| 10022 | 43609  | 0.34399348497390747 |  3   |\n",
      "| 10022 | 29374  |  0.2991425955996794 |  4   |\n",
      "| 10022 | 43340  |  0.244652039864484  |  5   |\n",
      "| 10023 | 43496  |  0.1681043803691864 |  1   |\n",
      "| 10023 | 44168  |  0.0843815952539444 |  2   |\n",
      "| 10023 | 43406  |  0.0843815952539444 |  3   |\n",
      "| 10023 | 43511  | 0.08102387189865112 |  4   |\n",
      "| 10023 | 35540  | 0.07741040736436844 |  5   |\n",
      "| 10029 | 43496  | 0.40669500827789307 |  1   |\n",
      "| 10029 | 43607  | 0.31822293996810913 |  2   |\n",
      "| 10029 | 43599  |  0.2598279118537903 |  3   |\n",
      "| 10029 | 35585  | 0.20126181840896606 |  4   |\n",
      "| 10029 | 43497  | 0.17727750539779663 |  5   |\n",
      "+-------+--------+---------------------+------+\n",
      "[13080 rows x 4 columns]\n",
      "\n"
     ]
    }
   ],
   "source": [
    "# these variables will change accordingly\n",
    "name = 'cosine'\n",
    "target = 'TotalQtyPurchased'\n",
    "cos = model(train_data, name, user_id, item_id, target, users_to_recommend, n_rec, n_display)"
   ]
  },
  {
   "cell_type": "markdown",
   "metadata": {},
   "source": [
    "#### Using purchase dummy"
   ]
  },
  {
   "cell_type": "code",
   "execution_count": 26,
   "metadata": {},
   "outputs": [
    {
     "data": {
      "text/html": [
       "<pre>Warning: Ignoring columns TotalQtyPurchased;</pre>"
      ],
      "text/plain": [
       "Warning: Ignoring columns TotalQtyPurchased;"
      ]
     },
     "metadata": {},
     "output_type": "display_data"
    },
    {
     "data": {
      "text/html": [
       "<pre>    To use these columns in scoring predictions, use a model that allows the use of additional features.</pre>"
      ],
      "text/plain": [
       "    To use these columns in scoring predictions, use a model that allows the use of additional features."
      ]
     },
     "metadata": {},
     "output_type": "display_data"
    },
    {
     "data": {
      "text/html": [
       "<pre>Preparing data set.</pre>"
      ],
      "text/plain": [
       "Preparing data set."
      ]
     },
     "metadata": {},
     "output_type": "display_data"
    },
    {
     "data": {
      "text/html": [
       "<pre>    Data has 7999 observations with 2463 users and 876 items.</pre>"
      ],
      "text/plain": [
       "    Data has 7999 observations with 2463 users and 876 items."
      ]
     },
     "metadata": {},
     "output_type": "display_data"
    },
    {
     "data": {
      "text/html": [
       "<pre>    Data prepared in: 0.017906s</pre>"
      ],
      "text/plain": [
       "    Data prepared in: 0.017906s"
      ]
     },
     "metadata": {},
     "output_type": "display_data"
    },
    {
     "data": {
      "text/html": [
       "<pre>Training model from provided data.</pre>"
      ],
      "text/plain": [
       "Training model from provided data."
      ]
     },
     "metadata": {},
     "output_type": "display_data"
    },
    {
     "data": {
      "text/html": [
       "<pre>Gathering per-item and per-user statistics.</pre>"
      ],
      "text/plain": [
       "Gathering per-item and per-user statistics."
      ]
     },
     "metadata": {},
     "output_type": "display_data"
    },
    {
     "data": {
      "text/html": [
       "<pre>+--------------------------------+------------+</pre>"
      ],
      "text/plain": [
       "+--------------------------------+------------+"
      ]
     },
     "metadata": {},
     "output_type": "display_data"
    },
    {
     "data": {
      "text/html": [
       "<pre>| Elapsed Time (Item Statistics) | % Complete |</pre>"
      ],
      "text/plain": [
       "| Elapsed Time (Item Statistics) | % Complete |"
      ]
     },
     "metadata": {},
     "output_type": "display_data"
    },
    {
     "data": {
      "text/html": [
       "<pre>+--------------------------------+------------+</pre>"
      ],
      "text/plain": [
       "+--------------------------------+------------+"
      ]
     },
     "metadata": {},
     "output_type": "display_data"
    },
    {
     "data": {
      "text/html": [
       "<pre>| 667us                          | 40.5       |</pre>"
      ],
      "text/plain": [
       "| 667us                          | 40.5       |"
      ]
     },
     "metadata": {},
     "output_type": "display_data"
    },
    {
     "data": {
      "text/html": [
       "<pre>| 4.581ms                        | 100        |</pre>"
      ],
      "text/plain": [
       "| 4.581ms                        | 100        |"
      ]
     },
     "metadata": {},
     "output_type": "display_data"
    },
    {
     "data": {
      "text/html": [
       "<pre>+--------------------------------+------------+</pre>"
      ],
      "text/plain": [
       "+--------------------------------+------------+"
      ]
     },
     "metadata": {},
     "output_type": "display_data"
    },
    {
     "data": {
      "text/html": [
       "<pre>Setting up lookup tables.</pre>"
      ],
      "text/plain": [
       "Setting up lookup tables."
      ]
     },
     "metadata": {},
     "output_type": "display_data"
    },
    {
     "data": {
      "text/html": [
       "<pre>Processing data in one pass using dense lookup tables.</pre>"
      ],
      "text/plain": [
       "Processing data in one pass using dense lookup tables."
      ]
     },
     "metadata": {},
     "output_type": "display_data"
    },
    {
     "data": {
      "text/html": [
       "<pre>+-------------------------------------+------------------+-----------------+</pre>"
      ],
      "text/plain": [
       "+-------------------------------------+------------------+-----------------+"
      ]
     },
     "metadata": {},
     "output_type": "display_data"
    },
    {
     "data": {
      "text/html": [
       "<pre>| Elapsed Time (Constructing Lookups) | Total % Complete | Items Processed |</pre>"
      ],
      "text/plain": [
       "| Elapsed Time (Constructing Lookups) | Total % Complete | Items Processed |"
      ]
     },
     "metadata": {},
     "output_type": "display_data"
    },
    {
     "data": {
      "text/html": [
       "<pre>+-------------------------------------+------------------+-----------------+</pre>"
      ],
      "text/plain": [
       "+-------------------------------------+------------------+-----------------+"
      ]
     },
     "metadata": {},
     "output_type": "display_data"
    },
    {
     "data": {
      "text/html": [
       "<pre>| 7.377ms                             | 0                | 0               |</pre>"
      ],
      "text/plain": [
       "| 7.377ms                             | 0                | 0               |"
      ]
     },
     "metadata": {},
     "output_type": "display_data"
    },
    {
     "data": {
      "text/html": [
       "<pre>| 28.524ms                            | 100              | 876             |</pre>"
      ],
      "text/plain": [
       "| 28.524ms                            | 100              | 876             |"
      ]
     },
     "metadata": {},
     "output_type": "display_data"
    },
    {
     "data": {
      "text/html": [
       "<pre>+-------------------------------------+------------------+-----------------+</pre>"
      ],
      "text/plain": [
       "+-------------------------------------+------------------+-----------------+"
      ]
     },
     "metadata": {},
     "output_type": "display_data"
    },
    {
     "data": {
      "text/html": [
       "<pre>Finalizing lookup tables.</pre>"
      ],
      "text/plain": [
       "Finalizing lookup tables."
      ]
     },
     "metadata": {},
     "output_type": "display_data"
    },
    {
     "data": {
      "text/html": [
       "<pre>Generating candidate set for working with new users.</pre>"
      ],
      "text/plain": [
       "Generating candidate set for working with new users."
      ]
     },
     "metadata": {},
     "output_type": "display_data"
    },
    {
     "data": {
      "text/html": [
       "<pre>Finished training in 0.033859s</pre>"
      ],
      "text/plain": [
       "Finished training in 0.033859s"
      ]
     },
     "metadata": {},
     "output_type": "display_data"
    },
    {
     "data": {
      "text/html": [
       "<pre>recommendations finished on 1000/2616 queries. users per second: 48962</pre>"
      ],
      "text/plain": [
       "recommendations finished on 1000/2616 queries. users per second: 48962"
      ]
     },
     "metadata": {},
     "output_type": "display_data"
    },
    {
     "data": {
      "text/html": [
       "<pre>recommendations finished on 2000/2616 queries. users per second: 41382.2</pre>"
      ],
      "text/plain": [
       "recommendations finished on 2000/2616 queries. users per second: 41382.2"
      ]
     },
     "metadata": {},
     "output_type": "display_data"
    },
    {
     "name": "stdout",
     "output_type": "stream",
     "text": [
      "+-------+--------+----------------------+------+\n",
      "| LYBID | ITEMID |        score         | rank |\n",
      "+-------+--------+----------------------+------+\n",
      "| 10004 | 27278  | 0.13114018738269806  |  1   |\n",
      "| 10004 | 43508  |  0.1029571145772934  |  2   |\n",
      "| 10004 | 43829  | 0.07702833414077759  |  3   |\n",
      "| 10004 | 43875  |  0.0738956481218338  |  4   |\n",
      "| 10004 | 40988  |  0.0738956481218338  |  5   |\n",
      "| 10009 | 35633  |  0.1178511381149292  |  1   |\n",
      "| 10009 | 42701  | 0.09855206807454427  |  2   |\n",
      "| 10009 | 29027  | 0.09042261044184367  |  3   |\n",
      "| 10009 | 43504  | 0.08087644974390666  |  4   |\n",
      "| 10009 | 15822  | 0.08087644974390666  |  5   |\n",
      "| 10012 | 43679  |  0.0769800345102946  |  1   |\n",
      "| 10012 | 15862  | 0.06513200203577678  |  2   |\n",
      "| 10012 | 33619  | 0.060858070850372314 |  3   |\n",
      "| 10012 | 43330  | 0.060858070850372314 |  4   |\n",
      "| 10012 | 43431  | 0.060858070850372314 |  5   |\n",
      "| 10022 | 43932  | 0.05661747285297939  |  1   |\n",
      "| 10022 | 43506  | 0.045780424560819356 |  2   |\n",
      "| 10022 |  6430  | 0.042392339025224955 |  3   |\n",
      "| 10022 | 43522  | 0.038174693073545186 |  4   |\n",
      "| 10022 | 37911  | 0.038174693073545186 |  5   |\n",
      "| 10023 | 42741  | 0.06389076179928249  |  1   |\n",
      "| 10023 | 43612  | 0.049742970201704234 |  2   |\n",
      "| 10023 | 28901  | 0.044393711619906955 |  3   |\n",
      "| 10023 | 41087  | 0.04199605517917209  |  4   |\n",
      "| 10023 | 43508  | 0.03580359617869059  |  5   |\n",
      "| 10029 | 35912  |        0.125         |  1   |\n",
      "| 10029 | 43915  | 0.11428758502006531  |  2   |\n",
      "| 10029 | 36036  |  0.0883883535861969  |  3   |\n",
      "| 10029 | 43932  |  0.0883883535861969  |  4   |\n",
      "| 10029 |  6429  |  0.0883883535861969  |  5   |\n",
      "+-------+--------+----------------------+------+\n",
      "[13080 rows x 4 columns]\n",
      "\n"
     ]
    }
   ],
   "source": [
    "# these variables will change accordingly\n",
    "name = 'cosine'\n",
    "target = 'purchase_dummy'\n",
    "cos_dummy = model(train_data_dummy, name, user_id, item_id, target, users_to_recommend, n_rec, n_display)"
   ]
  },
  {
   "cell_type": "markdown",
   "metadata": {},
   "source": [
    "#### Using normalized purchase count"
   ]
  },
  {
   "cell_type": "code",
   "execution_count": 27,
   "metadata": {},
   "outputs": [
    {
     "data": {
      "text/html": [
       "<pre>Preparing data set.</pre>"
      ],
      "text/plain": [
       "Preparing data set."
      ]
     },
     "metadata": {},
     "output_type": "display_data"
    },
    {
     "data": {
      "text/html": [
       "<pre>    Data has 6109 observations with 2253 users and 312 items.</pre>"
      ],
      "text/plain": [
       "    Data has 6109 observations with 2253 users and 312 items."
      ]
     },
     "metadata": {},
     "output_type": "display_data"
    },
    {
     "data": {
      "text/html": [
       "<pre>    Data prepared in: 0.013516s</pre>"
      ],
      "text/plain": [
       "    Data prepared in: 0.013516s"
      ]
     },
     "metadata": {},
     "output_type": "display_data"
    },
    {
     "data": {
      "text/html": [
       "<pre>Training model from provided data.</pre>"
      ],
      "text/plain": [
       "Training model from provided data."
      ]
     },
     "metadata": {},
     "output_type": "display_data"
    },
    {
     "data": {
      "text/html": [
       "<pre>Gathering per-item and per-user statistics.</pre>"
      ],
      "text/plain": [
       "Gathering per-item and per-user statistics."
      ]
     },
     "metadata": {},
     "output_type": "display_data"
    },
    {
     "data": {
      "text/html": [
       "<pre>+--------------------------------+------------+</pre>"
      ],
      "text/plain": [
       "+--------------------------------+------------+"
      ]
     },
     "metadata": {},
     "output_type": "display_data"
    },
    {
     "data": {
      "text/html": [
       "<pre>| Elapsed Time (Item Statistics) | % Complete |</pre>"
      ],
      "text/plain": [
       "| Elapsed Time (Item Statistics) | % Complete |"
      ]
     },
     "metadata": {},
     "output_type": "display_data"
    },
    {
     "data": {
      "text/html": [
       "<pre>+--------------------------------+------------+</pre>"
      ],
      "text/plain": [
       "+--------------------------------+------------+"
      ]
     },
     "metadata": {},
     "output_type": "display_data"
    },
    {
     "data": {
      "text/html": [
       "<pre>| 545us                          | 44.25      |</pre>"
      ],
      "text/plain": [
       "| 545us                          | 44.25      |"
      ]
     },
     "metadata": {},
     "output_type": "display_data"
    },
    {
     "data": {
      "text/html": [
       "<pre>| 1.293ms                        | 100        |</pre>"
      ],
      "text/plain": [
       "| 1.293ms                        | 100        |"
      ]
     },
     "metadata": {},
     "output_type": "display_data"
    },
    {
     "data": {
      "text/html": [
       "<pre>+--------------------------------+------------+</pre>"
      ],
      "text/plain": [
       "+--------------------------------+------------+"
      ]
     },
     "metadata": {},
     "output_type": "display_data"
    },
    {
     "data": {
      "text/html": [
       "<pre>Setting up lookup tables.</pre>"
      ],
      "text/plain": [
       "Setting up lookup tables."
      ]
     },
     "metadata": {},
     "output_type": "display_data"
    },
    {
     "data": {
      "text/html": [
       "<pre>Processing data in one pass using dense lookup tables.</pre>"
      ],
      "text/plain": [
       "Processing data in one pass using dense lookup tables."
      ]
     },
     "metadata": {},
     "output_type": "display_data"
    },
    {
     "data": {
      "text/html": [
       "<pre>+-------------------------------------+------------------+-----------------+</pre>"
      ],
      "text/plain": [
       "+-------------------------------------+------------------+-----------------+"
      ]
     },
     "metadata": {},
     "output_type": "display_data"
    },
    {
     "data": {
      "text/html": [
       "<pre>| Elapsed Time (Constructing Lookups) | Total % Complete | Items Processed |</pre>"
      ],
      "text/plain": [
       "| Elapsed Time (Constructing Lookups) | Total % Complete | Items Processed |"
      ]
     },
     "metadata": {},
     "output_type": "display_data"
    },
    {
     "data": {
      "text/html": [
       "<pre>+-------------------------------------+------------------+-----------------+</pre>"
      ],
      "text/plain": [
       "+-------------------------------------+------------------+-----------------+"
      ]
     },
     "metadata": {},
     "output_type": "display_data"
    },
    {
     "data": {
      "text/html": [
       "<pre>| 1.778ms                             | 0                | 0               |</pre>"
      ],
      "text/plain": [
       "| 1.778ms                             | 0                | 0               |"
      ]
     },
     "metadata": {},
     "output_type": "display_data"
    },
    {
     "data": {
      "text/html": [
       "<pre>| 6.473ms                             | 100              | 312             |</pre>"
      ],
      "text/plain": [
       "| 6.473ms                             | 100              | 312             |"
      ]
     },
     "metadata": {},
     "output_type": "display_data"
    },
    {
     "data": {
      "text/html": [
       "<pre>+-------------------------------------+------------------+-----------------+</pre>"
      ],
      "text/plain": [
       "+-------------------------------------+------------------+-----------------+"
      ]
     },
     "metadata": {},
     "output_type": "display_data"
    },
    {
     "data": {
      "text/html": [
       "<pre>Finalizing lookup tables.</pre>"
      ],
      "text/plain": [
       "Finalizing lookup tables."
      ]
     },
     "metadata": {},
     "output_type": "display_data"
    },
    {
     "data": {
      "text/html": [
       "<pre>Generating candidate set for working with new users.</pre>"
      ],
      "text/plain": [
       "Generating candidate set for working with new users."
      ]
     },
     "metadata": {},
     "output_type": "display_data"
    },
    {
     "data": {
      "text/html": [
       "<pre>Finished training in 0.007963s</pre>"
      ],
      "text/plain": [
       "Finished training in 0.007963s"
      ]
     },
     "metadata": {},
     "output_type": "display_data"
    },
    {
     "data": {
      "text/html": [
       "<pre>recommendations finished on 1000/2616 queries. users per second: 54791.5</pre>"
      ],
      "text/plain": [
       "recommendations finished on 1000/2616 queries. users per second: 54791.5"
      ]
     },
     "metadata": {},
     "output_type": "display_data"
    },
    {
     "data": {
      "text/html": [
       "<pre>recommendations finished on 2000/2616 queries. users per second: 57219.7</pre>"
      ],
      "text/plain": [
       "recommendations finished on 2000/2616 queries. users per second: 57219.7"
      ]
     },
     "metadata": {},
     "output_type": "display_data"
    },
    {
     "name": "stdout",
     "output_type": "stream",
     "text": [
      "+-------+--------+----------------------+------+\n",
      "| LYBID | ITEMID |        score         | rank |\n",
      "+-------+--------+----------------------+------+\n",
      "| 10004 | 28897  | 0.05773502588272095  |  1   |\n",
      "| 10004 | 43674  | 0.03779643774032593  |  2   |\n",
      "| 10004 | 43511  | 0.03771816492080689  |  3   |\n",
      "| 10004 | 42006  | 0.03764121532440186  |  4   |\n",
      "| 10004 | 43609  | 0.03718677759170532  |  5   |\n",
      "| 10009 | 15086  | 0.09622504313786824  |  1   |\n",
      "| 10009 | 43641  | 0.036810497442881264 |  2   |\n",
      "| 10009 | 43488  | 0.025269925594329834 |  3   |\n",
      "| 10009 | 43442  | 0.016325573126475017 |  4   |\n",
      "| 10009 | 43545  |         0.0          |  5   |\n",
      "| 10012 | 43327  | 0.22360679507255554  |  1   |\n",
      "| 10012 | 42655  | 0.22360679507255554  |  2   |\n",
      "| 10012 |  6421  | 0.18257418274879456  |  3   |\n",
      "| 10012 | 43925  | 0.15811389684677124  |  4   |\n",
      "| 10012 | 33583  | 0.12909945845603943  |  5   |\n",
      "| 10022 | 43936  | 0.04441155837132381  |  1   |\n",
      "| 10022 | 43327  | 0.03440104539577778  |  2   |\n",
      "| 10022 | 43909  | 0.03140371579390306  |  3   |\n",
      "| 10022 | 37922  | 0.028097331523895264 |  4   |\n",
      "| 10022 |  6421  | 0.028088335807506856 |  5   |\n",
      "| 10023 | 43545  |         0.0          |  1   |\n",
      "| 10023 | 36039  |         0.0          |  2   |\n",
      "| 10023 | 43672  |         0.0          |  3   |\n",
      "| 10023 | 33691  |         0.0          |  4   |\n",
      "| 10023 | 29009  |         0.0          |  5   |\n",
      "| 10029 | 43545  |         0.0          |  1   |\n",
      "| 10029 | 36039  |         0.0          |  2   |\n",
      "| 10029 | 43672  |         0.0          |  3   |\n",
      "| 10029 | 33691  |         0.0          |  4   |\n",
      "| 10029 | 29009  |         0.0          |  5   |\n",
      "+-------+--------+----------------------+------+\n",
      "[13080 rows x 4 columns]\n",
      "\n"
     ]
    }
   ],
   "source": [
    "name = 'cosine'\n",
    "target = 'scaled_purchase_freq'\n",
    "cos_norm = model(train_data_norm, name, user_id, item_id, target, users_to_recommend, n_rec, n_display)"
   ]
  },
  {
   "cell_type": "markdown",
   "metadata": {},
   "source": [
    "### 6.2. `Pearson` similarity\n",
    "* Similarity is the pearson coefficient between the two vectors.\n",
    "* It is defined by the following formula\n",
    "![](http://critical-numbers.group.shef.ac.uk/glossary/images/correlationKT1.png)"
   ]
  },
  {
   "cell_type": "markdown",
   "metadata": {},
   "source": [
    "#### Using purchase count"
   ]
  },
  {
   "cell_type": "code",
   "execution_count": 28,
   "metadata": {},
   "outputs": [
    {
     "data": {
      "text/html": [
       "<pre>Preparing data set.</pre>"
      ],
      "text/plain": [
       "Preparing data set."
      ]
     },
     "metadata": {},
     "output_type": "display_data"
    },
    {
     "data": {
      "text/html": [
       "<pre>    Data has 7999 observations with 2469 users and 874 items.</pre>"
      ],
      "text/plain": [
       "    Data has 7999 observations with 2469 users and 874 items."
      ]
     },
     "metadata": {},
     "output_type": "display_data"
    },
    {
     "data": {
      "text/html": [
       "<pre>    Data prepared in: 0.02057s</pre>"
      ],
      "text/plain": [
       "    Data prepared in: 0.02057s"
      ]
     },
     "metadata": {},
     "output_type": "display_data"
    },
    {
     "data": {
      "text/html": [
       "<pre>Training model from provided data.</pre>"
      ],
      "text/plain": [
       "Training model from provided data."
      ]
     },
     "metadata": {},
     "output_type": "display_data"
    },
    {
     "data": {
      "text/html": [
       "<pre>Gathering per-item and per-user statistics.</pre>"
      ],
      "text/plain": [
       "Gathering per-item and per-user statistics."
      ]
     },
     "metadata": {},
     "output_type": "display_data"
    },
    {
     "data": {
      "text/html": [
       "<pre>+--------------------------------+------------+</pre>"
      ],
      "text/plain": [
       "+--------------------------------+------------+"
      ]
     },
     "metadata": {},
     "output_type": "display_data"
    },
    {
     "data": {
      "text/html": [
       "<pre>| Elapsed Time (Item Statistics) | % Complete |</pre>"
      ],
      "text/plain": [
       "| Elapsed Time (Item Statistics) | % Complete |"
      ]
     },
     "metadata": {},
     "output_type": "display_data"
    },
    {
     "data": {
      "text/html": [
       "<pre>+--------------------------------+------------+</pre>"
      ],
      "text/plain": [
       "+--------------------------------+------------+"
      ]
     },
     "metadata": {},
     "output_type": "display_data"
    },
    {
     "data": {
      "text/html": [
       "<pre>| 1.024ms                        | 40.5       |</pre>"
      ],
      "text/plain": [
       "| 1.024ms                        | 40.5       |"
      ]
     },
     "metadata": {},
     "output_type": "display_data"
    },
    {
     "data": {
      "text/html": [
       "<pre>| 1.803ms                        | 100        |</pre>"
      ],
      "text/plain": [
       "| 1.803ms                        | 100        |"
      ]
     },
     "metadata": {},
     "output_type": "display_data"
    },
    {
     "data": {
      "text/html": [
       "<pre>+--------------------------------+------------+</pre>"
      ],
      "text/plain": [
       "+--------------------------------+------------+"
      ]
     },
     "metadata": {},
     "output_type": "display_data"
    },
    {
     "data": {
      "text/html": [
       "<pre>Setting up lookup tables.</pre>"
      ],
      "text/plain": [
       "Setting up lookup tables."
      ]
     },
     "metadata": {},
     "output_type": "display_data"
    },
    {
     "data": {
      "text/html": [
       "<pre>Processing data in one pass using dense lookup tables.</pre>"
      ],
      "text/plain": [
       "Processing data in one pass using dense lookup tables."
      ]
     },
     "metadata": {},
     "output_type": "display_data"
    },
    {
     "data": {
      "text/html": [
       "<pre>+-------------------------------------+------------------+-----------------+</pre>"
      ],
      "text/plain": [
       "+-------------------------------------+------------------+-----------------+"
      ]
     },
     "metadata": {},
     "output_type": "display_data"
    },
    {
     "data": {
      "text/html": [
       "<pre>| Elapsed Time (Constructing Lookups) | Total % Complete | Items Processed |</pre>"
      ],
      "text/plain": [
       "| Elapsed Time (Constructing Lookups) | Total % Complete | Items Processed |"
      ]
     },
     "metadata": {},
     "output_type": "display_data"
    },
    {
     "data": {
      "text/html": [
       "<pre>+-------------------------------------+------------------+-----------------+</pre>"
      ],
      "text/plain": [
       "+-------------------------------------+------------------+-----------------+"
      ]
     },
     "metadata": {},
     "output_type": "display_data"
    },
    {
     "data": {
      "text/html": [
       "<pre>| 4.598ms                             | 0                | 0               |</pre>"
      ],
      "text/plain": [
       "| 4.598ms                             | 0                | 0               |"
      ]
     },
     "metadata": {},
     "output_type": "display_data"
    },
    {
     "data": {
      "text/html": [
       "<pre>| 46.605ms                            | 100              | 874             |</pre>"
      ],
      "text/plain": [
       "| 46.605ms                            | 100              | 874             |"
      ]
     },
     "metadata": {},
     "output_type": "display_data"
    },
    {
     "data": {
      "text/html": [
       "<pre>+-------------------------------------+------------------+-----------------+</pre>"
      ],
      "text/plain": [
       "+-------------------------------------+------------------+-----------------+"
      ]
     },
     "metadata": {},
     "output_type": "display_data"
    },
    {
     "data": {
      "text/html": [
       "<pre>Finalizing lookup tables.</pre>"
      ],
      "text/plain": [
       "Finalizing lookup tables."
      ]
     },
     "metadata": {},
     "output_type": "display_data"
    },
    {
     "data": {
      "text/html": [
       "<pre>Generating candidate set for working with new users.</pre>"
      ],
      "text/plain": [
       "Generating candidate set for working with new users."
      ]
     },
     "metadata": {},
     "output_type": "display_data"
    },
    {
     "data": {
      "text/html": [
       "<pre>Finished training in 0.064009s</pre>"
      ],
      "text/plain": [
       "Finished training in 0.064009s"
      ]
     },
     "metadata": {},
     "output_type": "display_data"
    },
    {
     "data": {
      "text/html": [
       "<pre>recommendations finished on 1000/2616 queries. users per second: 21193.2</pre>"
      ],
      "text/plain": [
       "recommendations finished on 1000/2616 queries. users per second: 21193.2"
      ]
     },
     "metadata": {},
     "output_type": "display_data"
    },
    {
     "data": {
      "text/html": [
       "<pre>recommendations finished on 2000/2616 queries. users per second: 25222.9</pre>"
      ],
      "text/plain": [
       "recommendations finished on 2000/2616 queries. users per second: 25222.9"
      ]
     },
     "metadata": {},
     "output_type": "display_data"
    },
    {
     "name": "stdout",
     "output_type": "stream",
     "text": [
      "+-------+--------+--------------------+------+\n",
      "| LYBID | ITEMID |       score        | rank |\n",
      "+-------+--------+--------------------+------+\n",
      "| 10004 | 42048  | 18.999803711970646 |  1   |\n",
      "| 10004 | 35912  |        5.5         |  2   |\n",
      "| 10004 | 35906  |        4.0         |  3   |\n",
      "| 10004 | 15885  | 3.5998572170734406 |  4   |\n",
      "| 10004 | 15834  |        3.2         |  5   |\n",
      "| 10009 | 42048  |        19.0        |  1   |\n",
      "| 10009 | 35912  |        5.5         |  2   |\n",
      "| 10009 | 35906  |        4.0         |  3   |\n",
      "| 10009 | 15885  | 3.599674399693807  |  4   |\n",
      "| 10009 | 15834  |        3.2         |  5   |\n",
      "| 10012 | 42048  |        19.0        |  1   |\n",
      "| 10012 | 35912  |        5.5         |  2   |\n",
      "| 10012 | 35906  |        4.0         |  3   |\n",
      "| 10012 | 15885  |        3.6         |  4   |\n",
      "| 10012 | 15834  |        3.2         |  5   |\n",
      "| 10022 | 42048  |        19.0        |  1   |\n",
      "| 10022 | 35912  |        5.5         |  2   |\n",
      "| 10022 | 35906  |        4.0         |  3   |\n",
      "| 10022 | 15885  | 3.599996644609115  |  4   |\n",
      "| 10022 | 15834  | 3.1999981732929457 |  5   |\n",
      "| 10023 | 42048  |        19.0        |  1   |\n",
      "| 10023 | 35912  |  5.49871951341629  |  2   |\n",
      "| 10023 | 35906  |        4.0         |  3   |\n",
      "| 10023 | 15885  |        3.6         |  4   |\n",
      "| 10023 | 15834  |        3.2         |  5   |\n",
      "| 10029 | 42048  |        19.0        |  1   |\n",
      "| 10029 | 35912  |        5.5         |  2   |\n",
      "| 10029 | 35906  |        4.0         |  3   |\n",
      "| 10029 | 15885  |        3.6         |  4   |\n",
      "| 10029 | 15834  |        3.2         |  5   |\n",
      "+-------+--------+--------------------+------+\n",
      "[13080 rows x 4 columns]\n",
      "\n"
     ]
    }
   ],
   "source": [
    "# these variables will change accordingly\n",
    "name = 'pearson'\n",
    "target = 'TotalQtyPurchased'\n",
    "pear = model(train_data, name, user_id, item_id, target, users_to_recommend, n_rec, n_display)"
   ]
  },
  {
   "cell_type": "markdown",
   "metadata": {},
   "source": [
    "#### Using purchase dummy"
   ]
  },
  {
   "cell_type": "code",
   "execution_count": 29,
   "metadata": {},
   "outputs": [
    {
     "data": {
      "text/html": [
       "<pre>Warning: Ignoring columns TotalQtyPurchased;</pre>"
      ],
      "text/plain": [
       "Warning: Ignoring columns TotalQtyPurchased;"
      ]
     },
     "metadata": {},
     "output_type": "display_data"
    },
    {
     "data": {
      "text/html": [
       "<pre>    To use these columns in scoring predictions, use a model that allows the use of additional features.</pre>"
      ],
      "text/plain": [
       "    To use these columns in scoring predictions, use a model that allows the use of additional features."
      ]
     },
     "metadata": {},
     "output_type": "display_data"
    },
    {
     "data": {
      "text/html": [
       "<pre>Preparing data set.</pre>"
      ],
      "text/plain": [
       "Preparing data set."
      ]
     },
     "metadata": {},
     "output_type": "display_data"
    },
    {
     "data": {
      "text/html": [
       "<pre>    Data has 7999 observations with 2463 users and 876 items.</pre>"
      ],
      "text/plain": [
       "    Data has 7999 observations with 2463 users and 876 items."
      ]
     },
     "metadata": {},
     "output_type": "display_data"
    },
    {
     "data": {
      "text/html": [
       "<pre>    Data prepared in: 0.022177s</pre>"
      ],
      "text/plain": [
       "    Data prepared in: 0.022177s"
      ]
     },
     "metadata": {},
     "output_type": "display_data"
    },
    {
     "data": {
      "text/html": [
       "<pre>Training model from provided data.</pre>"
      ],
      "text/plain": [
       "Training model from provided data."
      ]
     },
     "metadata": {},
     "output_type": "display_data"
    },
    {
     "data": {
      "text/html": [
       "<pre>Gathering per-item and per-user statistics.</pre>"
      ],
      "text/plain": [
       "Gathering per-item and per-user statistics."
      ]
     },
     "metadata": {},
     "output_type": "display_data"
    },
    {
     "data": {
      "text/html": [
       "<pre>+--------------------------------+------------+</pre>"
      ],
      "text/plain": [
       "+--------------------------------+------------+"
      ]
     },
     "metadata": {},
     "output_type": "display_data"
    },
    {
     "data": {
      "text/html": [
       "<pre>| Elapsed Time (Item Statistics) | % Complete |</pre>"
      ],
      "text/plain": [
       "| Elapsed Time (Item Statistics) | % Complete |"
      ]
     },
     "metadata": {},
     "output_type": "display_data"
    },
    {
     "data": {
      "text/html": [
       "<pre>+--------------------------------+------------+</pre>"
      ],
      "text/plain": [
       "+--------------------------------+------------+"
      ]
     },
     "metadata": {},
     "output_type": "display_data"
    },
    {
     "data": {
      "text/html": [
       "<pre>| 714us                          | 40.5       |</pre>"
      ],
      "text/plain": [
       "| 714us                          | 40.5       |"
      ]
     },
     "metadata": {},
     "output_type": "display_data"
    },
    {
     "data": {
      "text/html": [
       "<pre>| 1.054ms                        | 100        |</pre>"
      ],
      "text/plain": [
       "| 1.054ms                        | 100        |"
      ]
     },
     "metadata": {},
     "output_type": "display_data"
    },
    {
     "data": {
      "text/html": [
       "<pre>+--------------------------------+------------+</pre>"
      ],
      "text/plain": [
       "+--------------------------------+------------+"
      ]
     },
     "metadata": {},
     "output_type": "display_data"
    },
    {
     "data": {
      "text/html": [
       "<pre>Setting up lookup tables.</pre>"
      ],
      "text/plain": [
       "Setting up lookup tables."
      ]
     },
     "metadata": {},
     "output_type": "display_data"
    },
    {
     "data": {
      "text/html": [
       "<pre>Processing data in one pass using dense lookup tables.</pre>"
      ],
      "text/plain": [
       "Processing data in one pass using dense lookup tables."
      ]
     },
     "metadata": {},
     "output_type": "display_data"
    },
    {
     "data": {
      "text/html": [
       "<pre>+-------------------------------------+------------------+-----------------+</pre>"
      ],
      "text/plain": [
       "+-------------------------------------+------------------+-----------------+"
      ]
     },
     "metadata": {},
     "output_type": "display_data"
    },
    {
     "data": {
      "text/html": [
       "<pre>| Elapsed Time (Constructing Lookups) | Total % Complete | Items Processed |</pre>"
      ],
      "text/plain": [
       "| Elapsed Time (Constructing Lookups) | Total % Complete | Items Processed |"
      ]
     },
     "metadata": {},
     "output_type": "display_data"
    },
    {
     "data": {
      "text/html": [
       "<pre>+-------------------------------------+------------------+-----------------+</pre>"
      ],
      "text/plain": [
       "+-------------------------------------+------------------+-----------------+"
      ]
     },
     "metadata": {},
     "output_type": "display_data"
    },
    {
     "data": {
      "text/html": [
       "<pre>| 3.202ms                             | 0                | 0               |</pre>"
      ],
      "text/plain": [
       "| 3.202ms                             | 0                | 0               |"
      ]
     },
     "metadata": {},
     "output_type": "display_data"
    },
    {
     "data": {
      "text/html": [
       "<pre>| 26.891ms                            | 100              | 876             |</pre>"
      ],
      "text/plain": [
       "| 26.891ms                            | 100              | 876             |"
      ]
     },
     "metadata": {},
     "output_type": "display_data"
    },
    {
     "data": {
      "text/html": [
       "<pre>+-------------------------------------+------------------+-----------------+</pre>"
      ],
      "text/plain": [
       "+-------------------------------------+------------------+-----------------+"
      ]
     },
     "metadata": {},
     "output_type": "display_data"
    },
    {
     "data": {
      "text/html": [
       "<pre>Finalizing lookup tables.</pre>"
      ],
      "text/plain": [
       "Finalizing lookup tables."
      ]
     },
     "metadata": {},
     "output_type": "display_data"
    },
    {
     "data": {
      "text/html": [
       "<pre>Generating candidate set for working with new users.</pre>"
      ],
      "text/plain": [
       "Generating candidate set for working with new users."
      ]
     },
     "metadata": {},
     "output_type": "display_data"
    },
    {
     "data": {
      "text/html": [
       "<pre>Finished training in 0.042539s</pre>"
      ],
      "text/plain": [
       "Finished training in 0.042539s"
      ]
     },
     "metadata": {},
     "output_type": "display_data"
    },
    {
     "data": {
      "text/html": [
       "<pre>recommendations finished on 1000/2616 queries. users per second: 41402.7</pre>"
      ],
      "text/plain": [
       "recommendations finished on 1000/2616 queries. users per second: 41402.7"
      ]
     },
     "metadata": {},
     "output_type": "display_data"
    },
    {
     "data": {
      "text/html": [
       "<pre>recommendations finished on 2000/2616 queries. users per second: 39107.6</pre>"
      ],
      "text/plain": [
       "recommendations finished on 2000/2616 queries. users per second: 39107.6"
      ]
     },
     "metadata": {},
     "output_type": "display_data"
    },
    {
     "name": "stdout",
     "output_type": "stream",
     "text": [
      "+-------+--------+-------+------+\n",
      "| LYBID | ITEMID | score | rank |\n",
      "+-------+--------+-------+------+\n",
      "| 10004 | 38011  |  0.0  |  1   |\n",
      "| 10004 | 33586  |  0.0  |  2   |\n",
      "| 10004 | 29036  |  0.0  |  3   |\n",
      "| 10004 | 38012  |  0.0  |  4   |\n",
      "| 10004 | 33819  |  0.0  |  5   |\n",
      "| 10009 | 38011  |  0.0  |  1   |\n",
      "| 10009 | 33586  |  0.0  |  2   |\n",
      "| 10009 | 29036  |  0.0  |  3   |\n",
      "| 10009 | 38012  |  0.0  |  4   |\n",
      "| 10009 | 33819  |  0.0  |  5   |\n",
      "| 10012 | 38011  |  0.0  |  1   |\n",
      "| 10012 | 33586  |  0.0  |  2   |\n",
      "| 10012 | 29036  |  0.0  |  3   |\n",
      "| 10012 | 38012  |  0.0  |  4   |\n",
      "| 10012 | 33819  |  0.0  |  5   |\n",
      "| 10022 | 38011  |  0.0  |  1   |\n",
      "| 10022 | 33586  |  0.0  |  2   |\n",
      "| 10022 | 29036  |  0.0  |  3   |\n",
      "| 10022 | 38012  |  0.0  |  4   |\n",
      "| 10022 | 33819  |  0.0  |  5   |\n",
      "| 10023 | 38011  |  0.0  |  1   |\n",
      "| 10023 | 33586  |  0.0  |  2   |\n",
      "| 10023 | 29036  |  0.0  |  3   |\n",
      "| 10023 | 38012  |  0.0  |  4   |\n",
      "| 10023 | 33819  |  0.0  |  5   |\n",
      "| 10029 | 38011  |  0.0  |  1   |\n",
      "| 10029 | 33586  |  0.0  |  2   |\n",
      "| 10029 | 29036  |  0.0  |  3   |\n",
      "| 10029 | 38012  |  0.0  |  4   |\n",
      "| 10029 | 33819  |  0.0  |  5   |\n",
      "+-------+--------+-------+------+\n",
      "[13080 rows x 4 columns]\n",
      "\n"
     ]
    }
   ],
   "source": [
    "# these variables will change accordingly\n",
    "name = 'pearson'\n",
    "target = 'purchase_dummy'\n",
    "pear_dummy = model(train_data_dummy, name, user_id, item_id, target, users_to_recommend, n_rec, n_display)"
   ]
  },
  {
   "cell_type": "markdown",
   "metadata": {},
   "source": [
    "#### Using normalized purchase count"
   ]
  },
  {
   "cell_type": "code",
   "execution_count": 30,
   "metadata": {},
   "outputs": [
    {
     "data": {
      "text/html": [
       "<pre>Preparing data set.</pre>"
      ],
      "text/plain": [
       "Preparing data set."
      ]
     },
     "metadata": {},
     "output_type": "display_data"
    },
    {
     "data": {
      "text/html": [
       "<pre>    Data has 6109 observations with 2253 users and 312 items.</pre>"
      ],
      "text/plain": [
       "    Data has 6109 observations with 2253 users and 312 items."
      ]
     },
     "metadata": {},
     "output_type": "display_data"
    },
    {
     "data": {
      "text/html": [
       "<pre>    Data prepared in: 0.011473s</pre>"
      ],
      "text/plain": [
       "    Data prepared in: 0.011473s"
      ]
     },
     "metadata": {},
     "output_type": "display_data"
    },
    {
     "data": {
      "text/html": [
       "<pre>Training model from provided data.</pre>"
      ],
      "text/plain": [
       "Training model from provided data."
      ]
     },
     "metadata": {},
     "output_type": "display_data"
    },
    {
     "data": {
      "text/html": [
       "<pre>Gathering per-item and per-user statistics.</pre>"
      ],
      "text/plain": [
       "Gathering per-item and per-user statistics."
      ]
     },
     "metadata": {},
     "output_type": "display_data"
    },
    {
     "data": {
      "text/html": [
       "<pre>+--------------------------------+------------+</pre>"
      ],
      "text/plain": [
       "+--------------------------------+------------+"
      ]
     },
     "metadata": {},
     "output_type": "display_data"
    },
    {
     "data": {
      "text/html": [
       "<pre>| Elapsed Time (Item Statistics) | % Complete |</pre>"
      ],
      "text/plain": [
       "| Elapsed Time (Item Statistics) | % Complete |"
      ]
     },
     "metadata": {},
     "output_type": "display_data"
    },
    {
     "data": {
      "text/html": [
       "<pre>+--------------------------------+------------+</pre>"
      ],
      "text/plain": [
       "+--------------------------------+------------+"
      ]
     },
     "metadata": {},
     "output_type": "display_data"
    },
    {
     "data": {
      "text/html": [
       "<pre>| 502us                          | 44.25      |</pre>"
      ],
      "text/plain": [
       "| 502us                          | 44.25      |"
      ]
     },
     "metadata": {},
     "output_type": "display_data"
    },
    {
     "data": {
      "text/html": [
       "<pre>| 906us                          | 100        |</pre>"
      ],
      "text/plain": [
       "| 906us                          | 100        |"
      ]
     },
     "metadata": {},
     "output_type": "display_data"
    },
    {
     "data": {
      "text/html": [
       "<pre>+--------------------------------+------------+</pre>"
      ],
      "text/plain": [
       "+--------------------------------+------------+"
      ]
     },
     "metadata": {},
     "output_type": "display_data"
    },
    {
     "data": {
      "text/html": [
       "<pre>Setting up lookup tables.</pre>"
      ],
      "text/plain": [
       "Setting up lookup tables."
      ]
     },
     "metadata": {},
     "output_type": "display_data"
    },
    {
     "data": {
      "text/html": [
       "<pre>Processing data in one pass using dense lookup tables.</pre>"
      ],
      "text/plain": [
       "Processing data in one pass using dense lookup tables."
      ]
     },
     "metadata": {},
     "output_type": "display_data"
    },
    {
     "data": {
      "text/html": [
       "<pre>+-------------------------------------+------------------+-----------------+</pre>"
      ],
      "text/plain": [
       "+-------------------------------------+------------------+-----------------+"
      ]
     },
     "metadata": {},
     "output_type": "display_data"
    },
    {
     "data": {
      "text/html": [
       "<pre>| Elapsed Time (Constructing Lookups) | Total % Complete | Items Processed |</pre>"
      ],
      "text/plain": [
       "| Elapsed Time (Constructing Lookups) | Total % Complete | Items Processed |"
      ]
     },
     "metadata": {},
     "output_type": "display_data"
    },
    {
     "data": {
      "text/html": [
       "<pre>+-------------------------------------+------------------+-----------------+</pre>"
      ],
      "text/plain": [
       "+-------------------------------------+------------------+-----------------+"
      ]
     },
     "metadata": {},
     "output_type": "display_data"
    },
    {
     "data": {
      "text/html": [
       "<pre>| 1.623ms                             | 0                | 0               |</pre>"
      ],
      "text/plain": [
       "| 1.623ms                             | 0                | 0               |"
      ]
     },
     "metadata": {},
     "output_type": "display_data"
    },
    {
     "data": {
      "text/html": [
       "<pre>| 10.561ms                            | 100              | 312             |</pre>"
      ],
      "text/plain": [
       "| 10.561ms                            | 100              | 312             |"
      ]
     },
     "metadata": {},
     "output_type": "display_data"
    },
    {
     "data": {
      "text/html": [
       "<pre>+-------------------------------------+------------------+-----------------+</pre>"
      ],
      "text/plain": [
       "+-------------------------------------+------------------+-----------------+"
      ]
     },
     "metadata": {},
     "output_type": "display_data"
    },
    {
     "data": {
      "text/html": [
       "<pre>Finalizing lookup tables.</pre>"
      ],
      "text/plain": [
       "Finalizing lookup tables."
      ]
     },
     "metadata": {},
     "output_type": "display_data"
    },
    {
     "data": {
      "text/html": [
       "<pre>Generating candidate set for working with new users.</pre>"
      ],
      "text/plain": [
       "Generating candidate set for working with new users."
      ]
     },
     "metadata": {},
     "output_type": "display_data"
    },
    {
     "data": {
      "text/html": [
       "<pre>Finished training in 0.01339s</pre>"
      ],
      "text/plain": [
       "Finished training in 0.01339s"
      ]
     },
     "metadata": {},
     "output_type": "display_data"
    },
    {
     "name": "stdout",
     "output_type": "stream",
     "text": [
      "+-------+--------+-------+------+\n",
      "| LYBID | ITEMID | score | rank |\n",
      "+-------+--------+-------+------+\n",
      "| 10004 | 28884  |  1.0  |  1   |\n",
      "| 10004 |  4370  |  1.0  |  2   |\n",
      "| 10004 | 42048  |  1.0  |  3   |\n",
      "| 10004 |  3848  |  1.0  |  4   |\n",
      "| 10004 | 35796  |  1.0  |  5   |\n",
      "| 10009 | 28884  |  1.0  |  1   |\n",
      "| 10009 |  4370  |  1.0  |  2   |\n",
      "| 10009 | 42048  |  1.0  |  3   |\n",
      "| 10009 |  3848  |  1.0  |  4   |\n",
      "| 10009 | 35796  |  1.0  |  5   |\n",
      "| 10012 | 28884  |  1.0  |  1   |\n",
      "| 10012 |  4370  |  1.0  |  2   |\n",
      "| 10012 | 42048  |  1.0  |  3   |\n",
      "| 10012 |  3848  |  1.0  |  4   |\n",
      "| 10012 | 35796  |  1.0  |  5   |\n",
      "| 10022 | 28884  |  1.0  |  1   |\n",
      "| 10022 |  4370  |  1.0  |  2   |\n",
      "| 10022 | 42048  |  1.0  |  3   |\n",
      "| 10022 |  3848  |  1.0  |  4   |\n",
      "| 10022 | 35796  |  1.0  |  5   |\n",
      "| 10023 | 28884  |  1.0  |  1   |\n",
      "| 10023 |  4370  |  1.0  |  2   |\n",
      "| 10023 | 42048  |  1.0  |  3   |\n",
      "| 10023 |  3848  |  1.0  |  4   |\n",
      "| 10023 | 35796  |  1.0  |  5   |\n",
      "| 10029 | 28884  |  1.0  |  1   |\n",
      "| 10029 |  4370  |  1.0  |  2   |\n",
      "| 10029 | 42048  |  1.0  |  3   |\n",
      "| 10029 |  3848  |  1.0  |  4   |\n",
      "| 10029 | 35796  |  1.0  |  5   |\n",
      "+-------+--------+-------+------+\n",
      "[13080 rows x 4 columns]\n",
      "\n"
     ]
    },
    {
     "data": {
      "text/html": [
       "<pre>recommendations finished on 1000/2616 queries. users per second: 83963.1</pre>"
      ],
      "text/plain": [
       "recommendations finished on 1000/2616 queries. users per second: 83963.1"
      ]
     },
     "metadata": {},
     "output_type": "display_data"
    },
    {
     "data": {
      "text/html": [
       "<pre>recommendations finished on 2000/2616 queries. users per second: 58134.5</pre>"
      ],
      "text/plain": [
       "recommendations finished on 2000/2616 queries. users per second: 58134.5"
      ]
     },
     "metadata": {},
     "output_type": "display_data"
    }
   ],
   "source": [
    "name = 'pearson'\n",
    "target = 'scaled_purchase_freq'\n",
    "pear_norm = model(train_data_norm, name, user_id, item_id, target, users_to_recommend, n_rec, n_display)"
   ]
  },
  {
   "cell_type": "markdown",
   "metadata": {},
   "source": [
    "#### Note\n",
    "* In collaborative filtering above, we used two approaches: cosine and pearson distance. We also got to apply them to three training datasets with normal counts, dummy, or normalized counts of items purchase.\n",
    "* We can see that the recommendations are different for each user. This suggests that personalization does exist. \n",
    "* But how good is this model compared to the baseline, and to each other? We need some means of evaluating a recommendation engine. Lets focus on that in the next section."
   ]
  },
  {
   "cell_type": "markdown",
   "metadata": {},
   "source": [
    "## 7. Model Evaluation\n",
    "For evaluating recommendation engines, we can use the concept of precision-recall.\n",
    "\n",
    "* RMSE (Root Mean Squared Errors)\n",
    "    * Measures the error of predicted values\n",
    "    * Lesser the RMSE value, better the recommendations\n",
    "* Recall\n",
    "    * What percentage of products that a user buys are actually recommended?\n",
    "    * If a customer buys 5 products and the recommendation decided to show 3 of them, then the recall is 0.6\n",
    "* Precision\n",
    "    * Out of all the recommended items, how many the user actually liked?\n",
    "    * If 5 products were recommended to the customer out of which he buys 4 of them, then precision is 0.8\n",
    "    \n",
    "* Why are both recall and precision important?\n",
    "    * Consider a case where we recommend all products, so our customers will surely cover the items that they liked and bought. In this case, we have 100% recall! Does this mean our model is good?\n",
    "    * We have to consider precision. If we recommend 300 items but user likes and buys only 3 of them, then precision is 0.1%! This very low precision indicates that the model is not great, despite their excellent recall.\n",
    "    * So our aim has to be optimizing both recall and precision (to be close to 1 as possible).\n",
    "\n",
    "Lets compare all the models we have built based on precision-recall characteristics:"
   ]
  },
  {
   "cell_type": "code",
   "execution_count": 31,
   "metadata": {},
   "outputs": [],
   "source": [
    "# create initial callable variables\n",
    "\n",
    "models_w_counts = [popularity_model, cos, pear]\n",
    "models_w_dummy = [pop_dummy, cos_dummy, pear_dummy]\n",
    "models_w_norm = [pop_norm, cos_norm, pear_norm]\n",
    "\n",
    "names_w_counts = ['Popularity Model on Purchase Counts', 'Cosine Similarity on Purchase Counts', 'Pearson Similarity on Purchase Counts']\n",
    "names_w_dummy = ['Popularity Model on Purchase Dummy', 'Cosine Similarity on Purchase Dummy', 'Pearson Similarity on Purchase Dummy']\n",
    "names_w_norm = ['Popularity Model on Scaled Purchase Counts', 'Cosine Similarity on Scaled Purchase Counts', 'Pearson Similarity on Scaled Purchase Counts']"
   ]
  },
  {
   "cell_type": "markdown",
   "metadata": {},
   "source": [
    "#### Models on purchase counts"
   ]
  },
  {
   "cell_type": "code",
   "execution_count": 32,
   "metadata": {
    "scrolled": true
   },
   "outputs": [
    {
     "name": "stdout",
     "output_type": "stream",
     "text": [
      "PROGRESS: Evaluate model Popularity Model on Purchase Counts\n"
     ]
    },
    {
     "data": {
      "text/html": [
       "<pre>recommendations finished on 1000/1279 queries. users per second: 47950.1</pre>"
      ],
      "text/plain": [
       "recommendations finished on 1000/1279 queries. users per second: 47950.1"
      ]
     },
     "metadata": {},
     "output_type": "display_data"
    },
    {
     "name": "stdout",
     "output_type": "stream",
     "text": [
      "\n",
      "Precision and recall summary statistics by cutoff\n",
      "+--------+------------------------+------------------------+\n",
      "| cutoff |     mean_precision     |      mean_recall       |\n",
      "+--------+------------------------+------------------------+\n",
      "|   1    |          0.0           |          0.0           |\n",
      "|   2    |          0.0           |          0.0           |\n",
      "|   3    |          0.0           |          0.0           |\n",
      "|   4    | 0.00019546520719312008 | 0.00039093041438624016 |\n",
      "|   5    | 0.0003127443315089923  | 0.0007818608287724801  |\n",
      "|   6    | 0.00026062027625749315 | 0.0007818608287724801  |\n",
      "|   7    | 0.00022338880822070866 | 0.0007818608287724801  |\n",
      "|   8    | 0.00019546520719312003 | 0.0007818608287724801  |\n",
      "|   9    | 0.0001737468508383287  | 0.0007818608287724801  |\n",
      "|   10   | 0.0003127443315089918  |  0.001759186864738078  |\n",
      "+--------+------------------------+------------------------+\n",
      "[10 rows x 3 columns]\n",
      "\n",
      "\n",
      "Overall RMSE: 0.8169896621803668\n",
      "\n",
      "Per User RMSE (best)\n",
      "+----------+------+-------+\n",
      "|  LYBID   | rmse | count |\n",
      "+----------+------+-------+\n",
      "| 30518269 | 0.0  |   1   |\n",
      "+----------+------+-------+\n",
      "[1 rows x 3 columns]\n",
      "\n",
      "\n",
      "Per User RMSE (worst)\n",
      "+----------+--------------------+-------+\n",
      "|  LYBID   |        rmse        | count |\n",
      "+----------+--------------------+-------+\n",
      "| 30521390 | 12.158226758508583 |   2   |\n",
      "+----------+--------------------+-------+\n",
      "[1 rows x 3 columns]\n",
      "\n",
      "\n",
      "Per Item RMSE (best)\n",
      "+--------+------+-------+\n",
      "| ITEMID | rmse | count |\n",
      "+--------+------+-------+\n",
      "| 43597  | 0.0  |   2   |\n",
      "+--------+------+-------+\n",
      "[1 rows x 3 columns]\n",
      "\n",
      "\n",
      "Per Item RMSE (worst)\n",
      "+--------+--------------------+-------+\n",
      "| ITEMID |        rmse        | count |\n",
      "+--------+--------------------+-------+\n",
      "| 42047  | 16.774846855856982 |   1   |\n",
      "+--------+--------------------+-------+\n",
      "[1 rows x 3 columns]\n",
      "\n",
      "PROGRESS: Evaluate model Cosine Similarity on Purchase Counts\n"
     ]
    },
    {
     "data": {
      "text/html": [
       "<pre>recommendations finished on 1000/1279 queries. users per second: 52219.3</pre>"
      ],
      "text/plain": [
       "recommendations finished on 1000/1279 queries. users per second: 52219.3"
      ]
     },
     "metadata": {},
     "output_type": "display_data"
    },
    {
     "name": "stdout",
     "output_type": "stream",
     "text": [
      "\n",
      "Precision and recall summary statistics by cutoff\n",
      "+--------+----------------------+----------------------+\n",
      "| cutoff |    mean_precision    |     mean_recall      |\n",
      "+--------+----------------------+----------------------+\n",
      "|   1    | 0.01876465989053949  | 0.01329163408913214  |\n",
      "|   2    | 0.01798279906176703  | 0.026127182694813667 |\n",
      "|   3    | 0.01641907740422207  | 0.033906697941099816 |\n",
      "|   4    | 0.016419077404222073 | 0.044899288878960567 |\n",
      "|   5    | 0.015324472243940583 | 0.05144085781302352  |\n",
      "|   6    | 0.01472504560854834  | 0.059220373059309765 |\n",
      "|   7    | 0.013961800513794259 | 0.06521463941323208  |\n",
      "|   8    | 0.013389366692728694 | 0.06965821512342238  |\n",
      "|   9    | 0.013031013812874657 | 0.07662980751331035  |\n",
      "|   10   | 0.012978889757623126 |  0.0821493726497635  |\n",
      "+--------+----------------------+----------------------+\n",
      "[10 rows x 3 columns]\n",
      "\n",
      "\n",
      "Overall RMSE: 1.4180401672720027\n",
      "\n",
      "Per User RMSE (best)\n",
      "+-------+---------------------+-------+\n",
      "| LYBID |         rmse        | count |\n",
      "+-------+---------------------+-------+\n",
      "| 17381 | 0.12523789703845978 |   1   |\n",
      "+-------+---------------------+-------+\n",
      "[1 rows x 3 columns]\n",
      "\n",
      "\n",
      "Per User RMSE (worst)\n",
      "+----------+--------------------+-------+\n",
      "|  LYBID   |        rmse        | count |\n",
      "+----------+--------------------+-------+\n",
      "| 30521390 | 13.209844813622906 |   2   |\n",
      "+----------+--------------------+-------+\n",
      "[1 rows x 3 columns]\n",
      "\n",
      "\n",
      "Per Item RMSE (best)\n",
      "+--------+--------------------+-------+\n",
      "| ITEMID |        rmse        | count |\n",
      "+--------+--------------------+-------+\n",
      "| 43958  | 0.6464466154575348 |   1   |\n",
      "+--------+--------------------+-------+\n",
      "[1 rows x 3 columns]\n",
      "\n",
      "\n",
      "Per Item RMSE (worst)\n",
      "+--------+------+-------+\n",
      "| ITEMID | rmse | count |\n",
      "+--------+------+-------+\n",
      "| 42047  | 18.0 |   1   |\n",
      "+--------+------+-------+\n",
      "[1 rows x 3 columns]\n",
      "\n",
      "PROGRESS: Evaluate model Pearson Similarity on Purchase Counts\n"
     ]
    },
    {
     "data": {
      "text/html": [
       "<pre>recommendations finished on 1000/1279 queries. users per second: 48190.4</pre>"
      ],
      "text/plain": [
       "recommendations finished on 1000/1279 queries. users per second: 48190.4"
      ]
     },
     "metadata": {},
     "output_type": "display_data"
    },
    {
     "name": "stdout",
     "output_type": "stream",
     "text": [
      "\n",
      "Precision and recall summary statistics by cutoff\n",
      "+--------+------------------------+------------------------+\n",
      "| cutoff |     mean_precision     |      mean_recall       |\n",
      "+--------+------------------------+------------------------+\n",
      "|   1    |          0.0           |          0.0           |\n",
      "|   2    |          0.0           |          0.0           |\n",
      "|   3    |          0.0           |          0.0           |\n",
      "|   4    | 0.00019546520719312003 | 0.00039093041438624006 |\n",
      "|   5    | 0.0003127443315089923  | 0.0007818608287724801  |\n",
      "|   6    | 0.00026062027625749315 | 0.0007818608287724801  |\n",
      "|   7    | 0.00022338880822070866 | 0.0007818608287724801  |\n",
      "|   8    | 0.00019546520719312003 | 0.0007818608287724801  |\n",
      "|   9    | 0.0001737468508383287  | 0.0007818608287724801  |\n",
      "|   10   | 0.00023455824863174383 | 0.0015637216575449587  |\n",
      "+--------+------------------------+------------------------+\n",
      "[10 rows x 3 columns]\n",
      "\n",
      "\n",
      "Overall RMSE: 0.8436356486668803\n",
      "\n",
      "Per User RMSE (best)\n",
      "+----------+------+-------+\n",
      "|  LYBID   | rmse | count |\n",
      "+----------+------+-------+\n",
      "| 30518269 | 0.0  |   1   |\n",
      "+----------+------+-------+\n",
      "[1 rows x 3 columns]\n",
      "\n",
      "\n",
      "Per User RMSE (worst)\n",
      "+----------+--------------------+-------+\n",
      "|  LYBID   |        rmse        | count |\n",
      "+----------+--------------------+-------+\n",
      "| 30521390 | 13.209844813622906 |   2   |\n",
      "+----------+--------------------+-------+\n",
      "[1 rows x 3 columns]\n",
      "\n",
      "\n",
      "Per Item RMSE (best)\n",
      "+--------+------+-------+\n",
      "| ITEMID | rmse | count |\n",
      "+--------+------+-------+\n",
      "| 43597  | 0.0  |   2   |\n",
      "+--------+------+-------+\n",
      "[1 rows x 3 columns]\n",
      "\n",
      "\n",
      "Per Item RMSE (worst)\n",
      "+--------+------+-------+\n",
      "| ITEMID | rmse | count |\n",
      "+--------+------+-------+\n",
      "| 42047  | 18.0 |   1   |\n",
      "+--------+------+-------+\n",
      "[1 rows x 3 columns]\n",
      "\n"
     ]
    }
   ],
   "source": [
    "eval_counts = tc.recommender.util.compare_models(test_data, models_w_counts, model_names=names_w_counts)"
   ]
  },
  {
   "cell_type": "markdown",
   "metadata": {},
   "source": [
    "#### Models on purchase dummy"
   ]
  },
  {
   "cell_type": "code",
   "execution_count": null,
   "metadata": {
    "scrolled": false
   },
   "outputs": [],
   "source": [
    "eval_dummy = tc.recommender.util.compare_models(test_data_dummy, models_w_dummy, model_names=names_w_dummy)"
   ]
  },
  {
   "cell_type": "markdown",
   "metadata": {},
   "source": [
    "#### Models on normalized purchase frequency"
   ]
  },
  {
   "cell_type": "code",
   "execution_count": null,
   "metadata": {
    "scrolled": false
   },
   "outputs": [],
   "source": [
    "eval_norm = tc.recommender.util.compare_models(test_data_norm, models_w_norm, model_names=names_w_norm)"
   ]
  },
  {
   "cell_type": "markdown",
   "metadata": {},
   "source": [
    "## 8. Final Output\n",
    "* In this step, we would like to manipulate format for recommendation output to one we can export to csv, and also a function that will return recommendation list given a customer ID.\n",
    "* We need to first rerun the model using the whole dataset, as we came to a final model using train data and evaluated with test set."
   ]
  },
  {
   "cell_type": "code",
   "execution_count": null,
   "metadata": {},
   "outputs": [],
   "source": [
    "users_to_recommend = list(data[user_id].unique())\n",
    "\n",
    "##have to make the choice of the model that works for us --Raakshasan\n",
    "final_model = tc.item_similarity_recommender.create(tc.SFrame(data_dummy), \n",
    "                                            user_id=user_id, \n",
    "                                            item_id=item_id, \n",
    "                                            target='purchase_dummy', \n",
    "                                            similarity_type='cosine')\n",
    "\n",
    "recom = final_model.recommend(users=users_to_recommend, k=n_rec)\n",
    "recom.print_rows(n_display)"
   ]
  },
  {
   "cell_type": "markdown",
   "metadata": {},
   "source": [
    "### 8.1. CSV output file"
   ]
  },
  {
   "cell_type": "code",
   "execution_count": null,
   "metadata": {},
   "outputs": [],
   "source": [
    "df_rec = recom.to_dataframe()\n",
    "print(df_rec.shape)\n",
    "df_rec.head()"
   ]
  },
  {
   "cell_type": "code",
   "execution_count": null,
   "metadata": {},
   "outputs": [],
   "source": [
    "df_rec['recommendedProducts'] = df_rec.groupby([user_id])[item_id].transform(lambda x: '|'.join(x.astype(str)))\n",
    "df_output = df_rec[['customerId', 'recommendedProducts']].drop_duplicates().sort_values('customerId').set_index('customerId')"
   ]
  },
  {
   "cell_type": "markdown",
   "metadata": {},
   "source": [
    "#### Define a function to create a desired output"
   ]
  },
  {
   "cell_type": "code",
   "execution_count": null,
   "metadata": {},
   "outputs": [],
   "source": [
    "def create_output(model, users_to_recommend, n_rec, print_csv=True):\n",
    "    recomendation = model.recommend(users=users_to_recommend, k=n_rec)\n",
    "    df_rec = recomendation.to_dataframe()\n",
    "    df_rec['recommendedProducts'] = df_rec.groupby([user_id])[item_id] \\\n",
    "        .transform(lambda x: '|'.join(x.astype(str)))\n",
    "    df_output = df_rec[['customerId', 'recommendedProducts']].drop_duplicates() \\\n",
    "        .sort_values('customerId').set_index('customerId')\n",
    "    if print_csv:\n",
    "        df_output.to_csv('../output/option1_recommendation.csv')\n",
    "        print(\"An output file can be found in 'output' folder with name 'option1_recommendation.csv'\")\n",
    "    return df_output"
   ]
  },
  {
   "cell_type": "code",
   "execution_count": null,
   "metadata": {},
   "outputs": [],
   "source": [
    "df_output = create_output(pear_norm, users_to_recommend, n_rec, print_csv=True)\n",
    "print(df_output.shape)\n",
    "df_output.head()"
   ]
  },
  {
   "cell_type": "markdown",
   "metadata": {},
   "source": [
    "### 8.2. Customer recommendation function"
   ]
  },
  {
   "cell_type": "code",
   "execution_count": null,
   "metadata": {},
   "outputs": [],
   "source": [
    "def customer_recomendation(customer_id):\n",
    "    if customer_id not in df_output.index:\n",
    "        print('Customer not found.')\n",
    "        return customer_id\n",
    "    return df_output.loc[customer_id]"
   ]
  },
  {
   "cell_type": "code",
   "execution_count": null,
   "metadata": {},
   "outputs": [],
   "source": [
    "customer_recomendation(4)"
   ]
  },
  {
   "cell_type": "code",
   "execution_count": null,
   "metadata": {},
   "outputs": [],
   "source": [
    "customer_recomendation(21)"
   ]
  },
  {
   "cell_type": "markdown",
   "metadata": {
    "collapsed": true
   },
   "source": [
    "## Summary\n",
    "In this exercise, we were able to traverse a step-by-step process for making recommendations to customers. We used Collaborative Filtering approaches with `cosine` and `pearson` measure and compare the models with our baseline popularity model. We also prepared three sets of data that include regular buying count, buying dummy, as well as normalized purchase frequency as our target variable. Using RMSE, precision and recall, we evaluated our models and observed the impact of personalization. Finally, we selected the Cosine approach in dummy purchase data. "
   ]
  },
  {
   "cell_type": "code",
   "execution_count": null,
   "metadata": {},
   "outputs": [],
   "source": []
  }
 ],
 "metadata": {
  "kernelspec": {
   "display_name": "Python 3",
   "language": "python",
   "name": "python3"
  },
  "language_info": {
   "codemirror_mode": {
    "name": "ipython",
    "version": 3
   },
   "file_extension": ".py",
   "mimetype": "text/x-python",
   "name": "python",
   "nbconvert_exporter": "python",
   "pygments_lexer": "ipython3",
   "version": "3.6.7"
  }
 },
 "nbformat": 4,
 "nbformat_minor": 2
}
