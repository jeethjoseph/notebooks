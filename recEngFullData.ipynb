{
 "cells": [
  {
   "cell_type": "markdown",
   "metadata": {},
   "source": [
    "# Product Recommendation Engine Analysis\n",
    "Product Lead: Jeeth Joseph \n",
    "Based on the ideas so elegantly put by Moorissa Tjokro\n",
    "\n",
    "## Problem statement\n",
    "The steps below aim to recommend users their top 10 items to place into their basket. The final output will be a csv file in the `output` folder, and a function that searches for a recommendation list based on a speficied user:\n",
    "* Input: user - customer ID\n",
    "* Returns: ranked list of items (product IDs), that the user is most likely to want to put in his/her (empty) \"basket\"\n",
    "\n",
    "## 1. Import modules\n",
    "* `pandas` and `numpy` for data manipulation\n",
    "* `turicreate` for performing model selection and evaluation\n",
    "* `sklearn` for splitting the data into train and test set\n",
    "* `xlrd` for excel import\n",
    "* sudo apt-get install libatlas-base-dev for missing package"
   ]
  },
  {
   "cell_type": "code",
   "execution_count": 1,
   "metadata": {
    "scrolled": false
   },
   "outputs": [],
   "source": [
    "%load_ext autoreload\n",
    "%autoreload 2\n",
    "\n",
    "import pandas as pd\n",
    "import numpy as np\n",
    "import time\n",
    "import turicreate as tc\n",
    "from sklearn.model_selection import train_test_split\n",
    "\n",
    "import sys\n",
    "sys.path.append(\"..\")\n",
    "import scripts.data_layer as data_layer"
   ]
  },
  {
   "cell_type": "markdown",
   "metadata": {},
   "source": [
    "## 2. Load data\n",
    "Single dataset from db, which can be found in `data` folder: \n",
    "* Lyb data QUEST JAN WITH PURQTY 10k (to avoid memory error)\n",
    "* XLSX Format\n",
    "* Possible error expected dude to difference between expected purchase frequency and purchase qty\n",
    "\n"
   ]
  },
  {
   "cell_type": "code",
   "execution_count": 2,
   "metadata": {},
   "outputs": [
    {
     "name": "stdout",
     "output_type": "stream",
     "text": [
      "Import time: 0.49 minutes\n",
      "(352444, 3)\n"
     ]
    },
    {
     "data": {
      "text/html": [
       "<div>\n",
       "<style scoped>\n",
       "    .dataframe tbody tr th:only-of-type {\n",
       "        vertical-align: middle;\n",
       "    }\n",
       "\n",
       "    .dataframe tbody tr th {\n",
       "        vertical-align: top;\n",
       "    }\n",
       "\n",
       "    .dataframe thead th {\n",
       "        text-align: right;\n",
       "    }\n",
       "</style>\n",
       "<table border=\"1\" class=\"dataframe\">\n",
       "  <thead>\n",
       "    <tr style=\"text-align: right;\">\n",
       "      <th></th>\n",
       "      <th>LYBID</th>\n",
       "      <th>ITEMID</th>\n",
       "      <th>TotalQtyPurchased</th>\n",
       "    </tr>\n",
       "  </thead>\n",
       "  <tbody>\n",
       "    <tr>\n",
       "      <th>0</th>\n",
       "      <td>10004</td>\n",
       "      <td>29009</td>\n",
       "      <td>1.0</td>\n",
       "    </tr>\n",
       "    <tr>\n",
       "      <th>1</th>\n",
       "      <td>10004</td>\n",
       "      <td>33815</td>\n",
       "      <td>2.0</td>\n",
       "    </tr>\n",
       "  </tbody>\n",
       "</table>\n",
       "</div>"
      ],
      "text/plain": [
       "   LYBID  ITEMID  TotalQtyPurchased\n",
       "0  10004   29009                1.0\n",
       "1  10004   33815                2.0"
      ]
     },
     "execution_count": 2,
     "metadata": {},
     "output_type": "execute_result"
    }
   ],
   "source": [
    "s=time.time()\n",
    "\n",
    "data=pd.read_excel('../data/Lyb data QUEST JAN WITH PURQTY original.xlsx')\n",
    "\n",
    "print(\"Import time:\", round((time.time()-s)/60,2), \"minutes\")\n",
    "\n",
    "print(data.shape)\n",
    "data.head(2)"
   ]
  },
  {
   "cell_type": "markdown",
   "metadata": {},
   "source": [
    "### 3 Create dummy\n",
    "* Dummy for marking whether a customer bought that item or not.\n",
    "* If one buys an item, then `purchase_dummy` are marked as 1\n",
    "* Why create a dummy instead of normalizing it?\n",
    "    * Normalizing the purchase count, say by each user, would not work because customers may have different buying frequency don't have the same taste\n",
    "    * However, we can normalize items by purchase frequency across all users, which is done in section 3.3. below."
   ]
  },
  {
   "cell_type": "code",
   "execution_count": 3,
   "metadata": {},
   "outputs": [],
   "source": [
    "def create_data_dummy(data):\n",
    "    data_dummy = data.copy()\n",
    "    data_dummy['purchase_dummy'] = 1\n",
    "    return data_dummy"
   ]
  },
  {
   "cell_type": "code",
   "execution_count": 4,
   "metadata": {},
   "outputs": [],
   "source": [
    "data_dummy = create_data_dummy(data)"
   ]
  },
  {
   "cell_type": "code",
   "execution_count": 5,
   "metadata": {
    "scrolled": true
   },
   "outputs": [
    {
     "name": "stdout",
     "output_type": "stream",
     "text": [
      "(352444, 4)\n"
     ]
    },
    {
     "data": {
      "text/html": [
       "<div>\n",
       "<style scoped>\n",
       "    .dataframe tbody tr th:only-of-type {\n",
       "        vertical-align: middle;\n",
       "    }\n",
       "\n",
       "    .dataframe tbody tr th {\n",
       "        vertical-align: top;\n",
       "    }\n",
       "\n",
       "    .dataframe thead th {\n",
       "        text-align: right;\n",
       "    }\n",
       "</style>\n",
       "<table border=\"1\" class=\"dataframe\">\n",
       "  <thead>\n",
       "    <tr style=\"text-align: right;\">\n",
       "      <th></th>\n",
       "      <th>LYBID</th>\n",
       "      <th>ITEMID</th>\n",
       "      <th>TotalQtyPurchased</th>\n",
       "      <th>purchase_dummy</th>\n",
       "    </tr>\n",
       "  </thead>\n",
       "  <tbody>\n",
       "    <tr>\n",
       "      <th>0</th>\n",
       "      <td>10004</td>\n",
       "      <td>29009</td>\n",
       "      <td>1.0</td>\n",
       "      <td>1</td>\n",
       "    </tr>\n",
       "    <tr>\n",
       "      <th>1</th>\n",
       "      <td>10004</td>\n",
       "      <td>33815</td>\n",
       "      <td>2.0</td>\n",
       "      <td>1</td>\n",
       "    </tr>\n",
       "    <tr>\n",
       "      <th>2</th>\n",
       "      <td>10004</td>\n",
       "      <td>43517</td>\n",
       "      <td>1.0</td>\n",
       "      <td>1</td>\n",
       "    </tr>\n",
       "    <tr>\n",
       "      <th>3</th>\n",
       "      <td>10004</td>\n",
       "      <td>43519</td>\n",
       "      <td>2.0</td>\n",
       "      <td>1</td>\n",
       "    </tr>\n",
       "    <tr>\n",
       "      <th>4</th>\n",
       "      <td>10004</td>\n",
       "      <td>43598</td>\n",
       "      <td>1.0</td>\n",
       "      <td>1</td>\n",
       "    </tr>\n",
       "  </tbody>\n",
       "</table>\n",
       "</div>"
      ],
      "text/plain": [
       "   LYBID  ITEMID  TotalQtyPurchased  purchase_dummy\n",
       "0  10004   29009                1.0               1\n",
       "1  10004   33815                2.0               1\n",
       "2  10004   43517                1.0               1\n",
       "3  10004   43519                2.0               1\n",
       "4  10004   43598                1.0               1"
      ]
     },
     "execution_count": 5,
     "metadata": {},
     "output_type": "execute_result"
    }
   ],
   "source": [
    "print(data_dummy.shape)\n",
    "data_dummy.head()"
   ]
  },
  {
   "cell_type": "markdown",
   "metadata": {},
   "source": [
    "### 3.3. Normalize item values across users\n",
    "* To do this, we normalize purchase frequency of each item across users by first creating a user-item matrix as follows"
   ]
  },
  {
   "cell_type": "code",
   "execution_count": 6,
   "metadata": {
    "scrolled": true
   },
   "outputs": [
    {
     "name": "stdout",
     "output_type": "stream",
     "text": [
      "Import time: 2.49 minutes\n"
     ]
    },
    {
     "data": {
      "text/html": [
       "<div>\n",
       "<style scoped>\n",
       "    .dataframe tbody tr th:only-of-type {\n",
       "        vertical-align: middle;\n",
       "    }\n",
       "\n",
       "    .dataframe tbody tr th {\n",
       "        vertical-align: top;\n",
       "    }\n",
       "\n",
       "    .dataframe thead th {\n",
       "        text-align: right;\n",
       "    }\n",
       "</style>\n",
       "<table border=\"1\" class=\"dataframe\">\n",
       "  <thead>\n",
       "    <tr style=\"text-align: right;\">\n",
       "      <th>ITEMID</th>\n",
       "      <th>69</th>\n",
       "      <th>198</th>\n",
       "      <th>200</th>\n",
       "      <th>204</th>\n",
       "      <th>208</th>\n",
       "      <th>325</th>\n",
       "      <th>460</th>\n",
       "      <th>481</th>\n",
       "      <th>504</th>\n",
       "      <th>506</th>\n",
       "      <th>...</th>\n",
       "      <th>44257</th>\n",
       "      <th>44270</th>\n",
       "      <th>44271</th>\n",
       "      <th>44273</th>\n",
       "      <th>44278</th>\n",
       "      <th>44280</th>\n",
       "      <th>44282</th>\n",
       "      <th>44283</th>\n",
       "      <th>44289</th>\n",
       "      <th>44304</th>\n",
       "    </tr>\n",
       "    <tr>\n",
       "      <th>LYBID</th>\n",
       "      <th></th>\n",
       "      <th></th>\n",
       "      <th></th>\n",
       "      <th></th>\n",
       "      <th></th>\n",
       "      <th></th>\n",
       "      <th></th>\n",
       "      <th></th>\n",
       "      <th></th>\n",
       "      <th></th>\n",
       "      <th></th>\n",
       "      <th></th>\n",
       "      <th></th>\n",
       "      <th></th>\n",
       "      <th></th>\n",
       "      <th></th>\n",
       "      <th></th>\n",
       "      <th></th>\n",
       "      <th></th>\n",
       "      <th></th>\n",
       "      <th></th>\n",
       "    </tr>\n",
       "  </thead>\n",
       "  <tbody>\n",
       "    <tr>\n",
       "      <th>10004</th>\n",
       "      <td>NaN</td>\n",
       "      <td>NaN</td>\n",
       "      <td>NaN</td>\n",
       "      <td>NaN</td>\n",
       "      <td>NaN</td>\n",
       "      <td>NaN</td>\n",
       "      <td>NaN</td>\n",
       "      <td>NaN</td>\n",
       "      <td>NaN</td>\n",
       "      <td>NaN</td>\n",
       "      <td>...</td>\n",
       "      <td>NaN</td>\n",
       "      <td>NaN</td>\n",
       "      <td>NaN</td>\n",
       "      <td>NaN</td>\n",
       "      <td>NaN</td>\n",
       "      <td>NaN</td>\n",
       "      <td>NaN</td>\n",
       "      <td>NaN</td>\n",
       "      <td>NaN</td>\n",
       "      <td>NaN</td>\n",
       "    </tr>\n",
       "    <tr>\n",
       "      <th>10009</th>\n",
       "      <td>NaN</td>\n",
       "      <td>NaN</td>\n",
       "      <td>NaN</td>\n",
       "      <td>NaN</td>\n",
       "      <td>NaN</td>\n",
       "      <td>NaN</td>\n",
       "      <td>NaN</td>\n",
       "      <td>NaN</td>\n",
       "      <td>NaN</td>\n",
       "      <td>NaN</td>\n",
       "      <td>...</td>\n",
       "      <td>NaN</td>\n",
       "      <td>NaN</td>\n",
       "      <td>NaN</td>\n",
       "      <td>NaN</td>\n",
       "      <td>NaN</td>\n",
       "      <td>NaN</td>\n",
       "      <td>NaN</td>\n",
       "      <td>NaN</td>\n",
       "      <td>NaN</td>\n",
       "      <td>NaN</td>\n",
       "    </tr>\n",
       "    <tr>\n",
       "      <th>10012</th>\n",
       "      <td>NaN</td>\n",
       "      <td>NaN</td>\n",
       "      <td>NaN</td>\n",
       "      <td>NaN</td>\n",
       "      <td>NaN</td>\n",
       "      <td>NaN</td>\n",
       "      <td>NaN</td>\n",
       "      <td>NaN</td>\n",
       "      <td>NaN</td>\n",
       "      <td>NaN</td>\n",
       "      <td>...</td>\n",
       "      <td>NaN</td>\n",
       "      <td>NaN</td>\n",
       "      <td>NaN</td>\n",
       "      <td>NaN</td>\n",
       "      <td>NaN</td>\n",
       "      <td>NaN</td>\n",
       "      <td>NaN</td>\n",
       "      <td>NaN</td>\n",
       "      <td>NaN</td>\n",
       "      <td>NaN</td>\n",
       "    </tr>\n",
       "    <tr>\n",
       "      <th>10022</th>\n",
       "      <td>NaN</td>\n",
       "      <td>NaN</td>\n",
       "      <td>NaN</td>\n",
       "      <td>NaN</td>\n",
       "      <td>NaN</td>\n",
       "      <td>NaN</td>\n",
       "      <td>NaN</td>\n",
       "      <td>NaN</td>\n",
       "      <td>NaN</td>\n",
       "      <td>NaN</td>\n",
       "      <td>...</td>\n",
       "      <td>NaN</td>\n",
       "      <td>NaN</td>\n",
       "      <td>NaN</td>\n",
       "      <td>NaN</td>\n",
       "      <td>NaN</td>\n",
       "      <td>NaN</td>\n",
       "      <td>NaN</td>\n",
       "      <td>NaN</td>\n",
       "      <td>NaN</td>\n",
       "      <td>NaN</td>\n",
       "    </tr>\n",
       "    <tr>\n",
       "      <th>10023</th>\n",
       "      <td>NaN</td>\n",
       "      <td>NaN</td>\n",
       "      <td>NaN</td>\n",
       "      <td>NaN</td>\n",
       "      <td>NaN</td>\n",
       "      <td>NaN</td>\n",
       "      <td>NaN</td>\n",
       "      <td>NaN</td>\n",
       "      <td>NaN</td>\n",
       "      <td>NaN</td>\n",
       "      <td>...</td>\n",
       "      <td>NaN</td>\n",
       "      <td>NaN</td>\n",
       "      <td>NaN</td>\n",
       "      <td>NaN</td>\n",
       "      <td>NaN</td>\n",
       "      <td>NaN</td>\n",
       "      <td>NaN</td>\n",
       "      <td>NaN</td>\n",
       "      <td>NaN</td>\n",
       "      <td>NaN</td>\n",
       "    </tr>\n",
       "  </tbody>\n",
       "</table>\n",
       "<p>5 rows × 1467 columns</p>\n",
       "</div>"
      ],
      "text/plain": [
       "ITEMID  69     198    200    204    208    325    460    481    504    506    \\\n",
       "LYBID                                                                          \n",
       "10004     NaN    NaN    NaN    NaN    NaN    NaN    NaN    NaN    NaN    NaN   \n",
       "10009     NaN    NaN    NaN    NaN    NaN    NaN    NaN    NaN    NaN    NaN   \n",
       "10012     NaN    NaN    NaN    NaN    NaN    NaN    NaN    NaN    NaN    NaN   \n",
       "10022     NaN    NaN    NaN    NaN    NaN    NaN    NaN    NaN    NaN    NaN   \n",
       "10023     NaN    NaN    NaN    NaN    NaN    NaN    NaN    NaN    NaN    NaN   \n",
       "\n",
       "ITEMID  ...  44257  44270  44271  44273  44278  44280  44282  44283  44289  \\\n",
       "LYBID   ...                                                                  \n",
       "10004   ...    NaN    NaN    NaN    NaN    NaN    NaN    NaN    NaN    NaN   \n",
       "10009   ...    NaN    NaN    NaN    NaN    NaN    NaN    NaN    NaN    NaN   \n",
       "10012   ...    NaN    NaN    NaN    NaN    NaN    NaN    NaN    NaN    NaN   \n",
       "10022   ...    NaN    NaN    NaN    NaN    NaN    NaN    NaN    NaN    NaN   \n",
       "10023   ...    NaN    NaN    NaN    NaN    NaN    NaN    NaN    NaN    NaN   \n",
       "\n",
       "ITEMID  44304  \n",
       "LYBID          \n",
       "10004     NaN  \n",
       "10009     NaN  \n",
       "10012     NaN  \n",
       "10022     NaN  \n",
       "10023     NaN  \n",
       "\n",
       "[5 rows x 1467 columns]"
      ]
     },
     "execution_count": 6,
     "metadata": {},
     "output_type": "execute_result"
    }
   ],
   "source": [
    "s=time.time()\n",
    "df_matrix = pd.pivot_table(data, values='TotalQtyPurchased', index='LYBID', columns='ITEMID')\n",
    "print(\"Import time:\", round((time.time()-s)/60,2), \"minutes\")\n",
    "df_matrix.head()"
   ]
  },
  {
   "cell_type": "code",
   "execution_count": 7,
   "metadata": {},
   "outputs": [
    {
     "data": {
      "text/plain": [
       "(101140, 1467)"
      ]
     },
     "execution_count": 7,
     "metadata": {},
     "output_type": "execute_result"
    }
   ],
   "source": [
    "(df_matrix.shape)"
   ]
  },
  {
   "cell_type": "code",
   "execution_count": 8,
   "metadata": {},
   "outputs": [
    {
     "name": "stdout",
     "output_type": "stream",
     "text": [
      "Import time: 5.38 minutes\n",
      "(101140, 1467)\n"
     ]
    },
    {
     "data": {
      "text/html": [
       "<div>\n",
       "<style scoped>\n",
       "    .dataframe tbody tr th:only-of-type {\n",
       "        vertical-align: middle;\n",
       "    }\n",
       "\n",
       "    .dataframe tbody tr th {\n",
       "        vertical-align: top;\n",
       "    }\n",
       "\n",
       "    .dataframe thead th {\n",
       "        text-align: right;\n",
       "    }\n",
       "</style>\n",
       "<table border=\"1\" class=\"dataframe\">\n",
       "  <thead>\n",
       "    <tr style=\"text-align: right;\">\n",
       "      <th>ITEMID</th>\n",
       "      <th>69</th>\n",
       "      <th>198</th>\n",
       "      <th>200</th>\n",
       "      <th>204</th>\n",
       "      <th>208</th>\n",
       "      <th>325</th>\n",
       "      <th>460</th>\n",
       "      <th>481</th>\n",
       "      <th>504</th>\n",
       "      <th>506</th>\n",
       "      <th>...</th>\n",
       "      <th>44257</th>\n",
       "      <th>44270</th>\n",
       "      <th>44271</th>\n",
       "      <th>44273</th>\n",
       "      <th>44278</th>\n",
       "      <th>44280</th>\n",
       "      <th>44282</th>\n",
       "      <th>44283</th>\n",
       "      <th>44289</th>\n",
       "      <th>44304</th>\n",
       "    </tr>\n",
       "    <tr>\n",
       "      <th>LYBID</th>\n",
       "      <th></th>\n",
       "      <th></th>\n",
       "      <th></th>\n",
       "      <th></th>\n",
       "      <th></th>\n",
       "      <th></th>\n",
       "      <th></th>\n",
       "      <th></th>\n",
       "      <th></th>\n",
       "      <th></th>\n",
       "      <th></th>\n",
       "      <th></th>\n",
       "      <th></th>\n",
       "      <th></th>\n",
       "      <th></th>\n",
       "      <th></th>\n",
       "      <th></th>\n",
       "      <th></th>\n",
       "      <th></th>\n",
       "      <th></th>\n",
       "      <th></th>\n",
       "    </tr>\n",
       "  </thead>\n",
       "  <tbody>\n",
       "    <tr>\n",
       "      <th>10004</th>\n",
       "      <td>NaN</td>\n",
       "      <td>NaN</td>\n",
       "      <td>NaN</td>\n",
       "      <td>NaN</td>\n",
       "      <td>NaN</td>\n",
       "      <td>NaN</td>\n",
       "      <td>NaN</td>\n",
       "      <td>NaN</td>\n",
       "      <td>NaN</td>\n",
       "      <td>NaN</td>\n",
       "      <td>...</td>\n",
       "      <td>NaN</td>\n",
       "      <td>NaN</td>\n",
       "      <td>NaN</td>\n",
       "      <td>NaN</td>\n",
       "      <td>NaN</td>\n",
       "      <td>NaN</td>\n",
       "      <td>NaN</td>\n",
       "      <td>NaN</td>\n",
       "      <td>NaN</td>\n",
       "      <td>NaN</td>\n",
       "    </tr>\n",
       "    <tr>\n",
       "      <th>10009</th>\n",
       "      <td>NaN</td>\n",
       "      <td>NaN</td>\n",
       "      <td>NaN</td>\n",
       "      <td>NaN</td>\n",
       "      <td>NaN</td>\n",
       "      <td>NaN</td>\n",
       "      <td>NaN</td>\n",
       "      <td>NaN</td>\n",
       "      <td>NaN</td>\n",
       "      <td>NaN</td>\n",
       "      <td>...</td>\n",
       "      <td>NaN</td>\n",
       "      <td>NaN</td>\n",
       "      <td>NaN</td>\n",
       "      <td>NaN</td>\n",
       "      <td>NaN</td>\n",
       "      <td>NaN</td>\n",
       "      <td>NaN</td>\n",
       "      <td>NaN</td>\n",
       "      <td>NaN</td>\n",
       "      <td>NaN</td>\n",
       "    </tr>\n",
       "    <tr>\n",
       "      <th>10012</th>\n",
       "      <td>NaN</td>\n",
       "      <td>NaN</td>\n",
       "      <td>NaN</td>\n",
       "      <td>NaN</td>\n",
       "      <td>NaN</td>\n",
       "      <td>NaN</td>\n",
       "      <td>NaN</td>\n",
       "      <td>NaN</td>\n",
       "      <td>NaN</td>\n",
       "      <td>NaN</td>\n",
       "      <td>...</td>\n",
       "      <td>NaN</td>\n",
       "      <td>NaN</td>\n",
       "      <td>NaN</td>\n",
       "      <td>NaN</td>\n",
       "      <td>NaN</td>\n",
       "      <td>NaN</td>\n",
       "      <td>NaN</td>\n",
       "      <td>NaN</td>\n",
       "      <td>NaN</td>\n",
       "      <td>NaN</td>\n",
       "    </tr>\n",
       "    <tr>\n",
       "      <th>10022</th>\n",
       "      <td>NaN</td>\n",
       "      <td>NaN</td>\n",
       "      <td>NaN</td>\n",
       "      <td>NaN</td>\n",
       "      <td>NaN</td>\n",
       "      <td>NaN</td>\n",
       "      <td>NaN</td>\n",
       "      <td>NaN</td>\n",
       "      <td>NaN</td>\n",
       "      <td>NaN</td>\n",
       "      <td>...</td>\n",
       "      <td>NaN</td>\n",
       "      <td>NaN</td>\n",
       "      <td>NaN</td>\n",
       "      <td>NaN</td>\n",
       "      <td>NaN</td>\n",
       "      <td>NaN</td>\n",
       "      <td>NaN</td>\n",
       "      <td>NaN</td>\n",
       "      <td>NaN</td>\n",
       "      <td>NaN</td>\n",
       "    </tr>\n",
       "    <tr>\n",
       "      <th>10023</th>\n",
       "      <td>NaN</td>\n",
       "      <td>NaN</td>\n",
       "      <td>NaN</td>\n",
       "      <td>NaN</td>\n",
       "      <td>NaN</td>\n",
       "      <td>NaN</td>\n",
       "      <td>NaN</td>\n",
       "      <td>NaN</td>\n",
       "      <td>NaN</td>\n",
       "      <td>NaN</td>\n",
       "      <td>...</td>\n",
       "      <td>NaN</td>\n",
       "      <td>NaN</td>\n",
       "      <td>NaN</td>\n",
       "      <td>NaN</td>\n",
       "      <td>NaN</td>\n",
       "      <td>NaN</td>\n",
       "      <td>NaN</td>\n",
       "      <td>NaN</td>\n",
       "      <td>NaN</td>\n",
       "      <td>NaN</td>\n",
       "    </tr>\n",
       "  </tbody>\n",
       "</table>\n",
       "<p>5 rows × 1467 columns</p>\n",
       "</div>"
      ],
      "text/plain": [
       "ITEMID  69     198    200    204    208    325    460    481    504    506    \\\n",
       "LYBID                                                                          \n",
       "10004     NaN    NaN    NaN    NaN    NaN    NaN    NaN    NaN    NaN    NaN   \n",
       "10009     NaN    NaN    NaN    NaN    NaN    NaN    NaN    NaN    NaN    NaN   \n",
       "10012     NaN    NaN    NaN    NaN    NaN    NaN    NaN    NaN    NaN    NaN   \n",
       "10022     NaN    NaN    NaN    NaN    NaN    NaN    NaN    NaN    NaN    NaN   \n",
       "10023     NaN    NaN    NaN    NaN    NaN    NaN    NaN    NaN    NaN    NaN   \n",
       "\n",
       "ITEMID  ...  44257  44270  44271  44273  44278  44280  44282  44283  44289  \\\n",
       "LYBID   ...                                                                  \n",
       "10004   ...    NaN    NaN    NaN    NaN    NaN    NaN    NaN    NaN    NaN   \n",
       "10009   ...    NaN    NaN    NaN    NaN    NaN    NaN    NaN    NaN    NaN   \n",
       "10012   ...    NaN    NaN    NaN    NaN    NaN    NaN    NaN    NaN    NaN   \n",
       "10022   ...    NaN    NaN    NaN    NaN    NaN    NaN    NaN    NaN    NaN   \n",
       "10023   ...    NaN    NaN    NaN    NaN    NaN    NaN    NaN    NaN    NaN   \n",
       "\n",
       "ITEMID  44304  \n",
       "LYBID          \n",
       "10004     NaN  \n",
       "10009     NaN  \n",
       "10012     NaN  \n",
       "10022     NaN  \n",
       "10023     NaN  \n",
       "\n",
       "[5 rows x 1467 columns]"
      ]
     },
     "execution_count": 8,
     "metadata": {},
     "output_type": "execute_result"
    }
   ],
   "source": [
    "s=time.time()\n",
    "df_matrix_norm = (df_matrix-df_matrix.min())/(df_matrix.max()-df_matrix.min())\n",
    "print(\"Import time:\", round((time.time()-s)/60,2), \"minutes\")\n",
    "print(df_matrix_norm.shape)\n",
    "df_matrix_norm.head()"
   ]
  },
  {
   "cell_type": "code",
   "execution_count": 9,
   "metadata": {},
   "outputs": [
    {
     "name": "stdout",
     "output_type": "stream",
     "text": [
      "Import time: 32.99 minutes\n",
      "(346351, 3)\n"
     ]
    },
    {
     "data": {
      "text/html": [
       "<div>\n",
       "<style scoped>\n",
       "    .dataframe tbody tr th:only-of-type {\n",
       "        vertical-align: middle;\n",
       "    }\n",
       "\n",
       "    .dataframe tbody tr th {\n",
       "        vertical-align: top;\n",
       "    }\n",
       "\n",
       "    .dataframe thead th {\n",
       "        text-align: right;\n",
       "    }\n",
       "</style>\n",
       "<table border=\"1\" class=\"dataframe\">\n",
       "  <thead>\n",
       "    <tr style=\"text-align: right;\">\n",
       "      <th></th>\n",
       "      <th>LYBID</th>\n",
       "      <th>ITEMID</th>\n",
       "      <th>scaled_purchase_freq</th>\n",
       "    </tr>\n",
       "  </thead>\n",
       "  <tbody>\n",
       "    <tr>\n",
       "      <th>1156</th>\n",
       "      <td>30526012</td>\n",
       "      <td>69</td>\n",
       "      <td>0.0</td>\n",
       "    </tr>\n",
       "    <tr>\n",
       "      <th>2055</th>\n",
       "      <td>30559273</td>\n",
       "      <td>69</td>\n",
       "      <td>0.0</td>\n",
       "    </tr>\n",
       "    <tr>\n",
       "      <th>2535</th>\n",
       "      <td>30572236</td>\n",
       "      <td>69</td>\n",
       "      <td>0.0</td>\n",
       "    </tr>\n",
       "    <tr>\n",
       "      <th>5042</th>\n",
       "      <td>30693525</td>\n",
       "      <td>69</td>\n",
       "      <td>0.0</td>\n",
       "    </tr>\n",
       "    <tr>\n",
       "      <th>5341</th>\n",
       "      <td>30697710</td>\n",
       "      <td>69</td>\n",
       "      <td>0.0</td>\n",
       "    </tr>\n",
       "  </tbody>\n",
       "</table>\n",
       "</div>"
      ],
      "text/plain": [
       "         LYBID ITEMID  scaled_purchase_freq\n",
       "1156  30526012     69                   0.0\n",
       "2055  30559273     69                   0.0\n",
       "2535  30572236     69                   0.0\n",
       "5042  30693525     69                   0.0\n",
       "5341  30697710     69                   0.0"
      ]
     },
     "execution_count": 9,
     "metadata": {},
     "output_type": "execute_result"
    }
   ],
   "source": [
    "# create a table for input to the modeling\n",
    "s=time.time()\n",
    "d = df_matrix_norm.reset_index()\n",
    "d.index.names = ['scaled_purchase_freq']\n",
    "data_norm = pd.melt(d, id_vars=['LYBID'], value_name='scaled_purchase_freq').dropna()\n",
    "print(\"Import time:\", round((time.time()-s)/60,2), \"minutes\")\n",
    "print(data_norm.shape)\n",
    "data_norm.head()"
   ]
  },
  {
   "cell_type": "markdown",
   "metadata": {},
   "source": [
    "#### Define a function for normalizing data"
   ]
  },
  {
   "cell_type": "code",
   "execution_count": 10,
   "metadata": {},
   "outputs": [],
   "source": [
    "def normalize_data(data):\n",
    "    df_matrix = pd.pivot_table(data, values='TotalQtyPurchased', index='LYBID', columns='ITEMID')\n",
    "    df_matrix_norm = (df_matrix-df_matrix.min())/(df_matrix.max()-df_matrix.min())\n",
    "    d = df_matrix_norm.reset_index()\n",
    "    d.index.names = ['scaled_purchase_freq']\n",
    "    return pd.melt(d, id_vars=['customerId'], value_name='scaled_purchase_freq').dropna()"
   ]
  },
  {
   "cell_type": "markdown",
   "metadata": {},
   "source": [
    "* We can normalize the their purchase history, from 0-1 (with 1 being the most number of purchase for an item and 0 being 0 purchase count for that item)."
   ]
  },
  {
   "cell_type": "markdown",
   "metadata": {},
   "source": [
    "## 4. Split train and test set\n",
    "* Splitting the data into training and testing sets is an important part of evaluating predictive modeling, in this case a collaborative filtering model. Typically, we use a larger portion of the data for training and a smaller portion for testing. \n",
    "* We use 80:20 ratio for our train-test set size.\n",
    "* Our training portion will be used to develop a predictive model, while the other to evaluate the model's performance.\n",
    "* Now that we have three datasets with purchase counts, purchase dummy, and scaled purchase counts, we would like to split each."
   ]
  },
  {
   "cell_type": "code",
   "execution_count": 11,
   "metadata": {},
   "outputs": [
    {
     "name": "stdout",
     "output_type": "stream",
     "text": [
      "(281955, 3) (70489, 3)\n"
     ]
    }
   ],
   "source": [
    "train, test = train_test_split(data, test_size = .2)\n",
    "print(train.shape, test.shape)"
   ]
  },
  {
   "cell_type": "code",
   "execution_count": 12,
   "metadata": {},
   "outputs": [],
   "source": [
    "# Using turicreate library, we convert dataframe to SFrame - this will be useful in the modeling part\n",
    "\n",
    "train_data = tc.SFrame(train)\n",
    "test_data = tc.SFrame(test)"
   ]
  },
  {
   "cell_type": "code",
   "execution_count": 13,
   "metadata": {},
   "outputs": [
    {
     "data": {
      "text/html": [
       "<div style=\"max-height:1000px;max-width:1500px;overflow:auto;\"><table frame=\"box\" rules=\"cols\">\n",
       "    <tr>\n",
       "        <th style=\"padding-left: 1em; padding-right: 1em; text-align: center\">LYBID</th>\n",
       "        <th style=\"padding-left: 1em; padding-right: 1em; text-align: center\">ITEMID</th>\n",
       "        <th style=\"padding-left: 1em; padding-right: 1em; text-align: center\">TotalQtyPurchased</th>\n",
       "    </tr>\n",
       "    <tr>\n",
       "        <td style=\"padding-left: 1em; padding-right: 1em; text-align: center; vertical-align: top\">31701386</td>\n",
       "        <td style=\"padding-left: 1em; padding-right: 1em; text-align: center; vertical-align: top\">43865</td>\n",
       "        <td style=\"padding-left: 1em; padding-right: 1em; text-align: center; vertical-align: top\">1.0</td>\n",
       "    </tr>\n",
       "    <tr>\n",
       "        <td style=\"padding-left: 1em; padding-right: 1em; text-align: center; vertical-align: top\">32220468</td>\n",
       "        <td style=\"padding-left: 1em; padding-right: 1em; text-align: center; vertical-align: top\">43549</td>\n",
       "        <td style=\"padding-left: 1em; padding-right: 1em; text-align: center; vertical-align: top\">1.0</td>\n",
       "    </tr>\n",
       "    <tr>\n",
       "        <td style=\"padding-left: 1em; padding-right: 1em; text-align: center; vertical-align: top\">32462468</td>\n",
       "        <td style=\"padding-left: 1em; padding-right: 1em; text-align: center; vertical-align: top\">35545</td>\n",
       "        <td style=\"padding-left: 1em; padding-right: 1em; text-align: center; vertical-align: top\">1.0</td>\n",
       "    </tr>\n",
       "    <tr>\n",
       "        <td style=\"padding-left: 1em; padding-right: 1em; text-align: center; vertical-align: top\">32462499</td>\n",
       "        <td style=\"padding-left: 1em; padding-right: 1em; text-align: center; vertical-align: top\">4758</td>\n",
       "        <td style=\"padding-left: 1em; padding-right: 1em; text-align: center; vertical-align: top\">1.0</td>\n",
       "    </tr>\n",
       "    <tr>\n",
       "        <td style=\"padding-left: 1em; padding-right: 1em; text-align: center; vertical-align: top\">1031342697</td>\n",
       "        <td style=\"padding-left: 1em; padding-right: 1em; text-align: center; vertical-align: top\">43488</td>\n",
       "        <td style=\"padding-left: 1em; padding-right: 1em; text-align: center; vertical-align: top\">1.0</td>\n",
       "    </tr>\n",
       "    <tr>\n",
       "        <td style=\"padding-left: 1em; padding-right: 1em; text-align: center; vertical-align: top\">32152251</td>\n",
       "        <td style=\"padding-left: 1em; padding-right: 1em; text-align: center; vertical-align: top\">21226</td>\n",
       "        <td style=\"padding-left: 1em; padding-right: 1em; text-align: center; vertical-align: top\">1.0</td>\n",
       "    </tr>\n",
       "    <tr>\n",
       "        <td style=\"padding-left: 1em; padding-right: 1em; text-align: center; vertical-align: top\">32083418</td>\n",
       "        <td style=\"padding-left: 1em; padding-right: 1em; text-align: center; vertical-align: top\">6621</td>\n",
       "        <td style=\"padding-left: 1em; padding-right: 1em; text-align: center; vertical-align: top\">3.0</td>\n",
       "    </tr>\n",
       "    <tr>\n",
       "        <td style=\"padding-left: 1em; padding-right: 1em; text-align: center; vertical-align: top\">1030796590</td>\n",
       "        <td style=\"padding-left: 1em; padding-right: 1em; text-align: center; vertical-align: top\">15886</td>\n",
       "        <td style=\"padding-left: 1em; padding-right: 1em; text-align: center; vertical-align: top\">1.0</td>\n",
       "    </tr>\n",
       "    <tr>\n",
       "        <td style=\"padding-left: 1em; padding-right: 1em; text-align: center; vertical-align: top\">32481167</td>\n",
       "        <td style=\"padding-left: 1em; padding-right: 1em; text-align: center; vertical-align: top\">28878</td>\n",
       "        <td style=\"padding-left: 1em; padding-right: 1em; text-align: center; vertical-align: top\">1.0</td>\n",
       "    </tr>\n",
       "    <tr>\n",
       "        <td style=\"padding-left: 1em; padding-right: 1em; text-align: center; vertical-align: top\">30578858</td>\n",
       "        <td style=\"padding-left: 1em; padding-right: 1em; text-align: center; vertical-align: top\">38028</td>\n",
       "        <td style=\"padding-left: 1em; padding-right: 1em; text-align: center; vertical-align: top\">1.0</td>\n",
       "    </tr>\n",
       "</table>\n",
       "[281955 rows x 3 columns]<br/>Note: Only the head of the SFrame is printed.<br/>You can use print_rows(num_rows=m, num_columns=n) to print more rows and columns.\n",
       "</div>"
      ],
      "text/plain": [
       "Columns:\n",
       "\tLYBID\tint\n",
       "\tITEMID\tint\n",
       "\tTotalQtyPurchased\tfloat\n",
       "\n",
       "Rows: 281955\n",
       "\n",
       "Data:\n",
       "+------------+--------+-------------------+\n",
       "|   LYBID    | ITEMID | TotalQtyPurchased |\n",
       "+------------+--------+-------------------+\n",
       "|  31701386  | 43865  |        1.0        |\n",
       "|  32220468  | 43549  |        1.0        |\n",
       "|  32462468  | 35545  |        1.0        |\n",
       "|  32462499  |  4758  |        1.0        |\n",
       "| 1031342697 | 43488  |        1.0        |\n",
       "|  32152251  | 21226  |        1.0        |\n",
       "|  32083418  |  6621  |        3.0        |\n",
       "| 1030796590 | 15886  |        1.0        |\n",
       "|  32481167  | 28878  |        1.0        |\n",
       "|  30578858  | 38028  |        1.0        |\n",
       "+------------+--------+-------------------+\n",
       "[281955 rows x 3 columns]\n",
       "Note: Only the head of the SFrame is printed.\n",
       "You can use print_rows(num_rows=m, num_columns=n) to print more rows and columns."
      ]
     },
     "execution_count": 13,
     "metadata": {},
     "output_type": "execute_result"
    }
   ],
   "source": [
    "train_data"
   ]
  },
  {
   "cell_type": "code",
   "execution_count": 14,
   "metadata": {},
   "outputs": [
    {
     "data": {
      "text/html": [
       "<div style=\"max-height:1000px;max-width:1500px;overflow:auto;\"><table frame=\"box\" rules=\"cols\">\n",
       "    <tr>\n",
       "        <th style=\"padding-left: 1em; padding-right: 1em; text-align: center\">LYBID</th>\n",
       "        <th style=\"padding-left: 1em; padding-right: 1em; text-align: center\">ITEMID</th>\n",
       "        <th style=\"padding-left: 1em; padding-right: 1em; text-align: center\">TotalQtyPurchased</th>\n",
       "    </tr>\n",
       "    <tr>\n",
       "        <td style=\"padding-left: 1em; padding-right: 1em; text-align: center; vertical-align: top\">1032143190</td>\n",
       "        <td style=\"padding-left: 1em; padding-right: 1em; text-align: center; vertical-align: top\">44168</td>\n",
       "        <td style=\"padding-left: 1em; padding-right: 1em; text-align: center; vertical-align: top\">1.0</td>\n",
       "    </tr>\n",
       "    <tr>\n",
       "        <td style=\"padding-left: 1em; padding-right: 1em; text-align: center; vertical-align: top\">30988095</td>\n",
       "        <td style=\"padding-left: 1em; padding-right: 1em; text-align: center; vertical-align: top\">43509</td>\n",
       "        <td style=\"padding-left: 1em; padding-right: 1em; text-align: center; vertical-align: top\">1.0</td>\n",
       "    </tr>\n",
       "    <tr>\n",
       "        <td style=\"padding-left: 1em; padding-right: 1em; text-align: center; vertical-align: top\">31854038</td>\n",
       "        <td style=\"padding-left: 1em; padding-right: 1em; text-align: center; vertical-align: top\">43545</td>\n",
       "        <td style=\"padding-left: 1em; padding-right: 1em; text-align: center; vertical-align: top\">2.0</td>\n",
       "    </tr>\n",
       "    <tr>\n",
       "        <td style=\"padding-left: 1em; padding-right: 1em; text-align: center; vertical-align: top\">1030719440</td>\n",
       "        <td style=\"padding-left: 1em; padding-right: 1em; text-align: center; vertical-align: top\">43285</td>\n",
       "        <td style=\"padding-left: 1em; padding-right: 1em; text-align: center; vertical-align: top\">1.0</td>\n",
       "    </tr>\n",
       "    <tr>\n",
       "        <td style=\"padding-left: 1em; padding-right: 1em; text-align: center; vertical-align: top\">32211823</td>\n",
       "        <td style=\"padding-left: 1em; padding-right: 1em; text-align: center; vertical-align: top\">43646</td>\n",
       "        <td style=\"padding-left: 1em; padding-right: 1em; text-align: center; vertical-align: top\">1.0</td>\n",
       "    </tr>\n",
       "    <tr>\n",
       "        <td style=\"padding-left: 1em; padding-right: 1em; text-align: center; vertical-align: top\">31258032</td>\n",
       "        <td style=\"padding-left: 1em; padding-right: 1em; text-align: center; vertical-align: top\">38055</td>\n",
       "        <td style=\"padding-left: 1em; padding-right: 1em; text-align: center; vertical-align: top\">1.0</td>\n",
       "    </tr>\n",
       "    <tr>\n",
       "        <td style=\"padding-left: 1em; padding-right: 1em; text-align: center; vertical-align: top\">30954318</td>\n",
       "        <td style=\"padding-left: 1em; padding-right: 1em; text-align: center; vertical-align: top\">35540</td>\n",
       "        <td style=\"padding-left: 1em; padding-right: 1em; text-align: center; vertical-align: top\">1.0</td>\n",
       "    </tr>\n",
       "    <tr>\n",
       "        <td style=\"padding-left: 1em; padding-right: 1em; text-align: center; vertical-align: top\">32102938</td>\n",
       "        <td style=\"padding-left: 1em; padding-right: 1em; text-align: center; vertical-align: top\">44003</td>\n",
       "        <td style=\"padding-left: 1em; padding-right: 1em; text-align: center; vertical-align: top\">1.0</td>\n",
       "    </tr>\n",
       "    <tr>\n",
       "        <td style=\"padding-left: 1em; padding-right: 1em; text-align: center; vertical-align: top\">31511258</td>\n",
       "        <td style=\"padding-left: 1em; padding-right: 1em; text-align: center; vertical-align: top\">29036</td>\n",
       "        <td style=\"padding-left: 1em; padding-right: 1em; text-align: center; vertical-align: top\">1.0</td>\n",
       "    </tr>\n",
       "    <tr>\n",
       "        <td style=\"padding-left: 1em; padding-right: 1em; text-align: center; vertical-align: top\">30979588</td>\n",
       "        <td style=\"padding-left: 1em; padding-right: 1em; text-align: center; vertical-align: top\">43506</td>\n",
       "        <td style=\"padding-left: 1em; padding-right: 1em; text-align: center; vertical-align: top\">1.0</td>\n",
       "    </tr>\n",
       "</table>\n",
       "[70489 rows x 3 columns]<br/>Note: Only the head of the SFrame is printed.<br/>You can use print_rows(num_rows=m, num_columns=n) to print more rows and columns.\n",
       "</div>"
      ],
      "text/plain": [
       "Columns:\n",
       "\tLYBID\tint\n",
       "\tITEMID\tint\n",
       "\tTotalQtyPurchased\tfloat\n",
       "\n",
       "Rows: 70489\n",
       "\n",
       "Data:\n",
       "+------------+--------+-------------------+\n",
       "|   LYBID    | ITEMID | TotalQtyPurchased |\n",
       "+------------+--------+-------------------+\n",
       "| 1032143190 | 44168  |        1.0        |\n",
       "|  30988095  | 43509  |        1.0        |\n",
       "|  31854038  | 43545  |        2.0        |\n",
       "| 1030719440 | 43285  |        1.0        |\n",
       "|  32211823  | 43646  |        1.0        |\n",
       "|  31258032  | 38055  |        1.0        |\n",
       "|  30954318  | 35540  |        1.0        |\n",
       "|  32102938  | 44003  |        1.0        |\n",
       "|  31511258  | 29036  |        1.0        |\n",
       "|  30979588  | 43506  |        1.0        |\n",
       "+------------+--------+-------------------+\n",
       "[70489 rows x 3 columns]\n",
       "Note: Only the head of the SFrame is printed.\n",
       "You can use print_rows(num_rows=m, num_columns=n) to print more rows and columns."
      ]
     },
     "execution_count": 14,
     "metadata": {},
     "output_type": "execute_result"
    }
   ],
   "source": [
    "test_data"
   ]
  },
  {
   "cell_type": "markdown",
   "metadata": {},
   "source": [
    "#### Define a `split_data` function for splitting data to training and test set"
   ]
  },
  {
   "cell_type": "code",
   "execution_count": 15,
   "metadata": {},
   "outputs": [],
   "source": [
    "# We can define a function for this step as follows\n",
    "\n",
    "def split_data(data):\n",
    "    '''\n",
    "    Splits dataset into training and test set.\n",
    "    \n",
    "    Args:\n",
    "        data (pandas.DataFrame)\n",
    "        \n",
    "    Returns\n",
    "        train_data (tc.SFrame)\n",
    "        test_data (tc.SFrame)\n",
    "    '''\n",
    "    train, test = train_test_split(data, test_size = .2)\n",
    "    train_data = tc.SFrame(train)\n",
    "    test_data = tc.SFrame(test)\n",
    "    return train_data, test_data"
   ]
  },
  {
   "cell_type": "code",
   "execution_count": 16,
   "metadata": {},
   "outputs": [],
   "source": [
    "# lets try with both dummy table and scaled/normalized purchase table\n",
    "\n",
    "train_data_dummy, test_data_dummy = split_data(data_dummy)\n",
    "train_data_norm, test_data_norm = split_data(data_norm)"
   ]
  },
  {
   "cell_type": "markdown",
   "metadata": {},
   "source": [
    "## 5. Baseline Model\n",
    "Before running a more complicated approach such as collaborative filtering, we would like to use a baseline model to compare and evaluate models. Since baseline typically uses a very simple approach, techniques used beyond this approach should be chosen if they show relatively better accuracy and complexity.\n",
    "\n",
    "### 5.1. Using a Popularity model as a baseline\n",
    "* The popularity model takes the most popular items for recommendation. These items are products with the highest number of sells across customers.\n",
    "* We use `turicreate` library for running and evaluating both baseline and collaborative filtering models below\n",
    "* Training data is used for model selection\n",
    "* Yet to evaluate is the math behind turicerate.popularity model\n",
    "\n",
    "#### Using purchase counts"
   ]
  },
  {
   "cell_type": "code",
   "execution_count": 17,
   "metadata": {},
   "outputs": [],
   "source": [
    "# variables to define field names\n",
    "user_id = 'LYBID'\n",
    "item_id = 'ITEMID'\n",
    "target = 'TotalQtyPurchased'\n",
    "users_to_recommend = list(data[user_id].unique())\n",
    "n_rec = 5 # number of items to recommend\n",
    "n_display = 30"
   ]
  },
  {
   "cell_type": "code",
   "execution_count": null,
   "metadata": {
    "scrolled": false
   },
   "outputs": [],
   "source": [
    "#print(list(data[user_id].unique()))  #tester for error raakshsasan20190222"
   ]
  },
  {
   "cell_type": "code",
   "execution_count": 18,
   "metadata": {},
   "outputs": [
    {
     "data": {
      "text/html": [
       "<pre>Preparing data set.</pre>"
      ],
      "text/plain": [
       "Preparing data set."
      ]
     },
     "metadata": {},
     "output_type": "display_data"
    },
    {
     "data": {
      "text/html": [
       "<pre>    Data has 281955 observations with 94466 users and 1439 items.</pre>"
      ],
      "text/plain": [
       "    Data has 281955 observations with 94466 users and 1439 items."
      ]
     },
     "metadata": {},
     "output_type": "display_data"
    },
    {
     "data": {
      "text/html": [
       "<pre>    Data prepared in: 1.04119s</pre>"
      ],
      "text/plain": [
       "    Data prepared in: 1.04119s"
      ]
     },
     "metadata": {},
     "output_type": "display_data"
    },
    {
     "data": {
      "text/html": [
       "<pre>281955 observations to process; with 1439 unique items.</pre>"
      ],
      "text/plain": [
       "281955 observations to process; with 1439 unique items."
      ]
     },
     "metadata": {},
     "output_type": "display_data"
    }
   ],
   "source": [
    "popularity_model = tc.popularity_recommender.create(train_data, \n",
    "                                                    user_id=user_id, \n",
    "                                                    item_id=item_id, \n",
    "                                                    target=target)"
   ]
  },
  {
   "cell_type": "code",
   "execution_count": 52,
   "metadata": {},
   "outputs": [
    {
     "data": {
      "text/html": [
       "<pre>recommendations finished on 1000/101140 queries. users per second: 44684.7</pre>"
      ],
      "text/plain": [
       "recommendations finished on 1000/101140 queries. users per second: 44684.7"
      ]
     },
     "metadata": {},
     "output_type": "display_data"
    },
    {
     "data": {
      "text/html": [
       "<pre>recommendations finished on 2000/101140 queries. users per second: 50260.1</pre>"
      ],
      "text/plain": [
       "recommendations finished on 2000/101140 queries. users per second: 50260.1"
      ]
     },
     "metadata": {},
     "output_type": "display_data"
    },
    {
     "data": {
      "text/html": [
       "<pre>recommendations finished on 3000/101140 queries. users per second: 48206.7</pre>"
      ],
      "text/plain": [
       "recommendations finished on 3000/101140 queries. users per second: 48206.7"
      ]
     },
     "metadata": {},
     "output_type": "display_data"
    },
    {
     "data": {
      "text/html": [
       "<pre>recommendations finished on 4000/101140 queries. users per second: 46531.1</pre>"
      ],
      "text/plain": [
       "recommendations finished on 4000/101140 queries. users per second: 46531.1"
      ]
     },
     "metadata": {},
     "output_type": "display_data"
    },
    {
     "data": {
      "text/html": [
       "<pre>recommendations finished on 5000/101140 queries. users per second: 48811.9</pre>"
      ],
      "text/plain": [
       "recommendations finished on 5000/101140 queries. users per second: 48811.9"
      ]
     },
     "metadata": {},
     "output_type": "display_data"
    },
    {
     "data": {
      "text/html": [
       "<pre>recommendations finished on 6000/101140 queries. users per second: 47415.5</pre>"
      ],
      "text/plain": [
       "recommendations finished on 6000/101140 queries. users per second: 47415.5"
      ]
     },
     "metadata": {},
     "output_type": "display_data"
    },
    {
     "data": {
      "text/html": [
       "<pre>recommendations finished on 7000/101140 queries. users per second: 47669.3</pre>"
      ],
      "text/plain": [
       "recommendations finished on 7000/101140 queries. users per second: 47669.3"
      ]
     },
     "metadata": {},
     "output_type": "display_data"
    },
    {
     "data": {
      "text/html": [
       "<pre>recommendations finished on 8000/101140 queries. users per second: 46902.4</pre>"
      ],
      "text/plain": [
       "recommendations finished on 8000/101140 queries. users per second: 46902.4"
      ]
     },
     "metadata": {},
     "output_type": "display_data"
    },
    {
     "data": {
      "text/html": [
       "<pre>recommendations finished on 9000/101140 queries. users per second: 46896</pre>"
      ],
      "text/plain": [
       "recommendations finished on 9000/101140 queries. users per second: 46896"
      ]
     },
     "metadata": {},
     "output_type": "display_data"
    },
    {
     "data": {
      "text/html": [
       "<pre>recommendations finished on 10000/101140 queries. users per second: 46497.1</pre>"
      ],
      "text/plain": [
       "recommendations finished on 10000/101140 queries. users per second: 46497.1"
      ]
     },
     "metadata": {},
     "output_type": "display_data"
    },
    {
     "data": {
      "text/html": [
       "<pre>recommendations finished on 11000/101140 queries. users per second: 46051.1</pre>"
      ],
      "text/plain": [
       "recommendations finished on 11000/101140 queries. users per second: 46051.1"
      ]
     },
     "metadata": {},
     "output_type": "display_data"
    },
    {
     "data": {
      "text/html": [
       "<pre>recommendations finished on 12000/101140 queries. users per second: 46301.8</pre>"
      ],
      "text/plain": [
       "recommendations finished on 12000/101140 queries. users per second: 46301.8"
      ]
     },
     "metadata": {},
     "output_type": "display_data"
    },
    {
     "data": {
      "text/html": [
       "<pre>recommendations finished on 13000/101140 queries. users per second: 46092.3</pre>"
      ],
      "text/plain": [
       "recommendations finished on 13000/101140 queries. users per second: 46092.3"
      ]
     },
     "metadata": {},
     "output_type": "display_data"
    },
    {
     "data": {
      "text/html": [
       "<pre>recommendations finished on 14000/101140 queries. users per second: 45859.4</pre>"
      ],
      "text/plain": [
       "recommendations finished on 14000/101140 queries. users per second: 45859.4"
      ]
     },
     "metadata": {},
     "output_type": "display_data"
    },
    {
     "data": {
      "text/html": [
       "<pre>recommendations finished on 15000/101140 queries. users per second: 46141.5</pre>"
      ],
      "text/plain": [
       "recommendations finished on 15000/101140 queries. users per second: 46141.5"
      ]
     },
     "metadata": {},
     "output_type": "display_data"
    },
    {
     "data": {
      "text/html": [
       "<pre>recommendations finished on 16000/101140 queries. users per second: 45703.7</pre>"
      ],
      "text/plain": [
       "recommendations finished on 16000/101140 queries. users per second: 45703.7"
      ]
     },
     "metadata": {},
     "output_type": "display_data"
    },
    {
     "data": {
      "text/html": [
       "<pre>recommendations finished on 17000/101140 queries. users per second: 46132.7</pre>"
      ],
      "text/plain": [
       "recommendations finished on 17000/101140 queries. users per second: 46132.7"
      ]
     },
     "metadata": {},
     "output_type": "display_data"
    },
    {
     "data": {
      "text/html": [
       "<pre>recommendations finished on 18000/101140 queries. users per second: 46714.1</pre>"
      ],
      "text/plain": [
       "recommendations finished on 18000/101140 queries. users per second: 46714.1"
      ]
     },
     "metadata": {},
     "output_type": "display_data"
    },
    {
     "data": {
      "text/html": [
       "<pre>recommendations finished on 19000/101140 queries. users per second: 46922.6</pre>"
      ],
      "text/plain": [
       "recommendations finished on 19000/101140 queries. users per second: 46922.6"
      ]
     },
     "metadata": {},
     "output_type": "display_data"
    },
    {
     "data": {
      "text/html": [
       "<pre>recommendations finished on 20000/101140 queries. users per second: 47169.5</pre>"
      ],
      "text/plain": [
       "recommendations finished on 20000/101140 queries. users per second: 47169.5"
      ]
     },
     "metadata": {},
     "output_type": "display_data"
    },
    {
     "data": {
      "text/html": [
       "<pre>recommendations finished on 21000/101140 queries. users per second: 47309.4</pre>"
      ],
      "text/plain": [
       "recommendations finished on 21000/101140 queries. users per second: 47309.4"
      ]
     },
     "metadata": {},
     "output_type": "display_data"
    },
    {
     "data": {
      "text/html": [
       "<pre>recommendations finished on 22000/101140 queries. users per second: 47582.3</pre>"
      ],
      "text/plain": [
       "recommendations finished on 22000/101140 queries. users per second: 47582.3"
      ]
     },
     "metadata": {},
     "output_type": "display_data"
    },
    {
     "data": {
      "text/html": [
       "<pre>recommendations finished on 23000/101140 queries. users per second: 48236.7</pre>"
      ],
      "text/plain": [
       "recommendations finished on 23000/101140 queries. users per second: 48236.7"
      ]
     },
     "metadata": {},
     "output_type": "display_data"
    },
    {
     "data": {
      "text/html": [
       "<pre>recommendations finished on 24000/101140 queries. users per second: 47690.6</pre>"
      ],
      "text/plain": [
       "recommendations finished on 24000/101140 queries. users per second: 47690.6"
      ]
     },
     "metadata": {},
     "output_type": "display_data"
    },
    {
     "data": {
      "text/html": [
       "<pre>recommendations finished on 25000/101140 queries. users per second: 47812.5</pre>"
      ],
      "text/plain": [
       "recommendations finished on 25000/101140 queries. users per second: 47812.5"
      ]
     },
     "metadata": {},
     "output_type": "display_data"
    },
    {
     "data": {
      "text/html": [
       "<pre>recommendations finished on 26000/101140 queries. users per second: 48320.1</pre>"
      ],
      "text/plain": [
       "recommendations finished on 26000/101140 queries. users per second: 48320.1"
      ]
     },
     "metadata": {},
     "output_type": "display_data"
    },
    {
     "data": {
      "text/html": [
       "<pre>recommendations finished on 27000/101140 queries. users per second: 48566.7</pre>"
      ],
      "text/plain": [
       "recommendations finished on 27000/101140 queries. users per second: 48566.7"
      ]
     },
     "metadata": {},
     "output_type": "display_data"
    },
    {
     "data": {
      "text/html": [
       "<pre>recommendations finished on 28000/101140 queries. users per second: 48616.8</pre>"
      ],
      "text/plain": [
       "recommendations finished on 28000/101140 queries. users per second: 48616.8"
      ]
     },
     "metadata": {},
     "output_type": "display_data"
    },
    {
     "data": {
      "text/html": [
       "<pre>recommendations finished on 29000/101140 queries. users per second: 49090.3</pre>"
      ],
      "text/plain": [
       "recommendations finished on 29000/101140 queries. users per second: 49090.3"
      ]
     },
     "metadata": {},
     "output_type": "display_data"
    },
    {
     "data": {
      "text/html": [
       "<pre>recommendations finished on 30000/101140 queries. users per second: 49575.9</pre>"
      ],
      "text/plain": [
       "recommendations finished on 30000/101140 queries. users per second: 49575.9"
      ]
     },
     "metadata": {},
     "output_type": "display_data"
    },
    {
     "data": {
      "text/html": [
       "<pre>recommendations finished on 31000/101140 queries. users per second: 49709.6</pre>"
      ],
      "text/plain": [
       "recommendations finished on 31000/101140 queries. users per second: 49709.6"
      ]
     },
     "metadata": {},
     "output_type": "display_data"
    },
    {
     "data": {
      "text/html": [
       "<pre>recommendations finished on 32000/101140 queries. users per second: 49878.3</pre>"
      ],
      "text/plain": [
       "recommendations finished on 32000/101140 queries. users per second: 49878.3"
      ]
     },
     "metadata": {},
     "output_type": "display_data"
    },
    {
     "data": {
      "text/html": [
       "<pre>recommendations finished on 33000/101140 queries. users per second: 50193</pre>"
      ],
      "text/plain": [
       "recommendations finished on 33000/101140 queries. users per second: 50193"
      ]
     },
     "metadata": {},
     "output_type": "display_data"
    },
    {
     "data": {
      "text/html": [
       "<pre>recommendations finished on 34000/101140 queries. users per second: 50219.8</pre>"
      ],
      "text/plain": [
       "recommendations finished on 34000/101140 queries. users per second: 50219.8"
      ]
     },
     "metadata": {},
     "output_type": "display_data"
    },
    {
     "data": {
      "text/html": [
       "<pre>recommendations finished on 35000/101140 queries. users per second: 50171.9</pre>"
      ],
      "text/plain": [
       "recommendations finished on 35000/101140 queries. users per second: 50171.9"
      ]
     },
     "metadata": {},
     "output_type": "display_data"
    },
    {
     "data": {
      "text/html": [
       "<pre>recommendations finished on 36000/101140 queries. users per second: 50291.9</pre>"
      ],
      "text/plain": [
       "recommendations finished on 36000/101140 queries. users per second: 50291.9"
      ]
     },
     "metadata": {},
     "output_type": "display_data"
    },
    {
     "data": {
      "text/html": [
       "<pre>recommendations finished on 37000/101140 queries. users per second: 50275.3</pre>"
      ],
      "text/plain": [
       "recommendations finished on 37000/101140 queries. users per second: 50275.3"
      ]
     },
     "metadata": {},
     "output_type": "display_data"
    },
    {
     "data": {
      "text/html": [
       "<pre>recommendations finished on 38000/101140 queries. users per second: 50189.2</pre>"
      ],
      "text/plain": [
       "recommendations finished on 38000/101140 queries. users per second: 50189.2"
      ]
     },
     "metadata": {},
     "output_type": "display_data"
    },
    {
     "data": {
      "text/html": [
       "<pre>recommendations finished on 39000/101140 queries. users per second: 50544.2</pre>"
      ],
      "text/plain": [
       "recommendations finished on 39000/101140 queries. users per second: 50544.2"
      ]
     },
     "metadata": {},
     "output_type": "display_data"
    },
    {
     "data": {
      "text/html": [
       "<pre>recommendations finished on 40000/101140 queries. users per second: 50681.4</pre>"
      ],
      "text/plain": [
       "recommendations finished on 40000/101140 queries. users per second: 50681.4"
      ]
     },
     "metadata": {},
     "output_type": "display_data"
    },
    {
     "data": {
      "text/html": [
       "<pre>recommendations finished on 41000/101140 queries. users per second: 51004.7</pre>"
      ],
      "text/plain": [
       "recommendations finished on 41000/101140 queries. users per second: 51004.7"
      ]
     },
     "metadata": {},
     "output_type": "display_data"
    },
    {
     "data": {
      "text/html": [
       "<pre>recommendations finished on 42000/101140 queries. users per second: 51233.2</pre>"
      ],
      "text/plain": [
       "recommendations finished on 42000/101140 queries. users per second: 51233.2"
      ]
     },
     "metadata": {},
     "output_type": "display_data"
    },
    {
     "data": {
      "text/html": [
       "<pre>recommendations finished on 43000/101140 queries. users per second: 51118.8</pre>"
      ],
      "text/plain": [
       "recommendations finished on 43000/101140 queries. users per second: 51118.8"
      ]
     },
     "metadata": {},
     "output_type": "display_data"
    },
    {
     "data": {
      "text/html": [
       "<pre>recommendations finished on 44000/101140 queries. users per second: 51253.1</pre>"
      ],
      "text/plain": [
       "recommendations finished on 44000/101140 queries. users per second: 51253.1"
      ]
     },
     "metadata": {},
     "output_type": "display_data"
    },
    {
     "data": {
      "text/html": [
       "<pre>recommendations finished on 45000/101140 queries. users per second: 51165.1</pre>"
      ],
      "text/plain": [
       "recommendations finished on 45000/101140 queries. users per second: 51165.1"
      ]
     },
     "metadata": {},
     "output_type": "display_data"
    },
    {
     "data": {
      "text/html": [
       "<pre>recommendations finished on 46000/101140 queries. users per second: 51124.1</pre>"
      ],
      "text/plain": [
       "recommendations finished on 46000/101140 queries. users per second: 51124.1"
      ]
     },
     "metadata": {},
     "output_type": "display_data"
    },
    {
     "data": {
      "text/html": [
       "<pre>recommendations finished on 47000/101140 queries. users per second: 50895.8</pre>"
      ],
      "text/plain": [
       "recommendations finished on 47000/101140 queries. users per second: 50895.8"
      ]
     },
     "metadata": {},
     "output_type": "display_data"
    },
    {
     "data": {
      "text/html": [
       "<pre>recommendations finished on 48000/101140 queries. users per second: 50755.2</pre>"
      ],
      "text/plain": [
       "recommendations finished on 48000/101140 queries. users per second: 50755.2"
      ]
     },
     "metadata": {},
     "output_type": "display_data"
    },
    {
     "data": {
      "text/html": [
       "<pre>recommendations finished on 49000/101140 queries. users per second: 50272.9</pre>"
      ],
      "text/plain": [
       "recommendations finished on 49000/101140 queries. users per second: 50272.9"
      ]
     },
     "metadata": {},
     "output_type": "display_data"
    },
    {
     "data": {
      "text/html": [
       "<pre>recommendations finished on 50000/101140 queries. users per second: 49811.5</pre>"
      ],
      "text/plain": [
       "recommendations finished on 50000/101140 queries. users per second: 49811.5"
      ]
     },
     "metadata": {},
     "output_type": "display_data"
    },
    {
     "data": {
      "text/html": [
       "<pre>recommendations finished on 51000/101140 queries. users per second: 49693.3</pre>"
      ],
      "text/plain": [
       "recommendations finished on 51000/101140 queries. users per second: 49693.3"
      ]
     },
     "metadata": {},
     "output_type": "display_data"
    },
    {
     "data": {
      "text/html": [
       "<pre>recommendations finished on 52000/101140 queries. users per second: 49431.1</pre>"
      ],
      "text/plain": [
       "recommendations finished on 52000/101140 queries. users per second: 49431.1"
      ]
     },
     "metadata": {},
     "output_type": "display_data"
    },
    {
     "data": {
      "text/html": [
       "<pre>recommendations finished on 53000/101140 queries. users per second: 49399.9</pre>"
      ],
      "text/plain": [
       "recommendations finished on 53000/101140 queries. users per second: 49399.9"
      ]
     },
     "metadata": {},
     "output_type": "display_data"
    },
    {
     "data": {
      "text/html": [
       "<pre>recommendations finished on 54000/101140 queries. users per second: 49025.4</pre>"
      ],
      "text/plain": [
       "recommendations finished on 54000/101140 queries. users per second: 49025.4"
      ]
     },
     "metadata": {},
     "output_type": "display_data"
    },
    {
     "data": {
      "text/html": [
       "<pre>recommendations finished on 55000/101140 queries. users per second: 49027.6</pre>"
      ],
      "text/plain": [
       "recommendations finished on 55000/101140 queries. users per second: 49027.6"
      ]
     },
     "metadata": {},
     "output_type": "display_data"
    },
    {
     "data": {
      "text/html": [
       "<pre>recommendations finished on 56000/101140 queries. users per second: 48761.8</pre>"
      ],
      "text/plain": [
       "recommendations finished on 56000/101140 queries. users per second: 48761.8"
      ]
     },
     "metadata": {},
     "output_type": "display_data"
    },
    {
     "data": {
      "text/html": [
       "<pre>recommendations finished on 57000/101140 queries. users per second: 48591.2</pre>"
      ],
      "text/plain": [
       "recommendations finished on 57000/101140 queries. users per second: 48591.2"
      ]
     },
     "metadata": {},
     "output_type": "display_data"
    },
    {
     "data": {
      "text/html": [
       "<pre>recommendations finished on 58000/101140 queries. users per second: 48481.4</pre>"
      ],
      "text/plain": [
       "recommendations finished on 58000/101140 queries. users per second: 48481.4"
      ]
     },
     "metadata": {},
     "output_type": "display_data"
    },
    {
     "data": {
      "text/html": [
       "<pre>recommendations finished on 59000/101140 queries. users per second: 48469.8</pre>"
      ],
      "text/plain": [
       "recommendations finished on 59000/101140 queries. users per second: 48469.8"
      ]
     },
     "metadata": {},
     "output_type": "display_data"
    },
    {
     "data": {
      "text/html": [
       "<pre>recommendations finished on 60000/101140 queries. users per second: 48432.4</pre>"
      ],
      "text/plain": [
       "recommendations finished on 60000/101140 queries. users per second: 48432.4"
      ]
     },
     "metadata": {},
     "output_type": "display_data"
    },
    {
     "data": {
      "text/html": [
       "<pre>recommendations finished on 61000/101140 queries. users per second: 48348</pre>"
      ],
      "text/plain": [
       "recommendations finished on 61000/101140 queries. users per second: 48348"
      ]
     },
     "metadata": {},
     "output_type": "display_data"
    },
    {
     "data": {
      "text/html": [
       "<pre>recommendations finished on 62000/101140 queries. users per second: 48309.4</pre>"
      ],
      "text/plain": [
       "recommendations finished on 62000/101140 queries. users per second: 48309.4"
      ]
     },
     "metadata": {},
     "output_type": "display_data"
    },
    {
     "data": {
      "text/html": [
       "<pre>recommendations finished on 63000/101140 queries. users per second: 48205.1</pre>"
      ],
      "text/plain": [
       "recommendations finished on 63000/101140 queries. users per second: 48205.1"
      ]
     },
     "metadata": {},
     "output_type": "display_data"
    },
    {
     "data": {
      "text/html": [
       "<pre>recommendations finished on 64000/101140 queries. users per second: 48229.5</pre>"
      ],
      "text/plain": [
       "recommendations finished on 64000/101140 queries. users per second: 48229.5"
      ]
     },
     "metadata": {},
     "output_type": "display_data"
    },
    {
     "data": {
      "text/html": [
       "<pre>recommendations finished on 65000/101140 queries. users per second: 48362.2</pre>"
      ],
      "text/plain": [
       "recommendations finished on 65000/101140 queries. users per second: 48362.2"
      ]
     },
     "metadata": {},
     "output_type": "display_data"
    },
    {
     "data": {
      "text/html": [
       "<pre>recommendations finished on 66000/101140 queries. users per second: 48524.3</pre>"
      ],
      "text/plain": [
       "recommendations finished on 66000/101140 queries. users per second: 48524.3"
      ]
     },
     "metadata": {},
     "output_type": "display_data"
    },
    {
     "data": {
      "text/html": [
       "<pre>recommendations finished on 67000/101140 queries. users per second: 48663.2</pre>"
      ],
      "text/plain": [
       "recommendations finished on 67000/101140 queries. users per second: 48663.2"
      ]
     },
     "metadata": {},
     "output_type": "display_data"
    },
    {
     "data": {
      "text/html": [
       "<pre>recommendations finished on 68000/101140 queries. users per second: 48795.4</pre>"
      ],
      "text/plain": [
       "recommendations finished on 68000/101140 queries. users per second: 48795.4"
      ]
     },
     "metadata": {},
     "output_type": "display_data"
    },
    {
     "data": {
      "text/html": [
       "<pre>recommendations finished on 69000/101140 queries. users per second: 48915.8</pre>"
      ],
      "text/plain": [
       "recommendations finished on 69000/101140 queries. users per second: 48915.8"
      ]
     },
     "metadata": {},
     "output_type": "display_data"
    },
    {
     "data": {
      "text/html": [
       "<pre>recommendations finished on 70000/101140 queries. users per second: 49024.3</pre>"
      ],
      "text/plain": [
       "recommendations finished on 70000/101140 queries. users per second: 49024.3"
      ]
     },
     "metadata": {},
     "output_type": "display_data"
    },
    {
     "data": {
      "text/html": [
       "<pre>recommendations finished on 71000/101140 queries. users per second: 49183.2</pre>"
      ],
      "text/plain": [
       "recommendations finished on 71000/101140 queries. users per second: 49183.2"
      ]
     },
     "metadata": {},
     "output_type": "display_data"
    },
    {
     "data": {
      "text/html": [
       "<pre>recommendations finished on 72000/101140 queries. users per second: 49282.6</pre>"
      ],
      "text/plain": [
       "recommendations finished on 72000/101140 queries. users per second: 49282.6"
      ]
     },
     "metadata": {},
     "output_type": "display_data"
    },
    {
     "data": {
      "text/html": [
       "<pre>recommendations finished on 73000/101140 queries. users per second: 49430.8</pre>"
      ],
      "text/plain": [
       "recommendations finished on 73000/101140 queries. users per second: 49430.8"
      ]
     },
     "metadata": {},
     "output_type": "display_data"
    },
    {
     "data": {
      "text/html": [
       "<pre>recommendations finished on 74000/101140 queries. users per second: 49539.6</pre>"
      ],
      "text/plain": [
       "recommendations finished on 74000/101140 queries. users per second: 49539.6"
      ]
     },
     "metadata": {},
     "output_type": "display_data"
    },
    {
     "data": {
      "text/html": [
       "<pre>recommendations finished on 75000/101140 queries. users per second: 49590.7</pre>"
      ],
      "text/plain": [
       "recommendations finished on 75000/101140 queries. users per second: 49590.7"
      ]
     },
     "metadata": {},
     "output_type": "display_data"
    },
    {
     "data": {
      "text/html": [
       "<pre>recommendations finished on 76000/101140 queries. users per second: 49541</pre>"
      ],
      "text/plain": [
       "recommendations finished on 76000/101140 queries. users per second: 49541"
      ]
     },
     "metadata": {},
     "output_type": "display_data"
    },
    {
     "data": {
      "text/html": [
       "<pre>recommendations finished on 77000/101140 queries. users per second: 49431.1</pre>"
      ],
      "text/plain": [
       "recommendations finished on 77000/101140 queries. users per second: 49431.1"
      ]
     },
     "metadata": {},
     "output_type": "display_data"
    },
    {
     "data": {
      "text/html": [
       "<pre>recommendations finished on 78000/101140 queries. users per second: 49467.7</pre>"
      ],
      "text/plain": [
       "recommendations finished on 78000/101140 queries. users per second: 49467.7"
      ]
     },
     "metadata": {},
     "output_type": "display_data"
    },
    {
     "data": {
      "text/html": [
       "<pre>recommendations finished on 79000/101140 queries. users per second: 49521.4</pre>"
      ],
      "text/plain": [
       "recommendations finished on 79000/101140 queries. users per second: 49521.4"
      ]
     },
     "metadata": {},
     "output_type": "display_data"
    },
    {
     "data": {
      "text/html": [
       "<pre>recommendations finished on 80000/101140 queries. users per second: 49560.4</pre>"
      ],
      "text/plain": [
       "recommendations finished on 80000/101140 queries. users per second: 49560.4"
      ]
     },
     "metadata": {},
     "output_type": "display_data"
    },
    {
     "data": {
      "text/html": [
       "<pre>recommendations finished on 81000/101140 queries. users per second: 49662.8</pre>"
      ],
      "text/plain": [
       "recommendations finished on 81000/101140 queries. users per second: 49662.8"
      ]
     },
     "metadata": {},
     "output_type": "display_data"
    },
    {
     "data": {
      "text/html": [
       "<pre>recommendations finished on 82000/101140 queries. users per second: 49644.7</pre>"
      ],
      "text/plain": [
       "recommendations finished on 82000/101140 queries. users per second: 49644.7"
      ]
     },
     "metadata": {},
     "output_type": "display_data"
    },
    {
     "data": {
      "text/html": [
       "<pre>recommendations finished on 83000/101140 queries. users per second: 49680.1</pre>"
      ],
      "text/plain": [
       "recommendations finished on 83000/101140 queries. users per second: 49680.1"
      ]
     },
     "metadata": {},
     "output_type": "display_data"
    },
    {
     "data": {
      "text/html": [
       "<pre>recommendations finished on 84000/101140 queries. users per second: 49621.2</pre>"
      ],
      "text/plain": [
       "recommendations finished on 84000/101140 queries. users per second: 49621.2"
      ]
     },
     "metadata": {},
     "output_type": "display_data"
    },
    {
     "data": {
      "text/html": [
       "<pre>recommendations finished on 85000/101140 queries. users per second: 49739.8</pre>"
      ],
      "text/plain": [
       "recommendations finished on 85000/101140 queries. users per second: 49739.8"
      ]
     },
     "metadata": {},
     "output_type": "display_data"
    },
    {
     "data": {
      "text/html": [
       "<pre>recommendations finished on 86000/101140 queries. users per second: 49823</pre>"
      ],
      "text/plain": [
       "recommendations finished on 86000/101140 queries. users per second: 49823"
      ]
     },
     "metadata": {},
     "output_type": "display_data"
    },
    {
     "data": {
      "text/html": [
       "<pre>recommendations finished on 87000/101140 queries. users per second: 49932.1</pre>"
      ],
      "text/plain": [
       "recommendations finished on 87000/101140 queries. users per second: 49932.1"
      ]
     },
     "metadata": {},
     "output_type": "display_data"
    },
    {
     "data": {
      "text/html": [
       "<pre>recommendations finished on 88000/101140 queries. users per second: 50067.4</pre>"
      ],
      "text/plain": [
       "recommendations finished on 88000/101140 queries. users per second: 50067.4"
      ]
     },
     "metadata": {},
     "output_type": "display_data"
    },
    {
     "data": {
      "text/html": [
       "<pre>recommendations finished on 89000/101140 queries. users per second: 50099.7</pre>"
      ],
      "text/plain": [
       "recommendations finished on 89000/101140 queries. users per second: 50099.7"
      ]
     },
     "metadata": {},
     "output_type": "display_data"
    },
    {
     "data": {
      "text/html": [
       "<pre>recommendations finished on 90000/101140 queries. users per second: 49953.3</pre>"
      ],
      "text/plain": [
       "recommendations finished on 90000/101140 queries. users per second: 49953.3"
      ]
     },
     "metadata": {},
     "output_type": "display_data"
    },
    {
     "data": {
      "text/html": [
       "<pre>recommendations finished on 91000/101140 queries. users per second: 50047.5</pre>"
      ],
      "text/plain": [
       "recommendations finished on 91000/101140 queries. users per second: 50047.5"
      ]
     },
     "metadata": {},
     "output_type": "display_data"
    },
    {
     "data": {
      "text/html": [
       "<pre>recommendations finished on 92000/101140 queries. users per second: 50027.9</pre>"
      ],
      "text/plain": [
       "recommendations finished on 92000/101140 queries. users per second: 50027.9"
      ]
     },
     "metadata": {},
     "output_type": "display_data"
    },
    {
     "data": {
      "text/html": [
       "<pre>recommendations finished on 93000/101140 queries. users per second: 50156.8</pre>"
      ],
      "text/plain": [
       "recommendations finished on 93000/101140 queries. users per second: 50156.8"
      ]
     },
     "metadata": {},
     "output_type": "display_data"
    },
    {
     "data": {
      "text/html": [
       "<pre>recommendations finished on 94000/101140 queries. users per second: 50316.6</pre>"
      ],
      "text/plain": [
       "recommendations finished on 94000/101140 queries. users per second: 50316.6"
      ]
     },
     "metadata": {},
     "output_type": "display_data"
    },
    {
     "data": {
      "text/html": [
       "<pre>recommendations finished on 95000/101140 queries. users per second: 50416.4</pre>"
      ],
      "text/plain": [
       "recommendations finished on 95000/101140 queries. users per second: 50416.4"
      ]
     },
     "metadata": {},
     "output_type": "display_data"
    },
    {
     "data": {
      "text/html": [
       "<pre>recommendations finished on 96000/101140 queries. users per second: 50542.3</pre>"
      ],
      "text/plain": [
       "recommendations finished on 96000/101140 queries. users per second: 50542.3"
      ]
     },
     "metadata": {},
     "output_type": "display_data"
    },
    {
     "data": {
      "text/html": [
       "<pre>recommendations finished on 97000/101140 queries. users per second: 50728.7</pre>"
      ],
      "text/plain": [
       "recommendations finished on 97000/101140 queries. users per second: 50728.7"
      ]
     },
     "metadata": {},
     "output_type": "display_data"
    },
    {
     "data": {
      "text/html": [
       "<pre>recommendations finished on 98000/101140 queries. users per second: 50688.9</pre>"
      ],
      "text/plain": [
       "recommendations finished on 98000/101140 queries. users per second: 50688.9"
      ]
     },
     "metadata": {},
     "output_type": "display_data"
    },
    {
     "data": {
      "text/html": [
       "<pre>recommendations finished on 99000/101140 queries. users per second: 50685.3</pre>"
      ],
      "text/plain": [
       "recommendations finished on 99000/101140 queries. users per second: 50685.3"
      ]
     },
     "metadata": {},
     "output_type": "display_data"
    },
    {
     "data": {
      "text/html": [
       "<pre>recommendations finished on 100000/101140 queries. users per second: 50642.2</pre>"
      ],
      "text/plain": [
       "recommendations finished on 100000/101140 queries. users per second: 50642.2"
      ]
     },
     "metadata": {},
     "output_type": "display_data"
    },
    {
     "data": {
      "text/html": [
       "<pre>recommendations finished on 101000/101140 queries. users per second: 50159.8</pre>"
      ],
      "text/plain": [
       "recommendations finished on 101000/101140 queries. users per second: 50159.8"
      ]
     },
     "metadata": {},
     "output_type": "display_data"
    },
    {
     "name": "stdout",
     "output_type": "stream",
     "text": [
      "+-------+--------+--------------------+------+\n",
      "| LYBID | ITEMID |       score        | rank |\n",
      "+-------+--------+--------------------+------+\n",
      "| 10004 | 44002  |        6.0         |  1   |\n",
      "| 10004 | 35928  |        6.0         |  2   |\n",
      "| 10004 |  3560  |        5.0         |  3   |\n",
      "| 10004 |  3557  |        4.25        |  4   |\n",
      "| 10004 | 33867  | 3.6666666666666665 |  5   |\n",
      "| 10009 | 44002  |        6.0         |  1   |\n",
      "| 10009 | 35928  |        6.0         |  2   |\n",
      "| 10009 |  3560  |        5.0         |  3   |\n",
      "| 10009 |  3557  |        4.25        |  4   |\n",
      "| 10009 | 33867  | 3.6666666666666665 |  5   |\n",
      "| 10012 | 44002  |        6.0         |  1   |\n",
      "| 10012 | 35928  |        6.0         |  2   |\n",
      "| 10012 |  3560  |        5.0         |  3   |\n",
      "| 10012 |  3557  |        4.25        |  4   |\n",
      "| 10012 | 33867  | 3.6666666666666665 |  5   |\n",
      "| 10022 | 44002  |        6.0         |  1   |\n",
      "| 10022 | 35928  |        6.0         |  2   |\n",
      "| 10022 |  3560  |        5.0         |  3   |\n",
      "| 10022 |  3557  |        4.25        |  4   |\n",
      "| 10022 | 33867  | 3.6666666666666665 |  5   |\n",
      "| 10023 | 44002  |        6.0         |  1   |\n",
      "| 10023 | 35928  |        6.0         |  2   |\n",
      "| 10023 |  3560  |        5.0         |  3   |\n",
      "| 10023 |  3557  |        4.25        |  4   |\n",
      "| 10023 | 33867  | 3.6666666666666665 |  5   |\n",
      "| 10029 | 44002  |        6.0         |  1   |\n",
      "| 10029 | 35928  |        6.0         |  2   |\n",
      "| 10029 |  3560  |        5.0         |  3   |\n",
      "| 10029 |  3557  |        4.25        |  4   |\n",
      "| 10029 | 33867  | 3.6666666666666665 |  5   |\n",
      "+-------+--------+--------------------+------+\n",
      "[505700 rows x 4 columns]\n",
      "\n"
     ]
    }
   ],
   "source": [
    "# Get recommendations for a list of users to recommend (from data file)\n",
    "# Printed below is head / top 30 rows for first 6 customers with 5 recommendations each\n",
    "\n",
    "popularity_recomm = popularity_model.recommend(users=users_to_recommend, k=n_rec)\n",
    "popularity_recomm.print_rows(n_display)"
   ]
  },
  {
   "cell_type": "markdown",
   "metadata": {},
   "source": [
    "#### Define a `model` function for model selection"
   ]
  },
  {
   "cell_type": "code",
   "execution_count": 20,
   "metadata": {},
   "outputs": [],
   "source": [
    "# Since turicreate is very accessible library, we can define a model selection function as below\n",
    "\n",
    "def model(train_data, name, user_id, item_id, target, users_to_recommend, n_rec, n_display):\n",
    "    if name == 'popularity':\n",
    "        model = tc.popularity_recommender.create(train_data, \n",
    "                                                    user_id=user_id, \n",
    "                                                    item_id=item_id, \n",
    "                                                    target=target)\n",
    "    elif name == 'cosine':\n",
    "        model = tc.item_similarity_recommender.create(train_data, \n",
    "                                                    user_id=user_id, \n",
    "                                                    item_id=item_id, \n",
    "                                                    target=target, \n",
    "                                                    similarity_type='cosine')\n",
    "    elif name == 'pearson':\n",
    "        model = tc.item_similarity_recommender.create(train_data, \n",
    "                                                    user_id=user_id, \n",
    "                                                    item_id=item_id, \n",
    "                                                    target=target, \n",
    "                                                    similarity_type='pearson')\n",
    "        \n",
    "    recom = model.recommend(users=users_to_recommend, k=n_rec)\n",
    "    recom.print_rows(n_display)\n",
    "    return model"
   ]
  },
  {
   "cell_type": "code",
   "execution_count": 21,
   "metadata": {},
   "outputs": [],
   "source": [
    "# variables to define field names\n",
    "# constant variables include:\n",
    "user_id = 'LYBID'\n",
    "item_id = 'ITEMID'\n",
    "users_to_recommend = list(data[user_id].unique())\n",
    "n_rec = 5 # number of items to recommend\n",
    "n_display = 30 # to print the head / first few rows in a defined dataset"
   ]
  },
  {
   "cell_type": "markdown",
   "metadata": {},
   "source": [
    "#### Using purchase dummy"
   ]
  },
  {
   "cell_type": "code",
   "execution_count": 22,
   "metadata": {},
   "outputs": [
    {
     "data": {
      "text/html": [
       "<pre>Warning: Ignoring columns TotalQtyPurchased;</pre>"
      ],
      "text/plain": [
       "Warning: Ignoring columns TotalQtyPurchased;"
      ]
     },
     "metadata": {},
     "output_type": "display_data"
    },
    {
     "data": {
      "text/html": [
       "<pre>    To use these columns in scoring predictions, use a model that allows the use of additional features.</pre>"
      ],
      "text/plain": [
       "    To use these columns in scoring predictions, use a model that allows the use of additional features."
      ]
     },
     "metadata": {},
     "output_type": "display_data"
    },
    {
     "data": {
      "text/html": [
       "<pre>Preparing data set.</pre>"
      ],
      "text/plain": [
       "Preparing data set."
      ]
     },
     "metadata": {},
     "output_type": "display_data"
    },
    {
     "data": {
      "text/html": [
       "<pre>    Data has 281955 observations with 94424 users and 1426 items.</pre>"
      ],
      "text/plain": [
       "    Data has 281955 observations with 94424 users and 1426 items."
      ]
     },
     "metadata": {},
     "output_type": "display_data"
    },
    {
     "data": {
      "text/html": [
       "<pre>    Data prepared in: 0.251552s</pre>"
      ],
      "text/plain": [
       "    Data prepared in: 0.251552s"
      ]
     },
     "metadata": {},
     "output_type": "display_data"
    },
    {
     "data": {
      "text/html": [
       "<pre>281955 observations to process; with 1426 unique items.</pre>"
      ],
      "text/plain": [
       "281955 observations to process; with 1426 unique items."
      ]
     },
     "metadata": {},
     "output_type": "display_data"
    },
    {
     "data": {
      "text/html": [
       "<pre>recommendations finished on 1000/101140 queries. users per second: 39019.8</pre>"
      ],
      "text/plain": [
       "recommendations finished on 1000/101140 queries. users per second: 39019.8"
      ]
     },
     "metadata": {},
     "output_type": "display_data"
    },
    {
     "data": {
      "text/html": [
       "<pre>recommendations finished on 2000/101140 queries. users per second: 49225.9</pre>"
      ],
      "text/plain": [
       "recommendations finished on 2000/101140 queries. users per second: 49225.9"
      ]
     },
     "metadata": {},
     "output_type": "display_data"
    },
    {
     "data": {
      "text/html": [
       "<pre>recommendations finished on 3000/101140 queries. users per second: 54066.7</pre>"
      ],
      "text/plain": [
       "recommendations finished on 3000/101140 queries. users per second: 54066.7"
      ]
     },
     "metadata": {},
     "output_type": "display_data"
    },
    {
     "data": {
      "text/html": [
       "<pre>recommendations finished on 4000/101140 queries. users per second: 55959.7</pre>"
      ],
      "text/plain": [
       "recommendations finished on 4000/101140 queries. users per second: 55959.7"
      ]
     },
     "metadata": {},
     "output_type": "display_data"
    },
    {
     "data": {
      "text/html": [
       "<pre>recommendations finished on 5000/101140 queries. users per second: 58920.6</pre>"
      ],
      "text/plain": [
       "recommendations finished on 5000/101140 queries. users per second: 58920.6"
      ]
     },
     "metadata": {},
     "output_type": "display_data"
    },
    {
     "data": {
      "text/html": [
       "<pre>recommendations finished on 6000/101140 queries. users per second: 60580.4</pre>"
      ],
      "text/plain": [
       "recommendations finished on 6000/101140 queries. users per second: 60580.4"
      ]
     },
     "metadata": {},
     "output_type": "display_data"
    },
    {
     "data": {
      "text/html": [
       "<pre>recommendations finished on 7000/101140 queries. users per second: 61508.7</pre>"
      ],
      "text/plain": [
       "recommendations finished on 7000/101140 queries. users per second: 61508.7"
      ]
     },
     "metadata": {},
     "output_type": "display_data"
    },
    {
     "data": {
      "text/html": [
       "<pre>recommendations finished on 8000/101140 queries. users per second: 61857.3</pre>"
      ],
      "text/plain": [
       "recommendations finished on 8000/101140 queries. users per second: 61857.3"
      ]
     },
     "metadata": {},
     "output_type": "display_data"
    },
    {
     "data": {
      "text/html": [
       "<pre>recommendations finished on 9000/101140 queries. users per second: 61993.7</pre>"
      ],
      "text/plain": [
       "recommendations finished on 9000/101140 queries. users per second: 61993.7"
      ]
     },
     "metadata": {},
     "output_type": "display_data"
    },
    {
     "data": {
      "text/html": [
       "<pre>recommendations finished on 10000/101140 queries. users per second: 62554</pre>"
      ],
      "text/plain": [
       "recommendations finished on 10000/101140 queries. users per second: 62554"
      ]
     },
     "metadata": {},
     "output_type": "display_data"
    },
    {
     "data": {
      "text/html": [
       "<pre>recommendations finished on 11000/101140 queries. users per second: 63279.5</pre>"
      ],
      "text/plain": [
       "recommendations finished on 11000/101140 queries. users per second: 63279.5"
      ]
     },
     "metadata": {},
     "output_type": "display_data"
    },
    {
     "data": {
      "text/html": [
       "<pre>recommendations finished on 12000/101140 queries. users per second: 63316.9</pre>"
      ],
      "text/plain": [
       "recommendations finished on 12000/101140 queries. users per second: 63316.9"
      ]
     },
     "metadata": {},
     "output_type": "display_data"
    },
    {
     "data": {
      "text/html": [
       "<pre>recommendations finished on 13000/101140 queries. users per second: 64027.7</pre>"
      ],
      "text/plain": [
       "recommendations finished on 13000/101140 queries. users per second: 64027.7"
      ]
     },
     "metadata": {},
     "output_type": "display_data"
    },
    {
     "data": {
      "text/html": [
       "<pre>recommendations finished on 14000/101140 queries. users per second: 64976.4</pre>"
      ],
      "text/plain": [
       "recommendations finished on 14000/101140 queries. users per second: 64976.4"
      ]
     },
     "metadata": {},
     "output_type": "display_data"
    },
    {
     "data": {
      "text/html": [
       "<pre>recommendations finished on 15000/101140 queries. users per second: 64638.5</pre>"
      ],
      "text/plain": [
       "recommendations finished on 15000/101140 queries. users per second: 64638.5"
      ]
     },
     "metadata": {},
     "output_type": "display_data"
    },
    {
     "data": {
      "text/html": [
       "<pre>recommendations finished on 16000/101140 queries. users per second: 64976.7</pre>"
      ],
      "text/plain": [
       "recommendations finished on 16000/101140 queries. users per second: 64976.7"
      ]
     },
     "metadata": {},
     "output_type": "display_data"
    },
    {
     "data": {
      "text/html": [
       "<pre>recommendations finished on 17000/101140 queries. users per second: 65402.2</pre>"
      ],
      "text/plain": [
       "recommendations finished on 17000/101140 queries. users per second: 65402.2"
      ]
     },
     "metadata": {},
     "output_type": "display_data"
    },
    {
     "data": {
      "text/html": [
       "<pre>recommendations finished on 18000/101140 queries. users per second: 64863.2</pre>"
      ],
      "text/plain": [
       "recommendations finished on 18000/101140 queries. users per second: 64863.2"
      ]
     },
     "metadata": {},
     "output_type": "display_data"
    },
    {
     "data": {
      "text/html": [
       "<pre>recommendations finished on 19000/101140 queries. users per second: 64951.5</pre>"
      ],
      "text/plain": [
       "recommendations finished on 19000/101140 queries. users per second: 64951.5"
      ]
     },
     "metadata": {},
     "output_type": "display_data"
    },
    {
     "data": {
      "text/html": [
       "<pre>recommendations finished on 20000/101140 queries. users per second: 65196.7</pre>"
      ],
      "text/plain": [
       "recommendations finished on 20000/101140 queries. users per second: 65196.7"
      ]
     },
     "metadata": {},
     "output_type": "display_data"
    },
    {
     "data": {
      "text/html": [
       "<pre>recommendations finished on 21000/101140 queries. users per second: 65530</pre>"
      ],
      "text/plain": [
       "recommendations finished on 21000/101140 queries. users per second: 65530"
      ]
     },
     "metadata": {},
     "output_type": "display_data"
    },
    {
     "data": {
      "text/html": [
       "<pre>recommendations finished on 22000/101140 queries. users per second: 65853.9</pre>"
      ],
      "text/plain": [
       "recommendations finished on 22000/101140 queries. users per second: 65853.9"
      ]
     },
     "metadata": {},
     "output_type": "display_data"
    },
    {
     "data": {
      "text/html": [
       "<pre>recommendations finished on 23000/101140 queries. users per second: 65142.9</pre>"
      ],
      "text/plain": [
       "recommendations finished on 23000/101140 queries. users per second: 65142.9"
      ]
     },
     "metadata": {},
     "output_type": "display_data"
    },
    {
     "data": {
      "text/html": [
       "<pre>recommendations finished on 24000/101140 queries. users per second: 65518.3</pre>"
      ],
      "text/plain": [
       "recommendations finished on 24000/101140 queries. users per second: 65518.3"
      ]
     },
     "metadata": {},
     "output_type": "display_data"
    },
    {
     "data": {
      "text/html": [
       "<pre>recommendations finished on 25000/101140 queries. users per second: 65276.5</pre>"
      ],
      "text/plain": [
       "recommendations finished on 25000/101140 queries. users per second: 65276.5"
      ]
     },
     "metadata": {},
     "output_type": "display_data"
    },
    {
     "data": {
      "text/html": [
       "<pre>recommendations finished on 26000/101140 queries. users per second: 64816.6</pre>"
      ],
      "text/plain": [
       "recommendations finished on 26000/101140 queries. users per second: 64816.6"
      ]
     },
     "metadata": {},
     "output_type": "display_data"
    },
    {
     "data": {
      "text/html": [
       "<pre>recommendations finished on 27000/101140 queries. users per second: 65036</pre>"
      ],
      "text/plain": [
       "recommendations finished on 27000/101140 queries. users per second: 65036"
      ]
     },
     "metadata": {},
     "output_type": "display_data"
    },
    {
     "data": {
      "text/html": [
       "<pre>recommendations finished on 28000/101140 queries. users per second: 65135.4</pre>"
      ],
      "text/plain": [
       "recommendations finished on 28000/101140 queries. users per second: 65135.4"
      ]
     },
     "metadata": {},
     "output_type": "display_data"
    },
    {
     "data": {
      "text/html": [
       "<pre>recommendations finished on 29000/101140 queries. users per second: 64963.3</pre>"
      ],
      "text/plain": [
       "recommendations finished on 29000/101140 queries. users per second: 64963.3"
      ]
     },
     "metadata": {},
     "output_type": "display_data"
    },
    {
     "data": {
      "text/html": [
       "<pre>recommendations finished on 30000/101140 queries. users per second: 64945.2</pre>"
      ],
      "text/plain": [
       "recommendations finished on 30000/101140 queries. users per second: 64945.2"
      ]
     },
     "metadata": {},
     "output_type": "display_data"
    },
    {
     "data": {
      "text/html": [
       "<pre>recommendations finished on 31000/101140 queries. users per second: 64615.5</pre>"
      ],
      "text/plain": [
       "recommendations finished on 31000/101140 queries. users per second: 64615.5"
      ]
     },
     "metadata": {},
     "output_type": "display_data"
    },
    {
     "data": {
      "text/html": [
       "<pre>recommendations finished on 32000/101140 queries. users per second: 64760.9</pre>"
      ],
      "text/plain": [
       "recommendations finished on 32000/101140 queries. users per second: 64760.9"
      ]
     },
     "metadata": {},
     "output_type": "display_data"
    },
    {
     "data": {
      "text/html": [
       "<pre>recommendations finished on 33000/101140 queries. users per second: 64644.8</pre>"
      ],
      "text/plain": [
       "recommendations finished on 33000/101140 queries. users per second: 64644.8"
      ]
     },
     "metadata": {},
     "output_type": "display_data"
    },
    {
     "data": {
      "text/html": [
       "<pre>recommendations finished on 34000/101140 queries. users per second: 64503.4</pre>"
      ],
      "text/plain": [
       "recommendations finished on 34000/101140 queries. users per second: 64503.4"
      ]
     },
     "metadata": {},
     "output_type": "display_data"
    },
    {
     "data": {
      "text/html": [
       "<pre>recommendations finished on 35000/101140 queries. users per second: 63951.7</pre>"
      ],
      "text/plain": [
       "recommendations finished on 35000/101140 queries. users per second: 63951.7"
      ]
     },
     "metadata": {},
     "output_type": "display_data"
    },
    {
     "data": {
      "text/html": [
       "<pre>recommendations finished on 36000/101140 queries. users per second: 63853.7</pre>"
      ],
      "text/plain": [
       "recommendations finished on 36000/101140 queries. users per second: 63853.7"
      ]
     },
     "metadata": {},
     "output_type": "display_data"
    },
    {
     "data": {
      "text/html": [
       "<pre>recommendations finished on 37000/101140 queries. users per second: 63915</pre>"
      ],
      "text/plain": [
       "recommendations finished on 37000/101140 queries. users per second: 63915"
      ]
     },
     "metadata": {},
     "output_type": "display_data"
    },
    {
     "data": {
      "text/html": [
       "<pre>recommendations finished on 38000/101140 queries. users per second: 64031.5</pre>"
      ],
      "text/plain": [
       "recommendations finished on 38000/101140 queries. users per second: 64031.5"
      ]
     },
     "metadata": {},
     "output_type": "display_data"
    },
    {
     "data": {
      "text/html": [
       "<pre>recommendations finished on 39000/101140 queries. users per second: 64178.2</pre>"
      ],
      "text/plain": [
       "recommendations finished on 39000/101140 queries. users per second: 64178.2"
      ]
     },
     "metadata": {},
     "output_type": "display_data"
    },
    {
     "data": {
      "text/html": [
       "<pre>recommendations finished on 40000/101140 queries. users per second: 64358.6</pre>"
      ],
      "text/plain": [
       "recommendations finished on 40000/101140 queries. users per second: 64358.6"
      ]
     },
     "metadata": {},
     "output_type": "display_data"
    },
    {
     "data": {
      "text/html": [
       "<pre>recommendations finished on 41000/101140 queries. users per second: 64605</pre>"
      ],
      "text/plain": [
       "recommendations finished on 41000/101140 queries. users per second: 64605"
      ]
     },
     "metadata": {},
     "output_type": "display_data"
    },
    {
     "data": {
      "text/html": [
       "<pre>recommendations finished on 42000/101140 queries. users per second: 64729</pre>"
      ],
      "text/plain": [
       "recommendations finished on 42000/101140 queries. users per second: 64729"
      ]
     },
     "metadata": {},
     "output_type": "display_data"
    },
    {
     "data": {
      "text/html": [
       "<pre>recommendations finished on 43000/101140 queries. users per second: 64684.8</pre>"
      ],
      "text/plain": [
       "recommendations finished on 43000/101140 queries. users per second: 64684.8"
      ]
     },
     "metadata": {},
     "output_type": "display_data"
    },
    {
     "data": {
      "text/html": [
       "<pre>recommendations finished on 44000/101140 queries. users per second: 64688.4</pre>"
      ],
      "text/plain": [
       "recommendations finished on 44000/101140 queries. users per second: 64688.4"
      ]
     },
     "metadata": {},
     "output_type": "display_data"
    },
    {
     "data": {
      "text/html": [
       "<pre>recommendations finished on 45000/101140 queries. users per second: 64276.7</pre>"
      ],
      "text/plain": [
       "recommendations finished on 45000/101140 queries. users per second: 64276.7"
      ]
     },
     "metadata": {},
     "output_type": "display_data"
    },
    {
     "data": {
      "text/html": [
       "<pre>recommendations finished on 46000/101140 queries. users per second: 64430.6</pre>"
      ],
      "text/plain": [
       "recommendations finished on 46000/101140 queries. users per second: 64430.6"
      ]
     },
     "metadata": {},
     "output_type": "display_data"
    },
    {
     "data": {
      "text/html": [
       "<pre>recommendations finished on 47000/101140 queries. users per second: 64568.3</pre>"
      ],
      "text/plain": [
       "recommendations finished on 47000/101140 queries. users per second: 64568.3"
      ]
     },
     "metadata": {},
     "output_type": "display_data"
    },
    {
     "data": {
      "text/html": [
       "<pre>recommendations finished on 48000/101140 queries. users per second: 64475.5</pre>"
      ],
      "text/plain": [
       "recommendations finished on 48000/101140 queries. users per second: 64475.5"
      ]
     },
     "metadata": {},
     "output_type": "display_data"
    },
    {
     "data": {
      "text/html": [
       "<pre>recommendations finished on 49000/101140 queries. users per second: 64568.7</pre>"
      ],
      "text/plain": [
       "recommendations finished on 49000/101140 queries. users per second: 64568.7"
      ]
     },
     "metadata": {},
     "output_type": "display_data"
    },
    {
     "data": {
      "text/html": [
       "<pre>recommendations finished on 50000/101140 queries. users per second: 64620.1</pre>"
      ],
      "text/plain": [
       "recommendations finished on 50000/101140 queries. users per second: 64620.1"
      ]
     },
     "metadata": {},
     "output_type": "display_data"
    },
    {
     "data": {
      "text/html": [
       "<pre>recommendations finished on 51000/101140 queries. users per second: 64476.1</pre>"
      ],
      "text/plain": [
       "recommendations finished on 51000/101140 queries. users per second: 64476.1"
      ]
     },
     "metadata": {},
     "output_type": "display_data"
    },
    {
     "data": {
      "text/html": [
       "<pre>recommendations finished on 52000/101140 queries. users per second: 64511.3</pre>"
      ],
      "text/plain": [
       "recommendations finished on 52000/101140 queries. users per second: 64511.3"
      ]
     },
     "metadata": {},
     "output_type": "display_data"
    },
    {
     "data": {
      "text/html": [
       "<pre>recommendations finished on 53000/101140 queries. users per second: 64480.7</pre>"
      ],
      "text/plain": [
       "recommendations finished on 53000/101140 queries. users per second: 64480.7"
      ]
     },
     "metadata": {},
     "output_type": "display_data"
    },
    {
     "data": {
      "text/html": [
       "<pre>recommendations finished on 54000/101140 queries. users per second: 64268.9</pre>"
      ],
      "text/plain": [
       "recommendations finished on 54000/101140 queries. users per second: 64268.9"
      ]
     },
     "metadata": {},
     "output_type": "display_data"
    },
    {
     "data": {
      "text/html": [
       "<pre>recommendations finished on 55000/101140 queries. users per second: 64342</pre>"
      ],
      "text/plain": [
       "recommendations finished on 55000/101140 queries. users per second: 64342"
      ]
     },
     "metadata": {},
     "output_type": "display_data"
    },
    {
     "data": {
      "text/html": [
       "<pre>recommendations finished on 56000/101140 queries. users per second: 64562.9</pre>"
      ],
      "text/plain": [
       "recommendations finished on 56000/101140 queries. users per second: 64562.9"
      ]
     },
     "metadata": {},
     "output_type": "display_data"
    },
    {
     "data": {
      "text/html": [
       "<pre>recommendations finished on 57000/101140 queries. users per second: 64593.6</pre>"
      ],
      "text/plain": [
       "recommendations finished on 57000/101140 queries. users per second: 64593.6"
      ]
     },
     "metadata": {},
     "output_type": "display_data"
    },
    {
     "data": {
      "text/html": [
       "<pre>recommendations finished on 58000/101140 queries. users per second: 64573.2</pre>"
      ],
      "text/plain": [
       "recommendations finished on 58000/101140 queries. users per second: 64573.2"
      ]
     },
     "metadata": {},
     "output_type": "display_data"
    },
    {
     "data": {
      "text/html": [
       "<pre>recommendations finished on 59000/101140 queries. users per second: 64586.9</pre>"
      ],
      "text/plain": [
       "recommendations finished on 59000/101140 queries. users per second: 64586.9"
      ]
     },
     "metadata": {},
     "output_type": "display_data"
    },
    {
     "data": {
      "text/html": [
       "<pre>recommendations finished on 60000/101140 queries. users per second: 64642.9</pre>"
      ],
      "text/plain": [
       "recommendations finished on 60000/101140 queries. users per second: 64642.9"
      ]
     },
     "metadata": {},
     "output_type": "display_data"
    },
    {
     "data": {
      "text/html": [
       "<pre>recommendations finished on 61000/101140 queries. users per second: 64594.3</pre>"
      ],
      "text/plain": [
       "recommendations finished on 61000/101140 queries. users per second: 64594.3"
      ]
     },
     "metadata": {},
     "output_type": "display_data"
    },
    {
     "data": {
      "text/html": [
       "<pre>recommendations finished on 62000/101140 queries. users per second: 64577.1</pre>"
      ],
      "text/plain": [
       "recommendations finished on 62000/101140 queries. users per second: 64577.1"
      ]
     },
     "metadata": {},
     "output_type": "display_data"
    },
    {
     "data": {
      "text/html": [
       "<pre>recommendations finished on 63000/101140 queries. users per second: 64654.4</pre>"
      ],
      "text/plain": [
       "recommendations finished on 63000/101140 queries. users per second: 64654.4"
      ]
     },
     "metadata": {},
     "output_type": "display_data"
    },
    {
     "data": {
      "text/html": [
       "<pre>recommendations finished on 64000/101140 queries. users per second: 64773.6</pre>"
      ],
      "text/plain": [
       "recommendations finished on 64000/101140 queries. users per second: 64773.6"
      ]
     },
     "metadata": {},
     "output_type": "display_data"
    },
    {
     "data": {
      "text/html": [
       "<pre>recommendations finished on 65000/101140 queries. users per second: 64969.1</pre>"
      ],
      "text/plain": [
       "recommendations finished on 65000/101140 queries. users per second: 64969.1"
      ]
     },
     "metadata": {},
     "output_type": "display_data"
    },
    {
     "data": {
      "text/html": [
       "<pre>recommendations finished on 66000/101140 queries. users per second: 64611.7</pre>"
      ],
      "text/plain": [
       "recommendations finished on 66000/101140 queries. users per second: 64611.7"
      ]
     },
     "metadata": {},
     "output_type": "display_data"
    },
    {
     "data": {
      "text/html": [
       "<pre>recommendations finished on 67000/101140 queries. users per second: 64515.9</pre>"
      ],
      "text/plain": [
       "recommendations finished on 67000/101140 queries. users per second: 64515.9"
      ]
     },
     "metadata": {},
     "output_type": "display_data"
    },
    {
     "data": {
      "text/html": [
       "<pre>recommendations finished on 68000/101140 queries. users per second: 64673.9</pre>"
      ],
      "text/plain": [
       "recommendations finished on 68000/101140 queries. users per second: 64673.9"
      ]
     },
     "metadata": {},
     "output_type": "display_data"
    },
    {
     "data": {
      "text/html": [
       "<pre>recommendations finished on 69000/101140 queries. users per second: 64788.9</pre>"
      ],
      "text/plain": [
       "recommendations finished on 69000/101140 queries. users per second: 64788.9"
      ]
     },
     "metadata": {},
     "output_type": "display_data"
    },
    {
     "data": {
      "text/html": [
       "<pre>recommendations finished on 70000/101140 queries. users per second: 64952.4</pre>"
      ],
      "text/plain": [
       "recommendations finished on 70000/101140 queries. users per second: 64952.4"
      ]
     },
     "metadata": {},
     "output_type": "display_data"
    },
    {
     "data": {
      "text/html": [
       "<pre>recommendations finished on 71000/101140 queries. users per second: 65123.2</pre>"
      ],
      "text/plain": [
       "recommendations finished on 71000/101140 queries. users per second: 65123.2"
      ]
     },
     "metadata": {},
     "output_type": "display_data"
    },
    {
     "data": {
      "text/html": [
       "<pre>recommendations finished on 72000/101140 queries. users per second: 65305.9</pre>"
      ],
      "text/plain": [
       "recommendations finished on 72000/101140 queries. users per second: 65305.9"
      ]
     },
     "metadata": {},
     "output_type": "display_data"
    },
    {
     "data": {
      "text/html": [
       "<pre>recommendations finished on 73000/101140 queries. users per second: 65498</pre>"
      ],
      "text/plain": [
       "recommendations finished on 73000/101140 queries. users per second: 65498"
      ]
     },
     "metadata": {},
     "output_type": "display_data"
    },
    {
     "data": {
      "text/html": [
       "<pre>recommendations finished on 74000/101140 queries. users per second: 65673.3</pre>"
      ],
      "text/plain": [
       "recommendations finished on 74000/101140 queries. users per second: 65673.3"
      ]
     },
     "metadata": {},
     "output_type": "display_data"
    },
    {
     "data": {
      "text/html": [
       "<pre>recommendations finished on 75000/101140 queries. users per second: 65858.7</pre>"
      ],
      "text/plain": [
       "recommendations finished on 75000/101140 queries. users per second: 65858.7"
      ]
     },
     "metadata": {},
     "output_type": "display_data"
    },
    {
     "data": {
      "text/html": [
       "<pre>recommendations finished on 76000/101140 queries. users per second: 66011.2</pre>"
      ],
      "text/plain": [
       "recommendations finished on 76000/101140 queries. users per second: 66011.2"
      ]
     },
     "metadata": {},
     "output_type": "display_data"
    },
    {
     "data": {
      "text/html": [
       "<pre>recommendations finished on 77000/101140 queries. users per second: 66123</pre>"
      ],
      "text/plain": [
       "recommendations finished on 77000/101140 queries. users per second: 66123"
      ]
     },
     "metadata": {},
     "output_type": "display_data"
    },
    {
     "data": {
      "text/html": [
       "<pre>recommendations finished on 78000/101140 queries. users per second: 66308.8</pre>"
      ],
      "text/plain": [
       "recommendations finished on 78000/101140 queries. users per second: 66308.8"
      ]
     },
     "metadata": {},
     "output_type": "display_data"
    },
    {
     "data": {
      "text/html": [
       "<pre>recommendations finished on 79000/101140 queries. users per second: 66482.7</pre>"
      ],
      "text/plain": [
       "recommendations finished on 79000/101140 queries. users per second: 66482.7"
      ]
     },
     "metadata": {},
     "output_type": "display_data"
    },
    {
     "data": {
      "text/html": [
       "<pre>recommendations finished on 80000/101140 queries. users per second: 66653.5</pre>"
      ],
      "text/plain": [
       "recommendations finished on 80000/101140 queries. users per second: 66653.5"
      ]
     },
     "metadata": {},
     "output_type": "display_data"
    },
    {
     "data": {
      "text/html": [
       "<pre>recommendations finished on 81000/101140 queries. users per second: 66802.9</pre>"
      ],
      "text/plain": [
       "recommendations finished on 81000/101140 queries. users per second: 66802.9"
      ]
     },
     "metadata": {},
     "output_type": "display_data"
    },
    {
     "data": {
      "text/html": [
       "<pre>recommendations finished on 82000/101140 queries. users per second: 66887.1</pre>"
      ],
      "text/plain": [
       "recommendations finished on 82000/101140 queries. users per second: 66887.1"
      ]
     },
     "metadata": {},
     "output_type": "display_data"
    },
    {
     "data": {
      "text/html": [
       "<pre>recommendations finished on 83000/101140 queries. users per second: 66764.1</pre>"
      ],
      "text/plain": [
       "recommendations finished on 83000/101140 queries. users per second: 66764.1"
      ]
     },
     "metadata": {},
     "output_type": "display_data"
    },
    {
     "data": {
      "text/html": [
       "<pre>recommendations finished on 84000/101140 queries. users per second: 66748.8</pre>"
      ],
      "text/plain": [
       "recommendations finished on 84000/101140 queries. users per second: 66748.8"
      ]
     },
     "metadata": {},
     "output_type": "display_data"
    },
    {
     "data": {
      "text/html": [
       "<pre>recommendations finished on 85000/101140 queries. users per second: 66850.6</pre>"
      ],
      "text/plain": [
       "recommendations finished on 85000/101140 queries. users per second: 66850.6"
      ]
     },
     "metadata": {},
     "output_type": "display_data"
    },
    {
     "data": {
      "text/html": [
       "<pre>recommendations finished on 86000/101140 queries. users per second: 66926.1</pre>"
      ],
      "text/plain": [
       "recommendations finished on 86000/101140 queries. users per second: 66926.1"
      ]
     },
     "metadata": {},
     "output_type": "display_data"
    },
    {
     "data": {
      "text/html": [
       "<pre>recommendations finished on 87000/101140 queries. users per second: 67024.6</pre>"
      ],
      "text/plain": [
       "recommendations finished on 87000/101140 queries. users per second: 67024.6"
      ]
     },
     "metadata": {},
     "output_type": "display_data"
    },
    {
     "data": {
      "text/html": [
       "<pre>recommendations finished on 88000/101140 queries. users per second: 66948.3</pre>"
      ],
      "text/plain": [
       "recommendations finished on 88000/101140 queries. users per second: 66948.3"
      ]
     },
     "metadata": {},
     "output_type": "display_data"
    },
    {
     "data": {
      "text/html": [
       "<pre>recommendations finished on 89000/101140 queries. users per second: 67062</pre>"
      ],
      "text/plain": [
       "recommendations finished on 89000/101140 queries. users per second: 67062"
      ]
     },
     "metadata": {},
     "output_type": "display_data"
    },
    {
     "data": {
      "text/html": [
       "<pre>recommendations finished on 90000/101140 queries. users per second: 66981.7</pre>"
      ],
      "text/plain": [
       "recommendations finished on 90000/101140 queries. users per second: 66981.7"
      ]
     },
     "metadata": {},
     "output_type": "display_data"
    },
    {
     "data": {
      "text/html": [
       "<pre>recommendations finished on 91000/101140 queries. users per second: 66658.2</pre>"
      ],
      "text/plain": [
       "recommendations finished on 91000/101140 queries. users per second: 66658.2"
      ]
     },
     "metadata": {},
     "output_type": "display_data"
    },
    {
     "data": {
      "text/html": [
       "<pre>recommendations finished on 92000/101140 queries. users per second: 66506.3</pre>"
      ],
      "text/plain": [
       "recommendations finished on 92000/101140 queries. users per second: 66506.3"
      ]
     },
     "metadata": {},
     "output_type": "display_data"
    },
    {
     "data": {
      "text/html": [
       "<pre>recommendations finished on 93000/101140 queries. users per second: 66393.8</pre>"
      ],
      "text/plain": [
       "recommendations finished on 93000/101140 queries. users per second: 66393.8"
      ]
     },
     "metadata": {},
     "output_type": "display_data"
    },
    {
     "data": {
      "text/html": [
       "<pre>recommendations finished on 94000/101140 queries. users per second: 66292.4</pre>"
      ],
      "text/plain": [
       "recommendations finished on 94000/101140 queries. users per second: 66292.4"
      ]
     },
     "metadata": {},
     "output_type": "display_data"
    },
    {
     "data": {
      "text/html": [
       "<pre>recommendations finished on 95000/101140 queries. users per second: 66207.8</pre>"
      ],
      "text/plain": [
       "recommendations finished on 95000/101140 queries. users per second: 66207.8"
      ]
     },
     "metadata": {},
     "output_type": "display_data"
    },
    {
     "data": {
      "text/html": [
       "<pre>recommendations finished on 96000/101140 queries. users per second: 66096.1</pre>"
      ],
      "text/plain": [
       "recommendations finished on 96000/101140 queries. users per second: 66096.1"
      ]
     },
     "metadata": {},
     "output_type": "display_data"
    },
    {
     "data": {
      "text/html": [
       "<pre>recommendations finished on 97000/101140 queries. users per second: 65916.2</pre>"
      ],
      "text/plain": [
       "recommendations finished on 97000/101140 queries. users per second: 65916.2"
      ]
     },
     "metadata": {},
     "output_type": "display_data"
    },
    {
     "data": {
      "text/html": [
       "<pre>recommendations finished on 98000/101140 queries. users per second: 65809.7</pre>"
      ],
      "text/plain": [
       "recommendations finished on 98000/101140 queries. users per second: 65809.7"
      ]
     },
     "metadata": {},
     "output_type": "display_data"
    },
    {
     "data": {
      "text/html": [
       "<pre>recommendations finished on 99000/101140 queries. users per second: 65708</pre>"
      ],
      "text/plain": [
       "recommendations finished on 99000/101140 queries. users per second: 65708"
      ]
     },
     "metadata": {},
     "output_type": "display_data"
    },
    {
     "data": {
      "text/html": [
       "<pre>recommendations finished on 100000/101140 queries. users per second: 65553.6</pre>"
      ],
      "text/plain": [
       "recommendations finished on 100000/101140 queries. users per second: 65553.6"
      ]
     },
     "metadata": {},
     "output_type": "display_data"
    },
    {
     "data": {
      "text/html": [
       "<pre>recommendations finished on 101000/101140 queries. users per second: 65013.3</pre>"
      ],
      "text/plain": [
       "recommendations finished on 101000/101140 queries. users per second: 65013.3"
      ]
     },
     "metadata": {},
     "output_type": "display_data"
    },
    {
     "name": "stdout",
     "output_type": "stream",
     "text": [
      "+-------+--------+-------+------+\n",
      "| LYBID | ITEMID | score | rank |\n",
      "+-------+--------+-------+------+\n",
      "| 10004 | 33819  |  1.0  |  1   |\n",
      "| 10004 | 42733  |  1.0  |  2   |\n",
      "| 10004 | 43931  |  1.0  |  3   |\n",
      "| 10004 | 37910  |  1.0  |  4   |\n",
      "| 10004 | 37912  |  1.0  |  5   |\n",
      "| 10009 | 33819  |  1.0  |  1   |\n",
      "| 10009 | 42733  |  1.0  |  2   |\n",
      "| 10009 | 43931  |  1.0  |  3   |\n",
      "| 10009 | 37910  |  1.0  |  4   |\n",
      "| 10009 | 37912  |  1.0  |  5   |\n",
      "| 10012 | 33819  |  1.0  |  1   |\n",
      "| 10012 | 42733  |  1.0  |  2   |\n",
      "| 10012 | 43931  |  1.0  |  3   |\n",
      "| 10012 | 37910  |  1.0  |  4   |\n",
      "| 10012 | 37912  |  1.0  |  5   |\n",
      "| 10022 | 33819  |  1.0  |  1   |\n",
      "| 10022 | 42733  |  1.0  |  2   |\n",
      "| 10022 | 43931  |  1.0  |  3   |\n",
      "| 10022 | 37910  |  1.0  |  4   |\n",
      "| 10022 | 37912  |  1.0  |  5   |\n",
      "| 10023 | 43901  |  1.0  |  1   |\n",
      "| 10023 | 33819  |  1.0  |  2   |\n",
      "| 10023 | 42733  |  1.0  |  3   |\n",
      "| 10023 | 37910  |  1.0  |  4   |\n",
      "| 10023 | 37912  |  1.0  |  5   |\n",
      "| 10029 | 33819  |  1.0  |  1   |\n",
      "| 10029 | 42733  |  1.0  |  2   |\n",
      "| 10029 | 43931  |  1.0  |  3   |\n",
      "| 10029 | 37910  |  1.0  |  4   |\n",
      "| 10029 | 37912  |  1.0  |  5   |\n",
      "+-------+--------+-------+------+\n",
      "[505700 rows x 4 columns]\n",
      "\n"
     ]
    }
   ],
   "source": [
    "# these variables will change accordingly\n",
    "name = 'popularity'\n",
    "target = 'purchase_dummy'\n",
    "pop_dummy = model(train_data_dummy, name, user_id, item_id, target, users_to_recommend, n_rec, n_display)"
   ]
  },
  {
   "cell_type": "markdown",
   "metadata": {},
   "source": [
    "#### Using normalized purchase count"
   ]
  },
  {
   "cell_type": "code",
   "execution_count": 23,
   "metadata": {},
   "outputs": [
    {
     "data": {
      "text/html": [
       "<pre>Preparing data set.</pre>"
      ],
      "text/plain": [
       "Preparing data set."
      ]
     },
     "metadata": {},
     "output_type": "display_data"
    },
    {
     "data": {
      "text/html": [
       "<pre>    Data has 277080 observations with 93860 users and 911 items.</pre>"
      ],
      "text/plain": [
       "    Data has 277080 observations with 93860 users and 911 items."
      ]
     },
     "metadata": {},
     "output_type": "display_data"
    },
    {
     "data": {
      "text/html": [
       "<pre>    Data prepared in: 0.25333s</pre>"
      ],
      "text/plain": [
       "    Data prepared in: 0.25333s"
      ]
     },
     "metadata": {},
     "output_type": "display_data"
    },
    {
     "data": {
      "text/html": [
       "<pre>277080 observations to process; with 911 unique items.</pre>"
      ],
      "text/plain": [
       "277080 observations to process; with 911 unique items."
      ]
     },
     "metadata": {},
     "output_type": "display_data"
    },
    {
     "data": {
      "text/html": [
       "<pre>recommendations finished on 1000/101140 queries. users per second: 25289.6</pre>"
      ],
      "text/plain": [
       "recommendations finished on 1000/101140 queries. users per second: 25289.6"
      ]
     },
     "metadata": {},
     "output_type": "display_data"
    },
    {
     "data": {
      "text/html": [
       "<pre>recommendations finished on 2000/101140 queries. users per second: 39114.4</pre>"
      ],
      "text/plain": [
       "recommendations finished on 2000/101140 queries. users per second: 39114.4"
      ]
     },
     "metadata": {},
     "output_type": "display_data"
    },
    {
     "data": {
      "text/html": [
       "<pre>recommendations finished on 3000/101140 queries. users per second: 47840</pre>"
      ],
      "text/plain": [
       "recommendations finished on 3000/101140 queries. users per second: 47840"
      ]
     },
     "metadata": {},
     "output_type": "display_data"
    },
    {
     "data": {
      "text/html": [
       "<pre>recommendations finished on 4000/101140 queries. users per second: 54066.5</pre>"
      ],
      "text/plain": [
       "recommendations finished on 4000/101140 queries. users per second: 54066.5"
      ]
     },
     "metadata": {},
     "output_type": "display_data"
    },
    {
     "data": {
      "text/html": [
       "<pre>recommendations finished on 5000/101140 queries. users per second: 56667.5</pre>"
      ],
      "text/plain": [
       "recommendations finished on 5000/101140 queries. users per second: 56667.5"
      ]
     },
     "metadata": {},
     "output_type": "display_data"
    },
    {
     "data": {
      "text/html": [
       "<pre>recommendations finished on 6000/101140 queries. users per second: 57591.5</pre>"
      ],
      "text/plain": [
       "recommendations finished on 6000/101140 queries. users per second: 57591.5"
      ]
     },
     "metadata": {},
     "output_type": "display_data"
    },
    {
     "data": {
      "text/html": [
       "<pre>recommendations finished on 7000/101140 queries. users per second: 60717.5</pre>"
      ],
      "text/plain": [
       "recommendations finished on 7000/101140 queries. users per second: 60717.5"
      ]
     },
     "metadata": {},
     "output_type": "display_data"
    },
    {
     "data": {
      "text/html": [
       "<pre>recommendations finished on 8000/101140 queries. users per second: 62697.4</pre>"
      ],
      "text/plain": [
       "recommendations finished on 8000/101140 queries. users per second: 62697.4"
      ]
     },
     "metadata": {},
     "output_type": "display_data"
    },
    {
     "data": {
      "text/html": [
       "<pre>recommendations finished on 9000/101140 queries. users per second: 64660.7</pre>"
      ],
      "text/plain": [
       "recommendations finished on 9000/101140 queries. users per second: 64660.7"
      ]
     },
     "metadata": {},
     "output_type": "display_data"
    },
    {
     "data": {
      "text/html": [
       "<pre>recommendations finished on 10000/101140 queries. users per second: 66271.2</pre>"
      ],
      "text/plain": [
       "recommendations finished on 10000/101140 queries. users per second: 66271.2"
      ]
     },
     "metadata": {},
     "output_type": "display_data"
    },
    {
     "data": {
      "text/html": [
       "<pre>recommendations finished on 11000/101140 queries. users per second: 67897</pre>"
      ],
      "text/plain": [
       "recommendations finished on 11000/101140 queries. users per second: 67897"
      ]
     },
     "metadata": {},
     "output_type": "display_data"
    },
    {
     "data": {
      "text/html": [
       "<pre>recommendations finished on 12000/101140 queries. users per second: 67418</pre>"
      ],
      "text/plain": [
       "recommendations finished on 12000/101140 queries. users per second: 67418"
      ]
     },
     "metadata": {},
     "output_type": "display_data"
    },
    {
     "data": {
      "text/html": [
       "<pre>recommendations finished on 13000/101140 queries. users per second: 67739</pre>"
      ],
      "text/plain": [
       "recommendations finished on 13000/101140 queries. users per second: 67739"
      ]
     },
     "metadata": {},
     "output_type": "display_data"
    },
    {
     "data": {
      "text/html": [
       "<pre>recommendations finished on 14000/101140 queries. users per second: 68582.1</pre>"
      ],
      "text/plain": [
       "recommendations finished on 14000/101140 queries. users per second: 68582.1"
      ]
     },
     "metadata": {},
     "output_type": "display_data"
    },
    {
     "data": {
      "text/html": [
       "<pre>recommendations finished on 15000/101140 queries. users per second: 69783.3</pre>"
      ],
      "text/plain": [
       "recommendations finished on 15000/101140 queries. users per second: 69783.3"
      ]
     },
     "metadata": {},
     "output_type": "display_data"
    },
    {
     "data": {
      "text/html": [
       "<pre>recommendations finished on 16000/101140 queries. users per second: 70493.9</pre>"
      ],
      "text/plain": [
       "recommendations finished on 16000/101140 queries. users per second: 70493.9"
      ]
     },
     "metadata": {},
     "output_type": "display_data"
    },
    {
     "data": {
      "text/html": [
       "<pre>recommendations finished on 17000/101140 queries. users per second: 70787</pre>"
      ],
      "text/plain": [
       "recommendations finished on 17000/101140 queries. users per second: 70787"
      ]
     },
     "metadata": {},
     "output_type": "display_data"
    },
    {
     "data": {
      "text/html": [
       "<pre>recommendations finished on 18000/101140 queries. users per second: 71468.8</pre>"
      ],
      "text/plain": [
       "recommendations finished on 18000/101140 queries. users per second: 71468.8"
      ]
     },
     "metadata": {},
     "output_type": "display_data"
    },
    {
     "data": {
      "text/html": [
       "<pre>recommendations finished on 19000/101140 queries. users per second: 72573.7</pre>"
      ],
      "text/plain": [
       "recommendations finished on 19000/101140 queries. users per second: 72573.7"
      ]
     },
     "metadata": {},
     "output_type": "display_data"
    },
    {
     "data": {
      "text/html": [
       "<pre>recommendations finished on 20000/101140 queries. users per second: 73746.6</pre>"
      ],
      "text/plain": [
       "recommendations finished on 20000/101140 queries. users per second: 73746.6"
      ]
     },
     "metadata": {},
     "output_type": "display_data"
    },
    {
     "data": {
      "text/html": [
       "<pre>recommendations finished on 21000/101140 queries. users per second: 74928.3</pre>"
      ],
      "text/plain": [
       "recommendations finished on 21000/101140 queries. users per second: 74928.3"
      ]
     },
     "metadata": {},
     "output_type": "display_data"
    },
    {
     "data": {
      "text/html": [
       "<pre>recommendations finished on 22000/101140 queries. users per second: 76039.3</pre>"
      ],
      "text/plain": [
       "recommendations finished on 22000/101140 queries. users per second: 76039.3"
      ]
     },
     "metadata": {},
     "output_type": "display_data"
    },
    {
     "data": {
      "text/html": [
       "<pre>recommendations finished on 23000/101140 queries. users per second: 77085.8</pre>"
      ],
      "text/plain": [
       "recommendations finished on 23000/101140 queries. users per second: 77085.8"
      ]
     },
     "metadata": {},
     "output_type": "display_data"
    },
    {
     "data": {
      "text/html": [
       "<pre>recommendations finished on 24000/101140 queries. users per second: 77940.8</pre>"
      ],
      "text/plain": [
       "recommendations finished on 24000/101140 queries. users per second: 77940.8"
      ]
     },
     "metadata": {},
     "output_type": "display_data"
    },
    {
     "data": {
      "text/html": [
       "<pre>recommendations finished on 25000/101140 queries. users per second: 78868.6</pre>"
      ],
      "text/plain": [
       "recommendations finished on 25000/101140 queries. users per second: 78868.6"
      ]
     },
     "metadata": {},
     "output_type": "display_data"
    },
    {
     "data": {
      "text/html": [
       "<pre>recommendations finished on 26000/101140 queries. users per second: 79851.6</pre>"
      ],
      "text/plain": [
       "recommendations finished on 26000/101140 queries. users per second: 79851.6"
      ]
     },
     "metadata": {},
     "output_type": "display_data"
    },
    {
     "data": {
      "text/html": [
       "<pre>recommendations finished on 27000/101140 queries. users per second: 80614.1</pre>"
      ],
      "text/plain": [
       "recommendations finished on 27000/101140 queries. users per second: 80614.1"
      ]
     },
     "metadata": {},
     "output_type": "display_data"
    },
    {
     "data": {
      "text/html": [
       "<pre>recommendations finished on 28000/101140 queries. users per second: 81450</pre>"
      ],
      "text/plain": [
       "recommendations finished on 28000/101140 queries. users per second: 81450"
      ]
     },
     "metadata": {},
     "output_type": "display_data"
    },
    {
     "data": {
      "text/html": [
       "<pre>recommendations finished on 29000/101140 queries. users per second: 82105.8</pre>"
      ],
      "text/plain": [
       "recommendations finished on 29000/101140 queries. users per second: 82105.8"
      ]
     },
     "metadata": {},
     "output_type": "display_data"
    },
    {
     "data": {
      "text/html": [
       "<pre>recommendations finished on 30000/101140 queries. users per second: 82833.3</pre>"
      ],
      "text/plain": [
       "recommendations finished on 30000/101140 queries. users per second: 82833.3"
      ]
     },
     "metadata": {},
     "output_type": "display_data"
    },
    {
     "data": {
      "text/html": [
       "<pre>recommendations finished on 31000/101140 queries. users per second: 83389.2</pre>"
      ],
      "text/plain": [
       "recommendations finished on 31000/101140 queries. users per second: 83389.2"
      ]
     },
     "metadata": {},
     "output_type": "display_data"
    },
    {
     "data": {
      "text/html": [
       "<pre>recommendations finished on 32000/101140 queries. users per second: 83900.3</pre>"
      ],
      "text/plain": [
       "recommendations finished on 32000/101140 queries. users per second: 83900.3"
      ]
     },
     "metadata": {},
     "output_type": "display_data"
    },
    {
     "data": {
      "text/html": [
       "<pre>recommendations finished on 33000/101140 queries. users per second: 83849.8</pre>"
      ],
      "text/plain": [
       "recommendations finished on 33000/101140 queries. users per second: 83849.8"
      ]
     },
     "metadata": {},
     "output_type": "display_data"
    },
    {
     "data": {
      "text/html": [
       "<pre>recommendations finished on 34000/101140 queries. users per second: 83400.6</pre>"
      ],
      "text/plain": [
       "recommendations finished on 34000/101140 queries. users per second: 83400.6"
      ]
     },
     "metadata": {},
     "output_type": "display_data"
    },
    {
     "data": {
      "text/html": [
       "<pre>recommendations finished on 35000/101140 queries. users per second: 83304</pre>"
      ],
      "text/plain": [
       "recommendations finished on 35000/101140 queries. users per second: 83304"
      ]
     },
     "metadata": {},
     "output_type": "display_data"
    },
    {
     "data": {
      "text/html": [
       "<pre>recommendations finished on 36000/101140 queries. users per second: 83080.8</pre>"
      ],
      "text/plain": [
       "recommendations finished on 36000/101140 queries. users per second: 83080.8"
      ]
     },
     "metadata": {},
     "output_type": "display_data"
    },
    {
     "data": {
      "text/html": [
       "<pre>recommendations finished on 37000/101140 queries. users per second: 82439.9</pre>"
      ],
      "text/plain": [
       "recommendations finished on 37000/101140 queries. users per second: 82439.9"
      ]
     },
     "metadata": {},
     "output_type": "display_data"
    },
    {
     "data": {
      "text/html": [
       "<pre>recommendations finished on 38000/101140 queries. users per second: 82232.9</pre>"
      ],
      "text/plain": [
       "recommendations finished on 38000/101140 queries. users per second: 82232.9"
      ]
     },
     "metadata": {},
     "output_type": "display_data"
    },
    {
     "data": {
      "text/html": [
       "<pre>recommendations finished on 39000/101140 queries. users per second: 81570.8</pre>"
      ],
      "text/plain": [
       "recommendations finished on 39000/101140 queries. users per second: 81570.8"
      ]
     },
     "metadata": {},
     "output_type": "display_data"
    },
    {
     "data": {
      "text/html": [
       "<pre>recommendations finished on 40000/101140 queries. users per second: 81615.3</pre>"
      ],
      "text/plain": [
       "recommendations finished on 40000/101140 queries. users per second: 81615.3"
      ]
     },
     "metadata": {},
     "output_type": "display_data"
    },
    {
     "data": {
      "text/html": [
       "<pre>recommendations finished on 41000/101140 queries. users per second: 80870.1</pre>"
      ],
      "text/plain": [
       "recommendations finished on 41000/101140 queries. users per second: 80870.1"
      ]
     },
     "metadata": {},
     "output_type": "display_data"
    },
    {
     "data": {
      "text/html": [
       "<pre>recommendations finished on 42000/101140 queries. users per second: 81324.6</pre>"
      ],
      "text/plain": [
       "recommendations finished on 42000/101140 queries. users per second: 81324.6"
      ]
     },
     "metadata": {},
     "output_type": "display_data"
    },
    {
     "data": {
      "text/html": [
       "<pre>recommendations finished on 43000/101140 queries. users per second: 81374.8</pre>"
      ],
      "text/plain": [
       "recommendations finished on 43000/101140 queries. users per second: 81374.8"
      ]
     },
     "metadata": {},
     "output_type": "display_data"
    },
    {
     "data": {
      "text/html": [
       "<pre>recommendations finished on 44000/101140 queries. users per second: 81542.3</pre>"
      ],
      "text/plain": [
       "recommendations finished on 44000/101140 queries. users per second: 81542.3"
      ]
     },
     "metadata": {},
     "output_type": "display_data"
    },
    {
     "data": {
      "text/html": [
       "<pre>recommendations finished on 45000/101140 queries. users per second: 81225.8</pre>"
      ],
      "text/plain": [
       "recommendations finished on 45000/101140 queries. users per second: 81225.8"
      ]
     },
     "metadata": {},
     "output_type": "display_data"
    },
    {
     "data": {
      "text/html": [
       "<pre>recommendations finished on 46000/101140 queries. users per second: 81496.6</pre>"
      ],
      "text/plain": [
       "recommendations finished on 46000/101140 queries. users per second: 81496.6"
      ]
     },
     "metadata": {},
     "output_type": "display_data"
    },
    {
     "data": {
      "text/html": [
       "<pre>recommendations finished on 47000/101140 queries. users per second: 81444.1</pre>"
      ],
      "text/plain": [
       "recommendations finished on 47000/101140 queries. users per second: 81444.1"
      ]
     },
     "metadata": {},
     "output_type": "display_data"
    },
    {
     "data": {
      "text/html": [
       "<pre>recommendations finished on 48000/101140 queries. users per second: 81097.4</pre>"
      ],
      "text/plain": [
       "recommendations finished on 48000/101140 queries. users per second: 81097.4"
      ]
     },
     "metadata": {},
     "output_type": "display_data"
    },
    {
     "data": {
      "text/html": [
       "<pre>recommendations finished on 49000/101140 queries. users per second: 81080.3</pre>"
      ],
      "text/plain": [
       "recommendations finished on 49000/101140 queries. users per second: 81080.3"
      ]
     },
     "metadata": {},
     "output_type": "display_data"
    },
    {
     "data": {
      "text/html": [
       "<pre>recommendations finished on 50000/101140 queries. users per second: 81386.7</pre>"
      ],
      "text/plain": [
       "recommendations finished on 50000/101140 queries. users per second: 81386.7"
      ]
     },
     "metadata": {},
     "output_type": "display_data"
    },
    {
     "data": {
      "text/html": [
       "<pre>recommendations finished on 51000/101140 queries. users per second: 81296.7</pre>"
      ],
      "text/plain": [
       "recommendations finished on 51000/101140 queries. users per second: 81296.7"
      ]
     },
     "metadata": {},
     "output_type": "display_data"
    },
    {
     "data": {
      "text/html": [
       "<pre>recommendations finished on 52000/101140 queries. users per second: 81402.8</pre>"
      ],
      "text/plain": [
       "recommendations finished on 52000/101140 queries. users per second: 81402.8"
      ]
     },
     "metadata": {},
     "output_type": "display_data"
    },
    {
     "data": {
      "text/html": [
       "<pre>recommendations finished on 53000/101140 queries. users per second: 81788.2</pre>"
      ],
      "text/plain": [
       "recommendations finished on 53000/101140 queries. users per second: 81788.2"
      ]
     },
     "metadata": {},
     "output_type": "display_data"
    },
    {
     "data": {
      "text/html": [
       "<pre>recommendations finished on 54000/101140 queries. users per second: 81831.7</pre>"
      ],
      "text/plain": [
       "recommendations finished on 54000/101140 queries. users per second: 81831.7"
      ]
     },
     "metadata": {},
     "output_type": "display_data"
    },
    {
     "data": {
      "text/html": [
       "<pre>recommendations finished on 55000/101140 queries. users per second: 81974.9</pre>"
      ],
      "text/plain": [
       "recommendations finished on 55000/101140 queries. users per second: 81974.9"
      ]
     },
     "metadata": {},
     "output_type": "display_data"
    },
    {
     "data": {
      "text/html": [
       "<pre>recommendations finished on 56000/101140 queries. users per second: 82221.3</pre>"
      ],
      "text/plain": [
       "recommendations finished on 56000/101140 queries. users per second: 82221.3"
      ]
     },
     "metadata": {},
     "output_type": "display_data"
    },
    {
     "data": {
      "text/html": [
       "<pre>recommendations finished on 57000/101140 queries. users per second: 82119.2</pre>"
      ],
      "text/plain": [
       "recommendations finished on 57000/101140 queries. users per second: 82119.2"
      ]
     },
     "metadata": {},
     "output_type": "display_data"
    },
    {
     "data": {
      "text/html": [
       "<pre>recommendations finished on 58000/101140 queries. users per second: 82345</pre>"
      ],
      "text/plain": [
       "recommendations finished on 58000/101140 queries. users per second: 82345"
      ]
     },
     "metadata": {},
     "output_type": "display_data"
    },
    {
     "data": {
      "text/html": [
       "<pre>recommendations finished on 59000/101140 queries. users per second: 82730.3</pre>"
      ],
      "text/plain": [
       "recommendations finished on 59000/101140 queries. users per second: 82730.3"
      ]
     },
     "metadata": {},
     "output_type": "display_data"
    },
    {
     "data": {
      "text/html": [
       "<pre>recommendations finished on 60000/101140 queries. users per second: 82647.6</pre>"
      ],
      "text/plain": [
       "recommendations finished on 60000/101140 queries. users per second: 82647.6"
      ]
     },
     "metadata": {},
     "output_type": "display_data"
    },
    {
     "data": {
      "text/html": [
       "<pre>recommendations finished on 61000/101140 queries. users per second: 82744.1</pre>"
      ],
      "text/plain": [
       "recommendations finished on 61000/101140 queries. users per second: 82744.1"
      ]
     },
     "metadata": {},
     "output_type": "display_data"
    },
    {
     "data": {
      "text/html": [
       "<pre>recommendations finished on 62000/101140 queries. users per second: 82642.1</pre>"
      ],
      "text/plain": [
       "recommendations finished on 62000/101140 queries. users per second: 82642.1"
      ]
     },
     "metadata": {},
     "output_type": "display_data"
    },
    {
     "data": {
      "text/html": [
       "<pre>recommendations finished on 63000/101140 queries. users per second: 82488.2</pre>"
      ],
      "text/plain": [
       "recommendations finished on 63000/101140 queries. users per second: 82488.2"
      ]
     },
     "metadata": {},
     "output_type": "display_data"
    },
    {
     "data": {
      "text/html": [
       "<pre>recommendations finished on 64000/101140 queries. users per second: 82154.9</pre>"
      ],
      "text/plain": [
       "recommendations finished on 64000/101140 queries. users per second: 82154.9"
      ]
     },
     "metadata": {},
     "output_type": "display_data"
    },
    {
     "data": {
      "text/html": [
       "<pre>recommendations finished on 65000/101140 queries. users per second: 81945.3</pre>"
      ],
      "text/plain": [
       "recommendations finished on 65000/101140 queries. users per second: 81945.3"
      ]
     },
     "metadata": {},
     "output_type": "display_data"
    },
    {
     "data": {
      "text/html": [
       "<pre>recommendations finished on 66000/101140 queries. users per second: 82060.9</pre>"
      ],
      "text/plain": [
       "recommendations finished on 66000/101140 queries. users per second: 82060.9"
      ]
     },
     "metadata": {},
     "output_type": "display_data"
    },
    {
     "data": {
      "text/html": [
       "<pre>recommendations finished on 67000/101140 queries. users per second: 82242.5</pre>"
      ],
      "text/plain": [
       "recommendations finished on 67000/101140 queries. users per second: 82242.5"
      ]
     },
     "metadata": {},
     "output_type": "display_data"
    },
    {
     "data": {
      "text/html": [
       "<pre>recommendations finished on 68000/101140 queries. users per second: 82109.3</pre>"
      ],
      "text/plain": [
       "recommendations finished on 68000/101140 queries. users per second: 82109.3"
      ]
     },
     "metadata": {},
     "output_type": "display_data"
    },
    {
     "data": {
      "text/html": [
       "<pre>recommendations finished on 69000/101140 queries. users per second: 81662.2</pre>"
      ],
      "text/plain": [
       "recommendations finished on 69000/101140 queries. users per second: 81662.2"
      ]
     },
     "metadata": {},
     "output_type": "display_data"
    },
    {
     "data": {
      "text/html": [
       "<pre>recommendations finished on 70000/101140 queries. users per second: 81479.6</pre>"
      ],
      "text/plain": [
       "recommendations finished on 70000/101140 queries. users per second: 81479.6"
      ]
     },
     "metadata": {},
     "output_type": "display_data"
    },
    {
     "data": {
      "text/html": [
       "<pre>recommendations finished on 71000/101140 queries. users per second: 81619.8</pre>"
      ],
      "text/plain": [
       "recommendations finished on 71000/101140 queries. users per second: 81619.8"
      ]
     },
     "metadata": {},
     "output_type": "display_data"
    },
    {
     "data": {
      "text/html": [
       "<pre>recommendations finished on 72000/101140 queries. users per second: 81724</pre>"
      ],
      "text/plain": [
       "recommendations finished on 72000/101140 queries. users per second: 81724"
      ]
     },
     "metadata": {},
     "output_type": "display_data"
    },
    {
     "data": {
      "text/html": [
       "<pre>recommendations finished on 73000/101140 queries. users per second: 81794.8</pre>"
      ],
      "text/plain": [
       "recommendations finished on 73000/101140 queries. users per second: 81794.8"
      ]
     },
     "metadata": {},
     "output_type": "display_data"
    },
    {
     "data": {
      "text/html": [
       "<pre>recommendations finished on 74000/101140 queries. users per second: 82075.5</pre>"
      ],
      "text/plain": [
       "recommendations finished on 74000/101140 queries. users per second: 82075.5"
      ]
     },
     "metadata": {},
     "output_type": "display_data"
    },
    {
     "data": {
      "text/html": [
       "<pre>recommendations finished on 75000/101140 queries. users per second: 82090.7</pre>"
      ],
      "text/plain": [
       "recommendations finished on 75000/101140 queries. users per second: 82090.7"
      ]
     },
     "metadata": {},
     "output_type": "display_data"
    },
    {
     "data": {
      "text/html": [
       "<pre>recommendations finished on 76000/101140 queries. users per second: 82266.5</pre>"
      ],
      "text/plain": [
       "recommendations finished on 76000/101140 queries. users per second: 82266.5"
      ]
     },
     "metadata": {},
     "output_type": "display_data"
    },
    {
     "data": {
      "text/html": [
       "<pre>recommendations finished on 77000/101140 queries. users per second: 82513.3</pre>"
      ],
      "text/plain": [
       "recommendations finished on 77000/101140 queries. users per second: 82513.3"
      ]
     },
     "metadata": {},
     "output_type": "display_data"
    },
    {
     "data": {
      "text/html": [
       "<pre>recommendations finished on 78000/101140 queries. users per second: 82713.7</pre>"
      ],
      "text/plain": [
       "recommendations finished on 78000/101140 queries. users per second: 82713.7"
      ]
     },
     "metadata": {},
     "output_type": "display_data"
    },
    {
     "data": {
      "text/html": [
       "<pre>recommendations finished on 79000/101140 queries. users per second: 82945.6</pre>"
      ],
      "text/plain": [
       "recommendations finished on 79000/101140 queries. users per second: 82945.6"
      ]
     },
     "metadata": {},
     "output_type": "display_data"
    },
    {
     "data": {
      "text/html": [
       "<pre>recommendations finished on 80000/101140 queries. users per second: 83172.6</pre>"
      ],
      "text/plain": [
       "recommendations finished on 80000/101140 queries. users per second: 83172.6"
      ]
     },
     "metadata": {},
     "output_type": "display_data"
    },
    {
     "data": {
      "text/html": [
       "<pre>recommendations finished on 81000/101140 queries. users per second: 83329.9</pre>"
      ],
      "text/plain": [
       "recommendations finished on 81000/101140 queries. users per second: 83329.9"
      ]
     },
     "metadata": {},
     "output_type": "display_data"
    },
    {
     "data": {
      "text/html": [
       "<pre>recommendations finished on 82000/101140 queries. users per second: 83461.9</pre>"
      ],
      "text/plain": [
       "recommendations finished on 82000/101140 queries. users per second: 83461.9"
      ]
     },
     "metadata": {},
     "output_type": "display_data"
    },
    {
     "data": {
      "text/html": [
       "<pre>recommendations finished on 83000/101140 queries. users per second: 83570.5</pre>"
      ],
      "text/plain": [
       "recommendations finished on 83000/101140 queries. users per second: 83570.5"
      ]
     },
     "metadata": {},
     "output_type": "display_data"
    },
    {
     "data": {
      "text/html": [
       "<pre>recommendations finished on 84000/101140 queries. users per second: 83622.2</pre>"
      ],
      "text/plain": [
       "recommendations finished on 84000/101140 queries. users per second: 83622.2"
      ]
     },
     "metadata": {},
     "output_type": "display_data"
    },
    {
     "data": {
      "text/html": [
       "<pre>recommendations finished on 85000/101140 queries. users per second: 83828.6</pre>"
      ],
      "text/plain": [
       "recommendations finished on 85000/101140 queries. users per second: 83828.6"
      ]
     },
     "metadata": {},
     "output_type": "display_data"
    },
    {
     "data": {
      "text/html": [
       "<pre>recommendations finished on 86000/101140 queries. users per second: 83770.2</pre>"
      ],
      "text/plain": [
       "recommendations finished on 86000/101140 queries. users per second: 83770.2"
      ]
     },
     "metadata": {},
     "output_type": "display_data"
    },
    {
     "data": {
      "text/html": [
       "<pre>recommendations finished on 87000/101140 queries. users per second: 83853.1</pre>"
      ],
      "text/plain": [
       "recommendations finished on 87000/101140 queries. users per second: 83853.1"
      ]
     },
     "metadata": {},
     "output_type": "display_data"
    },
    {
     "data": {
      "text/html": [
       "<pre>recommendations finished on 88000/101140 queries. users per second: 84085.8</pre>"
      ],
      "text/plain": [
       "recommendations finished on 88000/101140 queries. users per second: 84085.8"
      ]
     },
     "metadata": {},
     "output_type": "display_data"
    },
    {
     "data": {
      "text/html": [
       "<pre>recommendations finished on 89000/101140 queries. users per second: 84065.4</pre>"
      ],
      "text/plain": [
       "recommendations finished on 89000/101140 queries. users per second: 84065.4"
      ]
     },
     "metadata": {},
     "output_type": "display_data"
    },
    {
     "data": {
      "text/html": [
       "<pre>recommendations finished on 90000/101140 queries. users per second: 84166.7</pre>"
      ],
      "text/plain": [
       "recommendations finished on 90000/101140 queries. users per second: 84166.7"
      ]
     },
     "metadata": {},
     "output_type": "display_data"
    },
    {
     "data": {
      "text/html": [
       "<pre>recommendations finished on 91000/101140 queries. users per second: 84325.9</pre>"
      ],
      "text/plain": [
       "recommendations finished on 91000/101140 queries. users per second: 84325.9"
      ]
     },
     "metadata": {},
     "output_type": "display_data"
    },
    {
     "data": {
      "text/html": [
       "<pre>recommendations finished on 92000/101140 queries. users per second: 84343.8</pre>"
      ],
      "text/plain": [
       "recommendations finished on 92000/101140 queries. users per second: 84343.8"
      ]
     },
     "metadata": {},
     "output_type": "display_data"
    },
    {
     "data": {
      "text/html": [
       "<pre>recommendations finished on 93000/101140 queries. users per second: 84135.3</pre>"
      ],
      "text/plain": [
       "recommendations finished on 93000/101140 queries. users per second: 84135.3"
      ]
     },
     "metadata": {},
     "output_type": "display_data"
    },
    {
     "data": {
      "text/html": [
       "<pre>recommendations finished on 94000/101140 queries. users per second: 83870.2</pre>"
      ],
      "text/plain": [
       "recommendations finished on 94000/101140 queries. users per second: 83870.2"
      ]
     },
     "metadata": {},
     "output_type": "display_data"
    },
    {
     "data": {
      "text/html": [
       "<pre>recommendations finished on 95000/101140 queries. users per second: 83622.8</pre>"
      ],
      "text/plain": [
       "recommendations finished on 95000/101140 queries. users per second: 83622.8"
      ]
     },
     "metadata": {},
     "output_type": "display_data"
    },
    {
     "data": {
      "text/html": [
       "<pre>recommendations finished on 96000/101140 queries. users per second: 83343</pre>"
      ],
      "text/plain": [
       "recommendations finished on 96000/101140 queries. users per second: 83343"
      ]
     },
     "metadata": {},
     "output_type": "display_data"
    },
    {
     "data": {
      "text/html": [
       "<pre>recommendations finished on 97000/101140 queries. users per second: 83082.2</pre>"
      ],
      "text/plain": [
       "recommendations finished on 97000/101140 queries. users per second: 83082.2"
      ]
     },
     "metadata": {},
     "output_type": "display_data"
    },
    {
     "data": {
      "text/html": [
       "<pre>recommendations finished on 98000/101140 queries. users per second: 82856.4</pre>"
      ],
      "text/plain": [
       "recommendations finished on 98000/101140 queries. users per second: 82856.4"
      ]
     },
     "metadata": {},
     "output_type": "display_data"
    },
    {
     "data": {
      "text/html": [
       "<pre>recommendations finished on 99000/101140 queries. users per second: 81916.1</pre>"
      ],
      "text/plain": [
       "recommendations finished on 99000/101140 queries. users per second: 81916.1"
      ]
     },
     "metadata": {},
     "output_type": "display_data"
    },
    {
     "data": {
      "text/html": [
       "<pre>recommendations finished on 100000/101140 queries. users per second: 81027.8</pre>"
      ],
      "text/plain": [
       "recommendations finished on 100000/101140 queries. users per second: 81027.8"
      ]
     },
     "metadata": {},
     "output_type": "display_data"
    },
    {
     "data": {
      "text/html": [
       "<pre>recommendations finished on 101000/101140 queries. users per second: 80060.6</pre>"
      ],
      "text/plain": [
       "recommendations finished on 101000/101140 queries. users per second: 80060.6"
      ]
     },
     "metadata": {},
     "output_type": "display_data"
    },
    {
     "name": "stdout",
     "output_type": "stream",
     "text": [
      "+-------+--------+--------------------+------+\n",
      "| LYBID | ITEMID |       score        | rank |\n",
      "+-------+--------+--------------------+------+\n",
      "| 10004 |  5035  |        1.0         |  1   |\n",
      "| 10004 | 43563  |        1.0         |  2   |\n",
      "| 10004 |  3557  | 0.8666666666666667 |  3   |\n",
      "| 10004 | 29031  | 0.5357142857142857 |  4   |\n",
      "| 10004 | 35859  |        0.5         |  5   |\n",
      "| 10009 |  5035  |        1.0         |  1   |\n",
      "| 10009 | 43563  |        1.0         |  2   |\n",
      "| 10009 |  3557  | 0.8666666666666667 |  3   |\n",
      "| 10009 | 29031  | 0.5357142857142857 |  4   |\n",
      "| 10009 | 35859  |        0.5         |  5   |\n",
      "| 10012 |  5035  |        1.0         |  1   |\n",
      "| 10012 | 43563  |        1.0         |  2   |\n",
      "| 10012 |  3557  | 0.8666666666666667 |  3   |\n",
      "| 10012 | 29031  | 0.5357142857142857 |  4   |\n",
      "| 10012 | 35859  |        0.5         |  5   |\n",
      "| 10022 |  5035  |        1.0         |  1   |\n",
      "| 10022 | 43563  |        1.0         |  2   |\n",
      "| 10022 |  3557  | 0.8666666666666667 |  3   |\n",
      "| 10022 | 29031  | 0.5357142857142857 |  4   |\n",
      "| 10022 | 35859  |        0.5         |  5   |\n",
      "| 10023 |  5035  |        1.0         |  1   |\n",
      "| 10023 | 43563  |        1.0         |  2   |\n",
      "| 10023 |  3557  | 0.8666666666666667 |  3   |\n",
      "| 10023 | 29031  | 0.5357142857142857 |  4   |\n",
      "| 10023 | 35859  |        0.5         |  5   |\n",
      "| 10029 |  5035  |        1.0         |  1   |\n",
      "| 10029 | 43563  |        1.0         |  2   |\n",
      "| 10029 |  3557  | 0.8666666666666667 |  3   |\n",
      "| 10029 | 29031  | 0.5357142857142857 |  4   |\n",
      "| 10029 | 35859  |        0.5         |  5   |\n",
      "+-------+--------+--------------------+------+\n",
      "[505700 rows x 4 columns]\n",
      "\n"
     ]
    }
   ],
   "source": [
    "name = 'popularity'\n",
    "target = 'scaled_purchase_freq'\n",
    "pop_norm = model(train_data_norm, name, user_id, item_id, target, users_to_recommend, n_rec, n_display)"
   ]
  },
  {
   "cell_type": "markdown",
   "metadata": {},
   "source": [
    "## 6. Collaborative Filtering Model\n",
    "\n",
    "* In collaborative filtering, we would recommend items based on how similar users purchase items. For instance, if customer 1 and customer 2 bought similar items, e.g. 1 bought X, Y, Z and 2 bought X, Y, we would recommend an item Z to customer 2.\n",
    "\n",
    "* To define similarity across users, we use the following steps:\n",
    "    1. Create a user-item matrix, where index values represent unique customer IDs and column values represent unique product IDs\n",
    "    \n",
    "    2. Create an item-to-item similarity matrix. The idea is to calculate how similar a product is to another product. There are a number of ways of calculating this. In steps 6.1 and 6.2, we use cosine and pearson similarity measure, respectively.  \n",
    "    \n",
    "        * To calculate similarity between products X and Y, look at all customers who have bought both these items. For example, both X and Y have been bought by customers 1 and 2. \n",
    "        * We then create two item-vectors, v1 for item X and v2 for item Y, in the user-space of (1, 2) and then find the `cosine` or `pearson` angle/distance between these vectors. A zero angle or overlapping vectors with cosine value of 1 means total similarity (or per user, across all items, there is same rating) and an angle of 90 degree would mean cosine of 0 or no similarity.\n",
    "        \n",
    "    3. For each customer, we then predict his likelihood to buy a product (or his purchase counts) for products that he had not bought. \n",
    "    \n",
    "        * For our example, we will calculate rating for user 2 in the case of item Z (target item). To calculate this we weigh the just-calculated similarity-measure between the target item and other items that customer has already bought. The weighing factor is the purchase counts given by the user to items already bought by him. \n",
    "        * We then scale this weighted sum with the sum of similarity-measures so that the calculated rating remains within a predefined limits. Thus, the predicted rating for item Z for user 2 would be calculated using similarity measures.\n",
    "\n",
    "* While I wrote python scripts for all the process including finding similarity using python scripts (which can be found in `scripts` folder, we can use `turicreate` library for now to capture different measures like using `cosine` and `pearson` distance, and evaluate the best model."
   ]
  },
  {
   "cell_type": "markdown",
   "metadata": {},
   "source": [
    "### 6.1. `Cosine` similarity\n",
    "* Similarity is the cosine of the angle between the 2 vectors of the item vectors of A and B\n",
    "* It is defined by the following formula\n",
    "![](https://encrypted-tbn0.gstatic.com/images?q=tbn:ANd9GcTnRHSAx1c084UXF2wIHYwaHJLmq2qKtNk_YIv3RjHUO00xwlkt)\n",
    "* Closer the vectors, smaller will be the angle and larger the cosine"
   ]
  },
  {
   "cell_type": "markdown",
   "metadata": {},
   "source": [
    "#### Using purchase count"
   ]
  },
  {
   "cell_type": "code",
   "execution_count": 24,
   "metadata": {},
   "outputs": [
    {
     "data": {
      "text/html": [
       "<pre>Preparing data set.</pre>"
      ],
      "text/plain": [
       "Preparing data set."
      ]
     },
     "metadata": {},
     "output_type": "display_data"
    },
    {
     "data": {
      "text/html": [
       "<pre>    Data has 281955 observations with 94466 users and 1439 items.</pre>"
      ],
      "text/plain": [
       "    Data has 281955 observations with 94466 users and 1439 items."
      ]
     },
     "metadata": {},
     "output_type": "display_data"
    },
    {
     "data": {
      "text/html": [
       "<pre>    Data prepared in: 0.304108s</pre>"
      ],
      "text/plain": [
       "    Data prepared in: 0.304108s"
      ]
     },
     "metadata": {},
     "output_type": "display_data"
    },
    {
     "data": {
      "text/html": [
       "<pre>Training model from provided data.</pre>"
      ],
      "text/plain": [
       "Training model from provided data."
      ]
     },
     "metadata": {},
     "output_type": "display_data"
    },
    {
     "data": {
      "text/html": [
       "<pre>Gathering per-item and per-user statistics.</pre>"
      ],
      "text/plain": [
       "Gathering per-item and per-user statistics."
      ]
     },
     "metadata": {},
     "output_type": "display_data"
    },
    {
     "data": {
      "text/html": [
       "<pre>+--------------------------------+------------+</pre>"
      ],
      "text/plain": [
       "+--------------------------------+------------+"
      ]
     },
     "metadata": {},
     "output_type": "display_data"
    },
    {
     "data": {
      "text/html": [
       "<pre>| Elapsed Time (Item Statistics) | % Complete |</pre>"
      ],
      "text/plain": [
       "| Elapsed Time (Item Statistics) | % Complete |"
      ]
     },
     "metadata": {},
     "output_type": "display_data"
    },
    {
     "data": {
      "text/html": [
       "<pre>+--------------------------------+------------+</pre>"
      ],
      "text/plain": [
       "+--------------------------------+------------+"
      ]
     },
     "metadata": {},
     "output_type": "display_data"
    },
    {
     "data": {
      "text/html": [
       "<pre>| 4.03ms                         | 1          |</pre>"
      ],
      "text/plain": [
       "| 4.03ms                         | 1          |"
      ]
     },
     "metadata": {},
     "output_type": "display_data"
    },
    {
     "data": {
      "text/html": [
       "<pre>| 33.603ms                       | 100        |</pre>"
      ],
      "text/plain": [
       "| 33.603ms                       | 100        |"
      ]
     },
     "metadata": {},
     "output_type": "display_data"
    },
    {
     "data": {
      "text/html": [
       "<pre>+--------------------------------+------------+</pre>"
      ],
      "text/plain": [
       "+--------------------------------+------------+"
      ]
     },
     "metadata": {},
     "output_type": "display_data"
    },
    {
     "data": {
      "text/html": [
       "<pre>Setting up lookup tables.</pre>"
      ],
      "text/plain": [
       "Setting up lookup tables."
      ]
     },
     "metadata": {},
     "output_type": "display_data"
    },
    {
     "data": {
      "text/html": [
       "<pre>Processing data in one pass using dense lookup tables.</pre>"
      ],
      "text/plain": [
       "Processing data in one pass using dense lookup tables."
      ]
     },
     "metadata": {},
     "output_type": "display_data"
    },
    {
     "data": {
      "text/html": [
       "<pre>+-------------------------------------+------------------+-----------------+</pre>"
      ],
      "text/plain": [
       "+-------------------------------------+------------------+-----------------+"
      ]
     },
     "metadata": {},
     "output_type": "display_data"
    },
    {
     "data": {
      "text/html": [
       "<pre>| Elapsed Time (Constructing Lookups) | Total % Complete | Items Processed |</pre>"
      ],
      "text/plain": [
       "| Elapsed Time (Constructing Lookups) | Total % Complete | Items Processed |"
      ]
     },
     "metadata": {},
     "output_type": "display_data"
    },
    {
     "data": {
      "text/html": [
       "<pre>+-------------------------------------+------------------+-----------------+</pre>"
      ],
      "text/plain": [
       "+-------------------------------------+------------------+-----------------+"
      ]
     },
     "metadata": {},
     "output_type": "display_data"
    },
    {
     "data": {
      "text/html": [
       "<pre>| 42.947ms                            | 0                | 0               |</pre>"
      ],
      "text/plain": [
       "| 42.947ms                            | 0                | 0               |"
      ]
     },
     "metadata": {},
     "output_type": "display_data"
    },
    {
     "data": {
      "text/html": [
       "<pre>| 140.443ms                           | 100              | 1439            |</pre>"
      ],
      "text/plain": [
       "| 140.443ms                           | 100              | 1439            |"
      ]
     },
     "metadata": {},
     "output_type": "display_data"
    },
    {
     "data": {
      "text/html": [
       "<pre>+-------------------------------------+------------------+-----------------+</pre>"
      ],
      "text/plain": [
       "+-------------------------------------+------------------+-----------------+"
      ]
     },
     "metadata": {},
     "output_type": "display_data"
    },
    {
     "data": {
      "text/html": [
       "<pre>Finalizing lookup tables.</pre>"
      ],
      "text/plain": [
       "Finalizing lookup tables."
      ]
     },
     "metadata": {},
     "output_type": "display_data"
    },
    {
     "data": {
      "text/html": [
       "<pre>Generating candidate set for working with new users.</pre>"
      ],
      "text/plain": [
       "Generating candidate set for working with new users."
      ]
     },
     "metadata": {},
     "output_type": "display_data"
    },
    {
     "data": {
      "text/html": [
       "<pre>Finished training in 1.25928s</pre>"
      ],
      "text/plain": [
       "Finished training in 1.25928s"
      ]
     },
     "metadata": {},
     "output_type": "display_data"
    },
    {
     "data": {
      "text/html": [
       "<pre>recommendations finished on 1000/101140 queries. users per second: 38907.5</pre>"
      ],
      "text/plain": [
       "recommendations finished on 1000/101140 queries. users per second: 38907.5"
      ]
     },
     "metadata": {},
     "output_type": "display_data"
    },
    {
     "data": {
      "text/html": [
       "<pre>recommendations finished on 2000/101140 queries. users per second: 43552.1</pre>"
      ],
      "text/plain": [
       "recommendations finished on 2000/101140 queries. users per second: 43552.1"
      ]
     },
     "metadata": {},
     "output_type": "display_data"
    },
    {
     "data": {
      "text/html": [
       "<pre>recommendations finished on 3000/101140 queries. users per second: 39780.4</pre>"
      ],
      "text/plain": [
       "recommendations finished on 3000/101140 queries. users per second: 39780.4"
      ]
     },
     "metadata": {},
     "output_type": "display_data"
    },
    {
     "data": {
      "text/html": [
       "<pre>recommendations finished on 4000/101140 queries. users per second: 41301</pre>"
      ],
      "text/plain": [
       "recommendations finished on 4000/101140 queries. users per second: 41301"
      ]
     },
     "metadata": {},
     "output_type": "display_data"
    },
    {
     "data": {
      "text/html": [
       "<pre>recommendations finished on 5000/101140 queries. users per second: 41501.7</pre>"
      ],
      "text/plain": [
       "recommendations finished on 5000/101140 queries. users per second: 41501.7"
      ]
     },
     "metadata": {},
     "output_type": "display_data"
    },
    {
     "data": {
      "text/html": [
       "<pre>recommendations finished on 6000/101140 queries. users per second: 41144.4</pre>"
      ],
      "text/plain": [
       "recommendations finished on 6000/101140 queries. users per second: 41144.4"
      ]
     },
     "metadata": {},
     "output_type": "display_data"
    },
    {
     "data": {
      "text/html": [
       "<pre>recommendations finished on 7000/101140 queries. users per second: 41294.3</pre>"
      ],
      "text/plain": [
       "recommendations finished on 7000/101140 queries. users per second: 41294.3"
      ]
     },
     "metadata": {},
     "output_type": "display_data"
    },
    {
     "data": {
      "text/html": [
       "<pre>recommendations finished on 8000/101140 queries. users per second: 41761.1</pre>"
      ],
      "text/plain": [
       "recommendations finished on 8000/101140 queries. users per second: 41761.1"
      ]
     },
     "metadata": {},
     "output_type": "display_data"
    },
    {
     "data": {
      "text/html": [
       "<pre>recommendations finished on 9000/101140 queries. users per second: 42372.5</pre>"
      ],
      "text/plain": [
       "recommendations finished on 9000/101140 queries. users per second: 42372.5"
      ]
     },
     "metadata": {},
     "output_type": "display_data"
    },
    {
     "data": {
      "text/html": [
       "<pre>recommendations finished on 10000/101140 queries. users per second: 43410.5</pre>"
      ],
      "text/plain": [
       "recommendations finished on 10000/101140 queries. users per second: 43410.5"
      ]
     },
     "metadata": {},
     "output_type": "display_data"
    },
    {
     "data": {
      "text/html": [
       "<pre>recommendations finished on 11000/101140 queries. users per second: 43546.4</pre>"
      ],
      "text/plain": [
       "recommendations finished on 11000/101140 queries. users per second: 43546.4"
      ]
     },
     "metadata": {},
     "output_type": "display_data"
    },
    {
     "data": {
      "text/html": [
       "<pre>recommendations finished on 12000/101140 queries. users per second: 43707.2</pre>"
      ],
      "text/plain": [
       "recommendations finished on 12000/101140 queries. users per second: 43707.2"
      ]
     },
     "metadata": {},
     "output_type": "display_data"
    },
    {
     "data": {
      "text/html": [
       "<pre>recommendations finished on 13000/101140 queries. users per second: 43530.5</pre>"
      ],
      "text/plain": [
       "recommendations finished on 13000/101140 queries. users per second: 43530.5"
      ]
     },
     "metadata": {},
     "output_type": "display_data"
    },
    {
     "data": {
      "text/html": [
       "<pre>recommendations finished on 14000/101140 queries. users per second: 43423.1</pre>"
      ],
      "text/plain": [
       "recommendations finished on 14000/101140 queries. users per second: 43423.1"
      ]
     },
     "metadata": {},
     "output_type": "display_data"
    },
    {
     "data": {
      "text/html": [
       "<pre>recommendations finished on 15000/101140 queries. users per second: 43412.3</pre>"
      ],
      "text/plain": [
       "recommendations finished on 15000/101140 queries. users per second: 43412.3"
      ]
     },
     "metadata": {},
     "output_type": "display_data"
    },
    {
     "data": {
      "text/html": [
       "<pre>recommendations finished on 16000/101140 queries. users per second: 43596.5</pre>"
      ],
      "text/plain": [
       "recommendations finished on 16000/101140 queries. users per second: 43596.5"
      ]
     },
     "metadata": {},
     "output_type": "display_data"
    },
    {
     "data": {
      "text/html": [
       "<pre>recommendations finished on 17000/101140 queries. users per second: 43287.7</pre>"
      ],
      "text/plain": [
       "recommendations finished on 17000/101140 queries. users per second: 43287.7"
      ]
     },
     "metadata": {},
     "output_type": "display_data"
    },
    {
     "data": {
      "text/html": [
       "<pre>recommendations finished on 18000/101140 queries. users per second: 43756.9</pre>"
      ],
      "text/plain": [
       "recommendations finished on 18000/101140 queries. users per second: 43756.9"
      ]
     },
     "metadata": {},
     "output_type": "display_data"
    },
    {
     "data": {
      "text/html": [
       "<pre>recommendations finished on 19000/101140 queries. users per second: 43752.7</pre>"
      ],
      "text/plain": [
       "recommendations finished on 19000/101140 queries. users per second: 43752.7"
      ]
     },
     "metadata": {},
     "output_type": "display_data"
    },
    {
     "data": {
      "text/html": [
       "<pre>recommendations finished on 20000/101140 queries. users per second: 44026.5</pre>"
      ],
      "text/plain": [
       "recommendations finished on 20000/101140 queries. users per second: 44026.5"
      ]
     },
     "metadata": {},
     "output_type": "display_data"
    },
    {
     "data": {
      "text/html": [
       "<pre>recommendations finished on 21000/101140 queries. users per second: 44184</pre>"
      ],
      "text/plain": [
       "recommendations finished on 21000/101140 queries. users per second: 44184"
      ]
     },
     "metadata": {},
     "output_type": "display_data"
    },
    {
     "data": {
      "text/html": [
       "<pre>recommendations finished on 22000/101140 queries. users per second: 44263.1</pre>"
      ],
      "text/plain": [
       "recommendations finished on 22000/101140 queries. users per second: 44263.1"
      ]
     },
     "metadata": {},
     "output_type": "display_data"
    },
    {
     "data": {
      "text/html": [
       "<pre>recommendations finished on 23000/101140 queries. users per second: 44639.8</pre>"
      ],
      "text/plain": [
       "recommendations finished on 23000/101140 queries. users per second: 44639.8"
      ]
     },
     "metadata": {},
     "output_type": "display_data"
    },
    {
     "data": {
      "text/html": [
       "<pre>recommendations finished on 24000/101140 queries. users per second: 44801</pre>"
      ],
      "text/plain": [
       "recommendations finished on 24000/101140 queries. users per second: 44801"
      ]
     },
     "metadata": {},
     "output_type": "display_data"
    },
    {
     "data": {
      "text/html": [
       "<pre>recommendations finished on 25000/101140 queries. users per second: 44700.9</pre>"
      ],
      "text/plain": [
       "recommendations finished on 25000/101140 queries. users per second: 44700.9"
      ]
     },
     "metadata": {},
     "output_type": "display_data"
    },
    {
     "data": {
      "text/html": [
       "<pre>recommendations finished on 26000/101140 queries. users per second: 44783.9</pre>"
      ],
      "text/plain": [
       "recommendations finished on 26000/101140 queries. users per second: 44783.9"
      ]
     },
     "metadata": {},
     "output_type": "display_data"
    },
    {
     "data": {
      "text/html": [
       "<pre>recommendations finished on 27000/101140 queries. users per second: 44677.9</pre>"
      ],
      "text/plain": [
       "recommendations finished on 27000/101140 queries. users per second: 44677.9"
      ]
     },
     "metadata": {},
     "output_type": "display_data"
    },
    {
     "data": {
      "text/html": [
       "<pre>recommendations finished on 28000/101140 queries. users per second: 44907.1</pre>"
      ],
      "text/plain": [
       "recommendations finished on 28000/101140 queries. users per second: 44907.1"
      ]
     },
     "metadata": {},
     "output_type": "display_data"
    },
    {
     "data": {
      "text/html": [
       "<pre>recommendations finished on 29000/101140 queries. users per second: 45241.2</pre>"
      ],
      "text/plain": [
       "recommendations finished on 29000/101140 queries. users per second: 45241.2"
      ]
     },
     "metadata": {},
     "output_type": "display_data"
    },
    {
     "data": {
      "text/html": [
       "<pre>recommendations finished on 30000/101140 queries. users per second: 45607.8</pre>"
      ],
      "text/plain": [
       "recommendations finished on 30000/101140 queries. users per second: 45607.8"
      ]
     },
     "metadata": {},
     "output_type": "display_data"
    },
    {
     "data": {
      "text/html": [
       "<pre>recommendations finished on 31000/101140 queries. users per second: 45788.8</pre>"
      ],
      "text/plain": [
       "recommendations finished on 31000/101140 queries. users per second: 45788.8"
      ]
     },
     "metadata": {},
     "output_type": "display_data"
    },
    {
     "data": {
      "text/html": [
       "<pre>recommendations finished on 32000/101140 queries. users per second: 45917.2</pre>"
      ],
      "text/plain": [
       "recommendations finished on 32000/101140 queries. users per second: 45917.2"
      ]
     },
     "metadata": {},
     "output_type": "display_data"
    },
    {
     "data": {
      "text/html": [
       "<pre>recommendations finished on 33000/101140 queries. users per second: 45718.2</pre>"
      ],
      "text/plain": [
       "recommendations finished on 33000/101140 queries. users per second: 45718.2"
      ]
     },
     "metadata": {},
     "output_type": "display_data"
    },
    {
     "data": {
      "text/html": [
       "<pre>recommendations finished on 34000/101140 queries. users per second: 45852.4</pre>"
      ],
      "text/plain": [
       "recommendations finished on 34000/101140 queries. users per second: 45852.4"
      ]
     },
     "metadata": {},
     "output_type": "display_data"
    },
    {
     "data": {
      "text/html": [
       "<pre>recommendations finished on 35000/101140 queries. users per second: 45843.7</pre>"
      ],
      "text/plain": [
       "recommendations finished on 35000/101140 queries. users per second: 45843.7"
      ]
     },
     "metadata": {},
     "output_type": "display_data"
    },
    {
     "data": {
      "text/html": [
       "<pre>recommendations finished on 36000/101140 queries. users per second: 46071.9</pre>"
      ],
      "text/plain": [
       "recommendations finished on 36000/101140 queries. users per second: 46071.9"
      ]
     },
     "metadata": {},
     "output_type": "display_data"
    },
    {
     "data": {
      "text/html": [
       "<pre>recommendations finished on 37000/101140 queries. users per second: 46302.6</pre>"
      ],
      "text/plain": [
       "recommendations finished on 37000/101140 queries. users per second: 46302.6"
      ]
     },
     "metadata": {},
     "output_type": "display_data"
    },
    {
     "data": {
      "text/html": [
       "<pre>recommendations finished on 38000/101140 queries. users per second: 46408.6</pre>"
      ],
      "text/plain": [
       "recommendations finished on 38000/101140 queries. users per second: 46408.6"
      ]
     },
     "metadata": {},
     "output_type": "display_data"
    },
    {
     "data": {
      "text/html": [
       "<pre>recommendations finished on 39000/101140 queries. users per second: 46541.7</pre>"
      ],
      "text/plain": [
       "recommendations finished on 39000/101140 queries. users per second: 46541.7"
      ]
     },
     "metadata": {},
     "output_type": "display_data"
    },
    {
     "data": {
      "text/html": [
       "<pre>recommendations finished on 40000/101140 queries. users per second: 46535.3</pre>"
      ],
      "text/plain": [
       "recommendations finished on 40000/101140 queries. users per second: 46535.3"
      ]
     },
     "metadata": {},
     "output_type": "display_data"
    },
    {
     "data": {
      "text/html": [
       "<pre>recommendations finished on 41000/101140 queries. users per second: 46368.8</pre>"
      ],
      "text/plain": [
       "recommendations finished on 41000/101140 queries. users per second: 46368.8"
      ]
     },
     "metadata": {},
     "output_type": "display_data"
    },
    {
     "data": {
      "text/html": [
       "<pre>recommendations finished on 42000/101140 queries. users per second: 46535.8</pre>"
      ],
      "text/plain": [
       "recommendations finished on 42000/101140 queries. users per second: 46535.8"
      ]
     },
     "metadata": {},
     "output_type": "display_data"
    },
    {
     "data": {
      "text/html": [
       "<pre>recommendations finished on 43000/101140 queries. users per second: 46734.4</pre>"
      ],
      "text/plain": [
       "recommendations finished on 43000/101140 queries. users per second: 46734.4"
      ]
     },
     "metadata": {},
     "output_type": "display_data"
    },
    {
     "data": {
      "text/html": [
       "<pre>recommendations finished on 44000/101140 queries. users per second: 46956.4</pre>"
      ],
      "text/plain": [
       "recommendations finished on 44000/101140 queries. users per second: 46956.4"
      ]
     },
     "metadata": {},
     "output_type": "display_data"
    },
    {
     "data": {
      "text/html": [
       "<pre>recommendations finished on 45000/101140 queries. users per second: 47089.3</pre>"
      ],
      "text/plain": [
       "recommendations finished on 45000/101140 queries. users per second: 47089.3"
      ]
     },
     "metadata": {},
     "output_type": "display_data"
    },
    {
     "data": {
      "text/html": [
       "<pre>recommendations finished on 46000/101140 queries. users per second: 47172.1</pre>"
      ],
      "text/plain": [
       "recommendations finished on 46000/101140 queries. users per second: 47172.1"
      ]
     },
     "metadata": {},
     "output_type": "display_data"
    },
    {
     "data": {
      "text/html": [
       "<pre>recommendations finished on 47000/101140 queries. users per second: 46829.1</pre>"
      ],
      "text/plain": [
       "recommendations finished on 47000/101140 queries. users per second: 46829.1"
      ]
     },
     "metadata": {},
     "output_type": "display_data"
    },
    {
     "data": {
      "text/html": [
       "<pre>recommendations finished on 48000/101140 queries. users per second: 46906</pre>"
      ],
      "text/plain": [
       "recommendations finished on 48000/101140 queries. users per second: 46906"
      ]
     },
     "metadata": {},
     "output_type": "display_data"
    },
    {
     "data": {
      "text/html": [
       "<pre>recommendations finished on 49000/101140 queries. users per second: 46945.5</pre>"
      ],
      "text/plain": [
       "recommendations finished on 49000/101140 queries. users per second: 46945.5"
      ]
     },
     "metadata": {},
     "output_type": "display_data"
    },
    {
     "data": {
      "text/html": [
       "<pre>recommendations finished on 50000/101140 queries. users per second: 47082.8</pre>"
      ],
      "text/plain": [
       "recommendations finished on 50000/101140 queries. users per second: 47082.8"
      ]
     },
     "metadata": {},
     "output_type": "display_data"
    },
    {
     "data": {
      "text/html": [
       "<pre>recommendations finished on 51000/101140 queries. users per second: 47222.7</pre>"
      ],
      "text/plain": [
       "recommendations finished on 51000/101140 queries. users per second: 47222.7"
      ]
     },
     "metadata": {},
     "output_type": "display_data"
    },
    {
     "data": {
      "text/html": [
       "<pre>recommendations finished on 52000/101140 queries. users per second: 47295.9</pre>"
      ],
      "text/plain": [
       "recommendations finished on 52000/101140 queries. users per second: 47295.9"
      ]
     },
     "metadata": {},
     "output_type": "display_data"
    },
    {
     "data": {
      "text/html": [
       "<pre>recommendations finished on 53000/101140 queries. users per second: 47317</pre>"
      ],
      "text/plain": [
       "recommendations finished on 53000/101140 queries. users per second: 47317"
      ]
     },
     "metadata": {},
     "output_type": "display_data"
    },
    {
     "data": {
      "text/html": [
       "<pre>recommendations finished on 54000/101140 queries. users per second: 47529.4</pre>"
      ],
      "text/plain": [
       "recommendations finished on 54000/101140 queries. users per second: 47529.4"
      ]
     },
     "metadata": {},
     "output_type": "display_data"
    },
    {
     "data": {
      "text/html": [
       "<pre>recommendations finished on 55000/101140 queries. users per second: 47400.6</pre>"
      ],
      "text/plain": [
       "recommendations finished on 55000/101140 queries. users per second: 47400.6"
      ]
     },
     "metadata": {},
     "output_type": "display_data"
    },
    {
     "data": {
      "text/html": [
       "<pre>recommendations finished on 56000/101140 queries. users per second: 47308.7</pre>"
      ],
      "text/plain": [
       "recommendations finished on 56000/101140 queries. users per second: 47308.7"
      ]
     },
     "metadata": {},
     "output_type": "display_data"
    },
    {
     "data": {
      "text/html": [
       "<pre>recommendations finished on 57000/101140 queries. users per second: 47495.2</pre>"
      ],
      "text/plain": [
       "recommendations finished on 57000/101140 queries. users per second: 47495.2"
      ]
     },
     "metadata": {},
     "output_type": "display_data"
    },
    {
     "data": {
      "text/html": [
       "<pre>recommendations finished on 58000/101140 queries. users per second: 47530.5</pre>"
      ],
      "text/plain": [
       "recommendations finished on 58000/101140 queries. users per second: 47530.5"
      ]
     },
     "metadata": {},
     "output_type": "display_data"
    },
    {
     "data": {
      "text/html": [
       "<pre>recommendations finished on 59000/101140 queries. users per second: 47402</pre>"
      ],
      "text/plain": [
       "recommendations finished on 59000/101140 queries. users per second: 47402"
      ]
     },
     "metadata": {},
     "output_type": "display_data"
    },
    {
     "data": {
      "text/html": [
       "<pre>recommendations finished on 60000/101140 queries. users per second: 47296.2</pre>"
      ],
      "text/plain": [
       "recommendations finished on 60000/101140 queries. users per second: 47296.2"
      ]
     },
     "metadata": {},
     "output_type": "display_data"
    },
    {
     "data": {
      "text/html": [
       "<pre>recommendations finished on 61000/101140 queries. users per second: 47127.1</pre>"
      ],
      "text/plain": [
       "recommendations finished on 61000/101140 queries. users per second: 47127.1"
      ]
     },
     "metadata": {},
     "output_type": "display_data"
    },
    {
     "data": {
      "text/html": [
       "<pre>recommendations finished on 62000/101140 queries. users per second: 47143.6</pre>"
      ],
      "text/plain": [
       "recommendations finished on 62000/101140 queries. users per second: 47143.6"
      ]
     },
     "metadata": {},
     "output_type": "display_data"
    },
    {
     "data": {
      "text/html": [
       "<pre>recommendations finished on 63000/101140 queries. users per second: 46962.8</pre>"
      ],
      "text/plain": [
       "recommendations finished on 63000/101140 queries. users per second: 46962.8"
      ]
     },
     "metadata": {},
     "output_type": "display_data"
    },
    {
     "data": {
      "text/html": [
       "<pre>recommendations finished on 64000/101140 queries. users per second: 47008</pre>"
      ],
      "text/plain": [
       "recommendations finished on 64000/101140 queries. users per second: 47008"
      ]
     },
     "metadata": {},
     "output_type": "display_data"
    },
    {
     "data": {
      "text/html": [
       "<pre>recommendations finished on 65000/101140 queries. users per second: 46925.4</pre>"
      ],
      "text/plain": [
       "recommendations finished on 65000/101140 queries. users per second: 46925.4"
      ]
     },
     "metadata": {},
     "output_type": "display_data"
    },
    {
     "data": {
      "text/html": [
       "<pre>recommendations finished on 66000/101140 queries. users per second: 46976.9</pre>"
      ],
      "text/plain": [
       "recommendations finished on 66000/101140 queries. users per second: 46976.9"
      ]
     },
     "metadata": {},
     "output_type": "display_data"
    },
    {
     "data": {
      "text/html": [
       "<pre>recommendations finished on 67000/101140 queries. users per second: 47089.3</pre>"
      ],
      "text/plain": [
       "recommendations finished on 67000/101140 queries. users per second: 47089.3"
      ]
     },
     "metadata": {},
     "output_type": "display_data"
    },
    {
     "data": {
      "text/html": [
       "<pre>recommendations finished on 68000/101140 queries. users per second: 47228.4</pre>"
      ],
      "text/plain": [
       "recommendations finished on 68000/101140 queries. users per second: 47228.4"
      ]
     },
     "metadata": {},
     "output_type": "display_data"
    },
    {
     "data": {
      "text/html": [
       "<pre>recommendations finished on 69000/101140 queries. users per second: 47349.3</pre>"
      ],
      "text/plain": [
       "recommendations finished on 69000/101140 queries. users per second: 47349.3"
      ]
     },
     "metadata": {},
     "output_type": "display_data"
    },
    {
     "data": {
      "text/html": [
       "<pre>recommendations finished on 70000/101140 queries. users per second: 47457</pre>"
      ],
      "text/plain": [
       "recommendations finished on 70000/101140 queries. users per second: 47457"
      ]
     },
     "metadata": {},
     "output_type": "display_data"
    },
    {
     "data": {
      "text/html": [
       "<pre>recommendations finished on 71000/101140 queries. users per second: 47408.9</pre>"
      ],
      "text/plain": [
       "recommendations finished on 71000/101140 queries. users per second: 47408.9"
      ]
     },
     "metadata": {},
     "output_type": "display_data"
    },
    {
     "data": {
      "text/html": [
       "<pre>recommendations finished on 72000/101140 queries. users per second: 47371.8</pre>"
      ],
      "text/plain": [
       "recommendations finished on 72000/101140 queries. users per second: 47371.8"
      ]
     },
     "metadata": {},
     "output_type": "display_data"
    },
    {
     "data": {
      "text/html": [
       "<pre>recommendations finished on 73000/101140 queries. users per second: 47385.1</pre>"
      ],
      "text/plain": [
       "recommendations finished on 73000/101140 queries. users per second: 47385.1"
      ]
     },
     "metadata": {},
     "output_type": "display_data"
    },
    {
     "data": {
      "text/html": [
       "<pre>recommendations finished on 74000/101140 queries. users per second: 47475.6</pre>"
      ],
      "text/plain": [
       "recommendations finished on 74000/101140 queries. users per second: 47475.6"
      ]
     },
     "metadata": {},
     "output_type": "display_data"
    },
    {
     "data": {
      "text/html": [
       "<pre>recommendations finished on 75000/101140 queries. users per second: 47544.8</pre>"
      ],
      "text/plain": [
       "recommendations finished on 75000/101140 queries. users per second: 47544.8"
      ]
     },
     "metadata": {},
     "output_type": "display_data"
    },
    {
     "data": {
      "text/html": [
       "<pre>recommendations finished on 76000/101140 queries. users per second: 47665.2</pre>"
      ],
      "text/plain": [
       "recommendations finished on 76000/101140 queries. users per second: 47665.2"
      ]
     },
     "metadata": {},
     "output_type": "display_data"
    },
    {
     "data": {
      "text/html": [
       "<pre>recommendations finished on 77000/101140 queries. users per second: 47722.8</pre>"
      ],
      "text/plain": [
       "recommendations finished on 77000/101140 queries. users per second: 47722.8"
      ]
     },
     "metadata": {},
     "output_type": "display_data"
    },
    {
     "data": {
      "text/html": [
       "<pre>recommendations finished on 78000/101140 queries. users per second: 47857.8</pre>"
      ],
      "text/plain": [
       "recommendations finished on 78000/101140 queries. users per second: 47857.8"
      ]
     },
     "metadata": {},
     "output_type": "display_data"
    },
    {
     "data": {
      "text/html": [
       "<pre>recommendations finished on 79000/101140 queries. users per second: 47908.8</pre>"
      ],
      "text/plain": [
       "recommendations finished on 79000/101140 queries. users per second: 47908.8"
      ]
     },
     "metadata": {},
     "output_type": "display_data"
    },
    {
     "data": {
      "text/html": [
       "<pre>recommendations finished on 80000/101140 queries. users per second: 48036.8</pre>"
      ],
      "text/plain": [
       "recommendations finished on 80000/101140 queries. users per second: 48036.8"
      ]
     },
     "metadata": {},
     "output_type": "display_data"
    },
    {
     "data": {
      "text/html": [
       "<pre>recommendations finished on 81000/101140 queries. users per second: 48137.3</pre>"
      ],
      "text/plain": [
       "recommendations finished on 81000/101140 queries. users per second: 48137.3"
      ]
     },
     "metadata": {},
     "output_type": "display_data"
    },
    {
     "data": {
      "text/html": [
       "<pre>recommendations finished on 82000/101140 queries. users per second: 48228.5</pre>"
      ],
      "text/plain": [
       "recommendations finished on 82000/101140 queries. users per second: 48228.5"
      ]
     },
     "metadata": {},
     "output_type": "display_data"
    },
    {
     "data": {
      "text/html": [
       "<pre>recommendations finished on 83000/101140 queries. users per second: 48384.4</pre>"
      ],
      "text/plain": [
       "recommendations finished on 83000/101140 queries. users per second: 48384.4"
      ]
     },
     "metadata": {},
     "output_type": "display_data"
    },
    {
     "data": {
      "text/html": [
       "<pre>recommendations finished on 84000/101140 queries. users per second: 48494.3</pre>"
      ],
      "text/plain": [
       "recommendations finished on 84000/101140 queries. users per second: 48494.3"
      ]
     },
     "metadata": {},
     "output_type": "display_data"
    },
    {
     "data": {
      "text/html": [
       "<pre>recommendations finished on 85000/101140 queries. users per second: 48510.5</pre>"
      ],
      "text/plain": [
       "recommendations finished on 85000/101140 queries. users per second: 48510.5"
      ]
     },
     "metadata": {},
     "output_type": "display_data"
    },
    {
     "data": {
      "text/html": [
       "<pre>recommendations finished on 86000/101140 queries. users per second: 48615.7</pre>"
      ],
      "text/plain": [
       "recommendations finished on 86000/101140 queries. users per second: 48615.7"
      ]
     },
     "metadata": {},
     "output_type": "display_data"
    },
    {
     "data": {
      "text/html": [
       "<pre>recommendations finished on 87000/101140 queries. users per second: 48746.3</pre>"
      ],
      "text/plain": [
       "recommendations finished on 87000/101140 queries. users per second: 48746.3"
      ]
     },
     "metadata": {},
     "output_type": "display_data"
    },
    {
     "data": {
      "text/html": [
       "<pre>recommendations finished on 88000/101140 queries. users per second: 48846.9</pre>"
      ],
      "text/plain": [
       "recommendations finished on 88000/101140 queries. users per second: 48846.9"
      ]
     },
     "metadata": {},
     "output_type": "display_data"
    },
    {
     "data": {
      "text/html": [
       "<pre>recommendations finished on 89000/101140 queries. users per second: 48925.7</pre>"
      ],
      "text/plain": [
       "recommendations finished on 89000/101140 queries. users per second: 48925.7"
      ]
     },
     "metadata": {},
     "output_type": "display_data"
    },
    {
     "data": {
      "text/html": [
       "<pre>recommendations finished on 90000/101140 queries. users per second: 49007.8</pre>"
      ],
      "text/plain": [
       "recommendations finished on 90000/101140 queries. users per second: 49007.8"
      ]
     },
     "metadata": {},
     "output_type": "display_data"
    },
    {
     "data": {
      "text/html": [
       "<pre>recommendations finished on 91000/101140 queries. users per second: 49105.4</pre>"
      ],
      "text/plain": [
       "recommendations finished on 91000/101140 queries. users per second: 49105.4"
      ]
     },
     "metadata": {},
     "output_type": "display_data"
    },
    {
     "data": {
      "text/html": [
       "<pre>recommendations finished on 92000/101140 queries. users per second: 49176.6</pre>"
      ],
      "text/plain": [
       "recommendations finished on 92000/101140 queries. users per second: 49176.6"
      ]
     },
     "metadata": {},
     "output_type": "display_data"
    },
    {
     "data": {
      "text/html": [
       "<pre>recommendations finished on 93000/101140 queries. users per second: 49200.6</pre>"
      ],
      "text/plain": [
       "recommendations finished on 93000/101140 queries. users per second: 49200.6"
      ]
     },
     "metadata": {},
     "output_type": "display_data"
    },
    {
     "data": {
      "text/html": [
       "<pre>recommendations finished on 94000/101140 queries. users per second: 49243.6</pre>"
      ],
      "text/plain": [
       "recommendations finished on 94000/101140 queries. users per second: 49243.6"
      ]
     },
     "metadata": {},
     "output_type": "display_data"
    },
    {
     "data": {
      "text/html": [
       "<pre>recommendations finished on 95000/101140 queries. users per second: 49232.5</pre>"
      ],
      "text/plain": [
       "recommendations finished on 95000/101140 queries. users per second: 49232.5"
      ]
     },
     "metadata": {},
     "output_type": "display_data"
    },
    {
     "data": {
      "text/html": [
       "<pre>recommendations finished on 96000/101140 queries. users per second: 49228.5</pre>"
      ],
      "text/plain": [
       "recommendations finished on 96000/101140 queries. users per second: 49228.5"
      ]
     },
     "metadata": {},
     "output_type": "display_data"
    },
    {
     "data": {
      "text/html": [
       "<pre>recommendations finished on 97000/101140 queries. users per second: 49172.3</pre>"
      ],
      "text/plain": [
       "recommendations finished on 97000/101140 queries. users per second: 49172.3"
      ]
     },
     "metadata": {},
     "output_type": "display_data"
    },
    {
     "data": {
      "text/html": [
       "<pre>recommendations finished on 98000/101140 queries. users per second: 49040.5</pre>"
      ],
      "text/plain": [
       "recommendations finished on 98000/101140 queries. users per second: 49040.5"
      ]
     },
     "metadata": {},
     "output_type": "display_data"
    },
    {
     "data": {
      "text/html": [
       "<pre>recommendations finished on 99000/101140 queries. users per second: 48577.9</pre>"
      ],
      "text/plain": [
       "recommendations finished on 99000/101140 queries. users per second: 48577.9"
      ]
     },
     "metadata": {},
     "output_type": "display_data"
    },
    {
     "data": {
      "text/html": [
       "<pre>recommendations finished on 100000/101140 queries. users per second: 48031.9</pre>"
      ],
      "text/plain": [
       "recommendations finished on 100000/101140 queries. users per second: 48031.9"
      ]
     },
     "metadata": {},
     "output_type": "display_data"
    },
    {
     "data": {
      "text/html": [
       "<pre>recommendations finished on 101000/101140 queries. users per second: 47475.9</pre>"
      ],
      "text/plain": [
       "recommendations finished on 101000/101140 queries. users per second: 47475.9"
      ]
     },
     "metadata": {},
     "output_type": "display_data"
    },
    {
     "name": "stdout",
     "output_type": "stream",
     "text": [
      "+-------+--------+----------------------+------+\n",
      "| LYBID | ITEMID |        score         | rank |\n",
      "+-------+--------+----------------------+------+\n",
      "| 10004 | 44011  | 0.19692957401275635  |  1   |\n",
      "| 10004 | 37922  | 0.15904393792152405  |  2   |\n",
      "| 10004 | 43646  |  0.1293746531009674  |  3   |\n",
      "| 10004 | 43589  | 0.11456459760665894  |  4   |\n",
      "| 10004 | 43872  | 0.10788850982983907  |  5   |\n",
      "| 10009 | 43496  |  0.1773882806301117  |  1   |\n",
      "| 10009 | 43920  | 0.12164735794067383  |  2   |\n",
      "| 10009 | 43921  | 0.11765480041503906  |  3   |\n",
      "| 10009 | 43913  | 0.09768617153167725  |  4   |\n",
      "| 10009 | 43591  |  0.0933111310005188  |  5   |\n",
      "| 10012 | 42654  | 0.15234637260437012  |  1   |\n",
      "| 10012 | 42655  | 0.10382649302482605  |  2   |\n",
      "| 10012 | 37922  | 0.08947828412055969  |  3   |\n",
      "| 10012 | 44271  | 0.08785995841026306  |  4   |\n",
      "| 10012 | 28876  | 0.08511623740196228  |  5   |\n",
      "| 10022 | 43507  | 0.08691252171993255  |  1   |\n",
      "| 10022 | 43872  | 0.08076946437358856  |  2   |\n",
      "| 10022 | 43508  | 0.07784184217453002  |  3   |\n",
      "| 10022 | 43646  | 0.07250891327857971  |  4   |\n",
      "| 10022 | 43915  | 0.06820132732391357  |  5   |\n",
      "| 10023 | 35904  | 0.08042409022649129  |  1   |\n",
      "| 10023 | 43496  | 0.061850282880995006 |  2   |\n",
      "| 10023 | 42653  | 0.048862973848978676 |  3   |\n",
      "| 10023 | 38035  | 0.04723036951488919  |  4   |\n",
      "| 10023 | 43508  | 0.04655224084854126  |  5   |\n",
      "| 10029 | 35904  | 0.19039329886436462  |  1   |\n",
      "| 10029 | 29032  | 0.08793047070503235  |  2   |\n",
      "| 10029 | 43914  |  0.0873669683933258  |  3   |\n",
      "| 10029 | 43919  | 0.08679068088531494  |  4   |\n",
      "| 10029 | 43922  | 0.07653424143791199  |  5   |\n",
      "+-------+--------+----------------------+------+\n",
      "[505700 rows x 4 columns]\n",
      "\n"
     ]
    }
   ],
   "source": [
    "# these variables will change accordingly\n",
    "name = 'cosine'\n",
    "target = 'TotalQtyPurchased'\n",
    "cos = model(train_data, name, user_id, item_id, target, users_to_recommend, n_rec, n_display)"
   ]
  },
  {
   "cell_type": "markdown",
   "metadata": {},
   "source": [
    "#### Using purchase dummy"
   ]
  },
  {
   "cell_type": "code",
   "execution_count": 25,
   "metadata": {},
   "outputs": [
    {
     "data": {
      "text/html": [
       "<pre>Warning: Ignoring columns TotalQtyPurchased;</pre>"
      ],
      "text/plain": [
       "Warning: Ignoring columns TotalQtyPurchased;"
      ]
     },
     "metadata": {},
     "output_type": "display_data"
    },
    {
     "data": {
      "text/html": [
       "<pre>    To use these columns in scoring predictions, use a model that allows the use of additional features.</pre>"
      ],
      "text/plain": [
       "    To use these columns in scoring predictions, use a model that allows the use of additional features."
      ]
     },
     "metadata": {},
     "output_type": "display_data"
    },
    {
     "data": {
      "text/html": [
       "<pre>Preparing data set.</pre>"
      ],
      "text/plain": [
       "Preparing data set."
      ]
     },
     "metadata": {},
     "output_type": "display_data"
    },
    {
     "data": {
      "text/html": [
       "<pre>    Data has 281955 observations with 94424 users and 1426 items.</pre>"
      ],
      "text/plain": [
       "    Data has 281955 observations with 94424 users and 1426 items."
      ]
     },
     "metadata": {},
     "output_type": "display_data"
    },
    {
     "data": {
      "text/html": [
       "<pre>    Data prepared in: 0.362138s</pre>"
      ],
      "text/plain": [
       "    Data prepared in: 0.362138s"
      ]
     },
     "metadata": {},
     "output_type": "display_data"
    },
    {
     "data": {
      "text/html": [
       "<pre>Training model from provided data.</pre>"
      ],
      "text/plain": [
       "Training model from provided data."
      ]
     },
     "metadata": {},
     "output_type": "display_data"
    },
    {
     "data": {
      "text/html": [
       "<pre>Gathering per-item and per-user statistics.</pre>"
      ],
      "text/plain": [
       "Gathering per-item and per-user statistics."
      ]
     },
     "metadata": {},
     "output_type": "display_data"
    },
    {
     "data": {
      "text/html": [
       "<pre>+--------------------------------+------------+</pre>"
      ],
      "text/plain": [
       "+--------------------------------+------------+"
      ]
     },
     "metadata": {},
     "output_type": "display_data"
    },
    {
     "data": {
      "text/html": [
       "<pre>| Elapsed Time (Item Statistics) | % Complete |</pre>"
      ],
      "text/plain": [
       "| Elapsed Time (Item Statistics) | % Complete |"
      ]
     },
     "metadata": {},
     "output_type": "display_data"
    },
    {
     "data": {
      "text/html": [
       "<pre>+--------------------------------+------------+</pre>"
      ],
      "text/plain": [
       "+--------------------------------+------------+"
      ]
     },
     "metadata": {},
     "output_type": "display_data"
    },
    {
     "data": {
      "text/html": [
       "<pre>| 2.279ms                        | 1          |</pre>"
      ],
      "text/plain": [
       "| 2.279ms                        | 1          |"
      ]
     },
     "metadata": {},
     "output_type": "display_data"
    },
    {
     "data": {
      "text/html": [
       "<pre>| 33.12ms                        | 100        |</pre>"
      ],
      "text/plain": [
       "| 33.12ms                        | 100        |"
      ]
     },
     "metadata": {},
     "output_type": "display_data"
    },
    {
     "data": {
      "text/html": [
       "<pre>+--------------------------------+------------+</pre>"
      ],
      "text/plain": [
       "+--------------------------------+------------+"
      ]
     },
     "metadata": {},
     "output_type": "display_data"
    },
    {
     "data": {
      "text/html": [
       "<pre>Setting up lookup tables.</pre>"
      ],
      "text/plain": [
       "Setting up lookup tables."
      ]
     },
     "metadata": {},
     "output_type": "display_data"
    },
    {
     "data": {
      "text/html": [
       "<pre>Processing data in one pass using dense lookup tables.</pre>"
      ],
      "text/plain": [
       "Processing data in one pass using dense lookup tables."
      ]
     },
     "metadata": {},
     "output_type": "display_data"
    },
    {
     "data": {
      "text/html": [
       "<pre>+-------------------------------------+------------------+-----------------+</pre>"
      ],
      "text/plain": [
       "+-------------------------------------+------------------+-----------------+"
      ]
     },
     "metadata": {},
     "output_type": "display_data"
    },
    {
     "data": {
      "text/html": [
       "<pre>| Elapsed Time (Constructing Lookups) | Total % Complete | Items Processed |</pre>"
      ],
      "text/plain": [
       "| Elapsed Time (Constructing Lookups) | Total % Complete | Items Processed |"
      ]
     },
     "metadata": {},
     "output_type": "display_data"
    },
    {
     "data": {
      "text/html": [
       "<pre>+-------------------------------------+------------------+-----------------+</pre>"
      ],
      "text/plain": [
       "+-------------------------------------+------------------+-----------------+"
      ]
     },
     "metadata": {},
     "output_type": "display_data"
    },
    {
     "data": {
      "text/html": [
       "<pre>| 42.728ms                            | 0                | 0               |</pre>"
      ],
      "text/plain": [
       "| 42.728ms                            | 0                | 0               |"
      ]
     },
     "metadata": {},
     "output_type": "display_data"
    },
    {
     "data": {
      "text/html": [
       "<pre>| 138.633ms                           | 100              | 1426            |</pre>"
      ],
      "text/plain": [
       "| 138.633ms                           | 100              | 1426            |"
      ]
     },
     "metadata": {},
     "output_type": "display_data"
    },
    {
     "data": {
      "text/html": [
       "<pre>+-------------------------------------+------------------+-----------------+</pre>"
      ],
      "text/plain": [
       "+-------------------------------------+------------------+-----------------+"
      ]
     },
     "metadata": {},
     "output_type": "display_data"
    },
    {
     "data": {
      "text/html": [
       "<pre>Finalizing lookup tables.</pre>"
      ],
      "text/plain": [
       "Finalizing lookup tables."
      ]
     },
     "metadata": {},
     "output_type": "display_data"
    },
    {
     "data": {
      "text/html": [
       "<pre>Generating candidate set for working with new users.</pre>"
      ],
      "text/plain": [
       "Generating candidate set for working with new users."
      ]
     },
     "metadata": {},
     "output_type": "display_data"
    },
    {
     "data": {
      "text/html": [
       "<pre>Finished training in 0.166628s</pre>"
      ],
      "text/plain": [
       "Finished training in 0.166628s"
      ]
     },
     "metadata": {},
     "output_type": "display_data"
    },
    {
     "data": {
      "text/html": [
       "<pre>recommendations finished on 1000/101140 queries. users per second: 31689.7</pre>"
      ],
      "text/plain": [
       "recommendations finished on 1000/101140 queries. users per second: 31689.7"
      ]
     },
     "metadata": {},
     "output_type": "display_data"
    },
    {
     "data": {
      "text/html": [
       "<pre>recommendations finished on 2000/101140 queries. users per second: 38691.5</pre>"
      ],
      "text/plain": [
       "recommendations finished on 2000/101140 queries. users per second: 38691.5"
      ]
     },
     "metadata": {},
     "output_type": "display_data"
    },
    {
     "data": {
      "text/html": [
       "<pre>recommendations finished on 3000/101140 queries. users per second: 41295</pre>"
      ],
      "text/plain": [
       "recommendations finished on 3000/101140 queries. users per second: 41295"
      ]
     },
     "metadata": {},
     "output_type": "display_data"
    },
    {
     "data": {
      "text/html": [
       "<pre>recommendations finished on 4000/101140 queries. users per second: 41760.6</pre>"
      ],
      "text/plain": [
       "recommendations finished on 4000/101140 queries. users per second: 41760.6"
      ]
     },
     "metadata": {},
     "output_type": "display_data"
    },
    {
     "data": {
      "text/html": [
       "<pre>recommendations finished on 5000/101140 queries. users per second: 42219.4</pre>"
      ],
      "text/plain": [
       "recommendations finished on 5000/101140 queries. users per second: 42219.4"
      ]
     },
     "metadata": {},
     "output_type": "display_data"
    },
    {
     "data": {
      "text/html": [
       "<pre>recommendations finished on 6000/101140 queries. users per second: 43510.7</pre>"
      ],
      "text/plain": [
       "recommendations finished on 6000/101140 queries. users per second: 43510.7"
      ]
     },
     "metadata": {},
     "output_type": "display_data"
    },
    {
     "data": {
      "text/html": [
       "<pre>recommendations finished on 7000/101140 queries. users per second: 45191.9</pre>"
      ],
      "text/plain": [
       "recommendations finished on 7000/101140 queries. users per second: 45191.9"
      ]
     },
     "metadata": {},
     "output_type": "display_data"
    },
    {
     "data": {
      "text/html": [
       "<pre>recommendations finished on 8000/101140 queries. users per second: 46730.3</pre>"
      ],
      "text/plain": [
       "recommendations finished on 8000/101140 queries. users per second: 46730.3"
      ]
     },
     "metadata": {},
     "output_type": "display_data"
    },
    {
     "data": {
      "text/html": [
       "<pre>recommendations finished on 9000/101140 queries. users per second: 48033.8</pre>"
      ],
      "text/plain": [
       "recommendations finished on 9000/101140 queries. users per second: 48033.8"
      ]
     },
     "metadata": {},
     "output_type": "display_data"
    },
    {
     "data": {
      "text/html": [
       "<pre>recommendations finished on 10000/101140 queries. users per second: 48881.6</pre>"
      ],
      "text/plain": [
       "recommendations finished on 10000/101140 queries. users per second: 48881.6"
      ]
     },
     "metadata": {},
     "output_type": "display_data"
    },
    {
     "data": {
      "text/html": [
       "<pre>recommendations finished on 11000/101140 queries. users per second: 49723.4</pre>"
      ],
      "text/plain": [
       "recommendations finished on 11000/101140 queries. users per second: 49723.4"
      ]
     },
     "metadata": {},
     "output_type": "display_data"
    },
    {
     "data": {
      "text/html": [
       "<pre>recommendations finished on 12000/101140 queries. users per second: 50332.4</pre>"
      ],
      "text/plain": [
       "recommendations finished on 12000/101140 queries. users per second: 50332.4"
      ]
     },
     "metadata": {},
     "output_type": "display_data"
    },
    {
     "data": {
      "text/html": [
       "<pre>recommendations finished on 13000/101140 queries. users per second: 50903.9</pre>"
      ],
      "text/plain": [
       "recommendations finished on 13000/101140 queries. users per second: 50903.9"
      ]
     },
     "metadata": {},
     "output_type": "display_data"
    },
    {
     "data": {
      "text/html": [
       "<pre>recommendations finished on 14000/101140 queries. users per second: 51309.7</pre>"
      ],
      "text/plain": [
       "recommendations finished on 14000/101140 queries. users per second: 51309.7"
      ]
     },
     "metadata": {},
     "output_type": "display_data"
    },
    {
     "data": {
      "text/html": [
       "<pre>recommendations finished on 15000/101140 queries. users per second: 51789.3</pre>"
      ],
      "text/plain": [
       "recommendations finished on 15000/101140 queries. users per second: 51789.3"
      ]
     },
     "metadata": {},
     "output_type": "display_data"
    },
    {
     "data": {
      "text/html": [
       "<pre>recommendations finished on 16000/101140 queries. users per second: 52163</pre>"
      ],
      "text/plain": [
       "recommendations finished on 16000/101140 queries. users per second: 52163"
      ]
     },
     "metadata": {},
     "output_type": "display_data"
    },
    {
     "data": {
      "text/html": [
       "<pre>recommendations finished on 17000/101140 queries. users per second: 52555.8</pre>"
      ],
      "text/plain": [
       "recommendations finished on 17000/101140 queries. users per second: 52555.8"
      ]
     },
     "metadata": {},
     "output_type": "display_data"
    },
    {
     "data": {
      "text/html": [
       "<pre>recommendations finished on 18000/101140 queries. users per second: 52935.7</pre>"
      ],
      "text/plain": [
       "recommendations finished on 18000/101140 queries. users per second: 52935.7"
      ]
     },
     "metadata": {},
     "output_type": "display_data"
    },
    {
     "data": {
      "text/html": [
       "<pre>recommendations finished on 19000/101140 queries. users per second: 53472.2</pre>"
      ],
      "text/plain": [
       "recommendations finished on 19000/101140 queries. users per second: 53472.2"
      ]
     },
     "metadata": {},
     "output_type": "display_data"
    },
    {
     "data": {
      "text/html": [
       "<pre>recommendations finished on 20000/101140 queries. users per second: 54013.8</pre>"
      ],
      "text/plain": [
       "recommendations finished on 20000/101140 queries. users per second: 54013.8"
      ]
     },
     "metadata": {},
     "output_type": "display_data"
    },
    {
     "data": {
      "text/html": [
       "<pre>recommendations finished on 21000/101140 queries. users per second: 54470.2</pre>"
      ],
      "text/plain": [
       "recommendations finished on 21000/101140 queries. users per second: 54470.2"
      ]
     },
     "metadata": {},
     "output_type": "display_data"
    },
    {
     "data": {
      "text/html": [
       "<pre>recommendations finished on 22000/101140 queries. users per second: 54949.2</pre>"
      ],
      "text/plain": [
       "recommendations finished on 22000/101140 queries. users per second: 54949.2"
      ]
     },
     "metadata": {},
     "output_type": "display_data"
    },
    {
     "data": {
      "text/html": [
       "<pre>recommendations finished on 23000/101140 queries. users per second: 55413.5</pre>"
      ],
      "text/plain": [
       "recommendations finished on 23000/101140 queries. users per second: 55413.5"
      ]
     },
     "metadata": {},
     "output_type": "display_data"
    },
    {
     "data": {
      "text/html": [
       "<pre>recommendations finished on 24000/101140 queries. users per second: 55679</pre>"
      ],
      "text/plain": [
       "recommendations finished on 24000/101140 queries. users per second: 55679"
      ]
     },
     "metadata": {},
     "output_type": "display_data"
    },
    {
     "data": {
      "text/html": [
       "<pre>recommendations finished on 25000/101140 queries. users per second: 56049</pre>"
      ],
      "text/plain": [
       "recommendations finished on 25000/101140 queries. users per second: 56049"
      ]
     },
     "metadata": {},
     "output_type": "display_data"
    },
    {
     "data": {
      "text/html": [
       "<pre>recommendations finished on 26000/101140 queries. users per second: 56336</pre>"
      ],
      "text/plain": [
       "recommendations finished on 26000/101140 queries. users per second: 56336"
      ]
     },
     "metadata": {},
     "output_type": "display_data"
    },
    {
     "data": {
      "text/html": [
       "<pre>recommendations finished on 27000/101140 queries. users per second: 56616.8</pre>"
      ],
      "text/plain": [
       "recommendations finished on 27000/101140 queries. users per second: 56616.8"
      ]
     },
     "metadata": {},
     "output_type": "display_data"
    },
    {
     "data": {
      "text/html": [
       "<pre>recommendations finished on 28000/101140 queries. users per second: 56912.1</pre>"
      ],
      "text/plain": [
       "recommendations finished on 28000/101140 queries. users per second: 56912.1"
      ]
     },
     "metadata": {},
     "output_type": "display_data"
    },
    {
     "data": {
      "text/html": [
       "<pre>recommendations finished on 29000/101140 queries. users per second: 57191.9</pre>"
      ],
      "text/plain": [
       "recommendations finished on 29000/101140 queries. users per second: 57191.9"
      ]
     },
     "metadata": {},
     "output_type": "display_data"
    },
    {
     "data": {
      "text/html": [
       "<pre>recommendations finished on 30000/101140 queries. users per second: 57302</pre>"
      ],
      "text/plain": [
       "recommendations finished on 30000/101140 queries. users per second: 57302"
      ]
     },
     "metadata": {},
     "output_type": "display_data"
    },
    {
     "data": {
      "text/html": [
       "<pre>recommendations finished on 31000/101140 queries. users per second: 57507.6</pre>"
      ],
      "text/plain": [
       "recommendations finished on 31000/101140 queries. users per second: 57507.6"
      ]
     },
     "metadata": {},
     "output_type": "display_data"
    },
    {
     "data": {
      "text/html": [
       "<pre>recommendations finished on 32000/101140 queries. users per second: 57769.3</pre>"
      ],
      "text/plain": [
       "recommendations finished on 32000/101140 queries. users per second: 57769.3"
      ]
     },
     "metadata": {},
     "output_type": "display_data"
    },
    {
     "data": {
      "text/html": [
       "<pre>recommendations finished on 33000/101140 queries. users per second: 57836.2</pre>"
      ],
      "text/plain": [
       "recommendations finished on 33000/101140 queries. users per second: 57836.2"
      ]
     },
     "metadata": {},
     "output_type": "display_data"
    },
    {
     "data": {
      "text/html": [
       "<pre>recommendations finished on 34000/101140 queries. users per second: 57822.5</pre>"
      ],
      "text/plain": [
       "recommendations finished on 34000/101140 queries. users per second: 57822.5"
      ]
     },
     "metadata": {},
     "output_type": "display_data"
    },
    {
     "data": {
      "text/html": [
       "<pre>recommendations finished on 35000/101140 queries. users per second: 57859.2</pre>"
      ],
      "text/plain": [
       "recommendations finished on 35000/101140 queries. users per second: 57859.2"
      ]
     },
     "metadata": {},
     "output_type": "display_data"
    },
    {
     "data": {
      "text/html": [
       "<pre>recommendations finished on 36000/101140 queries. users per second: 57893.1</pre>"
      ],
      "text/plain": [
       "recommendations finished on 36000/101140 queries. users per second: 57893.1"
      ]
     },
     "metadata": {},
     "output_type": "display_data"
    },
    {
     "data": {
      "text/html": [
       "<pre>recommendations finished on 37000/101140 queries. users per second: 57923</pre>"
      ],
      "text/plain": [
       "recommendations finished on 37000/101140 queries. users per second: 57923"
      ]
     },
     "metadata": {},
     "output_type": "display_data"
    },
    {
     "data": {
      "text/html": [
       "<pre>recommendations finished on 38000/101140 queries. users per second: 57930.3</pre>"
      ],
      "text/plain": [
       "recommendations finished on 38000/101140 queries. users per second: 57930.3"
      ]
     },
     "metadata": {},
     "output_type": "display_data"
    },
    {
     "data": {
      "text/html": [
       "<pre>recommendations finished on 39000/101140 queries. users per second: 57912.2</pre>"
      ],
      "text/plain": [
       "recommendations finished on 39000/101140 queries. users per second: 57912.2"
      ]
     },
     "metadata": {},
     "output_type": "display_data"
    },
    {
     "data": {
      "text/html": [
       "<pre>recommendations finished on 40000/101140 queries. users per second: 57944.1</pre>"
      ],
      "text/plain": [
       "recommendations finished on 40000/101140 queries. users per second: 57944.1"
      ]
     },
     "metadata": {},
     "output_type": "display_data"
    },
    {
     "data": {
      "text/html": [
       "<pre>recommendations finished on 41000/101140 queries. users per second: 57998.7</pre>"
      ],
      "text/plain": [
       "recommendations finished on 41000/101140 queries. users per second: 57998.7"
      ]
     },
     "metadata": {},
     "output_type": "display_data"
    },
    {
     "data": {
      "text/html": [
       "<pre>recommendations finished on 42000/101140 queries. users per second: 57991.2</pre>"
      ],
      "text/plain": [
       "recommendations finished on 42000/101140 queries. users per second: 57991.2"
      ]
     },
     "metadata": {},
     "output_type": "display_data"
    },
    {
     "data": {
      "text/html": [
       "<pre>recommendations finished on 43000/101140 queries. users per second: 57999.1</pre>"
      ],
      "text/plain": [
       "recommendations finished on 43000/101140 queries. users per second: 57999.1"
      ]
     },
     "metadata": {},
     "output_type": "display_data"
    },
    {
     "data": {
      "text/html": [
       "<pre>recommendations finished on 44000/101140 queries. users per second: 58002.5</pre>"
      ],
      "text/plain": [
       "recommendations finished on 44000/101140 queries. users per second: 58002.5"
      ]
     },
     "metadata": {},
     "output_type": "display_data"
    },
    {
     "data": {
      "text/html": [
       "<pre>recommendations finished on 45000/101140 queries. users per second: 57969.8</pre>"
      ],
      "text/plain": [
       "recommendations finished on 45000/101140 queries. users per second: 57969.8"
      ]
     },
     "metadata": {},
     "output_type": "display_data"
    },
    {
     "data": {
      "text/html": [
       "<pre>recommendations finished on 46000/101140 queries. users per second: 57948.1</pre>"
      ],
      "text/plain": [
       "recommendations finished on 46000/101140 queries. users per second: 57948.1"
      ]
     },
     "metadata": {},
     "output_type": "display_data"
    },
    {
     "data": {
      "text/html": [
       "<pre>recommendations finished on 47000/101140 queries. users per second: 57985.7</pre>"
      ],
      "text/plain": [
       "recommendations finished on 47000/101140 queries. users per second: 57985.7"
      ]
     },
     "metadata": {},
     "output_type": "display_data"
    },
    {
     "data": {
      "text/html": [
       "<pre>recommendations finished on 48000/101140 queries. users per second: 57948.6</pre>"
      ],
      "text/plain": [
       "recommendations finished on 48000/101140 queries. users per second: 57948.6"
      ]
     },
     "metadata": {},
     "output_type": "display_data"
    },
    {
     "data": {
      "text/html": [
       "<pre>recommendations finished on 49000/101140 queries. users per second: 57999.8</pre>"
      ],
      "text/plain": [
       "recommendations finished on 49000/101140 queries. users per second: 57999.8"
      ]
     },
     "metadata": {},
     "output_type": "display_data"
    },
    {
     "data": {
      "text/html": [
       "<pre>recommendations finished on 50000/101140 queries. users per second: 57974.8</pre>"
      ],
      "text/plain": [
       "recommendations finished on 50000/101140 queries. users per second: 57974.8"
      ]
     },
     "metadata": {},
     "output_type": "display_data"
    },
    {
     "data": {
      "text/html": [
       "<pre>recommendations finished on 51000/101140 queries. users per second: 58009.6</pre>"
      ],
      "text/plain": [
       "recommendations finished on 51000/101140 queries. users per second: 58009.6"
      ]
     },
     "metadata": {},
     "output_type": "display_data"
    },
    {
     "data": {
      "text/html": [
       "<pre>recommendations finished on 52000/101140 queries. users per second: 58052</pre>"
      ],
      "text/plain": [
       "recommendations finished on 52000/101140 queries. users per second: 58052"
      ]
     },
     "metadata": {},
     "output_type": "display_data"
    },
    {
     "data": {
      "text/html": [
       "<pre>recommendations finished on 53000/101140 queries. users per second: 58166.7</pre>"
      ],
      "text/plain": [
       "recommendations finished on 53000/101140 queries. users per second: 58166.7"
      ]
     },
     "metadata": {},
     "output_type": "display_data"
    },
    {
     "data": {
      "text/html": [
       "<pre>recommendations finished on 54000/101140 queries. users per second: 58303.1</pre>"
      ],
      "text/plain": [
       "recommendations finished on 54000/101140 queries. users per second: 58303.1"
      ]
     },
     "metadata": {},
     "output_type": "display_data"
    },
    {
     "data": {
      "text/html": [
       "<pre>recommendations finished on 55000/101140 queries. users per second: 58414.1</pre>"
      ],
      "text/plain": [
       "recommendations finished on 55000/101140 queries. users per second: 58414.1"
      ]
     },
     "metadata": {},
     "output_type": "display_data"
    },
    {
     "data": {
      "text/html": [
       "<pre>recommendations finished on 56000/101140 queries. users per second: 58562.2</pre>"
      ],
      "text/plain": [
       "recommendations finished on 56000/101140 queries. users per second: 58562.2"
      ]
     },
     "metadata": {},
     "output_type": "display_data"
    },
    {
     "data": {
      "text/html": [
       "<pre>recommendations finished on 57000/101140 queries. users per second: 58657.3</pre>"
      ],
      "text/plain": [
       "recommendations finished on 57000/101140 queries. users per second: 58657.3"
      ]
     },
     "metadata": {},
     "output_type": "display_data"
    },
    {
     "data": {
      "text/html": [
       "<pre>recommendations finished on 58000/101140 queries. users per second: 58784.8</pre>"
      ],
      "text/plain": [
       "recommendations finished on 58000/101140 queries. users per second: 58784.8"
      ]
     },
     "metadata": {},
     "output_type": "display_data"
    },
    {
     "data": {
      "text/html": [
       "<pre>recommendations finished on 59000/101140 queries. users per second: 58887.1</pre>"
      ],
      "text/plain": [
       "recommendations finished on 59000/101140 queries. users per second: 58887.1"
      ]
     },
     "metadata": {},
     "output_type": "display_data"
    },
    {
     "data": {
      "text/html": [
       "<pre>recommendations finished on 60000/101140 queries. users per second: 58999.5</pre>"
      ],
      "text/plain": [
       "recommendations finished on 60000/101140 queries. users per second: 58999.5"
      ]
     },
     "metadata": {},
     "output_type": "display_data"
    },
    {
     "data": {
      "text/html": [
       "<pre>recommendations finished on 61000/101140 queries. users per second: 59093.8</pre>"
      ],
      "text/plain": [
       "recommendations finished on 61000/101140 queries. users per second: 59093.8"
      ]
     },
     "metadata": {},
     "output_type": "display_data"
    },
    {
     "data": {
      "text/html": [
       "<pre>recommendations finished on 62000/101140 queries. users per second: 59150.8</pre>"
      ],
      "text/plain": [
       "recommendations finished on 62000/101140 queries. users per second: 59150.8"
      ]
     },
     "metadata": {},
     "output_type": "display_data"
    },
    {
     "data": {
      "text/html": [
       "<pre>recommendations finished on 63000/101140 queries. users per second: 59228.1</pre>"
      ],
      "text/plain": [
       "recommendations finished on 63000/101140 queries. users per second: 59228.1"
      ]
     },
     "metadata": {},
     "output_type": "display_data"
    },
    {
     "data": {
      "text/html": [
       "<pre>recommendations finished on 64000/101140 queries. users per second: 59281.8</pre>"
      ],
      "text/plain": [
       "recommendations finished on 64000/101140 queries. users per second: 59281.8"
      ]
     },
     "metadata": {},
     "output_type": "display_data"
    },
    {
     "data": {
      "text/html": [
       "<pre>recommendations finished on 65000/101140 queries. users per second: 59096.8</pre>"
      ],
      "text/plain": [
       "recommendations finished on 65000/101140 queries. users per second: 59096.8"
      ]
     },
     "metadata": {},
     "output_type": "display_data"
    },
    {
     "data": {
      "text/html": [
       "<pre>recommendations finished on 66000/101140 queries. users per second: 58836</pre>"
      ],
      "text/plain": [
       "recommendations finished on 66000/101140 queries. users per second: 58836"
      ]
     },
     "metadata": {},
     "output_type": "display_data"
    },
    {
     "data": {
      "text/html": [
       "<pre>recommendations finished on 67000/101140 queries. users per second: 58726</pre>"
      ],
      "text/plain": [
       "recommendations finished on 67000/101140 queries. users per second: 58726"
      ]
     },
     "metadata": {},
     "output_type": "display_data"
    },
    {
     "data": {
      "text/html": [
       "<pre>recommendations finished on 68000/101140 queries. users per second: 58709.2</pre>"
      ],
      "text/plain": [
       "recommendations finished on 68000/101140 queries. users per second: 58709.2"
      ]
     },
     "metadata": {},
     "output_type": "display_data"
    },
    {
     "data": {
      "text/html": [
       "<pre>recommendations finished on 69000/101140 queries. users per second: 58697.6</pre>"
      ],
      "text/plain": [
       "recommendations finished on 69000/101140 queries. users per second: 58697.6"
      ]
     },
     "metadata": {},
     "output_type": "display_data"
    },
    {
     "data": {
      "text/html": [
       "<pre>recommendations finished on 70000/101140 queries. users per second: 58621</pre>"
      ],
      "text/plain": [
       "recommendations finished on 70000/101140 queries. users per second: 58621"
      ]
     },
     "metadata": {},
     "output_type": "display_data"
    },
    {
     "data": {
      "text/html": [
       "<pre>recommendations finished on 71000/101140 queries. users per second: 58550.6</pre>"
      ],
      "text/plain": [
       "recommendations finished on 71000/101140 queries. users per second: 58550.6"
      ]
     },
     "metadata": {},
     "output_type": "display_data"
    },
    {
     "data": {
      "text/html": [
       "<pre>recommendations finished on 72000/101140 queries. users per second: 58565.2</pre>"
      ],
      "text/plain": [
       "recommendations finished on 72000/101140 queries. users per second: 58565.2"
      ]
     },
     "metadata": {},
     "output_type": "display_data"
    },
    {
     "data": {
      "text/html": [
       "<pre>recommendations finished on 73000/101140 queries. users per second: 58572</pre>"
      ],
      "text/plain": [
       "recommendations finished on 73000/101140 queries. users per second: 58572"
      ]
     },
     "metadata": {},
     "output_type": "display_data"
    },
    {
     "data": {
      "text/html": [
       "<pre>recommendations finished on 74000/101140 queries. users per second: 58587.9</pre>"
      ],
      "text/plain": [
       "recommendations finished on 74000/101140 queries. users per second: 58587.9"
      ]
     },
     "metadata": {},
     "output_type": "display_data"
    },
    {
     "data": {
      "text/html": [
       "<pre>recommendations finished on 75000/101140 queries. users per second: 58577.7</pre>"
      ],
      "text/plain": [
       "recommendations finished on 75000/101140 queries. users per second: 58577.7"
      ]
     },
     "metadata": {},
     "output_type": "display_data"
    },
    {
     "data": {
      "text/html": [
       "<pre>recommendations finished on 76000/101140 queries. users per second: 58583.4</pre>"
      ],
      "text/plain": [
       "recommendations finished on 76000/101140 queries. users per second: 58583.4"
      ]
     },
     "metadata": {},
     "output_type": "display_data"
    },
    {
     "data": {
      "text/html": [
       "<pre>recommendations finished on 77000/101140 queries. users per second: 58574.2</pre>"
      ],
      "text/plain": [
       "recommendations finished on 77000/101140 queries. users per second: 58574.2"
      ]
     },
     "metadata": {},
     "output_type": "display_data"
    },
    {
     "data": {
      "text/html": [
       "<pre>recommendations finished on 78000/101140 queries. users per second: 58559.2</pre>"
      ],
      "text/plain": [
       "recommendations finished on 78000/101140 queries. users per second: 58559.2"
      ]
     },
     "metadata": {},
     "output_type": "display_data"
    },
    {
     "data": {
      "text/html": [
       "<pre>recommendations finished on 79000/101140 queries. users per second: 58573.5</pre>"
      ],
      "text/plain": [
       "recommendations finished on 79000/101140 queries. users per second: 58573.5"
      ]
     },
     "metadata": {},
     "output_type": "display_data"
    },
    {
     "data": {
      "text/html": [
       "<pre>recommendations finished on 80000/101140 queries. users per second: 58599.6</pre>"
      ],
      "text/plain": [
       "recommendations finished on 80000/101140 queries. users per second: 58599.6"
      ]
     },
     "metadata": {},
     "output_type": "display_data"
    },
    {
     "data": {
      "text/html": [
       "<pre>recommendations finished on 81000/101140 queries. users per second: 58610.9</pre>"
      ],
      "text/plain": [
       "recommendations finished on 81000/101140 queries. users per second: 58610.9"
      ]
     },
     "metadata": {},
     "output_type": "display_data"
    },
    {
     "data": {
      "text/html": [
       "<pre>recommendations finished on 82000/101140 queries. users per second: 58609.4</pre>"
      ],
      "text/plain": [
       "recommendations finished on 82000/101140 queries. users per second: 58609.4"
      ]
     },
     "metadata": {},
     "output_type": "display_data"
    },
    {
     "data": {
      "text/html": [
       "<pre>recommendations finished on 83000/101140 queries. users per second: 58566.5</pre>"
      ],
      "text/plain": [
       "recommendations finished on 83000/101140 queries. users per second: 58566.5"
      ]
     },
     "metadata": {},
     "output_type": "display_data"
    },
    {
     "data": {
      "text/html": [
       "<pre>recommendations finished on 84000/101140 queries. users per second: 58478.7</pre>"
      ],
      "text/plain": [
       "recommendations finished on 84000/101140 queries. users per second: 58478.7"
      ]
     },
     "metadata": {},
     "output_type": "display_data"
    },
    {
     "data": {
      "text/html": [
       "<pre>recommendations finished on 85000/101140 queries. users per second: 58554.8</pre>"
      ],
      "text/plain": [
       "recommendations finished on 85000/101140 queries. users per second: 58554.8"
      ]
     },
     "metadata": {},
     "output_type": "display_data"
    },
    {
     "data": {
      "text/html": [
       "<pre>recommendations finished on 86000/101140 queries. users per second: 58606.7</pre>"
      ],
      "text/plain": [
       "recommendations finished on 86000/101140 queries. users per second: 58606.7"
      ]
     },
     "metadata": {},
     "output_type": "display_data"
    },
    {
     "data": {
      "text/html": [
       "<pre>recommendations finished on 87000/101140 queries. users per second: 58578.6</pre>"
      ],
      "text/plain": [
       "recommendations finished on 87000/101140 queries. users per second: 58578.6"
      ]
     },
     "metadata": {},
     "output_type": "display_data"
    },
    {
     "data": {
      "text/html": [
       "<pre>recommendations finished on 88000/101140 queries. users per second: 58597.6</pre>"
      ],
      "text/plain": [
       "recommendations finished on 88000/101140 queries. users per second: 58597.6"
      ]
     },
     "metadata": {},
     "output_type": "display_data"
    },
    {
     "data": {
      "text/html": [
       "<pre>recommendations finished on 89000/101140 queries. users per second: 58536.4</pre>"
      ],
      "text/plain": [
       "recommendations finished on 89000/101140 queries. users per second: 58536.4"
      ]
     },
     "metadata": {},
     "output_type": "display_data"
    },
    {
     "data": {
      "text/html": [
       "<pre>recommendations finished on 90000/101140 queries. users per second: 58556.4</pre>"
      ],
      "text/plain": [
       "recommendations finished on 90000/101140 queries. users per second: 58556.4"
      ]
     },
     "metadata": {},
     "output_type": "display_data"
    },
    {
     "data": {
      "text/html": [
       "<pre>recommendations finished on 91000/101140 queries. users per second: 58621.5</pre>"
      ],
      "text/plain": [
       "recommendations finished on 91000/101140 queries. users per second: 58621.5"
      ]
     },
     "metadata": {},
     "output_type": "display_data"
    },
    {
     "data": {
      "text/html": [
       "<pre>recommendations finished on 92000/101140 queries. users per second: 58590.8</pre>"
      ],
      "text/plain": [
       "recommendations finished on 92000/101140 queries. users per second: 58590.8"
      ]
     },
     "metadata": {},
     "output_type": "display_data"
    },
    {
     "data": {
      "text/html": [
       "<pre>recommendations finished on 93000/101140 queries. users per second: 58567.5</pre>"
      ],
      "text/plain": [
       "recommendations finished on 93000/101140 queries. users per second: 58567.5"
      ]
     },
     "metadata": {},
     "output_type": "display_data"
    },
    {
     "data": {
      "text/html": [
       "<pre>recommendations finished on 94000/101140 queries. users per second: 58538.9</pre>"
      ],
      "text/plain": [
       "recommendations finished on 94000/101140 queries. users per second: 58538.9"
      ]
     },
     "metadata": {},
     "output_type": "display_data"
    },
    {
     "data": {
      "text/html": [
       "<pre>recommendations finished on 95000/101140 queries. users per second: 58519.7</pre>"
      ],
      "text/plain": [
       "recommendations finished on 95000/101140 queries. users per second: 58519.7"
      ]
     },
     "metadata": {},
     "output_type": "display_data"
    },
    {
     "data": {
      "text/html": [
       "<pre>recommendations finished on 96000/101140 queries. users per second: 58503</pre>"
      ],
      "text/plain": [
       "recommendations finished on 96000/101140 queries. users per second: 58503"
      ]
     },
     "metadata": {},
     "output_type": "display_data"
    },
    {
     "data": {
      "text/html": [
       "<pre>recommendations finished on 97000/101140 queries. users per second: 58492.7</pre>"
      ],
      "text/plain": [
       "recommendations finished on 97000/101140 queries. users per second: 58492.7"
      ]
     },
     "metadata": {},
     "output_type": "display_data"
    },
    {
     "data": {
      "text/html": [
       "<pre>recommendations finished on 98000/101140 queries. users per second: 58477.3</pre>"
      ],
      "text/plain": [
       "recommendations finished on 98000/101140 queries. users per second: 58477.3"
      ]
     },
     "metadata": {},
     "output_type": "display_data"
    },
    {
     "data": {
      "text/html": [
       "<pre>recommendations finished on 99000/101140 queries. users per second: 58336.3</pre>"
      ],
      "text/plain": [
       "recommendations finished on 99000/101140 queries. users per second: 58336.3"
      ]
     },
     "metadata": {},
     "output_type": "display_data"
    },
    {
     "data": {
      "text/html": [
       "<pre>recommendations finished on 100000/101140 queries. users per second: 58086.9</pre>"
      ],
      "text/plain": [
       "recommendations finished on 100000/101140 queries. users per second: 58086.9"
      ]
     },
     "metadata": {},
     "output_type": "display_data"
    },
    {
     "data": {
      "text/html": [
       "<pre>recommendations finished on 101000/101140 queries. users per second: 57243.2</pre>"
      ],
      "text/plain": [
       "recommendations finished on 101000/101140 queries. users per second: 57243.2"
      ]
     },
     "metadata": {},
     "output_type": "display_data"
    },
    {
     "name": "stdout",
     "output_type": "stream",
     "text": [
      "+-------+--------+----------------------+------+\n",
      "| LYBID | ITEMID |        score         | rank |\n",
      "+-------+--------+----------------------+------+\n",
      "| 10004 | 43508  | 0.053184373038155694 |  1   |\n",
      "| 10004 | 15862  | 0.04502768175942557  |  2   |\n",
      "| 10004 | 43987  | 0.043013530118124824 |  3   |\n",
      "| 10004 | 43507  | 0.04183342627116612  |  4   |\n",
      "| 10004 | 21089  | 0.04172945874077933  |  5   |\n",
      "| 10009 | 35578  | 0.05308213829994202  |  1   |\n",
      "| 10009 | 43515  | 0.04503849148750305  |  2   |\n",
      "| 10009 | 43604  | 0.043797820806503296 |  3   |\n",
      "| 10009 | 43679  | 0.02784678339958191  |  4   |\n",
      "| 10009 | 28876  | 0.027010053396224976 |  5   |\n",
      "| 10012 | 42655  | 0.12548951307932535  |  1   |\n",
      "| 10012 | 15862  |  0.0521841843922933  |  2   |\n",
      "| 10012 | 43442  |  0.0407183567682902  |  3   |\n",
      "| 10012 | 33584  | 0.037069479624430336 |  4   |\n",
      "| 10012 | 43604  | 0.03675452868143717  |  5   |\n",
      "| 10022 | 15862  | 0.03857937124040392  |  1   |\n",
      "| 10022 | 42653  | 0.03554911414782206  |  2   |\n",
      "| 10022 | 43507  | 0.03367111749119229  |  3   |\n",
      "| 10022 | 43853  | 0.03085161911116706  |  4   |\n",
      "| 10022 | 43442  | 0.028549522161483765 |  5   |\n",
      "| 10023 | 43507  | 0.04320508986711502  |  1   |\n",
      "| 10023 | 28901  | 0.04174542427062988  |  2   |\n",
      "| 10023 | 43612  | 0.04042596369981766  |  3   |\n",
      "| 10023 | 43442  | 0.035505905747413635 |  4   |\n",
      "| 10023 | 15862  | 0.03294769674539566  |  5   |\n",
      "| 10029 | 43919  | 0.06287920475006104  |  1   |\n",
      "| 10029 | 43915  | 0.058260172605514526 |  2   |\n",
      "| 10029 | 43917  | 0.053992897272109985 |  3   |\n",
      "| 10029 | 43929  | 0.045714110136032104 |  4   |\n",
      "| 10029 | 41104  | 0.045526593923568726 |  5   |\n",
      "+-------+--------+----------------------+------+\n",
      "[505700 rows x 4 columns]\n",
      "\n"
     ]
    }
   ],
   "source": [
    "# these variables will change accordingly\n",
    "name = 'cosine'\n",
    "target = 'purchase_dummy'\n",
    "cos_dummy = model(train_data_dummy, name, user_id, item_id, target, users_to_recommend, n_rec, n_display)"
   ]
  },
  {
   "cell_type": "markdown",
   "metadata": {},
   "source": [
    "#### Using normalized purchase count"
   ]
  },
  {
   "cell_type": "code",
   "execution_count": 26,
   "metadata": {},
   "outputs": [
    {
     "data": {
      "text/html": [
       "<pre>Preparing data set.</pre>"
      ],
      "text/plain": [
       "Preparing data set."
      ]
     },
     "metadata": {},
     "output_type": "display_data"
    },
    {
     "data": {
      "text/html": [
       "<pre>    Data has 277080 observations with 93860 users and 911 items.</pre>"
      ],
      "text/plain": [
       "    Data has 277080 observations with 93860 users and 911 items."
      ]
     },
     "metadata": {},
     "output_type": "display_data"
    },
    {
     "data": {
      "text/html": [
       "<pre>    Data prepared in: 0.30014s</pre>"
      ],
      "text/plain": [
       "    Data prepared in: 0.30014s"
      ]
     },
     "metadata": {},
     "output_type": "display_data"
    },
    {
     "data": {
      "text/html": [
       "<pre>Training model from provided data.</pre>"
      ],
      "text/plain": [
       "Training model from provided data."
      ]
     },
     "metadata": {},
     "output_type": "display_data"
    },
    {
     "data": {
      "text/html": [
       "<pre>Gathering per-item and per-user statistics.</pre>"
      ],
      "text/plain": [
       "Gathering per-item and per-user statistics."
      ]
     },
     "metadata": {},
     "output_type": "display_data"
    },
    {
     "data": {
      "text/html": [
       "<pre>+--------------------------------+------------+</pre>"
      ],
      "text/plain": [
       "+--------------------------------+------------+"
      ]
     },
     "metadata": {},
     "output_type": "display_data"
    },
    {
     "data": {
      "text/html": [
       "<pre>| Elapsed Time (Item Statistics) | % Complete |</pre>"
      ],
      "text/plain": [
       "| Elapsed Time (Item Statistics) | % Complete |"
      ]
     },
     "metadata": {},
     "output_type": "display_data"
    },
    {
     "data": {
      "text/html": [
       "<pre>+--------------------------------+------------+</pre>"
      ],
      "text/plain": [
       "+--------------------------------+------------+"
      ]
     },
     "metadata": {},
     "output_type": "display_data"
    },
    {
     "data": {
      "text/html": [
       "<pre>| 1.534ms                        | 1          |</pre>"
      ],
      "text/plain": [
       "| 1.534ms                        | 1          |"
      ]
     },
     "metadata": {},
     "output_type": "display_data"
    },
    {
     "data": {
      "text/html": [
       "<pre>| 27.22ms                        | 100        |</pre>"
      ],
      "text/plain": [
       "| 27.22ms                        | 100        |"
      ]
     },
     "metadata": {},
     "output_type": "display_data"
    },
    {
     "data": {
      "text/html": [
       "<pre>+--------------------------------+------------+</pre>"
      ],
      "text/plain": [
       "+--------------------------------+------------+"
      ]
     },
     "metadata": {},
     "output_type": "display_data"
    },
    {
     "data": {
      "text/html": [
       "<pre>Setting up lookup tables.</pre>"
      ],
      "text/plain": [
       "Setting up lookup tables."
      ]
     },
     "metadata": {},
     "output_type": "display_data"
    },
    {
     "data": {
      "text/html": [
       "<pre>Processing data in one pass using dense lookup tables.</pre>"
      ],
      "text/plain": [
       "Processing data in one pass using dense lookup tables."
      ]
     },
     "metadata": {},
     "output_type": "display_data"
    },
    {
     "data": {
      "text/html": [
       "<pre>+-------------------------------------+------------------+-----------------+</pre>"
      ],
      "text/plain": [
       "+-------------------------------------+------------------+-----------------+"
      ]
     },
     "metadata": {},
     "output_type": "display_data"
    },
    {
     "data": {
      "text/html": [
       "<pre>| Elapsed Time (Constructing Lookups) | Total % Complete | Items Processed |</pre>"
      ],
      "text/plain": [
       "| Elapsed Time (Constructing Lookups) | Total % Complete | Items Processed |"
      ]
     },
     "metadata": {},
     "output_type": "display_data"
    },
    {
     "data": {
      "text/html": [
       "<pre>+-------------------------------------+------------------+-----------------+</pre>"
      ],
      "text/plain": [
       "+-------------------------------------+------------------+-----------------+"
      ]
     },
     "metadata": {},
     "output_type": "display_data"
    },
    {
     "data": {
      "text/html": [
       "<pre>| 54.942ms                            | 0                | 0               |</pre>"
      ],
      "text/plain": [
       "| 54.942ms                            | 0                | 0               |"
      ]
     },
     "metadata": {},
     "output_type": "display_data"
    },
    {
     "data": {
      "text/html": [
       "<pre>| 118.048ms                           | 100              | 911             |</pre>"
      ],
      "text/plain": [
       "| 118.048ms                           | 100              | 911             |"
      ]
     },
     "metadata": {},
     "output_type": "display_data"
    },
    {
     "data": {
      "text/html": [
       "<pre>+-------------------------------------+------------------+-----------------+</pre>"
      ],
      "text/plain": [
       "+-------------------------------------+------------------+-----------------+"
      ]
     },
     "metadata": {},
     "output_type": "display_data"
    },
    {
     "data": {
      "text/html": [
       "<pre>Finalizing lookup tables.</pre>"
      ],
      "text/plain": [
       "Finalizing lookup tables."
      ]
     },
     "metadata": {},
     "output_type": "display_data"
    },
    {
     "data": {
      "text/html": [
       "<pre>Generating candidate set for working with new users.</pre>"
      ],
      "text/plain": [
       "Generating candidate set for working with new users."
      ]
     },
     "metadata": {},
     "output_type": "display_data"
    },
    {
     "data": {
      "text/html": [
       "<pre>Finished training in 0.163644s</pre>"
      ],
      "text/plain": [
       "Finished training in 0.163644s"
      ]
     },
     "metadata": {},
     "output_type": "display_data"
    },
    {
     "data": {
      "text/html": [
       "<pre>recommendations finished on 1000/101140 queries. users per second: 36072.4</pre>"
      ],
      "text/plain": [
       "recommendations finished on 1000/101140 queries. users per second: 36072.4"
      ]
     },
     "metadata": {},
     "output_type": "display_data"
    },
    {
     "data": {
      "text/html": [
       "<pre>recommendations finished on 2000/101140 queries. users per second: 47349.6</pre>"
      ],
      "text/plain": [
       "recommendations finished on 2000/101140 queries. users per second: 47349.6"
      ]
     },
     "metadata": {},
     "output_type": "display_data"
    },
    {
     "data": {
      "text/html": [
       "<pre>recommendations finished on 3000/101140 queries. users per second: 53888</pre>"
      ],
      "text/plain": [
       "recommendations finished on 3000/101140 queries. users per second: 53888"
      ]
     },
     "metadata": {},
     "output_type": "display_data"
    },
    {
     "data": {
      "text/html": [
       "<pre>recommendations finished on 4000/101140 queries. users per second: 55804.3</pre>"
      ],
      "text/plain": [
       "recommendations finished on 4000/101140 queries. users per second: 55804.3"
      ]
     },
     "metadata": {},
     "output_type": "display_data"
    },
    {
     "data": {
      "text/html": [
       "<pre>recommendations finished on 5000/101140 queries. users per second: 57546.7</pre>"
      ],
      "text/plain": [
       "recommendations finished on 5000/101140 queries. users per second: 57546.7"
      ]
     },
     "metadata": {},
     "output_type": "display_data"
    },
    {
     "data": {
      "text/html": [
       "<pre>recommendations finished on 6000/101140 queries. users per second: 59228.3</pre>"
      ],
      "text/plain": [
       "recommendations finished on 6000/101140 queries. users per second: 59228.3"
      ]
     },
     "metadata": {},
     "output_type": "display_data"
    },
    {
     "data": {
      "text/html": [
       "<pre>recommendations finished on 7000/101140 queries. users per second: 56127.1</pre>"
      ],
      "text/plain": [
       "recommendations finished on 7000/101140 queries. users per second: 56127.1"
      ]
     },
     "metadata": {},
     "output_type": "display_data"
    },
    {
     "data": {
      "text/html": [
       "<pre>recommendations finished on 8000/101140 queries. users per second: 56220.4</pre>"
      ],
      "text/plain": [
       "recommendations finished on 8000/101140 queries. users per second: 56220.4"
      ]
     },
     "metadata": {},
     "output_type": "display_data"
    },
    {
     "data": {
      "text/html": [
       "<pre>recommendations finished on 9000/101140 queries. users per second: 57569.8</pre>"
      ],
      "text/plain": [
       "recommendations finished on 9000/101140 queries. users per second: 57569.8"
      ]
     },
     "metadata": {},
     "output_type": "display_data"
    },
    {
     "data": {
      "text/html": [
       "<pre>recommendations finished on 10000/101140 queries. users per second: 59244.5</pre>"
      ],
      "text/plain": [
       "recommendations finished on 10000/101140 queries. users per second: 59244.5"
      ]
     },
     "metadata": {},
     "output_type": "display_data"
    },
    {
     "data": {
      "text/html": [
       "<pre>recommendations finished on 11000/101140 queries. users per second: 58282.8</pre>"
      ],
      "text/plain": [
       "recommendations finished on 11000/101140 queries. users per second: 58282.8"
      ]
     },
     "metadata": {},
     "output_type": "display_data"
    },
    {
     "data": {
      "text/html": [
       "<pre>recommendations finished on 12000/101140 queries. users per second: 57473.5</pre>"
      ],
      "text/plain": [
       "recommendations finished on 12000/101140 queries. users per second: 57473.5"
      ]
     },
     "metadata": {},
     "output_type": "display_data"
    },
    {
     "data": {
      "text/html": [
       "<pre>recommendations finished on 13000/101140 queries. users per second: 57936.4</pre>"
      ],
      "text/plain": [
       "recommendations finished on 13000/101140 queries. users per second: 57936.4"
      ]
     },
     "metadata": {},
     "output_type": "display_data"
    },
    {
     "data": {
      "text/html": [
       "<pre>recommendations finished on 14000/101140 queries. users per second: 57048.3</pre>"
      ],
      "text/plain": [
       "recommendations finished on 14000/101140 queries. users per second: 57048.3"
      ]
     },
     "metadata": {},
     "output_type": "display_data"
    },
    {
     "data": {
      "text/html": [
       "<pre>recommendations finished on 15000/101140 queries. users per second: 57329.8</pre>"
      ],
      "text/plain": [
       "recommendations finished on 15000/101140 queries. users per second: 57329.8"
      ]
     },
     "metadata": {},
     "output_type": "display_data"
    },
    {
     "data": {
      "text/html": [
       "<pre>recommendations finished on 16000/101140 queries. users per second: 56819.4</pre>"
      ],
      "text/plain": [
       "recommendations finished on 16000/101140 queries. users per second: 56819.4"
      ]
     },
     "metadata": {},
     "output_type": "display_data"
    },
    {
     "data": {
      "text/html": [
       "<pre>recommendations finished on 17000/101140 queries. users per second: 56841.4</pre>"
      ],
      "text/plain": [
       "recommendations finished on 17000/101140 queries. users per second: 56841.4"
      ]
     },
     "metadata": {},
     "output_type": "display_data"
    },
    {
     "data": {
      "text/html": [
       "<pre>recommendations finished on 18000/101140 queries. users per second: 55556.4</pre>"
      ],
      "text/plain": [
       "recommendations finished on 18000/101140 queries. users per second: 55556.4"
      ]
     },
     "metadata": {},
     "output_type": "display_data"
    },
    {
     "data": {
      "text/html": [
       "<pre>recommendations finished on 19000/101140 queries. users per second: 55144.6</pre>"
      ],
      "text/plain": [
       "recommendations finished on 19000/101140 queries. users per second: 55144.6"
      ]
     },
     "metadata": {},
     "output_type": "display_data"
    },
    {
     "data": {
      "text/html": [
       "<pre>recommendations finished on 20000/101140 queries. users per second: 55536.3</pre>"
      ],
      "text/plain": [
       "recommendations finished on 20000/101140 queries. users per second: 55536.3"
      ]
     },
     "metadata": {},
     "output_type": "display_data"
    },
    {
     "data": {
      "text/html": [
       "<pre>recommendations finished on 21000/101140 queries. users per second: 55794.8</pre>"
      ],
      "text/plain": [
       "recommendations finished on 21000/101140 queries. users per second: 55794.8"
      ]
     },
     "metadata": {},
     "output_type": "display_data"
    },
    {
     "data": {
      "text/html": [
       "<pre>recommendations finished on 22000/101140 queries. users per second: 56306</pre>"
      ],
      "text/plain": [
       "recommendations finished on 22000/101140 queries. users per second: 56306"
      ]
     },
     "metadata": {},
     "output_type": "display_data"
    },
    {
     "data": {
      "text/html": [
       "<pre>recommendations finished on 23000/101140 queries. users per second: 56645.5</pre>"
      ],
      "text/plain": [
       "recommendations finished on 23000/101140 queries. users per second: 56645.5"
      ]
     },
     "metadata": {},
     "output_type": "display_data"
    },
    {
     "data": {
      "text/html": [
       "<pre>recommendations finished on 24000/101140 queries. users per second: 57306.5</pre>"
      ],
      "text/plain": [
       "recommendations finished on 24000/101140 queries. users per second: 57306.5"
      ]
     },
     "metadata": {},
     "output_type": "display_data"
    },
    {
     "data": {
      "text/html": [
       "<pre>recommendations finished on 25000/101140 queries. users per second: 57911.1</pre>"
      ],
      "text/plain": [
       "recommendations finished on 25000/101140 queries. users per second: 57911.1"
      ]
     },
     "metadata": {},
     "output_type": "display_data"
    },
    {
     "data": {
      "text/html": [
       "<pre>recommendations finished on 26000/101140 queries. users per second: 58332.6</pre>"
      ],
      "text/plain": [
       "recommendations finished on 26000/101140 queries. users per second: 58332.6"
      ]
     },
     "metadata": {},
     "output_type": "display_data"
    },
    {
     "data": {
      "text/html": [
       "<pre>recommendations finished on 27000/101140 queries. users per second: 58548.5</pre>"
      ],
      "text/plain": [
       "recommendations finished on 27000/101140 queries. users per second: 58548.5"
      ]
     },
     "metadata": {},
     "output_type": "display_data"
    },
    {
     "data": {
      "text/html": [
       "<pre>recommendations finished on 28000/101140 queries. users per second: 58609</pre>"
      ],
      "text/plain": [
       "recommendations finished on 28000/101140 queries. users per second: 58609"
      ]
     },
     "metadata": {},
     "output_type": "display_data"
    },
    {
     "data": {
      "text/html": [
       "<pre>recommendations finished on 29000/101140 queries. users per second: 58182.6</pre>"
      ],
      "text/plain": [
       "recommendations finished on 29000/101140 queries. users per second: 58182.6"
      ]
     },
     "metadata": {},
     "output_type": "display_data"
    },
    {
     "data": {
      "text/html": [
       "<pre>recommendations finished on 30000/101140 queries. users per second: 57701.6</pre>"
      ],
      "text/plain": [
       "recommendations finished on 30000/101140 queries. users per second: 57701.6"
      ]
     },
     "metadata": {},
     "output_type": "display_data"
    },
    {
     "data": {
      "text/html": [
       "<pre>recommendations finished on 31000/101140 queries. users per second: 57460.7</pre>"
      ],
      "text/plain": [
       "recommendations finished on 31000/101140 queries. users per second: 57460.7"
      ]
     },
     "metadata": {},
     "output_type": "display_data"
    },
    {
     "data": {
      "text/html": [
       "<pre>recommendations finished on 32000/101140 queries. users per second: 57279.7</pre>"
      ],
      "text/plain": [
       "recommendations finished on 32000/101140 queries. users per second: 57279.7"
      ]
     },
     "metadata": {},
     "output_type": "display_data"
    },
    {
     "data": {
      "text/html": [
       "<pre>recommendations finished on 33000/101140 queries. users per second: 57497</pre>"
      ],
      "text/plain": [
       "recommendations finished on 33000/101140 queries. users per second: 57497"
      ]
     },
     "metadata": {},
     "output_type": "display_data"
    },
    {
     "data": {
      "text/html": [
       "<pre>recommendations finished on 34000/101140 queries. users per second: 57729.8</pre>"
      ],
      "text/plain": [
       "recommendations finished on 34000/101140 queries. users per second: 57729.8"
      ]
     },
     "metadata": {},
     "output_type": "display_data"
    },
    {
     "data": {
      "text/html": [
       "<pre>recommendations finished on 35000/101140 queries. users per second: 58290</pre>"
      ],
      "text/plain": [
       "recommendations finished on 35000/101140 queries. users per second: 58290"
      ]
     },
     "metadata": {},
     "output_type": "display_data"
    },
    {
     "data": {
      "text/html": [
       "<pre>recommendations finished on 36000/101140 queries. users per second: 58616.7</pre>"
      ],
      "text/plain": [
       "recommendations finished on 36000/101140 queries. users per second: 58616.7"
      ]
     },
     "metadata": {},
     "output_type": "display_data"
    },
    {
     "data": {
      "text/html": [
       "<pre>recommendations finished on 37000/101140 queries. users per second: 58854.5</pre>"
      ],
      "text/plain": [
       "recommendations finished on 37000/101140 queries. users per second: 58854.5"
      ]
     },
     "metadata": {},
     "output_type": "display_data"
    },
    {
     "data": {
      "text/html": [
       "<pre>recommendations finished on 38000/101140 queries. users per second: 59062.6</pre>"
      ],
      "text/plain": [
       "recommendations finished on 38000/101140 queries. users per second: 59062.6"
      ]
     },
     "metadata": {},
     "output_type": "display_data"
    },
    {
     "data": {
      "text/html": [
       "<pre>recommendations finished on 39000/101140 queries. users per second: 59041.1</pre>"
      ],
      "text/plain": [
       "recommendations finished on 39000/101140 queries. users per second: 59041.1"
      ]
     },
     "metadata": {},
     "output_type": "display_data"
    },
    {
     "data": {
      "text/html": [
       "<pre>recommendations finished on 40000/101140 queries. users per second: 59193.5</pre>"
      ],
      "text/plain": [
       "recommendations finished on 40000/101140 queries. users per second: 59193.5"
      ]
     },
     "metadata": {},
     "output_type": "display_data"
    },
    {
     "data": {
      "text/html": [
       "<pre>recommendations finished on 41000/101140 queries. users per second: 59338.7</pre>"
      ],
      "text/plain": [
       "recommendations finished on 41000/101140 queries. users per second: 59338.7"
      ]
     },
     "metadata": {},
     "output_type": "display_data"
    },
    {
     "data": {
      "text/html": [
       "<pre>recommendations finished on 42000/101140 queries. users per second: 59469.1</pre>"
      ],
      "text/plain": [
       "recommendations finished on 42000/101140 queries. users per second: 59469.1"
      ]
     },
     "metadata": {},
     "output_type": "display_data"
    },
    {
     "data": {
      "text/html": [
       "<pre>recommendations finished on 43000/101140 queries. users per second: 59616.7</pre>"
      ],
      "text/plain": [
       "recommendations finished on 43000/101140 queries. users per second: 59616.7"
      ]
     },
     "metadata": {},
     "output_type": "display_data"
    },
    {
     "data": {
      "text/html": [
       "<pre>recommendations finished on 44000/101140 queries. users per second: 59904.9</pre>"
      ],
      "text/plain": [
       "recommendations finished on 44000/101140 queries. users per second: 59904.9"
      ]
     },
     "metadata": {},
     "output_type": "display_data"
    },
    {
     "data": {
      "text/html": [
       "<pre>recommendations finished on 45000/101140 queries. users per second: 60125.5</pre>"
      ],
      "text/plain": [
       "recommendations finished on 45000/101140 queries. users per second: 60125.5"
      ]
     },
     "metadata": {},
     "output_type": "display_data"
    },
    {
     "data": {
      "text/html": [
       "<pre>recommendations finished on 46000/101140 queries. users per second: 60223.3</pre>"
      ],
      "text/plain": [
       "recommendations finished on 46000/101140 queries. users per second: 60223.3"
      ]
     },
     "metadata": {},
     "output_type": "display_data"
    },
    {
     "data": {
      "text/html": [
       "<pre>recommendations finished on 47000/101140 queries. users per second: 60321.8</pre>"
      ],
      "text/plain": [
       "recommendations finished on 47000/101140 queries. users per second: 60321.8"
      ]
     },
     "metadata": {},
     "output_type": "display_data"
    },
    {
     "data": {
      "text/html": [
       "<pre>recommendations finished on 48000/101140 queries. users per second: 60417</pre>"
      ],
      "text/plain": [
       "recommendations finished on 48000/101140 queries. users per second: 60417"
      ]
     },
     "metadata": {},
     "output_type": "display_data"
    },
    {
     "data": {
      "text/html": [
       "<pre>recommendations finished on 49000/101140 queries. users per second: 60626.5</pre>"
      ],
      "text/plain": [
       "recommendations finished on 49000/101140 queries. users per second: 60626.5"
      ]
     },
     "metadata": {},
     "output_type": "display_data"
    },
    {
     "data": {
      "text/html": [
       "<pre>recommendations finished on 50000/101140 queries. users per second: 60535.4</pre>"
      ],
      "text/plain": [
       "recommendations finished on 50000/101140 queries. users per second: 60535.4"
      ]
     },
     "metadata": {},
     "output_type": "display_data"
    },
    {
     "data": {
      "text/html": [
       "<pre>recommendations finished on 51000/101140 queries. users per second: 60471.9</pre>"
      ],
      "text/plain": [
       "recommendations finished on 51000/101140 queries. users per second: 60471.9"
      ]
     },
     "metadata": {},
     "output_type": "display_data"
    },
    {
     "data": {
      "text/html": [
       "<pre>recommendations finished on 52000/101140 queries. users per second: 60396.5</pre>"
      ],
      "text/plain": [
       "recommendations finished on 52000/101140 queries. users per second: 60396.5"
      ]
     },
     "metadata": {},
     "output_type": "display_data"
    },
    {
     "data": {
      "text/html": [
       "<pre>recommendations finished on 53000/101140 queries. users per second: 60260.3</pre>"
      ],
      "text/plain": [
       "recommendations finished on 53000/101140 queries. users per second: 60260.3"
      ]
     },
     "metadata": {},
     "output_type": "display_data"
    },
    {
     "data": {
      "text/html": [
       "<pre>recommendations finished on 54000/101140 queries. users per second: 60277</pre>"
      ],
      "text/plain": [
       "recommendations finished on 54000/101140 queries. users per second: 60277"
      ]
     },
     "metadata": {},
     "output_type": "display_data"
    },
    {
     "data": {
      "text/html": [
       "<pre>recommendations finished on 55000/101140 queries. users per second: 60356.9</pre>"
      ],
      "text/plain": [
       "recommendations finished on 55000/101140 queries. users per second: 60356.9"
      ]
     },
     "metadata": {},
     "output_type": "display_data"
    },
    {
     "data": {
      "text/html": [
       "<pre>recommendations finished on 56000/101140 queries. users per second: 60206.2</pre>"
      ],
      "text/plain": [
       "recommendations finished on 56000/101140 queries. users per second: 60206.2"
      ]
     },
     "metadata": {},
     "output_type": "display_data"
    },
    {
     "data": {
      "text/html": [
       "<pre>recommendations finished on 57000/101140 queries. users per second: 59804</pre>"
      ],
      "text/plain": [
       "recommendations finished on 57000/101140 queries. users per second: 59804"
      ]
     },
     "metadata": {},
     "output_type": "display_data"
    },
    {
     "data": {
      "text/html": [
       "<pre>recommendations finished on 58000/101140 queries. users per second: 59604.5</pre>"
      ],
      "text/plain": [
       "recommendations finished on 58000/101140 queries. users per second: 59604.5"
      ]
     },
     "metadata": {},
     "output_type": "display_data"
    },
    {
     "data": {
      "text/html": [
       "<pre>recommendations finished on 59000/101140 queries. users per second: 59512.5</pre>"
      ],
      "text/plain": [
       "recommendations finished on 59000/101140 queries. users per second: 59512.5"
      ]
     },
     "metadata": {},
     "output_type": "display_data"
    },
    {
     "data": {
      "text/html": [
       "<pre>recommendations finished on 60000/101140 queries. users per second: 59560</pre>"
      ],
      "text/plain": [
       "recommendations finished on 60000/101140 queries. users per second: 59560"
      ]
     },
     "metadata": {},
     "output_type": "display_data"
    },
    {
     "data": {
      "text/html": [
       "<pre>recommendations finished on 61000/101140 queries. users per second: 59553.4</pre>"
      ],
      "text/plain": [
       "recommendations finished on 61000/101140 queries. users per second: 59553.4"
      ]
     },
     "metadata": {},
     "output_type": "display_data"
    },
    {
     "data": {
      "text/html": [
       "<pre>recommendations finished on 62000/101140 queries. users per second: 59587.6</pre>"
      ],
      "text/plain": [
       "recommendations finished on 62000/101140 queries. users per second: 59587.6"
      ]
     },
     "metadata": {},
     "output_type": "display_data"
    },
    {
     "data": {
      "text/html": [
       "<pre>recommendations finished on 63000/101140 queries. users per second: 59720.6</pre>"
      ],
      "text/plain": [
       "recommendations finished on 63000/101140 queries. users per second: 59720.6"
      ]
     },
     "metadata": {},
     "output_type": "display_data"
    },
    {
     "data": {
      "text/html": [
       "<pre>recommendations finished on 64000/101140 queries. users per second: 59733.6</pre>"
      ],
      "text/plain": [
       "recommendations finished on 64000/101140 queries. users per second: 59733.6"
      ]
     },
     "metadata": {},
     "output_type": "display_data"
    },
    {
     "data": {
      "text/html": [
       "<pre>recommendations finished on 65000/101140 queries. users per second: 59776.3</pre>"
      ],
      "text/plain": [
       "recommendations finished on 65000/101140 queries. users per second: 59776.3"
      ]
     },
     "metadata": {},
     "output_type": "display_data"
    },
    {
     "data": {
      "text/html": [
       "<pre>recommendations finished on 66000/101140 queries. users per second: 59739.2</pre>"
      ],
      "text/plain": [
       "recommendations finished on 66000/101140 queries. users per second: 59739.2"
      ]
     },
     "metadata": {},
     "output_type": "display_data"
    },
    {
     "data": {
      "text/html": [
       "<pre>recommendations finished on 67000/101140 queries. users per second: 59754.9</pre>"
      ],
      "text/plain": [
       "recommendations finished on 67000/101140 queries. users per second: 59754.9"
      ]
     },
     "metadata": {},
     "output_type": "display_data"
    },
    {
     "data": {
      "text/html": [
       "<pre>recommendations finished on 68000/101140 queries. users per second: 59988.9</pre>"
      ],
      "text/plain": [
       "recommendations finished on 68000/101140 queries. users per second: 59988.9"
      ]
     },
     "metadata": {},
     "output_type": "display_data"
    },
    {
     "data": {
      "text/html": [
       "<pre>recommendations finished on 69000/101140 queries. users per second: 60109.7</pre>"
      ],
      "text/plain": [
       "recommendations finished on 69000/101140 queries. users per second: 60109.7"
      ]
     },
     "metadata": {},
     "output_type": "display_data"
    },
    {
     "data": {
      "text/html": [
       "<pre>recommendations finished on 70000/101140 queries. users per second: 60316.2</pre>"
      ],
      "text/plain": [
       "recommendations finished on 70000/101140 queries. users per second: 60316.2"
      ]
     },
     "metadata": {},
     "output_type": "display_data"
    },
    {
     "data": {
      "text/html": [
       "<pre>recommendations finished on 71000/101140 queries. users per second: 60533.9</pre>"
      ],
      "text/plain": [
       "recommendations finished on 71000/101140 queries. users per second: 60533.9"
      ]
     },
     "metadata": {},
     "output_type": "display_data"
    },
    {
     "data": {
      "text/html": [
       "<pre>recommendations finished on 72000/101140 queries. users per second: 60764.4</pre>"
      ],
      "text/plain": [
       "recommendations finished on 72000/101140 queries. users per second: 60764.4"
      ]
     },
     "metadata": {},
     "output_type": "display_data"
    },
    {
     "data": {
      "text/html": [
       "<pre>recommendations finished on 73000/101140 queries. users per second: 61012.9</pre>"
      ],
      "text/plain": [
       "recommendations finished on 73000/101140 queries. users per second: 61012.9"
      ]
     },
     "metadata": {},
     "output_type": "display_data"
    },
    {
     "data": {
      "text/html": [
       "<pre>recommendations finished on 74000/101140 queries. users per second: 61099.2</pre>"
      ],
      "text/plain": [
       "recommendations finished on 74000/101140 queries. users per second: 61099.2"
      ]
     },
     "metadata": {},
     "output_type": "display_data"
    },
    {
     "data": {
      "text/html": [
       "<pre>recommendations finished on 75000/101140 queries. users per second: 61251.8</pre>"
      ],
      "text/plain": [
       "recommendations finished on 75000/101140 queries. users per second: 61251.8"
      ]
     },
     "metadata": {},
     "output_type": "display_data"
    },
    {
     "data": {
      "text/html": [
       "<pre>recommendations finished on 76000/101140 queries. users per second: 61303.9</pre>"
      ],
      "text/plain": [
       "recommendations finished on 76000/101140 queries. users per second: 61303.9"
      ]
     },
     "metadata": {},
     "output_type": "display_data"
    },
    {
     "data": {
      "text/html": [
       "<pre>recommendations finished on 77000/101140 queries. users per second: 61399.7</pre>"
      ],
      "text/plain": [
       "recommendations finished on 77000/101140 queries. users per second: 61399.7"
      ]
     },
     "metadata": {},
     "output_type": "display_data"
    },
    {
     "data": {
      "text/html": [
       "<pre>recommendations finished on 78000/101140 queries. users per second: 61532.7</pre>"
      ],
      "text/plain": [
       "recommendations finished on 78000/101140 queries. users per second: 61532.7"
      ]
     },
     "metadata": {},
     "output_type": "display_data"
    },
    {
     "data": {
      "text/html": [
       "<pre>recommendations finished on 79000/101140 queries. users per second: 61605.3</pre>"
      ],
      "text/plain": [
       "recommendations finished on 79000/101140 queries. users per second: 61605.3"
      ]
     },
     "metadata": {},
     "output_type": "display_data"
    },
    {
     "data": {
      "text/html": [
       "<pre>recommendations finished on 80000/101140 queries. users per second: 61547.5</pre>"
      ],
      "text/plain": [
       "recommendations finished on 80000/101140 queries. users per second: 61547.5"
      ]
     },
     "metadata": {},
     "output_type": "display_data"
    },
    {
     "data": {
      "text/html": [
       "<pre>recommendations finished on 81000/101140 queries. users per second: 61632.6</pre>"
      ],
      "text/plain": [
       "recommendations finished on 81000/101140 queries. users per second: 61632.6"
      ]
     },
     "metadata": {},
     "output_type": "display_data"
    },
    {
     "data": {
      "text/html": [
       "<pre>recommendations finished on 82000/101140 queries. users per second: 61702.1</pre>"
      ],
      "text/plain": [
       "recommendations finished on 82000/101140 queries. users per second: 61702.1"
      ]
     },
     "metadata": {},
     "output_type": "display_data"
    },
    {
     "data": {
      "text/html": [
       "<pre>recommendations finished on 83000/101140 queries. users per second: 61762.8</pre>"
      ],
      "text/plain": [
       "recommendations finished on 83000/101140 queries. users per second: 61762.8"
      ]
     },
     "metadata": {},
     "output_type": "display_data"
    },
    {
     "data": {
      "text/html": [
       "<pre>recommendations finished on 84000/101140 queries. users per second: 61868.4</pre>"
      ],
      "text/plain": [
       "recommendations finished on 84000/101140 queries. users per second: 61868.4"
      ]
     },
     "metadata": {},
     "output_type": "display_data"
    },
    {
     "data": {
      "text/html": [
       "<pre>recommendations finished on 85000/101140 queries. users per second: 61991.3</pre>"
      ],
      "text/plain": [
       "recommendations finished on 85000/101140 queries. users per second: 61991.3"
      ]
     },
     "metadata": {},
     "output_type": "display_data"
    },
    {
     "data": {
      "text/html": [
       "<pre>recommendations finished on 86000/101140 queries. users per second: 62086.2</pre>"
      ],
      "text/plain": [
       "recommendations finished on 86000/101140 queries. users per second: 62086.2"
      ]
     },
     "metadata": {},
     "output_type": "display_data"
    },
    {
     "data": {
      "text/html": [
       "<pre>recommendations finished on 87000/101140 queries. users per second: 62135.9</pre>"
      ],
      "text/plain": [
       "recommendations finished on 87000/101140 queries. users per second: 62135.9"
      ]
     },
     "metadata": {},
     "output_type": "display_data"
    },
    {
     "data": {
      "text/html": [
       "<pre>recommendations finished on 88000/101140 queries. users per second: 62299.5</pre>"
      ],
      "text/plain": [
       "recommendations finished on 88000/101140 queries. users per second: 62299.5"
      ]
     },
     "metadata": {},
     "output_type": "display_data"
    },
    {
     "data": {
      "text/html": [
       "<pre>recommendations finished on 89000/101140 queries. users per second: 62401.3</pre>"
      ],
      "text/plain": [
       "recommendations finished on 89000/101140 queries. users per second: 62401.3"
      ]
     },
     "metadata": {},
     "output_type": "display_data"
    },
    {
     "data": {
      "text/html": [
       "<pre>recommendations finished on 90000/101140 queries. users per second: 62535.1</pre>"
      ],
      "text/plain": [
       "recommendations finished on 90000/101140 queries. users per second: 62535.1"
      ]
     },
     "metadata": {},
     "output_type": "display_data"
    },
    {
     "data": {
      "text/html": [
       "<pre>recommendations finished on 91000/101140 queries. users per second: 62713.3</pre>"
      ],
      "text/plain": [
       "recommendations finished on 91000/101140 queries. users per second: 62713.3"
      ]
     },
     "metadata": {},
     "output_type": "display_data"
    },
    {
     "data": {
      "text/html": [
       "<pre>recommendations finished on 92000/101140 queries. users per second: 62948</pre>"
      ],
      "text/plain": [
       "recommendations finished on 92000/101140 queries. users per second: 62948"
      ]
     },
     "metadata": {},
     "output_type": "display_data"
    },
    {
     "data": {
      "text/html": [
       "<pre>recommendations finished on 93000/101140 queries. users per second: 63064.2</pre>"
      ],
      "text/plain": [
       "recommendations finished on 93000/101140 queries. users per second: 63064.2"
      ]
     },
     "metadata": {},
     "output_type": "display_data"
    },
    {
     "data": {
      "text/html": [
       "<pre>recommendations finished on 94000/101140 queries. users per second: 63099.9</pre>"
      ],
      "text/plain": [
       "recommendations finished on 94000/101140 queries. users per second: 63099.9"
      ]
     },
     "metadata": {},
     "output_type": "display_data"
    },
    {
     "data": {
      "text/html": [
       "<pre>recommendations finished on 95000/101140 queries. users per second: 63218.5</pre>"
      ],
      "text/plain": [
       "recommendations finished on 95000/101140 queries. users per second: 63218.5"
      ]
     },
     "metadata": {},
     "output_type": "display_data"
    },
    {
     "data": {
      "text/html": [
       "<pre>recommendations finished on 96000/101140 queries. users per second: 63340.5</pre>"
      ],
      "text/plain": [
       "recommendations finished on 96000/101140 queries. users per second: 63340.5"
      ]
     },
     "metadata": {},
     "output_type": "display_data"
    },
    {
     "data": {
      "text/html": [
       "<pre>recommendations finished on 97000/101140 queries. users per second: 63452.3</pre>"
      ],
      "text/plain": [
       "recommendations finished on 97000/101140 queries. users per second: 63452.3"
      ]
     },
     "metadata": {},
     "output_type": "display_data"
    },
    {
     "data": {
      "text/html": [
       "<pre>recommendations finished on 98000/101140 queries. users per second: 63315</pre>"
      ],
      "text/plain": [
       "recommendations finished on 98000/101140 queries. users per second: 63315"
      ]
     },
     "metadata": {},
     "output_type": "display_data"
    },
    {
     "data": {
      "text/html": [
       "<pre>recommendations finished on 99000/101140 queries. users per second: 63145.8</pre>"
      ],
      "text/plain": [
       "recommendations finished on 99000/101140 queries. users per second: 63145.8"
      ]
     },
     "metadata": {},
     "output_type": "display_data"
    },
    {
     "data": {
      "text/html": [
       "<pre>recommendations finished on 100000/101140 queries. users per second: 62972</pre>"
      ],
      "text/plain": [
       "recommendations finished on 100000/101140 queries. users per second: 62972"
      ]
     },
     "metadata": {},
     "output_type": "display_data"
    },
    {
     "data": {
      "text/html": [
       "<pre>recommendations finished on 101000/101140 queries. users per second: 62807.5</pre>"
      ],
      "text/plain": [
       "recommendations finished on 101000/101140 queries. users per second: 62807.5"
      ]
     },
     "metadata": {},
     "output_type": "display_data"
    },
    {
     "name": "stdout",
     "output_type": "stream",
     "text": [
      "+-------+--------+-----------------------+------+\n",
      "| LYBID | ITEMID |         score         | rank |\n",
      "+-------+--------+-----------------------+------+\n",
      "| 10004 | 43604  |  0.007880640029907227 |  1   |\n",
      "| 10004 | 44011  |  0.005519402027130127 |  2   |\n",
      "| 10004 |  6601  | 0.0043921232223510746 |  3   |\n",
      "| 10004 | 43600  |  0.004345345497131348 |  4   |\n",
      "| 10004 |  6600  |  0.003797304630279541 |  5   |\n",
      "| 10009 | 41055  |  0.018518507480621338 |  1   |\n",
      "| 10009 | 35849  |  0.00967097282409668  |  2   |\n",
      "| 10009 | 42674  |  0.008649984995524088 |  3   |\n",
      "| 10009 | 43937  |  0.004211644331614177 |  4   |\n",
      "| 10009 | 43305  |  0.003130197525024414 |  5   |\n",
      "| 10012 | 43861  |  0.01790716250737508  |  1   |\n",
      "| 10012 | 35583  |  0.01790716250737508  |  2   |\n",
      "| 10012 | 42655  |  0.014899671077728271 |  3   |\n",
      "| 10012 | 33576  |  0.014077246189117432 |  4   |\n",
      "| 10012 | 43587  |  0.013362367947896322 |  5   |\n",
      "| 10022 | 43488  |  0.005943498190711527 |  1   |\n",
      "| 10022 | 37922  |  0.005595287855933695 |  2   |\n",
      "| 10022 | 43860  |  0.004735368139603559 |  3   |\n",
      "| 10022 | 43861  |  0.004521454081815832 |  4   |\n",
      "| 10022 | 43593  |  0.004316494745366713 |  5   |\n",
      "| 10023 | 43504  | 0.0036984607577323914 |  1   |\n",
      "| 10023 | 41068  |  0.002712458372116089 |  2   |\n",
      "| 10023 | 43513  | 0.0026103928685188293 |  3   |\n",
      "| 10023 | 33869  | 0.0025777146220207214 |  4   |\n",
      "| 10023 | 38011  |  0.00226612389087677  |  5   |\n",
      "| 10029 | 43381  |          0.0          |  1   |\n",
      "| 10029 | 43916  |          0.0          |  2   |\n",
      "| 10029 | 43987  |          0.0          |  3   |\n",
      "| 10029 | 41057  |          0.0          |  4   |\n",
      "| 10029 | 43490  |          0.0          |  5   |\n",
      "+-------+--------+-----------------------+------+\n",
      "[505700 rows x 4 columns]\n",
      "\n"
     ]
    }
   ],
   "source": [
    "name = 'cosine'\n",
    "target = 'scaled_purchase_freq'\n",
    "cos_norm = model(train_data_norm, name, user_id, item_id, target, users_to_recommend, n_rec, n_display)"
   ]
  },
  {
   "cell_type": "markdown",
   "metadata": {},
   "source": [
    "### 6.2. `Pearson` similarity\n",
    "* Similarity is the pearson coefficient between the two vectors.\n",
    "* It is defined by the following formula\n",
    "![](http://critical-numbers.group.shef.ac.uk/glossary/images/correlationKT1.png)"
   ]
  },
  {
   "cell_type": "markdown",
   "metadata": {},
   "source": [
    "#### Using purchase count"
   ]
  },
  {
   "cell_type": "code",
   "execution_count": 27,
   "metadata": {},
   "outputs": [
    {
     "data": {
      "text/html": [
       "<pre>Preparing data set.</pre>"
      ],
      "text/plain": [
       "Preparing data set."
      ]
     },
     "metadata": {},
     "output_type": "display_data"
    },
    {
     "data": {
      "text/html": [
       "<pre>    Data has 281955 observations with 94466 users and 1439 items.</pre>"
      ],
      "text/plain": [
       "    Data has 281955 observations with 94466 users and 1439 items."
      ]
     },
     "metadata": {},
     "output_type": "display_data"
    },
    {
     "data": {
      "text/html": [
       "<pre>    Data prepared in: 0.27839s</pre>"
      ],
      "text/plain": [
       "    Data prepared in: 0.27839s"
      ]
     },
     "metadata": {},
     "output_type": "display_data"
    },
    {
     "data": {
      "text/html": [
       "<pre>Training model from provided data.</pre>"
      ],
      "text/plain": [
       "Training model from provided data."
      ]
     },
     "metadata": {},
     "output_type": "display_data"
    },
    {
     "data": {
      "text/html": [
       "<pre>Gathering per-item and per-user statistics.</pre>"
      ],
      "text/plain": [
       "Gathering per-item and per-user statistics."
      ]
     },
     "metadata": {},
     "output_type": "display_data"
    },
    {
     "data": {
      "text/html": [
       "<pre>+--------------------------------+------------+</pre>"
      ],
      "text/plain": [
       "+--------------------------------+------------+"
      ]
     },
     "metadata": {},
     "output_type": "display_data"
    },
    {
     "data": {
      "text/html": [
       "<pre>| Elapsed Time (Item Statistics) | % Complete |</pre>"
      ],
      "text/plain": [
       "| Elapsed Time (Item Statistics) | % Complete |"
      ]
     },
     "metadata": {},
     "output_type": "display_data"
    },
    {
     "data": {
      "text/html": [
       "<pre>+--------------------------------+------------+</pre>"
      ],
      "text/plain": [
       "+--------------------------------+------------+"
      ]
     },
     "metadata": {},
     "output_type": "display_data"
    },
    {
     "data": {
      "text/html": [
       "<pre>| 1.919ms                        | 1          |</pre>"
      ],
      "text/plain": [
       "| 1.919ms                        | 1          |"
      ]
     },
     "metadata": {},
     "output_type": "display_data"
    },
    {
     "data": {
      "text/html": [
       "<pre>| 28.459ms                       | 100        |</pre>"
      ],
      "text/plain": [
       "| 28.459ms                       | 100        |"
      ]
     },
     "metadata": {},
     "output_type": "display_data"
    },
    {
     "data": {
      "text/html": [
       "<pre>+--------------------------------+------------+</pre>"
      ],
      "text/plain": [
       "+--------------------------------+------------+"
      ]
     },
     "metadata": {},
     "output_type": "display_data"
    },
    {
     "data": {
      "text/html": [
       "<pre>Setting up lookup tables.</pre>"
      ],
      "text/plain": [
       "Setting up lookup tables."
      ]
     },
     "metadata": {},
     "output_type": "display_data"
    },
    {
     "data": {
      "text/html": [
       "<pre>Processing data in one pass using dense lookup tables.</pre>"
      ],
      "text/plain": [
       "Processing data in one pass using dense lookup tables."
      ]
     },
     "metadata": {},
     "output_type": "display_data"
    },
    {
     "data": {
      "text/html": [
       "<pre>+-------------------------------------+------------------+-----------------+</pre>"
      ],
      "text/plain": [
       "+-------------------------------------+------------------+-----------------+"
      ]
     },
     "metadata": {},
     "output_type": "display_data"
    },
    {
     "data": {
      "text/html": [
       "<pre>| Elapsed Time (Constructing Lookups) | Total % Complete | Items Processed |</pre>"
      ],
      "text/plain": [
       "| Elapsed Time (Constructing Lookups) | Total % Complete | Items Processed |"
      ]
     },
     "metadata": {},
     "output_type": "display_data"
    },
    {
     "data": {
      "text/html": [
       "<pre>+-------------------------------------+------------------+-----------------+</pre>"
      ],
      "text/plain": [
       "+-------------------------------------+------------------+-----------------+"
      ]
     },
     "metadata": {},
     "output_type": "display_data"
    },
    {
     "data": {
      "text/html": [
       "<pre>| 35.679ms                            | 0                | 0               |</pre>"
      ],
      "text/plain": [
       "| 35.679ms                            | 0                | 0               |"
      ]
     },
     "metadata": {},
     "output_type": "display_data"
    },
    {
     "data": {
      "text/html": [
       "<pre>| 115.007ms                           | 100              | 1439            |</pre>"
      ],
      "text/plain": [
       "| 115.007ms                           | 100              | 1439            |"
      ]
     },
     "metadata": {},
     "output_type": "display_data"
    },
    {
     "data": {
      "text/html": [
       "<pre>+-------------------------------------+------------------+-----------------+</pre>"
      ],
      "text/plain": [
       "+-------------------------------------+------------------+-----------------+"
      ]
     },
     "metadata": {},
     "output_type": "display_data"
    },
    {
     "data": {
      "text/html": [
       "<pre>Finalizing lookup tables.</pre>"
      ],
      "text/plain": [
       "Finalizing lookup tables."
      ]
     },
     "metadata": {},
     "output_type": "display_data"
    },
    {
     "data": {
      "text/html": [
       "<pre>Generating candidate set for working with new users.</pre>"
      ],
      "text/plain": [
       "Generating candidate set for working with new users."
      ]
     },
     "metadata": {},
     "output_type": "display_data"
    },
    {
     "data": {
      "text/html": [
       "<pre>Finished training in 0.143665s</pre>"
      ],
      "text/plain": [
       "Finished training in 0.143665s"
      ]
     },
     "metadata": {},
     "output_type": "display_data"
    },
    {
     "data": {
      "text/html": [
       "<pre>recommendations finished on 1000/101140 queries. users per second: 37880.2</pre>"
      ],
      "text/plain": [
       "recommendations finished on 1000/101140 queries. users per second: 37880.2"
      ]
     },
     "metadata": {},
     "output_type": "display_data"
    },
    {
     "data": {
      "text/html": [
       "<pre>recommendations finished on 2000/101140 queries. users per second: 44094.6</pre>"
      ],
      "text/plain": [
       "recommendations finished on 2000/101140 queries. users per second: 44094.6"
      ]
     },
     "metadata": {},
     "output_type": "display_data"
    },
    {
     "data": {
      "text/html": [
       "<pre>recommendations finished on 3000/101140 queries. users per second: 45875.1</pre>"
      ],
      "text/plain": [
       "recommendations finished on 3000/101140 queries. users per second: 45875.1"
      ]
     },
     "metadata": {},
     "output_type": "display_data"
    },
    {
     "data": {
      "text/html": [
       "<pre>recommendations finished on 4000/101140 queries. users per second: 46353.7</pre>"
      ],
      "text/plain": [
       "recommendations finished on 4000/101140 queries. users per second: 46353.7"
      ]
     },
     "metadata": {},
     "output_type": "display_data"
    },
    {
     "data": {
      "text/html": [
       "<pre>recommendations finished on 5000/101140 queries. users per second: 47836.4</pre>"
      ],
      "text/plain": [
       "recommendations finished on 5000/101140 queries. users per second: 47836.4"
      ]
     },
     "metadata": {},
     "output_type": "display_data"
    },
    {
     "data": {
      "text/html": [
       "<pre>recommendations finished on 6000/101140 queries. users per second: 47211</pre>"
      ],
      "text/plain": [
       "recommendations finished on 6000/101140 queries. users per second: 47211"
      ]
     },
     "metadata": {},
     "output_type": "display_data"
    },
    {
     "data": {
      "text/html": [
       "<pre>recommendations finished on 7000/101140 queries. users per second: 47511.4</pre>"
      ],
      "text/plain": [
       "recommendations finished on 7000/101140 queries. users per second: 47511.4"
      ]
     },
     "metadata": {},
     "output_type": "display_data"
    },
    {
     "data": {
      "text/html": [
       "<pre>recommendations finished on 8000/101140 queries. users per second: 47071.8</pre>"
      ],
      "text/plain": [
       "recommendations finished on 8000/101140 queries. users per second: 47071.8"
      ]
     },
     "metadata": {},
     "output_type": "display_data"
    },
    {
     "data": {
      "text/html": [
       "<pre>recommendations finished on 9000/101140 queries. users per second: 47062.8</pre>"
      ],
      "text/plain": [
       "recommendations finished on 9000/101140 queries. users per second: 47062.8"
      ]
     },
     "metadata": {},
     "output_type": "display_data"
    },
    {
     "data": {
      "text/html": [
       "<pre>recommendations finished on 10000/101140 queries. users per second: 47100.9</pre>"
      ],
      "text/plain": [
       "recommendations finished on 10000/101140 queries. users per second: 47100.9"
      ]
     },
     "metadata": {},
     "output_type": "display_data"
    },
    {
     "data": {
      "text/html": [
       "<pre>recommendations finished on 11000/101140 queries. users per second: 46701.4</pre>"
      ],
      "text/plain": [
       "recommendations finished on 11000/101140 queries. users per second: 46701.4"
      ]
     },
     "metadata": {},
     "output_type": "display_data"
    },
    {
     "data": {
      "text/html": [
       "<pre>recommendations finished on 12000/101140 queries. users per second: 46917.7</pre>"
      ],
      "text/plain": [
       "recommendations finished on 12000/101140 queries. users per second: 46917.7"
      ]
     },
     "metadata": {},
     "output_type": "display_data"
    },
    {
     "data": {
      "text/html": [
       "<pre>recommendations finished on 13000/101140 queries. users per second: 46554.8</pre>"
      ],
      "text/plain": [
       "recommendations finished on 13000/101140 queries. users per second: 46554.8"
      ]
     },
     "metadata": {},
     "output_type": "display_data"
    },
    {
     "data": {
      "text/html": [
       "<pre>recommendations finished on 14000/101140 queries. users per second: 46627.8</pre>"
      ],
      "text/plain": [
       "recommendations finished on 14000/101140 queries. users per second: 46627.8"
      ]
     },
     "metadata": {},
     "output_type": "display_data"
    },
    {
     "data": {
      "text/html": [
       "<pre>recommendations finished on 15000/101140 queries. users per second: 46180</pre>"
      ],
      "text/plain": [
       "recommendations finished on 15000/101140 queries. users per second: 46180"
      ]
     },
     "metadata": {},
     "output_type": "display_data"
    },
    {
     "data": {
      "text/html": [
       "<pre>recommendations finished on 16000/101140 queries. users per second: 45789.6</pre>"
      ],
      "text/plain": [
       "recommendations finished on 16000/101140 queries. users per second: 45789.6"
      ]
     },
     "metadata": {},
     "output_type": "display_data"
    },
    {
     "data": {
      "text/html": [
       "<pre>recommendations finished on 17000/101140 queries. users per second: 45587.4</pre>"
      ],
      "text/plain": [
       "recommendations finished on 17000/101140 queries. users per second: 45587.4"
      ]
     },
     "metadata": {},
     "output_type": "display_data"
    },
    {
     "data": {
      "text/html": [
       "<pre>recommendations finished on 18000/101140 queries. users per second: 45308.4</pre>"
      ],
      "text/plain": [
       "recommendations finished on 18000/101140 queries. users per second: 45308.4"
      ]
     },
     "metadata": {},
     "output_type": "display_data"
    },
    {
     "data": {
      "text/html": [
       "<pre>recommendations finished on 19000/101140 queries. users per second: 44998.4</pre>"
      ],
      "text/plain": [
       "recommendations finished on 19000/101140 queries. users per second: 44998.4"
      ]
     },
     "metadata": {},
     "output_type": "display_data"
    },
    {
     "data": {
      "text/html": [
       "<pre>recommendations finished on 20000/101140 queries. users per second: 44964</pre>"
      ],
      "text/plain": [
       "recommendations finished on 20000/101140 queries. users per second: 44964"
      ]
     },
     "metadata": {},
     "output_type": "display_data"
    },
    {
     "data": {
      "text/html": [
       "<pre>recommendations finished on 21000/101140 queries. users per second: 45153.5</pre>"
      ],
      "text/plain": [
       "recommendations finished on 21000/101140 queries. users per second: 45153.5"
      ]
     },
     "metadata": {},
     "output_type": "display_data"
    },
    {
     "data": {
      "text/html": [
       "<pre>recommendations finished on 22000/101140 queries. users per second: 45405</pre>"
      ],
      "text/plain": [
       "recommendations finished on 22000/101140 queries. users per second: 45405"
      ]
     },
     "metadata": {},
     "output_type": "display_data"
    },
    {
     "data": {
      "text/html": [
       "<pre>recommendations finished on 23000/101140 queries. users per second: 45193.1</pre>"
      ],
      "text/plain": [
       "recommendations finished on 23000/101140 queries. users per second: 45193.1"
      ]
     },
     "metadata": {},
     "output_type": "display_data"
    },
    {
     "data": {
      "text/html": [
       "<pre>recommendations finished on 24000/101140 queries. users per second: 45276.4</pre>"
      ],
      "text/plain": [
       "recommendations finished on 24000/101140 queries. users per second: 45276.4"
      ]
     },
     "metadata": {},
     "output_type": "display_data"
    },
    {
     "data": {
      "text/html": [
       "<pre>recommendations finished on 25000/101140 queries. users per second: 45313</pre>"
      ],
      "text/plain": [
       "recommendations finished on 25000/101140 queries. users per second: 45313"
      ]
     },
     "metadata": {},
     "output_type": "display_data"
    },
    {
     "data": {
      "text/html": [
       "<pre>recommendations finished on 26000/101140 queries. users per second: 45009.3</pre>"
      ],
      "text/plain": [
       "recommendations finished on 26000/101140 queries. users per second: 45009.3"
      ]
     },
     "metadata": {},
     "output_type": "display_data"
    },
    {
     "data": {
      "text/html": [
       "<pre>recommendations finished on 27000/101140 queries. users per second: 44802.3</pre>"
      ],
      "text/plain": [
       "recommendations finished on 27000/101140 queries. users per second: 44802.3"
      ]
     },
     "metadata": {},
     "output_type": "display_data"
    },
    {
     "data": {
      "text/html": [
       "<pre>recommendations finished on 28000/101140 queries. users per second: 44708.7</pre>"
      ],
      "text/plain": [
       "recommendations finished on 28000/101140 queries. users per second: 44708.7"
      ]
     },
     "metadata": {},
     "output_type": "display_data"
    },
    {
     "data": {
      "text/html": [
       "<pre>recommendations finished on 29000/101140 queries. users per second: 44511.8</pre>"
      ],
      "text/plain": [
       "recommendations finished on 29000/101140 queries. users per second: 44511.8"
      ]
     },
     "metadata": {},
     "output_type": "display_data"
    },
    {
     "data": {
      "text/html": [
       "<pre>recommendations finished on 30000/101140 queries. users per second: 44562.4</pre>"
      ],
      "text/plain": [
       "recommendations finished on 30000/101140 queries. users per second: 44562.4"
      ]
     },
     "metadata": {},
     "output_type": "display_data"
    },
    {
     "data": {
      "text/html": [
       "<pre>recommendations finished on 31000/101140 queries. users per second: 44169.5</pre>"
      ],
      "text/plain": [
       "recommendations finished on 31000/101140 queries. users per second: 44169.5"
      ]
     },
     "metadata": {},
     "output_type": "display_data"
    },
    {
     "data": {
      "text/html": [
       "<pre>recommendations finished on 32000/101140 queries. users per second: 43978.3</pre>"
      ],
      "text/plain": [
       "recommendations finished on 32000/101140 queries. users per second: 43978.3"
      ]
     },
     "metadata": {},
     "output_type": "display_data"
    },
    {
     "data": {
      "text/html": [
       "<pre>recommendations finished on 33000/101140 queries. users per second: 44096.8</pre>"
      ],
      "text/plain": [
       "recommendations finished on 33000/101140 queries. users per second: 44096.8"
      ]
     },
     "metadata": {},
     "output_type": "display_data"
    },
    {
     "data": {
      "text/html": [
       "<pre>recommendations finished on 34000/101140 queries. users per second: 43795.5</pre>"
      ],
      "text/plain": [
       "recommendations finished on 34000/101140 queries. users per second: 43795.5"
      ]
     },
     "metadata": {},
     "output_type": "display_data"
    },
    {
     "data": {
      "text/html": [
       "<pre>recommendations finished on 35000/101140 queries. users per second: 43706</pre>"
      ],
      "text/plain": [
       "recommendations finished on 35000/101140 queries. users per second: 43706"
      ]
     },
     "metadata": {},
     "output_type": "display_data"
    },
    {
     "data": {
      "text/html": [
       "<pre>recommendations finished on 36000/101140 queries. users per second: 43814.3</pre>"
      ],
      "text/plain": [
       "recommendations finished on 36000/101140 queries. users per second: 43814.3"
      ]
     },
     "metadata": {},
     "output_type": "display_data"
    },
    {
     "data": {
      "text/html": [
       "<pre>recommendations finished on 37000/101140 queries. users per second: 43831.7</pre>"
      ],
      "text/plain": [
       "recommendations finished on 37000/101140 queries. users per second: 43831.7"
      ]
     },
     "metadata": {},
     "output_type": "display_data"
    },
    {
     "data": {
      "text/html": [
       "<pre>recommendations finished on 38000/101140 queries. users per second: 43959.7</pre>"
      ],
      "text/plain": [
       "recommendations finished on 38000/101140 queries. users per second: 43959.7"
      ]
     },
     "metadata": {},
     "output_type": "display_data"
    },
    {
     "data": {
      "text/html": [
       "<pre>recommendations finished on 39000/101140 queries. users per second: 44029.7</pre>"
      ],
      "text/plain": [
       "recommendations finished on 39000/101140 queries. users per second: 44029.7"
      ]
     },
     "metadata": {},
     "output_type": "display_data"
    },
    {
     "data": {
      "text/html": [
       "<pre>recommendations finished on 40000/101140 queries. users per second: 44054.9</pre>"
      ],
      "text/plain": [
       "recommendations finished on 40000/101140 queries. users per second: 44054.9"
      ]
     },
     "metadata": {},
     "output_type": "display_data"
    },
    {
     "data": {
      "text/html": [
       "<pre>recommendations finished on 41000/101140 queries. users per second: 44263.8</pre>"
      ],
      "text/plain": [
       "recommendations finished on 41000/101140 queries. users per second: 44263.8"
      ]
     },
     "metadata": {},
     "output_type": "display_data"
    },
    {
     "data": {
      "text/html": [
       "<pre>recommendations finished on 42000/101140 queries. users per second: 44591</pre>"
      ],
      "text/plain": [
       "recommendations finished on 42000/101140 queries. users per second: 44591"
      ]
     },
     "metadata": {},
     "output_type": "display_data"
    },
    {
     "data": {
      "text/html": [
       "<pre>recommendations finished on 43000/101140 queries. users per second: 44832.1</pre>"
      ],
      "text/plain": [
       "recommendations finished on 43000/101140 queries. users per second: 44832.1"
      ]
     },
     "metadata": {},
     "output_type": "display_data"
    },
    {
     "data": {
      "text/html": [
       "<pre>recommendations finished on 44000/101140 queries. users per second: 45075.3</pre>"
      ],
      "text/plain": [
       "recommendations finished on 44000/101140 queries. users per second: 45075.3"
      ]
     },
     "metadata": {},
     "output_type": "display_data"
    },
    {
     "data": {
      "text/html": [
       "<pre>recommendations finished on 45000/101140 queries. users per second: 45139</pre>"
      ],
      "text/plain": [
       "recommendations finished on 45000/101140 queries. users per second: 45139"
      ]
     },
     "metadata": {},
     "output_type": "display_data"
    },
    {
     "data": {
      "text/html": [
       "<pre>recommendations finished on 46000/101140 queries. users per second: 45213.5</pre>"
      ],
      "text/plain": [
       "recommendations finished on 46000/101140 queries. users per second: 45213.5"
      ]
     },
     "metadata": {},
     "output_type": "display_data"
    },
    {
     "data": {
      "text/html": [
       "<pre>recommendations finished on 47000/101140 queries. users per second: 45207.5</pre>"
      ],
      "text/plain": [
       "recommendations finished on 47000/101140 queries. users per second: 45207.5"
      ]
     },
     "metadata": {},
     "output_type": "display_data"
    },
    {
     "data": {
      "text/html": [
       "<pre>recommendations finished on 48000/101140 queries. users per second: 45332.9</pre>"
      ],
      "text/plain": [
       "recommendations finished on 48000/101140 queries. users per second: 45332.9"
      ]
     },
     "metadata": {},
     "output_type": "display_data"
    },
    {
     "data": {
      "text/html": [
       "<pre>recommendations finished on 49000/101140 queries. users per second: 45462.2</pre>"
      ],
      "text/plain": [
       "recommendations finished on 49000/101140 queries. users per second: 45462.2"
      ]
     },
     "metadata": {},
     "output_type": "display_data"
    },
    {
     "data": {
      "text/html": [
       "<pre>recommendations finished on 50000/101140 queries. users per second: 45495.7</pre>"
      ],
      "text/plain": [
       "recommendations finished on 50000/101140 queries. users per second: 45495.7"
      ]
     },
     "metadata": {},
     "output_type": "display_data"
    },
    {
     "data": {
      "text/html": [
       "<pre>recommendations finished on 51000/101140 queries. users per second: 45505.1</pre>"
      ],
      "text/plain": [
       "recommendations finished on 51000/101140 queries. users per second: 45505.1"
      ]
     },
     "metadata": {},
     "output_type": "display_data"
    },
    {
     "data": {
      "text/html": [
       "<pre>recommendations finished on 52000/101140 queries. users per second: 45559.7</pre>"
      ],
      "text/plain": [
       "recommendations finished on 52000/101140 queries. users per second: 45559.7"
      ]
     },
     "metadata": {},
     "output_type": "display_data"
    },
    {
     "data": {
      "text/html": [
       "<pre>recommendations finished on 53000/101140 queries. users per second: 45447</pre>"
      ],
      "text/plain": [
       "recommendations finished on 53000/101140 queries. users per second: 45447"
      ]
     },
     "metadata": {},
     "output_type": "display_data"
    },
    {
     "data": {
      "text/html": [
       "<pre>recommendations finished on 54000/101140 queries. users per second: 45400.2</pre>"
      ],
      "text/plain": [
       "recommendations finished on 54000/101140 queries. users per second: 45400.2"
      ]
     },
     "metadata": {},
     "output_type": "display_data"
    },
    {
     "data": {
      "text/html": [
       "<pre>recommendations finished on 55000/101140 queries. users per second: 45164</pre>"
      ],
      "text/plain": [
       "recommendations finished on 55000/101140 queries. users per second: 45164"
      ]
     },
     "metadata": {},
     "output_type": "display_data"
    },
    {
     "data": {
      "text/html": [
       "<pre>recommendations finished on 56000/101140 queries. users per second: 45039.5</pre>"
      ],
      "text/plain": [
       "recommendations finished on 56000/101140 queries. users per second: 45039.5"
      ]
     },
     "metadata": {},
     "output_type": "display_data"
    },
    {
     "data": {
      "text/html": [
       "<pre>recommendations finished on 57000/101140 queries. users per second: 44954</pre>"
      ],
      "text/plain": [
       "recommendations finished on 57000/101140 queries. users per second: 44954"
      ]
     },
     "metadata": {},
     "output_type": "display_data"
    },
    {
     "data": {
      "text/html": [
       "<pre>recommendations finished on 58000/101140 queries. users per second: 44656.7</pre>"
      ],
      "text/plain": [
       "recommendations finished on 58000/101140 queries. users per second: 44656.7"
      ]
     },
     "metadata": {},
     "output_type": "display_data"
    },
    {
     "data": {
      "text/html": [
       "<pre>recommendations finished on 59000/101140 queries. users per second: 44671.7</pre>"
      ],
      "text/plain": [
       "recommendations finished on 59000/101140 queries. users per second: 44671.7"
      ]
     },
     "metadata": {},
     "output_type": "display_data"
    },
    {
     "data": {
      "text/html": [
       "<pre>recommendations finished on 60000/101140 queries. users per second: 44456.8</pre>"
      ],
      "text/plain": [
       "recommendations finished on 60000/101140 queries. users per second: 44456.8"
      ]
     },
     "metadata": {},
     "output_type": "display_data"
    },
    {
     "data": {
      "text/html": [
       "<pre>recommendations finished on 61000/101140 queries. users per second: 44359</pre>"
      ],
      "text/plain": [
       "recommendations finished on 61000/101140 queries. users per second: 44359"
      ]
     },
     "metadata": {},
     "output_type": "display_data"
    },
    {
     "data": {
      "text/html": [
       "<pre>recommendations finished on 62000/101140 queries. users per second: 44417.8</pre>"
      ],
      "text/plain": [
       "recommendations finished on 62000/101140 queries. users per second: 44417.8"
      ]
     },
     "metadata": {},
     "output_type": "display_data"
    },
    {
     "data": {
      "text/html": [
       "<pre>recommendations finished on 63000/101140 queries. users per second: 44462.1</pre>"
      ],
      "text/plain": [
       "recommendations finished on 63000/101140 queries. users per second: 44462.1"
      ]
     },
     "metadata": {},
     "output_type": "display_data"
    },
    {
     "data": {
      "text/html": [
       "<pre>recommendations finished on 64000/101140 queries. users per second: 44444.6</pre>"
      ],
      "text/plain": [
       "recommendations finished on 64000/101140 queries. users per second: 44444.6"
      ]
     },
     "metadata": {},
     "output_type": "display_data"
    },
    {
     "data": {
      "text/html": [
       "<pre>recommendations finished on 65000/101140 queries. users per second: 44628.9</pre>"
      ],
      "text/plain": [
       "recommendations finished on 65000/101140 queries. users per second: 44628.9"
      ]
     },
     "metadata": {},
     "output_type": "display_data"
    },
    {
     "data": {
      "text/html": [
       "<pre>recommendations finished on 66000/101140 queries. users per second: 44826.5</pre>"
      ],
      "text/plain": [
       "recommendations finished on 66000/101140 queries. users per second: 44826.5"
      ]
     },
     "metadata": {},
     "output_type": "display_data"
    },
    {
     "data": {
      "text/html": [
       "<pre>recommendations finished on 67000/101140 queries. users per second: 44917.1</pre>"
      ],
      "text/plain": [
       "recommendations finished on 67000/101140 queries. users per second: 44917.1"
      ]
     },
     "metadata": {},
     "output_type": "display_data"
    },
    {
     "data": {
      "text/html": [
       "<pre>recommendations finished on 68000/101140 queries. users per second: 45019.9</pre>"
      ],
      "text/plain": [
       "recommendations finished on 68000/101140 queries. users per second: 45019.9"
      ]
     },
     "metadata": {},
     "output_type": "display_data"
    },
    {
     "data": {
      "text/html": [
       "<pre>recommendations finished on 69000/101140 queries. users per second: 45134.8</pre>"
      ],
      "text/plain": [
       "recommendations finished on 69000/101140 queries. users per second: 45134.8"
      ]
     },
     "metadata": {},
     "output_type": "display_data"
    },
    {
     "data": {
      "text/html": [
       "<pre>recommendations finished on 70000/101140 queries. users per second: 45248.4</pre>"
      ],
      "text/plain": [
       "recommendations finished on 70000/101140 queries. users per second: 45248.4"
      ]
     },
     "metadata": {},
     "output_type": "display_data"
    },
    {
     "data": {
      "text/html": [
       "<pre>recommendations finished on 71000/101140 queries. users per second: 45223.3</pre>"
      ],
      "text/plain": [
       "recommendations finished on 71000/101140 queries. users per second: 45223.3"
      ]
     },
     "metadata": {},
     "output_type": "display_data"
    },
    {
     "data": {
      "text/html": [
       "<pre>recommendations finished on 72000/101140 queries. users per second: 45334.9</pre>"
      ],
      "text/plain": [
       "recommendations finished on 72000/101140 queries. users per second: 45334.9"
      ]
     },
     "metadata": {},
     "output_type": "display_data"
    },
    {
     "data": {
      "text/html": [
       "<pre>recommendations finished on 73000/101140 queries. users per second: 45329.9</pre>"
      ],
      "text/plain": [
       "recommendations finished on 73000/101140 queries. users per second: 45329.9"
      ]
     },
     "metadata": {},
     "output_type": "display_data"
    },
    {
     "data": {
      "text/html": [
       "<pre>recommendations finished on 74000/101140 queries. users per second: 45405.4</pre>"
      ],
      "text/plain": [
       "recommendations finished on 74000/101140 queries. users per second: 45405.4"
      ]
     },
     "metadata": {},
     "output_type": "display_data"
    },
    {
     "data": {
      "text/html": [
       "<pre>recommendations finished on 75000/101140 queries. users per second: 45469.4</pre>"
      ],
      "text/plain": [
       "recommendations finished on 75000/101140 queries. users per second: 45469.4"
      ]
     },
     "metadata": {},
     "output_type": "display_data"
    },
    {
     "data": {
      "text/html": [
       "<pre>recommendations finished on 76000/101140 queries. users per second: 45503.5</pre>"
      ],
      "text/plain": [
       "recommendations finished on 76000/101140 queries. users per second: 45503.5"
      ]
     },
     "metadata": {},
     "output_type": "display_data"
    },
    {
     "data": {
      "text/html": [
       "<pre>recommendations finished on 77000/101140 queries. users per second: 45538.8</pre>"
      ],
      "text/plain": [
       "recommendations finished on 77000/101140 queries. users per second: 45538.8"
      ]
     },
     "metadata": {},
     "output_type": "display_data"
    },
    {
     "data": {
      "text/html": [
       "<pre>recommendations finished on 78000/101140 queries. users per second: 45657.7</pre>"
      ],
      "text/plain": [
       "recommendations finished on 78000/101140 queries. users per second: 45657.7"
      ]
     },
     "metadata": {},
     "output_type": "display_data"
    },
    {
     "data": {
      "text/html": [
       "<pre>recommendations finished on 79000/101140 queries. users per second: 45751.2</pre>"
      ],
      "text/plain": [
       "recommendations finished on 79000/101140 queries. users per second: 45751.2"
      ]
     },
     "metadata": {},
     "output_type": "display_data"
    },
    {
     "data": {
      "text/html": [
       "<pre>recommendations finished on 80000/101140 queries. users per second: 45783</pre>"
      ],
      "text/plain": [
       "recommendations finished on 80000/101140 queries. users per second: 45783"
      ]
     },
     "metadata": {},
     "output_type": "display_data"
    },
    {
     "data": {
      "text/html": [
       "<pre>recommendations finished on 81000/101140 queries. users per second: 45841.2</pre>"
      ],
      "text/plain": [
       "recommendations finished on 81000/101140 queries. users per second: 45841.2"
      ]
     },
     "metadata": {},
     "output_type": "display_data"
    },
    {
     "data": {
      "text/html": [
       "<pre>recommendations finished on 82000/101140 queries. users per second: 45952.9</pre>"
      ],
      "text/plain": [
       "recommendations finished on 82000/101140 queries. users per second: 45952.9"
      ]
     },
     "metadata": {},
     "output_type": "display_data"
    },
    {
     "data": {
      "text/html": [
       "<pre>recommendations finished on 83000/101140 queries. users per second: 46062.1</pre>"
      ],
      "text/plain": [
       "recommendations finished on 83000/101140 queries. users per second: 46062.1"
      ]
     },
     "metadata": {},
     "output_type": "display_data"
    },
    {
     "data": {
      "text/html": [
       "<pre>recommendations finished on 84000/101140 queries. users per second: 46032.4</pre>"
      ],
      "text/plain": [
       "recommendations finished on 84000/101140 queries. users per second: 46032.4"
      ]
     },
     "metadata": {},
     "output_type": "display_data"
    },
    {
     "data": {
      "text/html": [
       "<pre>recommendations finished on 85000/101140 queries. users per second: 45950.9</pre>"
      ],
      "text/plain": [
       "recommendations finished on 85000/101140 queries. users per second: 45950.9"
      ]
     },
     "metadata": {},
     "output_type": "display_data"
    },
    {
     "data": {
      "text/html": [
       "<pre>recommendations finished on 86000/101140 queries. users per second: 45835.7</pre>"
      ],
      "text/plain": [
       "recommendations finished on 86000/101140 queries. users per second: 45835.7"
      ]
     },
     "metadata": {},
     "output_type": "display_data"
    },
    {
     "data": {
      "text/html": [
       "<pre>recommendations finished on 87000/101140 queries. users per second: 45772</pre>"
      ],
      "text/plain": [
       "recommendations finished on 87000/101140 queries. users per second: 45772"
      ]
     },
     "metadata": {},
     "output_type": "display_data"
    },
    {
     "data": {
      "text/html": [
       "<pre>recommendations finished on 88000/101140 queries. users per second: 45749.2</pre>"
      ],
      "text/plain": [
       "recommendations finished on 88000/101140 queries. users per second: 45749.2"
      ]
     },
     "metadata": {},
     "output_type": "display_data"
    },
    {
     "data": {
      "text/html": [
       "<pre>recommendations finished on 89000/101140 queries. users per second: 45730.8</pre>"
      ],
      "text/plain": [
       "recommendations finished on 89000/101140 queries. users per second: 45730.8"
      ]
     },
     "metadata": {},
     "output_type": "display_data"
    },
    {
     "data": {
      "text/html": [
       "<pre>recommendations finished on 90000/101140 queries. users per second: 45788.1</pre>"
      ],
      "text/plain": [
       "recommendations finished on 90000/101140 queries. users per second: 45788.1"
      ]
     },
     "metadata": {},
     "output_type": "display_data"
    },
    {
     "data": {
      "text/html": [
       "<pre>recommendations finished on 91000/101140 queries. users per second: 45794.6</pre>"
      ],
      "text/plain": [
       "recommendations finished on 91000/101140 queries. users per second: 45794.6"
      ]
     },
     "metadata": {},
     "output_type": "display_data"
    },
    {
     "data": {
      "text/html": [
       "<pre>recommendations finished on 92000/101140 queries. users per second: 45748.9</pre>"
      ],
      "text/plain": [
       "recommendations finished on 92000/101140 queries. users per second: 45748.9"
      ]
     },
     "metadata": {},
     "output_type": "display_data"
    },
    {
     "data": {
      "text/html": [
       "<pre>recommendations finished on 93000/101140 queries. users per second: 45779.8</pre>"
      ],
      "text/plain": [
       "recommendations finished on 93000/101140 queries. users per second: 45779.8"
      ]
     },
     "metadata": {},
     "output_type": "display_data"
    },
    {
     "data": {
      "text/html": [
       "<pre>recommendations finished on 94000/101140 queries. users per second: 45656.2</pre>"
      ],
      "text/plain": [
       "recommendations finished on 94000/101140 queries. users per second: 45656.2"
      ]
     },
     "metadata": {},
     "output_type": "display_data"
    },
    {
     "data": {
      "text/html": [
       "<pre>recommendations finished on 95000/101140 queries. users per second: 45527.1</pre>"
      ],
      "text/plain": [
       "recommendations finished on 95000/101140 queries. users per second: 45527.1"
      ]
     },
     "metadata": {},
     "output_type": "display_data"
    },
    {
     "data": {
      "text/html": [
       "<pre>recommendations finished on 96000/101140 queries. users per second: 45442</pre>"
      ],
      "text/plain": [
       "recommendations finished on 96000/101140 queries. users per second: 45442"
      ]
     },
     "metadata": {},
     "output_type": "display_data"
    },
    {
     "data": {
      "text/html": [
       "<pre>recommendations finished on 97000/101140 queries. users per second: 45357</pre>"
      ],
      "text/plain": [
       "recommendations finished on 97000/101140 queries. users per second: 45357"
      ]
     },
     "metadata": {},
     "output_type": "display_data"
    },
    {
     "data": {
      "text/html": [
       "<pre>recommendations finished on 98000/101140 queries. users per second: 45300.7</pre>"
      ],
      "text/plain": [
       "recommendations finished on 98000/101140 queries. users per second: 45300.7"
      ]
     },
     "metadata": {},
     "output_type": "display_data"
    },
    {
     "data": {
      "text/html": [
       "<pre>recommendations finished on 99000/101140 queries. users per second: 45192.3</pre>"
      ],
      "text/plain": [
       "recommendations finished on 99000/101140 queries. users per second: 45192.3"
      ]
     },
     "metadata": {},
     "output_type": "display_data"
    },
    {
     "data": {
      "text/html": [
       "<pre>recommendations finished on 100000/101140 queries. users per second: 45130.1</pre>"
      ],
      "text/plain": [
       "recommendations finished on 100000/101140 queries. users per second: 45130.1"
      ]
     },
     "metadata": {},
     "output_type": "display_data"
    },
    {
     "data": {
      "text/html": [
       "<pre>recommendations finished on 101000/101140 queries. users per second: 45079.7</pre>"
      ],
      "text/plain": [
       "recommendations finished on 101000/101140 queries. users per second: 45079.7"
      ]
     },
     "metadata": {},
     "output_type": "display_data"
    },
    {
     "name": "stdout",
     "output_type": "stream",
     "text": [
      "+-------+--------+--------------------+------+\n",
      "| LYBID | ITEMID |       score        | rank |\n",
      "+-------+--------+--------------------+------+\n",
      "| 10004 | 44002  |        6.0         |  1   |\n",
      "| 10004 | 35928  |        6.0         |  2   |\n",
      "| 10004 |  3560  |        5.0         |  3   |\n",
      "| 10004 |  3557  |        4.25        |  4   |\n",
      "| 10004 | 33867  | 3.6666666666666625 |  5   |\n",
      "| 10009 | 44002  |        6.0         |  1   |\n",
      "| 10009 | 35928  |        6.0         |  2   |\n",
      "| 10009 |  3560  |        5.0         |  3   |\n",
      "| 10009 |  3557  |        4.25        |  4   |\n",
      "| 10009 | 33867  | 3.6666666666666625 |  5   |\n",
      "| 10012 | 44002  |        6.0         |  1   |\n",
      "| 10012 | 35928  |        6.0         |  2   |\n",
      "| 10012 |  3560  |        5.0         |  3   |\n",
      "| 10012 |  3557  |        4.25        |  4   |\n",
      "| 10012 | 33867  | 3.6666666666666625 |  5   |\n",
      "| 10022 | 44002  |        6.0         |  1   |\n",
      "| 10022 | 35928  |        6.0         |  2   |\n",
      "| 10022 |  3560  |        5.0         |  3   |\n",
      "| 10022 |  3557  |        4.25        |  4   |\n",
      "| 10022 | 33867  | 3.6666666666666625 |  5   |\n",
      "| 10023 | 44002  |        6.0         |  1   |\n",
      "| 10023 | 35928  |        6.0         |  2   |\n",
      "| 10023 |  3560  |        5.0         |  3   |\n",
      "| 10023 |  3557  |        4.25        |  4   |\n",
      "| 10023 | 33867  | 3.666629744900593  |  5   |\n",
      "| 10029 | 44002  |        6.0         |  1   |\n",
      "| 10029 | 35928  |        6.0         |  2   |\n",
      "| 10029 |  3560  |        5.0         |  3   |\n",
      "| 10029 |  3557  |        4.25        |  4   |\n",
      "| 10029 | 33867  | 3.6666666666666625 |  5   |\n",
      "+-------+--------+--------------------+------+\n",
      "[505700 rows x 4 columns]\n",
      "\n"
     ]
    }
   ],
   "source": [
    "# these variables will change accordingly\n",
    "name = 'pearson'\n",
    "target = 'TotalQtyPurchased'\n",
    "pear = model(train_data, name, user_id, item_id, target, users_to_recommend, n_rec, n_display)"
   ]
  },
  {
   "cell_type": "markdown",
   "metadata": {},
   "source": [
    "#### Using purchase dummy"
   ]
  },
  {
   "cell_type": "code",
   "execution_count": 28,
   "metadata": {},
   "outputs": [
    {
     "data": {
      "text/html": [
       "<pre>Warning: Ignoring columns TotalQtyPurchased;</pre>"
      ],
      "text/plain": [
       "Warning: Ignoring columns TotalQtyPurchased;"
      ]
     },
     "metadata": {},
     "output_type": "display_data"
    },
    {
     "data": {
      "text/html": [
       "<pre>    To use these columns in scoring predictions, use a model that allows the use of additional features.</pre>"
      ],
      "text/plain": [
       "    To use these columns in scoring predictions, use a model that allows the use of additional features."
      ]
     },
     "metadata": {},
     "output_type": "display_data"
    },
    {
     "data": {
      "text/html": [
       "<pre>Preparing data set.</pre>"
      ],
      "text/plain": [
       "Preparing data set."
      ]
     },
     "metadata": {},
     "output_type": "display_data"
    },
    {
     "data": {
      "text/html": [
       "<pre>    Data has 281955 observations with 94424 users and 1426 items.</pre>"
      ],
      "text/plain": [
       "    Data has 281955 observations with 94424 users and 1426 items."
      ]
     },
     "metadata": {},
     "output_type": "display_data"
    },
    {
     "data": {
      "text/html": [
       "<pre>    Data prepared in: 0.300242s</pre>"
      ],
      "text/plain": [
       "    Data prepared in: 0.300242s"
      ]
     },
     "metadata": {},
     "output_type": "display_data"
    },
    {
     "data": {
      "text/html": [
       "<pre>Training model from provided data.</pre>"
      ],
      "text/plain": [
       "Training model from provided data."
      ]
     },
     "metadata": {},
     "output_type": "display_data"
    },
    {
     "data": {
      "text/html": [
       "<pre>Gathering per-item and per-user statistics.</pre>"
      ],
      "text/plain": [
       "Gathering per-item and per-user statistics."
      ]
     },
     "metadata": {},
     "output_type": "display_data"
    },
    {
     "data": {
      "text/html": [
       "<pre>+--------------------------------+------------+</pre>"
      ],
      "text/plain": [
       "+--------------------------------+------------+"
      ]
     },
     "metadata": {},
     "output_type": "display_data"
    },
    {
     "data": {
      "text/html": [
       "<pre>| Elapsed Time (Item Statistics) | % Complete |</pre>"
      ],
      "text/plain": [
       "| Elapsed Time (Item Statistics) | % Complete |"
      ]
     },
     "metadata": {},
     "output_type": "display_data"
    },
    {
     "data": {
      "text/html": [
       "<pre>+--------------------------------+------------+</pre>"
      ],
      "text/plain": [
       "+--------------------------------+------------+"
      ]
     },
     "metadata": {},
     "output_type": "display_data"
    },
    {
     "data": {
      "text/html": [
       "<pre>| 2.077ms                        | 1          |</pre>"
      ],
      "text/plain": [
       "| 2.077ms                        | 1          |"
      ]
     },
     "metadata": {},
     "output_type": "display_data"
    },
    {
     "data": {
      "text/html": [
       "<pre>| 44.563ms                       | 100        |</pre>"
      ],
      "text/plain": [
       "| 44.563ms                       | 100        |"
      ]
     },
     "metadata": {},
     "output_type": "display_data"
    },
    {
     "data": {
      "text/html": [
       "<pre>+--------------------------------+------------+</pre>"
      ],
      "text/plain": [
       "+--------------------------------+------------+"
      ]
     },
     "metadata": {},
     "output_type": "display_data"
    },
    {
     "data": {
      "text/html": [
       "<pre>Setting up lookup tables.</pre>"
      ],
      "text/plain": [
       "Setting up lookup tables."
      ]
     },
     "metadata": {},
     "output_type": "display_data"
    },
    {
     "data": {
      "text/html": [
       "<pre>Processing data in one pass using dense lookup tables.</pre>"
      ],
      "text/plain": [
       "Processing data in one pass using dense lookup tables."
      ]
     },
     "metadata": {},
     "output_type": "display_data"
    },
    {
     "data": {
      "text/html": [
       "<pre>+-------------------------------------+------------------+-----------------+</pre>"
      ],
      "text/plain": [
       "+-------------------------------------+------------------+-----------------+"
      ]
     },
     "metadata": {},
     "output_type": "display_data"
    },
    {
     "data": {
      "text/html": [
       "<pre>| Elapsed Time (Constructing Lookups) | Total % Complete | Items Processed |</pre>"
      ],
      "text/plain": [
       "| Elapsed Time (Constructing Lookups) | Total % Complete | Items Processed |"
      ]
     },
     "metadata": {},
     "output_type": "display_data"
    },
    {
     "data": {
      "text/html": [
       "<pre>+-------------------------------------+------------------+-----------------+</pre>"
      ],
      "text/plain": [
       "+-------------------------------------+------------------+-----------------+"
      ]
     },
     "metadata": {},
     "output_type": "display_data"
    },
    {
     "data": {
      "text/html": [
       "<pre>| 52.107ms                            | 0                | 0               |</pre>"
      ],
      "text/plain": [
       "| 52.107ms                            | 0                | 0               |"
      ]
     },
     "metadata": {},
     "output_type": "display_data"
    },
    {
     "data": {
      "text/html": [
       "<pre>| 158.434ms                           | 100              | 1426            |</pre>"
      ],
      "text/plain": [
       "| 158.434ms                           | 100              | 1426            |"
      ]
     },
     "metadata": {},
     "output_type": "display_data"
    },
    {
     "data": {
      "text/html": [
       "<pre>+-------------------------------------+------------------+-----------------+</pre>"
      ],
      "text/plain": [
       "+-------------------------------------+------------------+-----------------+"
      ]
     },
     "metadata": {},
     "output_type": "display_data"
    },
    {
     "data": {
      "text/html": [
       "<pre>Finalizing lookup tables.</pre>"
      ],
      "text/plain": [
       "Finalizing lookup tables."
      ]
     },
     "metadata": {},
     "output_type": "display_data"
    },
    {
     "data": {
      "text/html": [
       "<pre>Generating candidate set for working with new users.</pre>"
      ],
      "text/plain": [
       "Generating candidate set for working with new users."
      ]
     },
     "metadata": {},
     "output_type": "display_data"
    },
    {
     "data": {
      "text/html": [
       "<pre>Finished training in 0.194676s</pre>"
      ],
      "text/plain": [
       "Finished training in 0.194676s"
      ]
     },
     "metadata": {},
     "output_type": "display_data"
    },
    {
     "data": {
      "text/html": [
       "<pre>recommendations finished on 1000/101140 queries. users per second: 35410.8</pre>"
      ],
      "text/plain": [
       "recommendations finished on 1000/101140 queries. users per second: 35410.8"
      ]
     },
     "metadata": {},
     "output_type": "display_data"
    },
    {
     "data": {
      "text/html": [
       "<pre>recommendations finished on 2000/101140 queries. users per second: 42100.8</pre>"
      ],
      "text/plain": [
       "recommendations finished on 2000/101140 queries. users per second: 42100.8"
      ]
     },
     "metadata": {},
     "output_type": "display_data"
    },
    {
     "data": {
      "text/html": [
       "<pre>recommendations finished on 3000/101140 queries. users per second: 42570.1</pre>"
      ],
      "text/plain": [
       "recommendations finished on 3000/101140 queries. users per second: 42570.1"
      ]
     },
     "metadata": {},
     "output_type": "display_data"
    },
    {
     "data": {
      "text/html": [
       "<pre>recommendations finished on 4000/101140 queries. users per second: 44611.5</pre>"
      ],
      "text/plain": [
       "recommendations finished on 4000/101140 queries. users per second: 44611.5"
      ]
     },
     "metadata": {},
     "output_type": "display_data"
    },
    {
     "data": {
      "text/html": [
       "<pre>recommendations finished on 5000/101140 queries. users per second: 45952.5</pre>"
      ],
      "text/plain": [
       "recommendations finished on 5000/101140 queries. users per second: 45952.5"
      ]
     },
     "metadata": {},
     "output_type": "display_data"
    },
    {
     "data": {
      "text/html": [
       "<pre>recommendations finished on 6000/101140 queries. users per second: 45509.4</pre>"
      ],
      "text/plain": [
       "recommendations finished on 6000/101140 queries. users per second: 45509.4"
      ]
     },
     "metadata": {},
     "output_type": "display_data"
    },
    {
     "data": {
      "text/html": [
       "<pre>recommendations finished on 7000/101140 queries. users per second: 45499.7</pre>"
      ],
      "text/plain": [
       "recommendations finished on 7000/101140 queries. users per second: 45499.7"
      ]
     },
     "metadata": {},
     "output_type": "display_data"
    },
    {
     "data": {
      "text/html": [
       "<pre>recommendations finished on 8000/101140 queries. users per second: 44879.5</pre>"
      ],
      "text/plain": [
       "recommendations finished on 8000/101140 queries. users per second: 44879.5"
      ]
     },
     "metadata": {},
     "output_type": "display_data"
    },
    {
     "data": {
      "text/html": [
       "<pre>recommendations finished on 9000/101140 queries. users per second: 44699.6</pre>"
      ],
      "text/plain": [
       "recommendations finished on 9000/101140 queries. users per second: 44699.6"
      ]
     },
     "metadata": {},
     "output_type": "display_data"
    },
    {
     "data": {
      "text/html": [
       "<pre>recommendations finished on 10000/101140 queries. users per second: 44391.4</pre>"
      ],
      "text/plain": [
       "recommendations finished on 10000/101140 queries. users per second: 44391.4"
      ]
     },
     "metadata": {},
     "output_type": "display_data"
    },
    {
     "data": {
      "text/html": [
       "<pre>recommendations finished on 11000/101140 queries. users per second: 44401.9</pre>"
      ],
      "text/plain": [
       "recommendations finished on 11000/101140 queries. users per second: 44401.9"
      ]
     },
     "metadata": {},
     "output_type": "display_data"
    },
    {
     "data": {
      "text/html": [
       "<pre>recommendations finished on 12000/101140 queries. users per second: 43071</pre>"
      ],
      "text/plain": [
       "recommendations finished on 12000/101140 queries. users per second: 43071"
      ]
     },
     "metadata": {},
     "output_type": "display_data"
    },
    {
     "data": {
      "text/html": [
       "<pre>recommendations finished on 13000/101140 queries. users per second: 42175.2</pre>"
      ],
      "text/plain": [
       "recommendations finished on 13000/101140 queries. users per second: 42175.2"
      ]
     },
     "metadata": {},
     "output_type": "display_data"
    },
    {
     "data": {
      "text/html": [
       "<pre>recommendations finished on 14000/101140 queries. users per second: 41872.8</pre>"
      ],
      "text/plain": [
       "recommendations finished on 14000/101140 queries. users per second: 41872.8"
      ]
     },
     "metadata": {},
     "output_type": "display_data"
    },
    {
     "data": {
      "text/html": [
       "<pre>recommendations finished on 15000/101140 queries. users per second: 41911</pre>"
      ],
      "text/plain": [
       "recommendations finished on 15000/101140 queries. users per second: 41911"
      ]
     },
     "metadata": {},
     "output_type": "display_data"
    },
    {
     "data": {
      "text/html": [
       "<pre>recommendations finished on 16000/101140 queries. users per second: 41961.2</pre>"
      ],
      "text/plain": [
       "recommendations finished on 16000/101140 queries. users per second: 41961.2"
      ]
     },
     "metadata": {},
     "output_type": "display_data"
    },
    {
     "data": {
      "text/html": [
       "<pre>recommendations finished on 17000/101140 queries. users per second: 41521.1</pre>"
      ],
      "text/plain": [
       "recommendations finished on 17000/101140 queries. users per second: 41521.1"
      ]
     },
     "metadata": {},
     "output_type": "display_data"
    },
    {
     "data": {
      "text/html": [
       "<pre>recommendations finished on 18000/101140 queries. users per second: 41904.9</pre>"
      ],
      "text/plain": [
       "recommendations finished on 18000/101140 queries. users per second: 41904.9"
      ]
     },
     "metadata": {},
     "output_type": "display_data"
    },
    {
     "data": {
      "text/html": [
       "<pre>recommendations finished on 19000/101140 queries. users per second: 41979.7</pre>"
      ],
      "text/plain": [
       "recommendations finished on 19000/101140 queries. users per second: 41979.7"
      ]
     },
     "metadata": {},
     "output_type": "display_data"
    },
    {
     "data": {
      "text/html": [
       "<pre>recommendations finished on 20000/101140 queries. users per second: 41954.5</pre>"
      ],
      "text/plain": [
       "recommendations finished on 20000/101140 queries. users per second: 41954.5"
      ]
     },
     "metadata": {},
     "output_type": "display_data"
    },
    {
     "data": {
      "text/html": [
       "<pre>recommendations finished on 21000/101140 queries. users per second: 41979.6</pre>"
      ],
      "text/plain": [
       "recommendations finished on 21000/101140 queries. users per second: 41979.6"
      ]
     },
     "metadata": {},
     "output_type": "display_data"
    },
    {
     "data": {
      "text/html": [
       "<pre>recommendations finished on 22000/101140 queries. users per second: 41720.2</pre>"
      ],
      "text/plain": [
       "recommendations finished on 22000/101140 queries. users per second: 41720.2"
      ]
     },
     "metadata": {},
     "output_type": "display_data"
    },
    {
     "data": {
      "text/html": [
       "<pre>recommendations finished on 23000/101140 queries. users per second: 41689.4</pre>"
      ],
      "text/plain": [
       "recommendations finished on 23000/101140 queries. users per second: 41689.4"
      ]
     },
     "metadata": {},
     "output_type": "display_data"
    },
    {
     "data": {
      "text/html": [
       "<pre>recommendations finished on 24000/101140 queries. users per second: 41627</pre>"
      ],
      "text/plain": [
       "recommendations finished on 24000/101140 queries. users per second: 41627"
      ]
     },
     "metadata": {},
     "output_type": "display_data"
    },
    {
     "data": {
      "text/html": [
       "<pre>recommendations finished on 25000/101140 queries. users per second: 41668</pre>"
      ],
      "text/plain": [
       "recommendations finished on 25000/101140 queries. users per second: 41668"
      ]
     },
     "metadata": {},
     "output_type": "display_data"
    },
    {
     "data": {
      "text/html": [
       "<pre>recommendations finished on 26000/101140 queries. users per second: 41384.7</pre>"
      ],
      "text/plain": [
       "recommendations finished on 26000/101140 queries. users per second: 41384.7"
      ]
     },
     "metadata": {},
     "output_type": "display_data"
    },
    {
     "data": {
      "text/html": [
       "<pre>recommendations finished on 27000/101140 queries. users per second: 41592.9</pre>"
      ],
      "text/plain": [
       "recommendations finished on 27000/101140 queries. users per second: 41592.9"
      ]
     },
     "metadata": {},
     "output_type": "display_data"
    },
    {
     "data": {
      "text/html": [
       "<pre>recommendations finished on 28000/101140 queries. users per second: 41696</pre>"
      ],
      "text/plain": [
       "recommendations finished on 28000/101140 queries. users per second: 41696"
      ]
     },
     "metadata": {},
     "output_type": "display_data"
    },
    {
     "data": {
      "text/html": [
       "<pre>recommendations finished on 29000/101140 queries. users per second: 41991.9</pre>"
      ],
      "text/plain": [
       "recommendations finished on 29000/101140 queries. users per second: 41991.9"
      ]
     },
     "metadata": {},
     "output_type": "display_data"
    },
    {
     "data": {
      "text/html": [
       "<pre>recommendations finished on 30000/101140 queries. users per second: 42228.2</pre>"
      ],
      "text/plain": [
       "recommendations finished on 30000/101140 queries. users per second: 42228.2"
      ]
     },
     "metadata": {},
     "output_type": "display_data"
    },
    {
     "data": {
      "text/html": [
       "<pre>recommendations finished on 31000/101140 queries. users per second: 42436.4</pre>"
      ],
      "text/plain": [
       "recommendations finished on 31000/101140 queries. users per second: 42436.4"
      ]
     },
     "metadata": {},
     "output_type": "display_data"
    },
    {
     "data": {
      "text/html": [
       "<pre>recommendations finished on 32000/101140 queries. users per second: 42542.8</pre>"
      ],
      "text/plain": [
       "recommendations finished on 32000/101140 queries. users per second: 42542.8"
      ]
     },
     "metadata": {},
     "output_type": "display_data"
    },
    {
     "data": {
      "text/html": [
       "<pre>recommendations finished on 33000/101140 queries. users per second: 42851.5</pre>"
      ],
      "text/plain": [
       "recommendations finished on 33000/101140 queries. users per second: 42851.5"
      ]
     },
     "metadata": {},
     "output_type": "display_data"
    },
    {
     "data": {
      "text/html": [
       "<pre>recommendations finished on 34000/101140 queries. users per second: 43022.6</pre>"
      ],
      "text/plain": [
       "recommendations finished on 34000/101140 queries. users per second: 43022.6"
      ]
     },
     "metadata": {},
     "output_type": "display_data"
    },
    {
     "data": {
      "text/html": [
       "<pre>recommendations finished on 35000/101140 queries. users per second: 43095.1</pre>"
      ],
      "text/plain": [
       "recommendations finished on 35000/101140 queries. users per second: 43095.1"
      ]
     },
     "metadata": {},
     "output_type": "display_data"
    },
    {
     "data": {
      "text/html": [
       "<pre>recommendations finished on 36000/101140 queries. users per second: 42655.5</pre>"
      ],
      "text/plain": [
       "recommendations finished on 36000/101140 queries. users per second: 42655.5"
      ]
     },
     "metadata": {},
     "output_type": "display_data"
    },
    {
     "data": {
      "text/html": [
       "<pre>recommendations finished on 37000/101140 queries. users per second: 42746.5</pre>"
      ],
      "text/plain": [
       "recommendations finished on 37000/101140 queries. users per second: 42746.5"
      ]
     },
     "metadata": {},
     "output_type": "display_data"
    },
    {
     "data": {
      "text/html": [
       "<pre>recommendations finished on 38000/101140 queries. users per second: 42625.6</pre>"
      ],
      "text/plain": [
       "recommendations finished on 38000/101140 queries. users per second: 42625.6"
      ]
     },
     "metadata": {},
     "output_type": "display_data"
    },
    {
     "data": {
      "text/html": [
       "<pre>recommendations finished on 39000/101140 queries. users per second: 42729</pre>"
      ],
      "text/plain": [
       "recommendations finished on 39000/101140 queries. users per second: 42729"
      ]
     },
     "metadata": {},
     "output_type": "display_data"
    },
    {
     "data": {
      "text/html": [
       "<pre>recommendations finished on 40000/101140 queries. users per second: 42755.6</pre>"
      ],
      "text/plain": [
       "recommendations finished on 40000/101140 queries. users per second: 42755.6"
      ]
     },
     "metadata": {},
     "output_type": "display_data"
    },
    {
     "data": {
      "text/html": [
       "<pre>recommendations finished on 41000/101140 queries. users per second: 42798.8</pre>"
      ],
      "text/plain": [
       "recommendations finished on 41000/101140 queries. users per second: 42798.8"
      ]
     },
     "metadata": {},
     "output_type": "display_data"
    },
    {
     "data": {
      "text/html": [
       "<pre>recommendations finished on 42000/101140 queries. users per second: 42846.1</pre>"
      ],
      "text/plain": [
       "recommendations finished on 42000/101140 queries. users per second: 42846.1"
      ]
     },
     "metadata": {},
     "output_type": "display_data"
    },
    {
     "data": {
      "text/html": [
       "<pre>recommendations finished on 43000/101140 queries. users per second: 42755.5</pre>"
      ],
      "text/plain": [
       "recommendations finished on 43000/101140 queries. users per second: 42755.5"
      ]
     },
     "metadata": {},
     "output_type": "display_data"
    },
    {
     "data": {
      "text/html": [
       "<pre>recommendations finished on 44000/101140 queries. users per second: 42766.8</pre>"
      ],
      "text/plain": [
       "recommendations finished on 44000/101140 queries. users per second: 42766.8"
      ]
     },
     "metadata": {},
     "output_type": "display_data"
    },
    {
     "data": {
      "text/html": [
       "<pre>recommendations finished on 45000/101140 queries. users per second: 42964.3</pre>"
      ],
      "text/plain": [
       "recommendations finished on 45000/101140 queries. users per second: 42964.3"
      ]
     },
     "metadata": {},
     "output_type": "display_data"
    },
    {
     "data": {
      "text/html": [
       "<pre>recommendations finished on 46000/101140 queries. users per second: 43091.4</pre>"
      ],
      "text/plain": [
       "recommendations finished on 46000/101140 queries. users per second: 43091.4"
      ]
     },
     "metadata": {},
     "output_type": "display_data"
    },
    {
     "data": {
      "text/html": [
       "<pre>recommendations finished on 47000/101140 queries. users per second: 42975.1</pre>"
      ],
      "text/plain": [
       "recommendations finished on 47000/101140 queries. users per second: 42975.1"
      ]
     },
     "metadata": {},
     "output_type": "display_data"
    },
    {
     "data": {
      "text/html": [
       "<pre>recommendations finished on 48000/101140 queries. users per second: 43083.3</pre>"
      ],
      "text/plain": [
       "recommendations finished on 48000/101140 queries. users per second: 43083.3"
      ]
     },
     "metadata": {},
     "output_type": "display_data"
    },
    {
     "data": {
      "text/html": [
       "<pre>recommendations finished on 49000/101140 queries. users per second: 43144.9</pre>"
      ],
      "text/plain": [
       "recommendations finished on 49000/101140 queries. users per second: 43144.9"
      ]
     },
     "metadata": {},
     "output_type": "display_data"
    },
    {
     "data": {
      "text/html": [
       "<pre>recommendations finished on 50000/101140 queries. users per second: 43159.9</pre>"
      ],
      "text/plain": [
       "recommendations finished on 50000/101140 queries. users per second: 43159.9"
      ]
     },
     "metadata": {},
     "output_type": "display_data"
    },
    {
     "data": {
      "text/html": [
       "<pre>recommendations finished on 51000/101140 queries. users per second: 43397.8</pre>"
      ],
      "text/plain": [
       "recommendations finished on 51000/101140 queries. users per second: 43397.8"
      ]
     },
     "metadata": {},
     "output_type": "display_data"
    },
    {
     "data": {
      "text/html": [
       "<pre>recommendations finished on 52000/101140 queries. users per second: 43498.9</pre>"
      ],
      "text/plain": [
       "recommendations finished on 52000/101140 queries. users per second: 43498.9"
      ]
     },
     "metadata": {},
     "output_type": "display_data"
    },
    {
     "data": {
      "text/html": [
       "<pre>recommendations finished on 53000/101140 queries. users per second: 43528</pre>"
      ],
      "text/plain": [
       "recommendations finished on 53000/101140 queries. users per second: 43528"
      ]
     },
     "metadata": {},
     "output_type": "display_data"
    },
    {
     "data": {
      "text/html": [
       "<pre>recommendations finished on 54000/101140 queries. users per second: 43636.9</pre>"
      ],
      "text/plain": [
       "recommendations finished on 54000/101140 queries. users per second: 43636.9"
      ]
     },
     "metadata": {},
     "output_type": "display_data"
    },
    {
     "data": {
      "text/html": [
       "<pre>recommendations finished on 55000/101140 queries. users per second: 43763.7</pre>"
      ],
      "text/plain": [
       "recommendations finished on 55000/101140 queries. users per second: 43763.7"
      ]
     },
     "metadata": {},
     "output_type": "display_data"
    },
    {
     "data": {
      "text/html": [
       "<pre>recommendations finished on 56000/101140 queries. users per second: 43955</pre>"
      ],
      "text/plain": [
       "recommendations finished on 56000/101140 queries. users per second: 43955"
      ]
     },
     "metadata": {},
     "output_type": "display_data"
    },
    {
     "data": {
      "text/html": [
       "<pre>recommendations finished on 57000/101140 queries. users per second: 44159.5</pre>"
      ],
      "text/plain": [
       "recommendations finished on 57000/101140 queries. users per second: 44159.5"
      ]
     },
     "metadata": {},
     "output_type": "display_data"
    },
    {
     "data": {
      "text/html": [
       "<pre>recommendations finished on 58000/101140 queries. users per second: 44373.3</pre>"
      ],
      "text/plain": [
       "recommendations finished on 58000/101140 queries. users per second: 44373.3"
      ]
     },
     "metadata": {},
     "output_type": "display_data"
    },
    {
     "data": {
      "text/html": [
       "<pre>recommendations finished on 59000/101140 queries. users per second: 44577.9</pre>"
      ],
      "text/plain": [
       "recommendations finished on 59000/101140 queries. users per second: 44577.9"
      ]
     },
     "metadata": {},
     "output_type": "display_data"
    },
    {
     "data": {
      "text/html": [
       "<pre>recommendations finished on 60000/101140 queries. users per second: 44782.9</pre>"
      ],
      "text/plain": [
       "recommendations finished on 60000/101140 queries. users per second: 44782.9"
      ]
     },
     "metadata": {},
     "output_type": "display_data"
    },
    {
     "data": {
      "text/html": [
       "<pre>recommendations finished on 61000/101140 queries. users per second: 44908.2</pre>"
      ],
      "text/plain": [
       "recommendations finished on 61000/101140 queries. users per second: 44908.2"
      ]
     },
     "metadata": {},
     "output_type": "display_data"
    },
    {
     "data": {
      "text/html": [
       "<pre>recommendations finished on 62000/101140 queries. users per second: 45085.8</pre>"
      ],
      "text/plain": [
       "recommendations finished on 62000/101140 queries. users per second: 45085.8"
      ]
     },
     "metadata": {},
     "output_type": "display_data"
    },
    {
     "data": {
      "text/html": [
       "<pre>recommendations finished on 63000/101140 queries. users per second: 45245.9</pre>"
      ],
      "text/plain": [
       "recommendations finished on 63000/101140 queries. users per second: 45245.9"
      ]
     },
     "metadata": {},
     "output_type": "display_data"
    },
    {
     "data": {
      "text/html": [
       "<pre>recommendations finished on 64000/101140 queries. users per second: 45418.6</pre>"
      ],
      "text/plain": [
       "recommendations finished on 64000/101140 queries. users per second: 45418.6"
      ]
     },
     "metadata": {},
     "output_type": "display_data"
    },
    {
     "data": {
      "text/html": [
       "<pre>recommendations finished on 65000/101140 queries. users per second: 45536</pre>"
      ],
      "text/plain": [
       "recommendations finished on 65000/101140 queries. users per second: 45536"
      ]
     },
     "metadata": {},
     "output_type": "display_data"
    },
    {
     "data": {
      "text/html": [
       "<pre>recommendations finished on 66000/101140 queries. users per second: 45497.7</pre>"
      ],
      "text/plain": [
       "recommendations finished on 66000/101140 queries. users per second: 45497.7"
      ]
     },
     "metadata": {},
     "output_type": "display_data"
    },
    {
     "data": {
      "text/html": [
       "<pre>recommendations finished on 67000/101140 queries. users per second: 45473.4</pre>"
      ],
      "text/plain": [
       "recommendations finished on 67000/101140 queries. users per second: 45473.4"
      ]
     },
     "metadata": {},
     "output_type": "display_data"
    },
    {
     "data": {
      "text/html": [
       "<pre>recommendations finished on 68000/101140 queries. users per second: 45511.1</pre>"
      ],
      "text/plain": [
       "recommendations finished on 68000/101140 queries. users per second: 45511.1"
      ]
     },
     "metadata": {},
     "output_type": "display_data"
    },
    {
     "data": {
      "text/html": [
       "<pre>recommendations finished on 69000/101140 queries. users per second: 45601.1</pre>"
      ],
      "text/plain": [
       "recommendations finished on 69000/101140 queries. users per second: 45601.1"
      ]
     },
     "metadata": {},
     "output_type": "display_data"
    },
    {
     "data": {
      "text/html": [
       "<pre>recommendations finished on 70000/101140 queries. users per second: 45649</pre>"
      ],
      "text/plain": [
       "recommendations finished on 70000/101140 queries. users per second: 45649"
      ]
     },
     "metadata": {},
     "output_type": "display_data"
    },
    {
     "data": {
      "text/html": [
       "<pre>recommendations finished on 71000/101140 queries. users per second: 45608.1</pre>"
      ],
      "text/plain": [
       "recommendations finished on 71000/101140 queries. users per second: 45608.1"
      ]
     },
     "metadata": {},
     "output_type": "display_data"
    },
    {
     "data": {
      "text/html": [
       "<pre>recommendations finished on 72000/101140 queries. users per second: 45689.6</pre>"
      ],
      "text/plain": [
       "recommendations finished on 72000/101140 queries. users per second: 45689.6"
      ]
     },
     "metadata": {},
     "output_type": "display_data"
    },
    {
     "data": {
      "text/html": [
       "<pre>recommendations finished on 73000/101140 queries. users per second: 45674.4</pre>"
      ],
      "text/plain": [
       "recommendations finished on 73000/101140 queries. users per second: 45674.4"
      ]
     },
     "metadata": {},
     "output_type": "display_data"
    },
    {
     "data": {
      "text/html": [
       "<pre>recommendations finished on 74000/101140 queries. users per second: 45745.7</pre>"
      ],
      "text/plain": [
       "recommendations finished on 74000/101140 queries. users per second: 45745.7"
      ]
     },
     "metadata": {},
     "output_type": "display_data"
    },
    {
     "data": {
      "text/html": [
       "<pre>recommendations finished on 75000/101140 queries. users per second: 45590.2</pre>"
      ],
      "text/plain": [
       "recommendations finished on 75000/101140 queries. users per second: 45590.2"
      ]
     },
     "metadata": {},
     "output_type": "display_data"
    },
    {
     "data": {
      "text/html": [
       "<pre>recommendations finished on 76000/101140 queries. users per second: 45560.4</pre>"
      ],
      "text/plain": [
       "recommendations finished on 76000/101140 queries. users per second: 45560.4"
      ]
     },
     "metadata": {},
     "output_type": "display_data"
    },
    {
     "data": {
      "text/html": [
       "<pre>recommendations finished on 77000/101140 queries. users per second: 45431.6</pre>"
      ],
      "text/plain": [
       "recommendations finished on 77000/101140 queries. users per second: 45431.6"
      ]
     },
     "metadata": {},
     "output_type": "display_data"
    },
    {
     "data": {
      "text/html": [
       "<pre>recommendations finished on 78000/101140 queries. users per second: 45522.9</pre>"
      ],
      "text/plain": [
       "recommendations finished on 78000/101140 queries. users per second: 45522.9"
      ]
     },
     "metadata": {},
     "output_type": "display_data"
    },
    {
     "data": {
      "text/html": [
       "<pre>recommendations finished on 79000/101140 queries. users per second: 45619.5</pre>"
      ],
      "text/plain": [
       "recommendations finished on 79000/101140 queries. users per second: 45619.5"
      ]
     },
     "metadata": {},
     "output_type": "display_data"
    },
    {
     "data": {
      "text/html": [
       "<pre>recommendations finished on 80000/101140 queries. users per second: 45618.1</pre>"
      ],
      "text/plain": [
       "recommendations finished on 80000/101140 queries. users per second: 45618.1"
      ]
     },
     "metadata": {},
     "output_type": "display_data"
    },
    {
     "data": {
      "text/html": [
       "<pre>recommendations finished on 81000/101140 queries. users per second: 45598.4</pre>"
      ],
      "text/plain": [
       "recommendations finished on 81000/101140 queries. users per second: 45598.4"
      ]
     },
     "metadata": {},
     "output_type": "display_data"
    },
    {
     "data": {
      "text/html": [
       "<pre>recommendations finished on 82000/101140 queries. users per second: 45606.7</pre>"
      ],
      "text/plain": [
       "recommendations finished on 82000/101140 queries. users per second: 45606.7"
      ]
     },
     "metadata": {},
     "output_type": "display_data"
    },
    {
     "data": {
      "text/html": [
       "<pre>recommendations finished on 83000/101140 queries. users per second: 45691.1</pre>"
      ],
      "text/plain": [
       "recommendations finished on 83000/101140 queries. users per second: 45691.1"
      ]
     },
     "metadata": {},
     "output_type": "display_data"
    },
    {
     "data": {
      "text/html": [
       "<pre>recommendations finished on 84000/101140 queries. users per second: 45711.1</pre>"
      ],
      "text/plain": [
       "recommendations finished on 84000/101140 queries. users per second: 45711.1"
      ]
     },
     "metadata": {},
     "output_type": "display_data"
    },
    {
     "data": {
      "text/html": [
       "<pre>recommendations finished on 85000/101140 queries. users per second: 45715.4</pre>"
      ],
      "text/plain": [
       "recommendations finished on 85000/101140 queries. users per second: 45715.4"
      ]
     },
     "metadata": {},
     "output_type": "display_data"
    },
    {
     "data": {
      "text/html": [
       "<pre>recommendations finished on 86000/101140 queries. users per second: 45775.1</pre>"
      ],
      "text/plain": [
       "recommendations finished on 86000/101140 queries. users per second: 45775.1"
      ]
     },
     "metadata": {},
     "output_type": "display_data"
    },
    {
     "data": {
      "text/html": [
       "<pre>recommendations finished on 87000/101140 queries. users per second: 45812.1</pre>"
      ],
      "text/plain": [
       "recommendations finished on 87000/101140 queries. users per second: 45812.1"
      ]
     },
     "metadata": {},
     "output_type": "display_data"
    },
    {
     "data": {
      "text/html": [
       "<pre>recommendations finished on 88000/101140 queries. users per second: 45762.3</pre>"
      ],
      "text/plain": [
       "recommendations finished on 88000/101140 queries. users per second: 45762.3"
      ]
     },
     "metadata": {},
     "output_type": "display_data"
    },
    {
     "data": {
      "text/html": [
       "<pre>recommendations finished on 89000/101140 queries. users per second: 45847.4</pre>"
      ],
      "text/plain": [
       "recommendations finished on 89000/101140 queries. users per second: 45847.4"
      ]
     },
     "metadata": {},
     "output_type": "display_data"
    },
    {
     "data": {
      "text/html": [
       "<pre>recommendations finished on 90000/101140 queries. users per second: 45888</pre>"
      ],
      "text/plain": [
       "recommendations finished on 90000/101140 queries. users per second: 45888"
      ]
     },
     "metadata": {},
     "output_type": "display_data"
    },
    {
     "data": {
      "text/html": [
       "<pre>recommendations finished on 91000/101140 queries. users per second: 45923.3</pre>"
      ],
      "text/plain": [
       "recommendations finished on 91000/101140 queries. users per second: 45923.3"
      ]
     },
     "metadata": {},
     "output_type": "display_data"
    },
    {
     "data": {
      "text/html": [
       "<pre>recommendations finished on 92000/101140 queries. users per second: 46001.8</pre>"
      ],
      "text/plain": [
       "recommendations finished on 92000/101140 queries. users per second: 46001.8"
      ]
     },
     "metadata": {},
     "output_type": "display_data"
    },
    {
     "data": {
      "text/html": [
       "<pre>recommendations finished on 93000/101140 queries. users per second: 46046.6</pre>"
      ],
      "text/plain": [
       "recommendations finished on 93000/101140 queries. users per second: 46046.6"
      ]
     },
     "metadata": {},
     "output_type": "display_data"
    },
    {
     "data": {
      "text/html": [
       "<pre>recommendations finished on 94000/101140 queries. users per second: 46071.8</pre>"
      ],
      "text/plain": [
       "recommendations finished on 94000/101140 queries. users per second: 46071.8"
      ]
     },
     "metadata": {},
     "output_type": "display_data"
    },
    {
     "data": {
      "text/html": [
       "<pre>recommendations finished on 95000/101140 queries. users per second: 46048.2</pre>"
      ],
      "text/plain": [
       "recommendations finished on 95000/101140 queries. users per second: 46048.2"
      ]
     },
     "metadata": {},
     "output_type": "display_data"
    },
    {
     "data": {
      "text/html": [
       "<pre>recommendations finished on 96000/101140 queries. users per second: 46071.8</pre>"
      ],
      "text/plain": [
       "recommendations finished on 96000/101140 queries. users per second: 46071.8"
      ]
     },
     "metadata": {},
     "output_type": "display_data"
    },
    {
     "data": {
      "text/html": [
       "<pre>recommendations finished on 97000/101140 queries. users per second: 46116</pre>"
      ],
      "text/plain": [
       "recommendations finished on 97000/101140 queries. users per second: 46116"
      ]
     },
     "metadata": {},
     "output_type": "display_data"
    },
    {
     "data": {
      "text/html": [
       "<pre>recommendations finished on 98000/101140 queries. users per second: 46153.6</pre>"
      ],
      "text/plain": [
       "recommendations finished on 98000/101140 queries. users per second: 46153.6"
      ]
     },
     "metadata": {},
     "output_type": "display_data"
    },
    {
     "data": {
      "text/html": [
       "<pre>recommendations finished on 99000/101140 queries. users per second: 46155.6</pre>"
      ],
      "text/plain": [
       "recommendations finished on 99000/101140 queries. users per second: 46155.6"
      ]
     },
     "metadata": {},
     "output_type": "display_data"
    },
    {
     "data": {
      "text/html": [
       "<pre>recommendations finished on 100000/101140 queries. users per second: 46083.3</pre>"
      ],
      "text/plain": [
       "recommendations finished on 100000/101140 queries. users per second: 46083.3"
      ]
     },
     "metadata": {},
     "output_type": "display_data"
    },
    {
     "data": {
      "text/html": [
       "<pre>recommendations finished on 101000/101140 queries. users per second: 45918.5</pre>"
      ],
      "text/plain": [
       "recommendations finished on 101000/101140 queries. users per second: 45918.5"
      ]
     },
     "metadata": {},
     "output_type": "display_data"
    },
    {
     "name": "stdout",
     "output_type": "stream",
     "text": [
      "+-------+--------+-------+------+\n",
      "| LYBID | ITEMID | score | rank |\n",
      "+-------+--------+-------+------+\n",
      "| 10004 | 33819  |  0.0  |  1   |\n",
      "| 10004 | 42733  |  0.0  |  2   |\n",
      "| 10004 | 43931  |  0.0  |  3   |\n",
      "| 10004 | 37910  |  0.0  |  4   |\n",
      "| 10004 | 37912  |  0.0  |  5   |\n",
      "| 10009 | 33819  |  0.0  |  1   |\n",
      "| 10009 | 42733  |  0.0  |  2   |\n",
      "| 10009 | 43931  |  0.0  |  3   |\n",
      "| 10009 | 37910  |  0.0  |  4   |\n",
      "| 10009 | 37912  |  0.0  |  5   |\n",
      "| 10012 | 33819  |  0.0  |  1   |\n",
      "| 10012 | 42733  |  0.0  |  2   |\n",
      "| 10012 | 43931  |  0.0  |  3   |\n",
      "| 10012 | 37910  |  0.0  |  4   |\n",
      "| 10012 | 37912  |  0.0  |  5   |\n",
      "| 10022 | 33819  |  0.0  |  1   |\n",
      "| 10022 | 42733  |  0.0  |  2   |\n",
      "| 10022 | 43931  |  0.0  |  3   |\n",
      "| 10022 | 37910  |  0.0  |  4   |\n",
      "| 10022 | 37912  |  0.0  |  5   |\n",
      "| 10023 | 43901  |  0.0  |  1   |\n",
      "| 10023 | 33819  |  0.0  |  2   |\n",
      "| 10023 | 42733  |  0.0  |  3   |\n",
      "| 10023 | 37910  |  0.0  |  4   |\n",
      "| 10023 | 37912  |  0.0  |  5   |\n",
      "| 10029 | 33819  |  0.0  |  1   |\n",
      "| 10029 | 42733  |  0.0  |  2   |\n",
      "| 10029 | 43931  |  0.0  |  3   |\n",
      "| 10029 | 37910  |  0.0  |  4   |\n",
      "| 10029 | 37912  |  0.0  |  5   |\n",
      "+-------+--------+-------+------+\n",
      "[505700 rows x 4 columns]\n",
      "\n"
     ]
    }
   ],
   "source": [
    "# these variables will change accordingly\n",
    "name = 'pearson'\n",
    "target = 'purchase_dummy'\n",
    "pear_dummy = model(train_data_dummy, name, user_id, item_id, target, users_to_recommend, n_rec, n_display)"
   ]
  },
  {
   "cell_type": "markdown",
   "metadata": {},
   "source": [
    "#### Using normalized purchase count"
   ]
  },
  {
   "cell_type": "code",
   "execution_count": 29,
   "metadata": {},
   "outputs": [
    {
     "data": {
      "text/html": [
       "<pre>Preparing data set.</pre>"
      ],
      "text/plain": [
       "Preparing data set."
      ]
     },
     "metadata": {},
     "output_type": "display_data"
    },
    {
     "data": {
      "text/html": [
       "<pre>    Data has 277080 observations with 93860 users and 911 items.</pre>"
      ],
      "text/plain": [
       "    Data has 277080 observations with 93860 users and 911 items."
      ]
     },
     "metadata": {},
     "output_type": "display_data"
    },
    {
     "data": {
      "text/html": [
       "<pre>    Data prepared in: 0.243758s</pre>"
      ],
      "text/plain": [
       "    Data prepared in: 0.243758s"
      ]
     },
     "metadata": {},
     "output_type": "display_data"
    },
    {
     "data": {
      "text/html": [
       "<pre>Training model from provided data.</pre>"
      ],
      "text/plain": [
       "Training model from provided data."
      ]
     },
     "metadata": {},
     "output_type": "display_data"
    },
    {
     "data": {
      "text/html": [
       "<pre>Gathering per-item and per-user statistics.</pre>"
      ],
      "text/plain": [
       "Gathering per-item and per-user statistics."
      ]
     },
     "metadata": {},
     "output_type": "display_data"
    },
    {
     "data": {
      "text/html": [
       "<pre>+--------------------------------+------------+</pre>"
      ],
      "text/plain": [
       "+--------------------------------+------------+"
      ]
     },
     "metadata": {},
     "output_type": "display_data"
    },
    {
     "data": {
      "text/html": [
       "<pre>| Elapsed Time (Item Statistics) | % Complete |</pre>"
      ],
      "text/plain": [
       "| Elapsed Time (Item Statistics) | % Complete |"
      ]
     },
     "metadata": {},
     "output_type": "display_data"
    },
    {
     "data": {
      "text/html": [
       "<pre>+--------------------------------+------------+</pre>"
      ],
      "text/plain": [
       "+--------------------------------+------------+"
      ]
     },
     "metadata": {},
     "output_type": "display_data"
    },
    {
     "data": {
      "text/html": [
       "<pre>| 1.156ms                        | 1          |</pre>"
      ],
      "text/plain": [
       "| 1.156ms                        | 1          |"
      ]
     },
     "metadata": {},
     "output_type": "display_data"
    },
    {
     "data": {
      "text/html": [
       "<pre>| 27.351ms                       | 100        |</pre>"
      ],
      "text/plain": [
       "| 27.351ms                       | 100        |"
      ]
     },
     "metadata": {},
     "output_type": "display_data"
    },
    {
     "data": {
      "text/html": [
       "<pre>+--------------------------------+------------+</pre>"
      ],
      "text/plain": [
       "+--------------------------------+------------+"
      ]
     },
     "metadata": {},
     "output_type": "display_data"
    },
    {
     "data": {
      "text/html": [
       "<pre>Setting up lookup tables.</pre>"
      ],
      "text/plain": [
       "Setting up lookup tables."
      ]
     },
     "metadata": {},
     "output_type": "display_data"
    },
    {
     "data": {
      "text/html": [
       "<pre>Processing data in one pass using dense lookup tables.</pre>"
      ],
      "text/plain": [
       "Processing data in one pass using dense lookup tables."
      ]
     },
     "metadata": {},
     "output_type": "display_data"
    },
    {
     "data": {
      "text/html": [
       "<pre>+-------------------------------------+------------------+-----------------+</pre>"
      ],
      "text/plain": [
       "+-------------------------------------+------------------+-----------------+"
      ]
     },
     "metadata": {},
     "output_type": "display_data"
    },
    {
     "data": {
      "text/html": [
       "<pre>| Elapsed Time (Constructing Lookups) | Total % Complete | Items Processed |</pre>"
      ],
      "text/plain": [
       "| Elapsed Time (Constructing Lookups) | Total % Complete | Items Processed |"
      ]
     },
     "metadata": {},
     "output_type": "display_data"
    },
    {
     "data": {
      "text/html": [
       "<pre>+-------------------------------------+------------------+-----------------+</pre>"
      ],
      "text/plain": [
       "+-------------------------------------+------------------+-----------------+"
      ]
     },
     "metadata": {},
     "output_type": "display_data"
    },
    {
     "data": {
      "text/html": [
       "<pre>| 31.55ms                             | 0                | 0               |</pre>"
      ],
      "text/plain": [
       "| 31.55ms                             | 0                | 0               |"
      ]
     },
     "metadata": {},
     "output_type": "display_data"
    },
    {
     "data": {
      "text/html": [
       "<pre>| 117.511ms                           | 100              | 911             |</pre>"
      ],
      "text/plain": [
       "| 117.511ms                           | 100              | 911             |"
      ]
     },
     "metadata": {},
     "output_type": "display_data"
    },
    {
     "data": {
      "text/html": [
       "<pre>+-------------------------------------+------------------+-----------------+</pre>"
      ],
      "text/plain": [
       "+-------------------------------------+------------------+-----------------+"
      ]
     },
     "metadata": {},
     "output_type": "display_data"
    },
    {
     "data": {
      "text/html": [
       "<pre>Finalizing lookup tables.</pre>"
      ],
      "text/plain": [
       "Finalizing lookup tables."
      ]
     },
     "metadata": {},
     "output_type": "display_data"
    },
    {
     "data": {
      "text/html": [
       "<pre>Generating candidate set for working with new users.</pre>"
      ],
      "text/plain": [
       "Generating candidate set for working with new users."
      ]
     },
     "metadata": {},
     "output_type": "display_data"
    },
    {
     "data": {
      "text/html": [
       "<pre>Finished training in 0.165179s</pre>"
      ],
      "text/plain": [
       "Finished training in 0.165179s"
      ]
     },
     "metadata": {},
     "output_type": "display_data"
    },
    {
     "data": {
      "text/html": [
       "<pre>recommendations finished on 1000/101140 queries. users per second: 30259</pre>"
      ],
      "text/plain": [
       "recommendations finished on 1000/101140 queries. users per second: 30259"
      ]
     },
     "metadata": {},
     "output_type": "display_data"
    },
    {
     "data": {
      "text/html": [
       "<pre>recommendations finished on 2000/101140 queries. users per second: 39961.6</pre>"
      ],
      "text/plain": [
       "recommendations finished on 2000/101140 queries. users per second: 39961.6"
      ]
     },
     "metadata": {},
     "output_type": "display_data"
    },
    {
     "data": {
      "text/html": [
       "<pre>recommendations finished on 3000/101140 queries. users per second: 45669.1</pre>"
      ],
      "text/plain": [
       "recommendations finished on 3000/101140 queries. users per second: 45669.1"
      ]
     },
     "metadata": {},
     "output_type": "display_data"
    },
    {
     "data": {
      "text/html": [
       "<pre>recommendations finished on 4000/101140 queries. users per second: 48760.9</pre>"
      ],
      "text/plain": [
       "recommendations finished on 4000/101140 queries. users per second: 48760.9"
      ]
     },
     "metadata": {},
     "output_type": "display_data"
    },
    {
     "data": {
      "text/html": [
       "<pre>recommendations finished on 5000/101140 queries. users per second: 49945.1</pre>"
      ],
      "text/plain": [
       "recommendations finished on 5000/101140 queries. users per second: 49945.1"
      ]
     },
     "metadata": {},
     "output_type": "display_data"
    },
    {
     "data": {
      "text/html": [
       "<pre>recommendations finished on 6000/101140 queries. users per second: 51089.9</pre>"
      ],
      "text/plain": [
       "recommendations finished on 6000/101140 queries. users per second: 51089.9"
      ]
     },
     "metadata": {},
     "output_type": "display_data"
    },
    {
     "data": {
      "text/html": [
       "<pre>recommendations finished on 7000/101140 queries. users per second: 51628.5</pre>"
      ],
      "text/plain": [
       "recommendations finished on 7000/101140 queries. users per second: 51628.5"
      ]
     },
     "metadata": {},
     "output_type": "display_data"
    },
    {
     "data": {
      "text/html": [
       "<pre>recommendations finished on 8000/101140 queries. users per second: 53016.6</pre>"
      ],
      "text/plain": [
       "recommendations finished on 8000/101140 queries. users per second: 53016.6"
      ]
     },
     "metadata": {},
     "output_type": "display_data"
    },
    {
     "data": {
      "text/html": [
       "<pre>recommendations finished on 9000/101140 queries. users per second: 54631.9</pre>"
      ],
      "text/plain": [
       "recommendations finished on 9000/101140 queries. users per second: 54631.9"
      ]
     },
     "metadata": {},
     "output_type": "display_data"
    },
    {
     "data": {
      "text/html": [
       "<pre>recommendations finished on 10000/101140 queries. users per second: 55317.7</pre>"
      ],
      "text/plain": [
       "recommendations finished on 10000/101140 queries. users per second: 55317.7"
      ]
     },
     "metadata": {},
     "output_type": "display_data"
    },
    {
     "data": {
      "text/html": [
       "<pre>recommendations finished on 11000/101140 queries. users per second: 55455.3</pre>"
      ],
      "text/plain": [
       "recommendations finished on 11000/101140 queries. users per second: 55455.3"
      ]
     },
     "metadata": {},
     "output_type": "display_data"
    },
    {
     "data": {
      "text/html": [
       "<pre>recommendations finished on 12000/101140 queries. users per second: 55978.2</pre>"
      ],
      "text/plain": [
       "recommendations finished on 12000/101140 queries. users per second: 55978.2"
      ]
     },
     "metadata": {},
     "output_type": "display_data"
    },
    {
     "data": {
      "text/html": [
       "<pre>recommendations finished on 13000/101140 queries. users per second: 56722.2</pre>"
      ],
      "text/plain": [
       "recommendations finished on 13000/101140 queries. users per second: 56722.2"
      ]
     },
     "metadata": {},
     "output_type": "display_data"
    },
    {
     "data": {
      "text/html": [
       "<pre>recommendations finished on 14000/101140 queries. users per second: 56738.5</pre>"
      ],
      "text/plain": [
       "recommendations finished on 14000/101140 queries. users per second: 56738.5"
      ]
     },
     "metadata": {},
     "output_type": "display_data"
    },
    {
     "data": {
      "text/html": [
       "<pre>recommendations finished on 15000/101140 queries. users per second: 57119.8</pre>"
      ],
      "text/plain": [
       "recommendations finished on 15000/101140 queries. users per second: 57119.8"
      ]
     },
     "metadata": {},
     "output_type": "display_data"
    },
    {
     "data": {
      "text/html": [
       "<pre>recommendations finished on 16000/101140 queries. users per second: 57064.4</pre>"
      ],
      "text/plain": [
       "recommendations finished on 16000/101140 queries. users per second: 57064.4"
      ]
     },
     "metadata": {},
     "output_type": "display_data"
    },
    {
     "data": {
      "text/html": [
       "<pre>recommendations finished on 17000/101140 queries. users per second: 57380.5</pre>"
      ],
      "text/plain": [
       "recommendations finished on 17000/101140 queries. users per second: 57380.5"
      ]
     },
     "metadata": {},
     "output_type": "display_data"
    },
    {
     "data": {
      "text/html": [
       "<pre>recommendations finished on 18000/101140 queries. users per second: 57161.9</pre>"
      ],
      "text/plain": [
       "recommendations finished on 18000/101140 queries. users per second: 57161.9"
      ]
     },
     "metadata": {},
     "output_type": "display_data"
    },
    {
     "data": {
      "text/html": [
       "<pre>recommendations finished on 19000/101140 queries. users per second: 57379.8</pre>"
      ],
      "text/plain": [
       "recommendations finished on 19000/101140 queries. users per second: 57379.8"
      ]
     },
     "metadata": {},
     "output_type": "display_data"
    },
    {
     "data": {
      "text/html": [
       "<pre>recommendations finished on 20000/101140 queries. users per second: 57255.4</pre>"
      ],
      "text/plain": [
       "recommendations finished on 20000/101140 queries. users per second: 57255.4"
      ]
     },
     "metadata": {},
     "output_type": "display_data"
    },
    {
     "data": {
      "text/html": [
       "<pre>recommendations finished on 21000/101140 queries. users per second: 57842.6</pre>"
      ],
      "text/plain": [
       "recommendations finished on 21000/101140 queries. users per second: 57842.6"
      ]
     },
     "metadata": {},
     "output_type": "display_data"
    },
    {
     "data": {
      "text/html": [
       "<pre>recommendations finished on 22000/101140 queries. users per second: 57997.9</pre>"
      ],
      "text/plain": [
       "recommendations finished on 22000/101140 queries. users per second: 57997.9"
      ]
     },
     "metadata": {},
     "output_type": "display_data"
    },
    {
     "data": {
      "text/html": [
       "<pre>recommendations finished on 23000/101140 queries. users per second: 58105.8</pre>"
      ],
      "text/plain": [
       "recommendations finished on 23000/101140 queries. users per second: 58105.8"
      ]
     },
     "metadata": {},
     "output_type": "display_data"
    },
    {
     "data": {
      "text/html": [
       "<pre>recommendations finished on 24000/101140 queries. users per second: 57960.7</pre>"
      ],
      "text/plain": [
       "recommendations finished on 24000/101140 queries. users per second: 57960.7"
      ]
     },
     "metadata": {},
     "output_type": "display_data"
    },
    {
     "data": {
      "text/html": [
       "<pre>recommendations finished on 25000/101140 queries. users per second: 57672</pre>"
      ],
      "text/plain": [
       "recommendations finished on 25000/101140 queries. users per second: 57672"
      ]
     },
     "metadata": {},
     "output_type": "display_data"
    },
    {
     "data": {
      "text/html": [
       "<pre>recommendations finished on 26000/101140 queries. users per second: 57249.8</pre>"
      ],
      "text/plain": [
       "recommendations finished on 26000/101140 queries. users per second: 57249.8"
      ]
     },
     "metadata": {},
     "output_type": "display_data"
    },
    {
     "data": {
      "text/html": [
       "<pre>recommendations finished on 27000/101140 queries. users per second: 57291</pre>"
      ],
      "text/plain": [
       "recommendations finished on 27000/101140 queries. users per second: 57291"
      ]
     },
     "metadata": {},
     "output_type": "display_data"
    },
    {
     "data": {
      "text/html": [
       "<pre>recommendations finished on 28000/101140 queries. users per second: 57301.5</pre>"
      ],
      "text/plain": [
       "recommendations finished on 28000/101140 queries. users per second: 57301.5"
      ]
     },
     "metadata": {},
     "output_type": "display_data"
    },
    {
     "data": {
      "text/html": [
       "<pre>recommendations finished on 29000/101140 queries. users per second: 56932.1</pre>"
      ],
      "text/plain": [
       "recommendations finished on 29000/101140 queries. users per second: 56932.1"
      ]
     },
     "metadata": {},
     "output_type": "display_data"
    },
    {
     "data": {
      "text/html": [
       "<pre>recommendations finished on 30000/101140 queries. users per second: 57088.9</pre>"
      ],
      "text/plain": [
       "recommendations finished on 30000/101140 queries. users per second: 57088.9"
      ]
     },
     "metadata": {},
     "output_type": "display_data"
    },
    {
     "data": {
      "text/html": [
       "<pre>recommendations finished on 31000/101140 queries. users per second: 57480.5</pre>"
      ],
      "text/plain": [
       "recommendations finished on 31000/101140 queries. users per second: 57480.5"
      ]
     },
     "metadata": {},
     "output_type": "display_data"
    },
    {
     "data": {
      "text/html": [
       "<pre>recommendations finished on 32000/101140 queries. users per second: 57700.3</pre>"
      ],
      "text/plain": [
       "recommendations finished on 32000/101140 queries. users per second: 57700.3"
      ]
     },
     "metadata": {},
     "output_type": "display_data"
    },
    {
     "data": {
      "text/html": [
       "<pre>recommendations finished on 33000/101140 queries. users per second: 57325</pre>"
      ],
      "text/plain": [
       "recommendations finished on 33000/101140 queries. users per second: 57325"
      ]
     },
     "metadata": {},
     "output_type": "display_data"
    },
    {
     "data": {
      "text/html": [
       "<pre>recommendations finished on 34000/101140 queries. users per second: 57573</pre>"
      ],
      "text/plain": [
       "recommendations finished on 34000/101140 queries. users per second: 57573"
      ]
     },
     "metadata": {},
     "output_type": "display_data"
    },
    {
     "data": {
      "text/html": [
       "<pre>recommendations finished on 35000/101140 queries. users per second: 57570.3</pre>"
      ],
      "text/plain": [
       "recommendations finished on 35000/101140 queries. users per second: 57570.3"
      ]
     },
     "metadata": {},
     "output_type": "display_data"
    },
    {
     "data": {
      "text/html": [
       "<pre>recommendations finished on 36000/101140 queries. users per second: 57368.8</pre>"
      ],
      "text/plain": [
       "recommendations finished on 36000/101140 queries. users per second: 57368.8"
      ]
     },
     "metadata": {},
     "output_type": "display_data"
    },
    {
     "data": {
      "text/html": [
       "<pre>recommendations finished on 37000/101140 queries. users per second: 57224.3</pre>"
      ],
      "text/plain": [
       "recommendations finished on 37000/101140 queries. users per second: 57224.3"
      ]
     },
     "metadata": {},
     "output_type": "display_data"
    },
    {
     "data": {
      "text/html": [
       "<pre>recommendations finished on 38000/101140 queries. users per second: 57354.5</pre>"
      ],
      "text/plain": [
       "recommendations finished on 38000/101140 queries. users per second: 57354.5"
      ]
     },
     "metadata": {},
     "output_type": "display_data"
    },
    {
     "data": {
      "text/html": [
       "<pre>recommendations finished on 39000/101140 queries. users per second: 57239</pre>"
      ],
      "text/plain": [
       "recommendations finished on 39000/101140 queries. users per second: 57239"
      ]
     },
     "metadata": {},
     "output_type": "display_data"
    },
    {
     "data": {
      "text/html": [
       "<pre>recommendations finished on 40000/101140 queries. users per second: 57198.8</pre>"
      ],
      "text/plain": [
       "recommendations finished on 40000/101140 queries. users per second: 57198.8"
      ]
     },
     "metadata": {},
     "output_type": "display_data"
    },
    {
     "data": {
      "text/html": [
       "<pre>recommendations finished on 41000/101140 queries. users per second: 57195.4</pre>"
      ],
      "text/plain": [
       "recommendations finished on 41000/101140 queries. users per second: 57195.4"
      ]
     },
     "metadata": {},
     "output_type": "display_data"
    },
    {
     "data": {
      "text/html": [
       "<pre>recommendations finished on 42000/101140 queries. users per second: 57249.1</pre>"
      ],
      "text/plain": [
       "recommendations finished on 42000/101140 queries. users per second: 57249.1"
      ]
     },
     "metadata": {},
     "output_type": "display_data"
    },
    {
     "data": {
      "text/html": [
       "<pre>recommendations finished on 43000/101140 queries. users per second: 57155.3</pre>"
      ],
      "text/plain": [
       "recommendations finished on 43000/101140 queries. users per second: 57155.3"
      ]
     },
     "metadata": {},
     "output_type": "display_data"
    },
    {
     "data": {
      "text/html": [
       "<pre>recommendations finished on 44000/101140 queries. users per second: 57032.4</pre>"
      ],
      "text/plain": [
       "recommendations finished on 44000/101140 queries. users per second: 57032.4"
      ]
     },
     "metadata": {},
     "output_type": "display_data"
    },
    {
     "data": {
      "text/html": [
       "<pre>recommendations finished on 45000/101140 queries. users per second: 57056.6</pre>"
      ],
      "text/plain": [
       "recommendations finished on 45000/101140 queries. users per second: 57056.6"
      ]
     },
     "metadata": {},
     "output_type": "display_data"
    },
    {
     "data": {
      "text/html": [
       "<pre>recommendations finished on 46000/101140 queries. users per second: 57154</pre>"
      ],
      "text/plain": [
       "recommendations finished on 46000/101140 queries. users per second: 57154"
      ]
     },
     "metadata": {},
     "output_type": "display_data"
    },
    {
     "data": {
      "text/html": [
       "<pre>recommendations finished on 47000/101140 queries. users per second: 56612.3</pre>"
      ],
      "text/plain": [
       "recommendations finished on 47000/101140 queries. users per second: 56612.3"
      ]
     },
     "metadata": {},
     "output_type": "display_data"
    },
    {
     "data": {
      "text/html": [
       "<pre>recommendations finished on 48000/101140 queries. users per second: 56526.9</pre>"
      ],
      "text/plain": [
       "recommendations finished on 48000/101140 queries. users per second: 56526.9"
      ]
     },
     "metadata": {},
     "output_type": "display_data"
    },
    {
     "data": {
      "text/html": [
       "<pre>recommendations finished on 49000/101140 queries. users per second: 56512.9</pre>"
      ],
      "text/plain": [
       "recommendations finished on 49000/101140 queries. users per second: 56512.9"
      ]
     },
     "metadata": {},
     "output_type": "display_data"
    },
    {
     "data": {
      "text/html": [
       "<pre>recommendations finished on 50000/101140 queries. users per second: 56588.2</pre>"
      ],
      "text/plain": [
       "recommendations finished on 50000/101140 queries. users per second: 56588.2"
      ]
     },
     "metadata": {},
     "output_type": "display_data"
    },
    {
     "data": {
      "text/html": [
       "<pre>recommendations finished on 51000/101140 queries. users per second: 56785.7</pre>"
      ],
      "text/plain": [
       "recommendations finished on 51000/101140 queries. users per second: 56785.7"
      ]
     },
     "metadata": {},
     "output_type": "display_data"
    },
    {
     "data": {
      "text/html": [
       "<pre>recommendations finished on 52000/101140 queries. users per second: 57056.5</pre>"
      ],
      "text/plain": [
       "recommendations finished on 52000/101140 queries. users per second: 57056.5"
      ]
     },
     "metadata": {},
     "output_type": "display_data"
    },
    {
     "data": {
      "text/html": [
       "<pre>recommendations finished on 53000/101140 queries. users per second: 57289.6</pre>"
      ],
      "text/plain": [
       "recommendations finished on 53000/101140 queries. users per second: 57289.6"
      ]
     },
     "metadata": {},
     "output_type": "display_data"
    },
    {
     "data": {
      "text/html": [
       "<pre>recommendations finished on 54000/101140 queries. users per second: 57587</pre>"
      ],
      "text/plain": [
       "recommendations finished on 54000/101140 queries. users per second: 57587"
      ]
     },
     "metadata": {},
     "output_type": "display_data"
    },
    {
     "data": {
      "text/html": [
       "<pre>recommendations finished on 55000/101140 queries. users per second: 57860</pre>"
      ],
      "text/plain": [
       "recommendations finished on 55000/101140 queries. users per second: 57860"
      ]
     },
     "metadata": {},
     "output_type": "display_data"
    },
    {
     "data": {
      "text/html": [
       "<pre>recommendations finished on 56000/101140 queries. users per second: 57947</pre>"
      ],
      "text/plain": [
       "recommendations finished on 56000/101140 queries. users per second: 57947"
      ]
     },
     "metadata": {},
     "output_type": "display_data"
    },
    {
     "data": {
      "text/html": [
       "<pre>recommendations finished on 57000/101140 queries. users per second: 58057.8</pre>"
      ],
      "text/plain": [
       "recommendations finished on 57000/101140 queries. users per second: 58057.8"
      ]
     },
     "metadata": {},
     "output_type": "display_data"
    },
    {
     "data": {
      "text/html": [
       "<pre>recommendations finished on 58000/101140 queries. users per second: 58054</pre>"
      ],
      "text/plain": [
       "recommendations finished on 58000/101140 queries. users per second: 58054"
      ]
     },
     "metadata": {},
     "output_type": "display_data"
    },
    {
     "data": {
      "text/html": [
       "<pre>recommendations finished on 59000/101140 queries. users per second: 57806.9</pre>"
      ],
      "text/plain": [
       "recommendations finished on 59000/101140 queries. users per second: 57806.9"
      ]
     },
     "metadata": {},
     "output_type": "display_data"
    },
    {
     "data": {
      "text/html": [
       "<pre>recommendations finished on 60000/101140 queries. users per second: 57581.9</pre>"
      ],
      "text/plain": [
       "recommendations finished on 60000/101140 queries. users per second: 57581.9"
      ]
     },
     "metadata": {},
     "output_type": "display_data"
    },
    {
     "data": {
      "text/html": [
       "<pre>recommendations finished on 61000/101140 queries. users per second: 57304.3</pre>"
      ],
      "text/plain": [
       "recommendations finished on 61000/101140 queries. users per second: 57304.3"
      ]
     },
     "metadata": {},
     "output_type": "display_data"
    },
    {
     "data": {
      "text/html": [
       "<pre>recommendations finished on 62000/101140 queries. users per second: 57179.7</pre>"
      ],
      "text/plain": [
       "recommendations finished on 62000/101140 queries. users per second: 57179.7"
      ]
     },
     "metadata": {},
     "output_type": "display_data"
    },
    {
     "data": {
      "text/html": [
       "<pre>recommendations finished on 63000/101140 queries. users per second: 57012.7</pre>"
      ],
      "text/plain": [
       "recommendations finished on 63000/101140 queries. users per second: 57012.7"
      ]
     },
     "metadata": {},
     "output_type": "display_data"
    },
    {
     "data": {
      "text/html": [
       "<pre>recommendations finished on 64000/101140 queries. users per second: 57123.7</pre>"
      ],
      "text/plain": [
       "recommendations finished on 64000/101140 queries. users per second: 57123.7"
      ]
     },
     "metadata": {},
     "output_type": "display_data"
    },
    {
     "data": {
      "text/html": [
       "<pre>recommendations finished on 65000/101140 queries. users per second: 57228.6</pre>"
      ],
      "text/plain": [
       "recommendations finished on 65000/101140 queries. users per second: 57228.6"
      ]
     },
     "metadata": {},
     "output_type": "display_data"
    },
    {
     "data": {
      "text/html": [
       "<pre>recommendations finished on 66000/101140 queries. users per second: 57169.9</pre>"
      ],
      "text/plain": [
       "recommendations finished on 66000/101140 queries. users per second: 57169.9"
      ]
     },
     "metadata": {},
     "output_type": "display_data"
    },
    {
     "data": {
      "text/html": [
       "<pre>recommendations finished on 67000/101140 queries. users per second: 57110.1</pre>"
      ],
      "text/plain": [
       "recommendations finished on 67000/101140 queries. users per second: 57110.1"
      ]
     },
     "metadata": {},
     "output_type": "display_data"
    },
    {
     "data": {
      "text/html": [
       "<pre>recommendations finished on 68000/101140 queries. users per second: 56804.6</pre>"
      ],
      "text/plain": [
       "recommendations finished on 68000/101140 queries. users per second: 56804.6"
      ]
     },
     "metadata": {},
     "output_type": "display_data"
    },
    {
     "data": {
      "text/html": [
       "<pre>recommendations finished on 69000/101140 queries. users per second: 56595.1</pre>"
      ],
      "text/plain": [
       "recommendations finished on 69000/101140 queries. users per second: 56595.1"
      ]
     },
     "metadata": {},
     "output_type": "display_data"
    },
    {
     "data": {
      "text/html": [
       "<pre>recommendations finished on 70000/101140 queries. users per second: 56715.2</pre>"
      ],
      "text/plain": [
       "recommendations finished on 70000/101140 queries. users per second: 56715.2"
      ]
     },
     "metadata": {},
     "output_type": "display_data"
    },
    {
     "data": {
      "text/html": [
       "<pre>recommendations finished on 71000/101140 queries. users per second: 56726.8</pre>"
      ],
      "text/plain": [
       "recommendations finished on 71000/101140 queries. users per second: 56726.8"
      ]
     },
     "metadata": {},
     "output_type": "display_data"
    },
    {
     "data": {
      "text/html": [
       "<pre>recommendations finished on 72000/101140 queries. users per second: 56691</pre>"
      ],
      "text/plain": [
       "recommendations finished on 72000/101140 queries. users per second: 56691"
      ]
     },
     "metadata": {},
     "output_type": "display_data"
    },
    {
     "data": {
      "text/html": [
       "<pre>recommendations finished on 73000/101140 queries. users per second: 56821.5</pre>"
      ],
      "text/plain": [
       "recommendations finished on 73000/101140 queries. users per second: 56821.5"
      ]
     },
     "metadata": {},
     "output_type": "display_data"
    },
    {
     "data": {
      "text/html": [
       "<pre>recommendations finished on 74000/101140 queries. users per second: 56828.6</pre>"
      ],
      "text/plain": [
       "recommendations finished on 74000/101140 queries. users per second: 56828.6"
      ]
     },
     "metadata": {},
     "output_type": "display_data"
    },
    {
     "data": {
      "text/html": [
       "<pre>recommendations finished on 75000/101140 queries. users per second: 56799.5</pre>"
      ],
      "text/plain": [
       "recommendations finished on 75000/101140 queries. users per second: 56799.5"
      ]
     },
     "metadata": {},
     "output_type": "display_data"
    },
    {
     "data": {
      "text/html": [
       "<pre>recommendations finished on 76000/101140 queries. users per second: 56716.6</pre>"
      ],
      "text/plain": [
       "recommendations finished on 76000/101140 queries. users per second: 56716.6"
      ]
     },
     "metadata": {},
     "output_type": "display_data"
    },
    {
     "data": {
      "text/html": [
       "<pre>recommendations finished on 77000/101140 queries. users per second: 56636.1</pre>"
      ],
      "text/plain": [
       "recommendations finished on 77000/101140 queries. users per second: 56636.1"
      ]
     },
     "metadata": {},
     "output_type": "display_data"
    },
    {
     "data": {
      "text/html": [
       "<pre>recommendations finished on 78000/101140 queries. users per second: 56572.2</pre>"
      ],
      "text/plain": [
       "recommendations finished on 78000/101140 queries. users per second: 56572.2"
      ]
     },
     "metadata": {},
     "output_type": "display_data"
    },
    {
     "data": {
      "text/html": [
       "<pre>recommendations finished on 79000/101140 queries. users per second: 56543.6</pre>"
      ],
      "text/plain": [
       "recommendations finished on 79000/101140 queries. users per second: 56543.6"
      ]
     },
     "metadata": {},
     "output_type": "display_data"
    },
    {
     "data": {
      "text/html": [
       "<pre>recommendations finished on 80000/101140 queries. users per second: 56577.9</pre>"
      ],
      "text/plain": [
       "recommendations finished on 80000/101140 queries. users per second: 56577.9"
      ]
     },
     "metadata": {},
     "output_type": "display_data"
    },
    {
     "data": {
      "text/html": [
       "<pre>recommendations finished on 81000/101140 queries. users per second: 56701.6</pre>"
      ],
      "text/plain": [
       "recommendations finished on 81000/101140 queries. users per second: 56701.6"
      ]
     },
     "metadata": {},
     "output_type": "display_data"
    },
    {
     "data": {
      "text/html": [
       "<pre>recommendations finished on 82000/101140 queries. users per second: 56691.2</pre>"
      ],
      "text/plain": [
       "recommendations finished on 82000/101140 queries. users per second: 56691.2"
      ]
     },
     "metadata": {},
     "output_type": "display_data"
    },
    {
     "data": {
      "text/html": [
       "<pre>recommendations finished on 83000/101140 queries. users per second: 56718.3</pre>"
      ],
      "text/plain": [
       "recommendations finished on 83000/101140 queries. users per second: 56718.3"
      ]
     },
     "metadata": {},
     "output_type": "display_data"
    },
    {
     "data": {
      "text/html": [
       "<pre>recommendations finished on 84000/101140 queries. users per second: 56734.2</pre>"
      ],
      "text/plain": [
       "recommendations finished on 84000/101140 queries. users per second: 56734.2"
      ]
     },
     "metadata": {},
     "output_type": "display_data"
    },
    {
     "data": {
      "text/html": [
       "<pre>recommendations finished on 85000/101140 queries. users per second: 56811.9</pre>"
      ],
      "text/plain": [
       "recommendations finished on 85000/101140 queries. users per second: 56811.9"
      ]
     },
     "metadata": {},
     "output_type": "display_data"
    },
    {
     "data": {
      "text/html": [
       "<pre>recommendations finished on 86000/101140 queries. users per second: 56888.9</pre>"
      ],
      "text/plain": [
       "recommendations finished on 86000/101140 queries. users per second: 56888.9"
      ]
     },
     "metadata": {},
     "output_type": "display_data"
    },
    {
     "data": {
      "text/html": [
       "<pre>recommendations finished on 87000/101140 queries. users per second: 56879.4</pre>"
      ],
      "text/plain": [
       "recommendations finished on 87000/101140 queries. users per second: 56879.4"
      ]
     },
     "metadata": {},
     "output_type": "display_data"
    },
    {
     "data": {
      "text/html": [
       "<pre>recommendations finished on 88000/101140 queries. users per second: 56878</pre>"
      ],
      "text/plain": [
       "recommendations finished on 88000/101140 queries. users per second: 56878"
      ]
     },
     "metadata": {},
     "output_type": "display_data"
    },
    {
     "data": {
      "text/html": [
       "<pre>recommendations finished on 89000/101140 queries. users per second: 56878.2</pre>"
      ],
      "text/plain": [
       "recommendations finished on 89000/101140 queries. users per second: 56878.2"
      ]
     },
     "metadata": {},
     "output_type": "display_data"
    },
    {
     "data": {
      "text/html": [
       "<pre>recommendations finished on 90000/101140 queries. users per second: 56821.8</pre>"
      ],
      "text/plain": [
       "recommendations finished on 90000/101140 queries. users per second: 56821.8"
      ]
     },
     "metadata": {},
     "output_type": "display_data"
    },
    {
     "data": {
      "text/html": [
       "<pre>recommendations finished on 91000/101140 queries. users per second: 56832.6</pre>"
      ],
      "text/plain": [
       "recommendations finished on 91000/101140 queries. users per second: 56832.6"
      ]
     },
     "metadata": {},
     "output_type": "display_data"
    },
    {
     "data": {
      "text/html": [
       "<pre>recommendations finished on 92000/101140 queries. users per second: 56798.1</pre>"
      ],
      "text/plain": [
       "recommendations finished on 92000/101140 queries. users per second: 56798.1"
      ]
     },
     "metadata": {},
     "output_type": "display_data"
    },
    {
     "data": {
      "text/html": [
       "<pre>recommendations finished on 93000/101140 queries. users per second: 56783.4</pre>"
      ],
      "text/plain": [
       "recommendations finished on 93000/101140 queries. users per second: 56783.4"
      ]
     },
     "metadata": {},
     "output_type": "display_data"
    },
    {
     "data": {
      "text/html": [
       "<pre>recommendations finished on 94000/101140 queries. users per second: 56583.5</pre>"
      ],
      "text/plain": [
       "recommendations finished on 94000/101140 queries. users per second: 56583.5"
      ]
     },
     "metadata": {},
     "output_type": "display_data"
    },
    {
     "data": {
      "text/html": [
       "<pre>recommendations finished on 95000/101140 queries. users per second: 56449.6</pre>"
      ],
      "text/plain": [
       "recommendations finished on 95000/101140 queries. users per second: 56449.6"
      ]
     },
     "metadata": {},
     "output_type": "display_data"
    },
    {
     "data": {
      "text/html": [
       "<pre>recommendations finished on 96000/101140 queries. users per second: 56307.2</pre>"
      ],
      "text/plain": [
       "recommendations finished on 96000/101140 queries. users per second: 56307.2"
      ]
     },
     "metadata": {},
     "output_type": "display_data"
    },
    {
     "data": {
      "text/html": [
       "<pre>recommendations finished on 97000/101140 queries. users per second: 56192.4</pre>"
      ],
      "text/plain": [
       "recommendations finished on 97000/101140 queries. users per second: 56192.4"
      ]
     },
     "metadata": {},
     "output_type": "display_data"
    },
    {
     "data": {
      "text/html": [
       "<pre>recommendations finished on 98000/101140 queries. users per second: 56179.4</pre>"
      ],
      "text/plain": [
       "recommendations finished on 98000/101140 queries. users per second: 56179.4"
      ]
     },
     "metadata": {},
     "output_type": "display_data"
    },
    {
     "data": {
      "text/html": [
       "<pre>recommendations finished on 99000/101140 queries. users per second: 56132.6</pre>"
      ],
      "text/plain": [
       "recommendations finished on 99000/101140 queries. users per second: 56132.6"
      ]
     },
     "metadata": {},
     "output_type": "display_data"
    },
    {
     "data": {
      "text/html": [
       "<pre>recommendations finished on 100000/101140 queries. users per second: 56113.2</pre>"
      ],
      "text/plain": [
       "recommendations finished on 100000/101140 queries. users per second: 56113.2"
      ]
     },
     "metadata": {},
     "output_type": "display_data"
    },
    {
     "data": {
      "text/html": [
       "<pre>recommendations finished on 101000/101140 queries. users per second: 55599.6</pre>"
      ],
      "text/plain": [
       "recommendations finished on 101000/101140 queries. users per second: 55599.6"
      ]
     },
     "metadata": {},
     "output_type": "display_data"
    },
    {
     "name": "stdout",
     "output_type": "stream",
     "text": [
      "+-------+--------+--------------------+------+\n",
      "| LYBID | ITEMID |       score        | rank |\n",
      "+-------+--------+--------------------+------+\n",
      "| 10004 |  5035  |        1.0         |  1   |\n",
      "| 10004 | 43563  |        1.0         |  2   |\n",
      "| 10004 |  3557  | 0.8666666666666667 |  3   |\n",
      "| 10004 | 29031  | 0.5357142857142857 |  4   |\n",
      "| 10004 | 35859  |        0.5         |  5   |\n",
      "| 10009 |  5035  |        1.0         |  1   |\n",
      "| 10009 | 43563  |        1.0         |  2   |\n",
      "| 10009 |  3557  | 0.8666666666666667 |  3   |\n",
      "| 10009 | 29031  | 0.5357142857142857 |  4   |\n",
      "| 10009 | 35859  |        0.5         |  5   |\n",
      "| 10012 |  5035  |        1.0         |  1   |\n",
      "| 10012 | 43563  |        1.0         |  2   |\n",
      "| 10012 |  3557  | 0.8666666666666667 |  3   |\n",
      "| 10012 | 29031  | 0.5357142857142857 |  4   |\n",
      "| 10012 | 35859  |        0.5         |  5   |\n",
      "| 10022 |  5035  |        1.0         |  1   |\n",
      "| 10022 | 43563  |        1.0         |  2   |\n",
      "| 10022 |  3557  | 0.8666666666666667 |  3   |\n",
      "| 10022 | 29031  | 0.5357142857142857 |  4   |\n",
      "| 10022 | 35859  |        0.5         |  5   |\n",
      "| 10023 |  5035  |        1.0         |  1   |\n",
      "| 10023 | 43563  |        1.0         |  2   |\n",
      "| 10023 |  3557  | 0.8666666666666667 |  3   |\n",
      "| 10023 | 29031  | 0.535713004214423  |  4   |\n",
      "| 10023 | 35859  |        0.5         |  5   |\n",
      "| 10029 |  5035  |        1.0         |  1   |\n",
      "| 10029 | 43563  |        1.0         |  2   |\n",
      "| 10029 |  3557  | 0.8666666666666667 |  3   |\n",
      "| 10029 | 29031  | 0.5357142857142857 |  4   |\n",
      "| 10029 | 35859  |        0.5         |  5   |\n",
      "+-------+--------+--------------------+------+\n",
      "[505700 rows x 4 columns]\n",
      "\n"
     ]
    }
   ],
   "source": [
    "name = 'pearson'\n",
    "target = 'scaled_purchase_freq'\n",
    "pear_norm = model(train_data_norm, name, user_id, item_id, target, users_to_recommend, n_rec, n_display)"
   ]
  },
  {
   "cell_type": "markdown",
   "metadata": {},
   "source": [
    "#### Note\n",
    "* In collaborative filtering above, we used two approaches: cosine and pearson distance. We also got to apply them to three training datasets with normal counts, dummy, or normalized counts of items purchase.\n",
    "* We can see that the recommendations are different for each user. This suggests that personalization does exist. \n",
    "* But how good is this model compared to the baseline, and to each other? We need some means of evaluating a recommendation engine. Lets focus on that in the next section."
   ]
  },
  {
   "cell_type": "markdown",
   "metadata": {},
   "source": [
    "## 7. Model Evaluation\n",
    "For evaluating recommendation engines, we can use the concept of precision-recall.\n",
    "\n",
    "* RMSE (Root Mean Squared Errors)\n",
    "    * Measures the error of predicted values\n",
    "    * Lesser the RMSE value, better the recommendations\n",
    "* Recall\n",
    "    * What percentage of products that a user buys are actually recommended?\n",
    "    * If a customer buys 5 products and the recommendation decided to show 3 of them, then the recall is 0.6\n",
    "* Precision\n",
    "    * Out of all the recommended items, how many the user actually liked?\n",
    "    * If 5 products were recommended to the customer out of which he buys 4 of them, then precision is 0.8\n",
    "    \n",
    "* Why are both recall and precision important?\n",
    "    * Consider a case where we recommend all products, so our customers will surely cover the items that they liked and bought. In this case, we have 100% recall! Does this mean our model is good?\n",
    "    * We have to consider precision. If we recommend 300 items but user likes and buys only 3 of them, then precision is 0.1%! This very low precision indicates that the model is not great, despite their excellent recall.\n",
    "    * So our aim has to be optimizing both recall and precision (to be close to 1 as possible).\n",
    "\n",
    "Lets compare all the models we have built based on precision-recall characteristics:"
   ]
  },
  {
   "cell_type": "code",
   "execution_count": 30,
   "metadata": {},
   "outputs": [],
   "source": [
    "# create initial callable variables\n",
    "\n",
    "models_w_counts = [popularity_model, cos, pear]\n",
    "models_w_dummy = [pop_dummy, cos_dummy, pear_dummy]\n",
    "models_w_norm = [pop_norm, cos_norm, pear_norm]\n",
    "\n",
    "names_w_counts = ['Popularity Model on Purchase Counts', 'Cosine Similarity on Purchase Counts', 'Pearson Similarity on Purchase Counts']\n",
    "names_w_dummy = ['Popularity Model on Purchase Dummy', 'Cosine Similarity on Purchase Dummy', 'Pearson Similarity on Purchase Dummy']\n",
    "names_w_norm = ['Popularity Model on Scaled Purchase Counts', 'Cosine Similarity on Scaled Purchase Counts', 'Pearson Similarity on Scaled Purchase Counts']"
   ]
  },
  {
   "cell_type": "markdown",
   "metadata": {},
   "source": [
    "#### Models on purchase counts"
   ]
  },
  {
   "cell_type": "code",
   "execution_count": 31,
   "metadata": {
    "scrolled": true
   },
   "outputs": [
    {
     "name": "stdout",
     "output_type": "stream",
     "text": [
      "PROGRESS: Evaluate model Popularity Model on Purchase Counts\n"
     ]
    },
    {
     "data": {
      "text/html": [
       "<pre>recommendations finished on 1000/46770 queries. users per second: 31747</pre>"
      ],
      "text/plain": [
       "recommendations finished on 1000/46770 queries. users per second: 31747"
      ]
     },
     "metadata": {},
     "output_type": "display_data"
    },
    {
     "data": {
      "text/html": [
       "<pre>recommendations finished on 2000/46770 queries. users per second: 32297.7</pre>"
      ],
      "text/plain": [
       "recommendations finished on 2000/46770 queries. users per second: 32297.7"
      ]
     },
     "metadata": {},
     "output_type": "display_data"
    },
    {
     "data": {
      "text/html": [
       "<pre>recommendations finished on 3000/46770 queries. users per second: 29447.9</pre>"
      ],
      "text/plain": [
       "recommendations finished on 3000/46770 queries. users per second: 29447.9"
      ]
     },
     "metadata": {},
     "output_type": "display_data"
    },
    {
     "data": {
      "text/html": [
       "<pre>recommendations finished on 4000/46770 queries. users per second: 29140.1</pre>"
      ],
      "text/plain": [
       "recommendations finished on 4000/46770 queries. users per second: 29140.1"
      ]
     },
     "metadata": {},
     "output_type": "display_data"
    },
    {
     "data": {
      "text/html": [
       "<pre>recommendations finished on 5000/46770 queries. users per second: 28415.7</pre>"
      ],
      "text/plain": [
       "recommendations finished on 5000/46770 queries. users per second: 28415.7"
      ]
     },
     "metadata": {},
     "output_type": "display_data"
    },
    {
     "data": {
      "text/html": [
       "<pre>recommendations finished on 6000/46770 queries. users per second: 28660.5</pre>"
      ],
      "text/plain": [
       "recommendations finished on 6000/46770 queries. users per second: 28660.5"
      ]
     },
     "metadata": {},
     "output_type": "display_data"
    },
    {
     "data": {
      "text/html": [
       "<pre>recommendations finished on 7000/46770 queries. users per second: 28717</pre>"
      ],
      "text/plain": [
       "recommendations finished on 7000/46770 queries. users per second: 28717"
      ]
     },
     "metadata": {},
     "output_type": "display_data"
    },
    {
     "data": {
      "text/html": [
       "<pre>recommendations finished on 8000/46770 queries. users per second: 29200.6</pre>"
      ],
      "text/plain": [
       "recommendations finished on 8000/46770 queries. users per second: 29200.6"
      ]
     },
     "metadata": {},
     "output_type": "display_data"
    },
    {
     "data": {
      "text/html": [
       "<pre>recommendations finished on 9000/46770 queries. users per second: 29710.1</pre>"
      ],
      "text/plain": [
       "recommendations finished on 9000/46770 queries. users per second: 29710.1"
      ]
     },
     "metadata": {},
     "output_type": "display_data"
    },
    {
     "data": {
      "text/html": [
       "<pre>recommendations finished on 10000/46770 queries. users per second: 29465.7</pre>"
      ],
      "text/plain": [
       "recommendations finished on 10000/46770 queries. users per second: 29465.7"
      ]
     },
     "metadata": {},
     "output_type": "display_data"
    },
    {
     "data": {
      "text/html": [
       "<pre>recommendations finished on 11000/46770 queries. users per second: 29052.3</pre>"
      ],
      "text/plain": [
       "recommendations finished on 11000/46770 queries. users per second: 29052.3"
      ]
     },
     "metadata": {},
     "output_type": "display_data"
    },
    {
     "data": {
      "text/html": [
       "<pre>recommendations finished on 12000/46770 queries. users per second: 28985.6</pre>"
      ],
      "text/plain": [
       "recommendations finished on 12000/46770 queries. users per second: 28985.6"
      ]
     },
     "metadata": {},
     "output_type": "display_data"
    },
    {
     "data": {
      "text/html": [
       "<pre>recommendations finished on 13000/46770 queries. users per second: 29115.1</pre>"
      ],
      "text/plain": [
       "recommendations finished on 13000/46770 queries. users per second: 29115.1"
      ]
     },
     "metadata": {},
     "output_type": "display_data"
    },
    {
     "data": {
      "text/html": [
       "<pre>recommendations finished on 14000/46770 queries. users per second: 29487.2</pre>"
      ],
      "text/plain": [
       "recommendations finished on 14000/46770 queries. users per second: 29487.2"
      ]
     },
     "metadata": {},
     "output_type": "display_data"
    },
    {
     "data": {
      "text/html": [
       "<pre>recommendations finished on 15000/46770 queries. users per second: 29755.7</pre>"
      ],
      "text/plain": [
       "recommendations finished on 15000/46770 queries. users per second: 29755.7"
      ]
     },
     "metadata": {},
     "output_type": "display_data"
    },
    {
     "data": {
      "text/html": [
       "<pre>recommendations finished on 16000/46770 queries. users per second: 30142.5</pre>"
      ],
      "text/plain": [
       "recommendations finished on 16000/46770 queries. users per second: 30142.5"
      ]
     },
     "metadata": {},
     "output_type": "display_data"
    },
    {
     "data": {
      "text/html": [
       "<pre>recommendations finished on 17000/46770 queries. users per second: 30495.7</pre>"
      ],
      "text/plain": [
       "recommendations finished on 17000/46770 queries. users per second: 30495.7"
      ]
     },
     "metadata": {},
     "output_type": "display_data"
    },
    {
     "data": {
      "text/html": [
       "<pre>recommendations finished on 18000/46770 queries. users per second: 30770.5</pre>"
      ],
      "text/plain": [
       "recommendations finished on 18000/46770 queries. users per second: 30770.5"
      ]
     },
     "metadata": {},
     "output_type": "display_data"
    },
    {
     "data": {
      "text/html": [
       "<pre>recommendations finished on 19000/46770 queries. users per second: 31181</pre>"
      ],
      "text/plain": [
       "recommendations finished on 19000/46770 queries. users per second: 31181"
      ]
     },
     "metadata": {},
     "output_type": "display_data"
    },
    {
     "data": {
      "text/html": [
       "<pre>recommendations finished on 20000/46770 queries. users per second: 31285.9</pre>"
      ],
      "text/plain": [
       "recommendations finished on 20000/46770 queries. users per second: 31285.9"
      ]
     },
     "metadata": {},
     "output_type": "display_data"
    },
    {
     "data": {
      "text/html": [
       "<pre>recommendations finished on 21000/46770 queries. users per second: 31625.1</pre>"
      ],
      "text/plain": [
       "recommendations finished on 21000/46770 queries. users per second: 31625.1"
      ]
     },
     "metadata": {},
     "output_type": "display_data"
    },
    {
     "data": {
      "text/html": [
       "<pre>recommendations finished on 22000/46770 queries. users per second: 31551.9</pre>"
      ],
      "text/plain": [
       "recommendations finished on 22000/46770 queries. users per second: 31551.9"
      ]
     },
     "metadata": {},
     "output_type": "display_data"
    },
    {
     "data": {
      "text/html": [
       "<pre>recommendations finished on 23000/46770 queries. users per second: 31717</pre>"
      ],
      "text/plain": [
       "recommendations finished on 23000/46770 queries. users per second: 31717"
      ]
     },
     "metadata": {},
     "output_type": "display_data"
    },
    {
     "data": {
      "text/html": [
       "<pre>recommendations finished on 24000/46770 queries. users per second: 31782.1</pre>"
      ],
      "text/plain": [
       "recommendations finished on 24000/46770 queries. users per second: 31782.1"
      ]
     },
     "metadata": {},
     "output_type": "display_data"
    },
    {
     "data": {
      "text/html": [
       "<pre>recommendations finished on 25000/46770 queries. users per second: 31604.2</pre>"
      ],
      "text/plain": [
       "recommendations finished on 25000/46770 queries. users per second: 31604.2"
      ]
     },
     "metadata": {},
     "output_type": "display_data"
    },
    {
     "data": {
      "text/html": [
       "<pre>recommendations finished on 26000/46770 queries. users per second: 31563.5</pre>"
      ],
      "text/plain": [
       "recommendations finished on 26000/46770 queries. users per second: 31563.5"
      ]
     },
     "metadata": {},
     "output_type": "display_data"
    },
    {
     "data": {
      "text/html": [
       "<pre>recommendations finished on 27000/46770 queries. users per second: 31112.3</pre>"
      ],
      "text/plain": [
       "recommendations finished on 27000/46770 queries. users per second: 31112.3"
      ]
     },
     "metadata": {},
     "output_type": "display_data"
    },
    {
     "data": {
      "text/html": [
       "<pre>recommendations finished on 28000/46770 queries. users per second: 31141.9</pre>"
      ],
      "text/plain": [
       "recommendations finished on 28000/46770 queries. users per second: 31141.9"
      ]
     },
     "metadata": {},
     "output_type": "display_data"
    },
    {
     "data": {
      "text/html": [
       "<pre>recommendations finished on 29000/46770 queries. users per second: 30954</pre>"
      ],
      "text/plain": [
       "recommendations finished on 29000/46770 queries. users per second: 30954"
      ]
     },
     "metadata": {},
     "output_type": "display_data"
    },
    {
     "data": {
      "text/html": [
       "<pre>recommendations finished on 30000/46770 queries. users per second: 30875.3</pre>"
      ],
      "text/plain": [
       "recommendations finished on 30000/46770 queries. users per second: 30875.3"
      ]
     },
     "metadata": {},
     "output_type": "display_data"
    },
    {
     "data": {
      "text/html": [
       "<pre>recommendations finished on 31000/46770 queries. users per second: 31009.2</pre>"
      ],
      "text/plain": [
       "recommendations finished on 31000/46770 queries. users per second: 31009.2"
      ]
     },
     "metadata": {},
     "output_type": "display_data"
    },
    {
     "data": {
      "text/html": [
       "<pre>recommendations finished on 32000/46770 queries. users per second: 30972.6</pre>"
      ],
      "text/plain": [
       "recommendations finished on 32000/46770 queries. users per second: 30972.6"
      ]
     },
     "metadata": {},
     "output_type": "display_data"
    },
    {
     "data": {
      "text/html": [
       "<pre>recommendations finished on 33000/46770 queries. users per second: 30899</pre>"
      ],
      "text/plain": [
       "recommendations finished on 33000/46770 queries. users per second: 30899"
      ]
     },
     "metadata": {},
     "output_type": "display_data"
    },
    {
     "data": {
      "text/html": [
       "<pre>recommendations finished on 34000/46770 queries. users per second: 30951.6</pre>"
      ],
      "text/plain": [
       "recommendations finished on 34000/46770 queries. users per second: 30951.6"
      ]
     },
     "metadata": {},
     "output_type": "display_data"
    },
    {
     "data": {
      "text/html": [
       "<pre>recommendations finished on 35000/46770 queries. users per second: 30849.1</pre>"
      ],
      "text/plain": [
       "recommendations finished on 35000/46770 queries. users per second: 30849.1"
      ]
     },
     "metadata": {},
     "output_type": "display_data"
    },
    {
     "data": {
      "text/html": [
       "<pre>recommendations finished on 36000/46770 queries. users per second: 30921.1</pre>"
      ],
      "text/plain": [
       "recommendations finished on 36000/46770 queries. users per second: 30921.1"
      ]
     },
     "metadata": {},
     "output_type": "display_data"
    },
    {
     "data": {
      "text/html": [
       "<pre>recommendations finished on 37000/46770 queries. users per second: 30954.5</pre>"
      ],
      "text/plain": [
       "recommendations finished on 37000/46770 queries. users per second: 30954.5"
      ]
     },
     "metadata": {},
     "output_type": "display_data"
    },
    {
     "data": {
      "text/html": [
       "<pre>recommendations finished on 38000/46770 queries. users per second: 31050</pre>"
      ],
      "text/plain": [
       "recommendations finished on 38000/46770 queries. users per second: 31050"
      ]
     },
     "metadata": {},
     "output_type": "display_data"
    },
    {
     "data": {
      "text/html": [
       "<pre>recommendations finished on 39000/46770 queries. users per second: 31201.7</pre>"
      ],
      "text/plain": [
       "recommendations finished on 39000/46770 queries. users per second: 31201.7"
      ]
     },
     "metadata": {},
     "output_type": "display_data"
    },
    {
     "data": {
      "text/html": [
       "<pre>recommendations finished on 40000/46770 queries. users per second: 31329.5</pre>"
      ],
      "text/plain": [
       "recommendations finished on 40000/46770 queries. users per second: 31329.5"
      ]
     },
     "metadata": {},
     "output_type": "display_data"
    },
    {
     "data": {
      "text/html": [
       "<pre>recommendations finished on 41000/46770 queries. users per second: 31323.7</pre>"
      ],
      "text/plain": [
       "recommendations finished on 41000/46770 queries. users per second: 31323.7"
      ]
     },
     "metadata": {},
     "output_type": "display_data"
    },
    {
     "data": {
      "text/html": [
       "<pre>recommendations finished on 42000/46770 queries. users per second: 31410</pre>"
      ],
      "text/plain": [
       "recommendations finished on 42000/46770 queries. users per second: 31410"
      ]
     },
     "metadata": {},
     "output_type": "display_data"
    },
    {
     "data": {
      "text/html": [
       "<pre>recommendations finished on 43000/46770 queries. users per second: 31509.1</pre>"
      ],
      "text/plain": [
       "recommendations finished on 43000/46770 queries. users per second: 31509.1"
      ]
     },
     "metadata": {},
     "output_type": "display_data"
    },
    {
     "data": {
      "text/html": [
       "<pre>recommendations finished on 44000/46770 queries. users per second: 31370</pre>"
      ],
      "text/plain": [
       "recommendations finished on 44000/46770 queries. users per second: 31370"
      ]
     },
     "metadata": {},
     "output_type": "display_data"
    },
    {
     "data": {
      "text/html": [
       "<pre>recommendations finished on 45000/46770 queries. users per second: 31214.6</pre>"
      ],
      "text/plain": [
       "recommendations finished on 45000/46770 queries. users per second: 31214.6"
      ]
     },
     "metadata": {},
     "output_type": "display_data"
    },
    {
     "data": {
      "text/html": [
       "<pre>recommendations finished on 46000/46770 queries. users per second: 30876.2</pre>"
      ],
      "text/plain": [
       "recommendations finished on 46000/46770 queries. users per second: 30876.2"
      ]
     },
     "metadata": {},
     "output_type": "display_data"
    },
    {
     "name": "stdout",
     "output_type": "stream",
     "text": [
      "\n",
      "Precision and recall summary statistics by cutoff\n",
      "+--------+------------------------+-----------------------+\n",
      "| cutoff |     mean_precision     |      mean_recall      |\n",
      "+--------+------------------------+-----------------------+\n",
      "|   1    |          0.0           |          0.0          |\n",
      "|   2    |          0.0           |          0.0          |\n",
      "|   3    | 1.4254151521630688e-05 | 4.276245456489242e-05 |\n",
      "|   4    | 1.0690613641223106e-05 | 4.276245456489242e-05 |\n",
      "|   5    | 0.0004917682274962601  | 0.0016846463350632733 |\n",
      "|   6    | 0.00041693393200769983 | 0.0017006822555251113 |\n",
      "|   7    | 0.0004948226885366114  | 0.0023040146725201247 |\n",
      "|   8    | 0.00047038700021380945 | 0.0024870277965210784 |\n",
      "|   9    | 0.00046801130829354017 | 0.0027284574879186804 |\n",
      "|   10   | 0.00047466324567029694 |  0.003046487045845624 |\n",
      "+--------+------------------------+-----------------------+\n",
      "[10 rows x 3 columns]\n",
      "\n",
      "\n",
      "Overall RMSE: 3.344918252784026\n",
      "\n",
      "Per User RMSE (best)\n",
      "+----------+------+-------+\n",
      "|  LYBID   | rmse | count |\n",
      "+----------+------+-------+\n",
      "| 31542818 | 0.0  |   1   |\n",
      "+----------+------+-------+\n",
      "[1 rows x 3 columns]\n",
      "\n",
      "\n",
      "Per User RMSE (worst)\n",
      "+----------+-------------------+-------+\n",
      "|  LYBID   |        rmse       | count |\n",
      "+----------+-------------------+-------+\n",
      "| 31077995 | 854.7027016595908 |   1   |\n",
      "+----------+-------------------+-------+\n",
      "[1 rows x 3 columns]\n",
      "\n",
      "\n",
      "Per Item RMSE (best)\n",
      "+--------+------+-------+\n",
      "| ITEMID | rmse | count |\n",
      "+--------+------+-------+\n",
      "| 33621  | 0.0  |   3   |\n",
      "+--------+------+-------+\n",
      "[1 rows x 3 columns]\n",
      "\n",
      "\n",
      "Per Item RMSE (worst)\n",
      "+--------+------+-------+\n",
      "| ITEMID | rmse | count |\n",
      "+--------+------+-------+\n",
      "| 43999  | 85.0 |   1   |\n",
      "+--------+------+-------+\n",
      "[1 rows x 3 columns]\n",
      "\n",
      "PROGRESS: Evaluate model Cosine Similarity on Purchase Counts\n"
     ]
    },
    {
     "data": {
      "text/html": [
       "<pre>recommendations finished on 1000/46770 queries. users per second: 29539.5</pre>"
      ],
      "text/plain": [
       "recommendations finished on 1000/46770 queries. users per second: 29539.5"
      ]
     },
     "metadata": {},
     "output_type": "display_data"
    },
    {
     "data": {
      "text/html": [
       "<pre>recommendations finished on 2000/46770 queries. users per second: 29812.5</pre>"
      ],
      "text/plain": [
       "recommendations finished on 2000/46770 queries. users per second: 29812.5"
      ]
     },
     "metadata": {},
     "output_type": "display_data"
    },
    {
     "data": {
      "text/html": [
       "<pre>recommendations finished on 3000/46770 queries. users per second: 31422.2</pre>"
      ],
      "text/plain": [
       "recommendations finished on 3000/46770 queries. users per second: 31422.2"
      ]
     },
     "metadata": {},
     "output_type": "display_data"
    },
    {
     "data": {
      "text/html": [
       "<pre>recommendations finished on 4000/46770 queries. users per second: 30959.5</pre>"
      ],
      "text/plain": [
       "recommendations finished on 4000/46770 queries. users per second: 30959.5"
      ]
     },
     "metadata": {},
     "output_type": "display_data"
    },
    {
     "data": {
      "text/html": [
       "<pre>recommendations finished on 5000/46770 queries. users per second: 31598</pre>"
      ],
      "text/plain": [
       "recommendations finished on 5000/46770 queries. users per second: 31598"
      ]
     },
     "metadata": {},
     "output_type": "display_data"
    },
    {
     "data": {
      "text/html": [
       "<pre>recommendations finished on 6000/46770 queries. users per second: 31816.7</pre>"
      ],
      "text/plain": [
       "recommendations finished on 6000/46770 queries. users per second: 31816.7"
      ]
     },
     "metadata": {},
     "output_type": "display_data"
    },
    {
     "data": {
      "text/html": [
       "<pre>recommendations finished on 7000/46770 queries. users per second: 32031.9</pre>"
      ],
      "text/plain": [
       "recommendations finished on 7000/46770 queries. users per second: 32031.9"
      ]
     },
     "metadata": {},
     "output_type": "display_data"
    },
    {
     "data": {
      "text/html": [
       "<pre>recommendations finished on 8000/46770 queries. users per second: 32101.8</pre>"
      ],
      "text/plain": [
       "recommendations finished on 8000/46770 queries. users per second: 32101.8"
      ]
     },
     "metadata": {},
     "output_type": "display_data"
    },
    {
     "data": {
      "text/html": [
       "<pre>recommendations finished on 9000/46770 queries. users per second: 32227.5</pre>"
      ],
      "text/plain": [
       "recommendations finished on 9000/46770 queries. users per second: 32227.5"
      ]
     },
     "metadata": {},
     "output_type": "display_data"
    },
    {
     "data": {
      "text/html": [
       "<pre>recommendations finished on 10000/46770 queries. users per second: 32760.1</pre>"
      ],
      "text/plain": [
       "recommendations finished on 10000/46770 queries. users per second: 32760.1"
      ]
     },
     "metadata": {},
     "output_type": "display_data"
    },
    {
     "data": {
      "text/html": [
       "<pre>recommendations finished on 11000/46770 queries. users per second: 32474.2</pre>"
      ],
      "text/plain": [
       "recommendations finished on 11000/46770 queries. users per second: 32474.2"
      ]
     },
     "metadata": {},
     "output_type": "display_data"
    },
    {
     "data": {
      "text/html": [
       "<pre>recommendations finished on 12000/46770 queries. users per second: 32544.8</pre>"
      ],
      "text/plain": [
       "recommendations finished on 12000/46770 queries. users per second: 32544.8"
      ]
     },
     "metadata": {},
     "output_type": "display_data"
    },
    {
     "data": {
      "text/html": [
       "<pre>recommendations finished on 13000/46770 queries. users per second: 32432.2</pre>"
      ],
      "text/plain": [
       "recommendations finished on 13000/46770 queries. users per second: 32432.2"
      ]
     },
     "metadata": {},
     "output_type": "display_data"
    },
    {
     "data": {
      "text/html": [
       "<pre>recommendations finished on 14000/46770 queries. users per second: 32440.2</pre>"
      ],
      "text/plain": [
       "recommendations finished on 14000/46770 queries. users per second: 32440.2"
      ]
     },
     "metadata": {},
     "output_type": "display_data"
    },
    {
     "data": {
      "text/html": [
       "<pre>recommendations finished on 15000/46770 queries. users per second: 32430.5</pre>"
      ],
      "text/plain": [
       "recommendations finished on 15000/46770 queries. users per second: 32430.5"
      ]
     },
     "metadata": {},
     "output_type": "display_data"
    },
    {
     "data": {
      "text/html": [
       "<pre>recommendations finished on 16000/46770 queries. users per second: 32582.4</pre>"
      ],
      "text/plain": [
       "recommendations finished on 16000/46770 queries. users per second: 32582.4"
      ]
     },
     "metadata": {},
     "output_type": "display_data"
    },
    {
     "data": {
      "text/html": [
       "<pre>recommendations finished on 17000/46770 queries. users per second: 32652.7</pre>"
      ],
      "text/plain": [
       "recommendations finished on 17000/46770 queries. users per second: 32652.7"
      ]
     },
     "metadata": {},
     "output_type": "display_data"
    },
    {
     "data": {
      "text/html": [
       "<pre>recommendations finished on 18000/46770 queries. users per second: 32844.6</pre>"
      ],
      "text/plain": [
       "recommendations finished on 18000/46770 queries. users per second: 32844.6"
      ]
     },
     "metadata": {},
     "output_type": "display_data"
    },
    {
     "data": {
      "text/html": [
       "<pre>recommendations finished on 19000/46770 queries. users per second: 32832.5</pre>"
      ],
      "text/plain": [
       "recommendations finished on 19000/46770 queries. users per second: 32832.5"
      ]
     },
     "metadata": {},
     "output_type": "display_data"
    },
    {
     "data": {
      "text/html": [
       "<pre>recommendations finished on 20000/46770 queries. users per second: 33014.4</pre>"
      ],
      "text/plain": [
       "recommendations finished on 20000/46770 queries. users per second: 33014.4"
      ]
     },
     "metadata": {},
     "output_type": "display_data"
    },
    {
     "data": {
      "text/html": [
       "<pre>recommendations finished on 21000/46770 queries. users per second: 32996.2</pre>"
      ],
      "text/plain": [
       "recommendations finished on 21000/46770 queries. users per second: 32996.2"
      ]
     },
     "metadata": {},
     "output_type": "display_data"
    },
    {
     "data": {
      "text/html": [
       "<pre>recommendations finished on 22000/46770 queries. users per second: 32823</pre>"
      ],
      "text/plain": [
       "recommendations finished on 22000/46770 queries. users per second: 32823"
      ]
     },
     "metadata": {},
     "output_type": "display_data"
    },
    {
     "data": {
      "text/html": [
       "<pre>recommendations finished on 23000/46770 queries. users per second: 32896.5</pre>"
      ],
      "text/plain": [
       "recommendations finished on 23000/46770 queries. users per second: 32896.5"
      ]
     },
     "metadata": {},
     "output_type": "display_data"
    },
    {
     "data": {
      "text/html": [
       "<pre>recommendations finished on 24000/46770 queries. users per second: 32926.6</pre>"
      ],
      "text/plain": [
       "recommendations finished on 24000/46770 queries. users per second: 32926.6"
      ]
     },
     "metadata": {},
     "output_type": "display_data"
    },
    {
     "data": {
      "text/html": [
       "<pre>recommendations finished on 25000/46770 queries. users per second: 32945.1</pre>"
      ],
      "text/plain": [
       "recommendations finished on 25000/46770 queries. users per second: 32945.1"
      ]
     },
     "metadata": {},
     "output_type": "display_data"
    },
    {
     "data": {
      "text/html": [
       "<pre>recommendations finished on 26000/46770 queries. users per second: 32734.5</pre>"
      ],
      "text/plain": [
       "recommendations finished on 26000/46770 queries. users per second: 32734.5"
      ]
     },
     "metadata": {},
     "output_type": "display_data"
    },
    {
     "data": {
      "text/html": [
       "<pre>recommendations finished on 27000/46770 queries. users per second: 32684.6</pre>"
      ],
      "text/plain": [
       "recommendations finished on 27000/46770 queries. users per second: 32684.6"
      ]
     },
     "metadata": {},
     "output_type": "display_data"
    },
    {
     "data": {
      "text/html": [
       "<pre>recommendations finished on 28000/46770 queries. users per second: 32740.2</pre>"
      ],
      "text/plain": [
       "recommendations finished on 28000/46770 queries. users per second: 32740.2"
      ]
     },
     "metadata": {},
     "output_type": "display_data"
    },
    {
     "data": {
      "text/html": [
       "<pre>recommendations finished on 29000/46770 queries. users per second: 32744.6</pre>"
      ],
      "text/plain": [
       "recommendations finished on 29000/46770 queries. users per second: 32744.6"
      ]
     },
     "metadata": {},
     "output_type": "display_data"
    },
    {
     "data": {
      "text/html": [
       "<pre>recommendations finished on 30000/46770 queries. users per second: 32786.4</pre>"
      ],
      "text/plain": [
       "recommendations finished on 30000/46770 queries. users per second: 32786.4"
      ]
     },
     "metadata": {},
     "output_type": "display_data"
    },
    {
     "data": {
      "text/html": [
       "<pre>recommendations finished on 31000/46770 queries. users per second: 32829.2</pre>"
      ],
      "text/plain": [
       "recommendations finished on 31000/46770 queries. users per second: 32829.2"
      ]
     },
     "metadata": {},
     "output_type": "display_data"
    },
    {
     "data": {
      "text/html": [
       "<pre>recommendations finished on 32000/46770 queries. users per second: 32917.3</pre>"
      ],
      "text/plain": [
       "recommendations finished on 32000/46770 queries. users per second: 32917.3"
      ]
     },
     "metadata": {},
     "output_type": "display_data"
    },
    {
     "data": {
      "text/html": [
       "<pre>recommendations finished on 33000/46770 queries. users per second: 32966.5</pre>"
      ],
      "text/plain": [
       "recommendations finished on 33000/46770 queries. users per second: 32966.5"
      ]
     },
     "metadata": {},
     "output_type": "display_data"
    },
    {
     "data": {
      "text/html": [
       "<pre>recommendations finished on 34000/46770 queries. users per second: 32982.2</pre>"
      ],
      "text/plain": [
       "recommendations finished on 34000/46770 queries. users per second: 32982.2"
      ]
     },
     "metadata": {},
     "output_type": "display_data"
    },
    {
     "data": {
      "text/html": [
       "<pre>recommendations finished on 35000/46770 queries. users per second: 33093.3</pre>"
      ],
      "text/plain": [
       "recommendations finished on 35000/46770 queries. users per second: 33093.3"
      ]
     },
     "metadata": {},
     "output_type": "display_data"
    },
    {
     "data": {
      "text/html": [
       "<pre>recommendations finished on 36000/46770 queries. users per second: 33099.6</pre>"
      ],
      "text/plain": [
       "recommendations finished on 36000/46770 queries. users per second: 33099.6"
      ]
     },
     "metadata": {},
     "output_type": "display_data"
    },
    {
     "data": {
      "text/html": [
       "<pre>recommendations finished on 37000/46770 queries. users per second: 33073.7</pre>"
      ],
      "text/plain": [
       "recommendations finished on 37000/46770 queries. users per second: 33073.7"
      ]
     },
     "metadata": {},
     "output_type": "display_data"
    },
    {
     "data": {
      "text/html": [
       "<pre>recommendations finished on 38000/46770 queries. users per second: 33086.4</pre>"
      ],
      "text/plain": [
       "recommendations finished on 38000/46770 queries. users per second: 33086.4"
      ]
     },
     "metadata": {},
     "output_type": "display_data"
    },
    {
     "data": {
      "text/html": [
       "<pre>recommendations finished on 39000/46770 queries. users per second: 33194.4</pre>"
      ],
      "text/plain": [
       "recommendations finished on 39000/46770 queries. users per second: 33194.4"
      ]
     },
     "metadata": {},
     "output_type": "display_data"
    },
    {
     "data": {
      "text/html": [
       "<pre>recommendations finished on 40000/46770 queries. users per second: 33228.8</pre>"
      ],
      "text/plain": [
       "recommendations finished on 40000/46770 queries. users per second: 33228.8"
      ]
     },
     "metadata": {},
     "output_type": "display_data"
    },
    {
     "data": {
      "text/html": [
       "<pre>recommendations finished on 41000/46770 queries. users per second: 33316.4</pre>"
      ],
      "text/plain": [
       "recommendations finished on 41000/46770 queries. users per second: 33316.4"
      ]
     },
     "metadata": {},
     "output_type": "display_data"
    },
    {
     "data": {
      "text/html": [
       "<pre>recommendations finished on 42000/46770 queries. users per second: 33294.1</pre>"
      ],
      "text/plain": [
       "recommendations finished on 42000/46770 queries. users per second: 33294.1"
      ]
     },
     "metadata": {},
     "output_type": "display_data"
    },
    {
     "data": {
      "text/html": [
       "<pre>recommendations finished on 43000/46770 queries. users per second: 33232.9</pre>"
      ],
      "text/plain": [
       "recommendations finished on 43000/46770 queries. users per second: 33232.9"
      ]
     },
     "metadata": {},
     "output_type": "display_data"
    },
    {
     "data": {
      "text/html": [
       "<pre>recommendations finished on 44000/46770 queries. users per second: 33220.9</pre>"
      ],
      "text/plain": [
       "recommendations finished on 44000/46770 queries. users per second: 33220.9"
      ]
     },
     "metadata": {},
     "output_type": "display_data"
    },
    {
     "data": {
      "text/html": [
       "<pre>recommendations finished on 45000/46770 queries. users per second: 33134.3</pre>"
      ],
      "text/plain": [
       "recommendations finished on 45000/46770 queries. users per second: 33134.3"
      ]
     },
     "metadata": {},
     "output_type": "display_data"
    },
    {
     "data": {
      "text/html": [
       "<pre>recommendations finished on 46000/46770 queries. users per second: 32952.7</pre>"
      ],
      "text/plain": [
       "recommendations finished on 46000/46770 queries. users per second: 32952.7"
      ]
     },
     "metadata": {},
     "output_type": "display_data"
    },
    {
     "name": "stdout",
     "output_type": "stream",
     "text": [
      "\n",
      "Precision and recall summary statistics by cutoff\n",
      "+--------+----------------------+----------------------+\n",
      "| cutoff |    mean_precision    |     mean_recall      |\n",
      "+--------+----------------------+----------------------+\n",
      "|   1    | 0.041971349155441234 | 0.03013302177830709  |\n",
      "|   2    | 0.04004703870002108  | 0.056595810702327026 |\n",
      "|   3    | 0.035991732592117597 | 0.07524628750476908  |\n",
      "|   4    | 0.03357921744708165  | 0.09368728210515946  |\n",
      "|   5    |  0.0310455420141118  | 0.10752407321815662  |\n",
      "|   6    | 0.02909985033140889  | 0.12037778884458636  |\n",
      "|   7    | 0.027264119246158864 | 0.13125680225076675  |\n",
      "|   8    | 0.025807141329912294 | 0.14140056055611172  |\n",
      "|   9    | 0.024586035682892787 |  0.1515475160669864  |\n",
      "|   10   | 0.023427410733375984 | 0.16004945511575297  |\n",
      "+--------+----------------------+----------------------+\n",
      "[10 rows x 3 columns]\n",
      "\n",
      "\n",
      "Overall RMSE: 3.563652072483777\n",
      "\n",
      "Per User RMSE (best)\n",
      "+----------+---------------------+-------+\n",
      "|  LYBID   |         rmse        | count |\n",
      "+----------+---------------------+-------+\n",
      "| 30955910 | 0.14017140865325928 |   1   |\n",
      "+----------+---------------------+-------+\n",
      "[1 rows x 3 columns]\n",
      "\n",
      "\n",
      "Per User RMSE (worst)\n",
      "+----------+-------------------+-------+\n",
      "|  LYBID   |        rmse       | count |\n",
      "+----------+-------------------+-------+\n",
      "| 31077995 | 856.9832265138626 |   1   |\n",
      "+----------+-------------------+-------+\n",
      "[1 rows x 3 columns]\n",
      "\n",
      "\n",
      "Per Item RMSE (best)\n",
      "+--------+--------------------+-------+\n",
      "| ITEMID |        rmse        | count |\n",
      "+--------+--------------------+-------+\n",
      "|  4719  | 0.9116116538643837 |   1   |\n",
      "+--------+--------------------+-------+\n",
      "[1 rows x 3 columns]\n",
      "\n",
      "\n",
      "Per Item RMSE (worst)\n",
      "+--------+------+-------+\n",
      "| ITEMID | rmse | count |\n",
      "+--------+------+-------+\n",
      "| 43999  | 86.0 |   1   |\n",
      "+--------+------+-------+\n",
      "[1 rows x 3 columns]\n",
      "\n",
      "PROGRESS: Evaluate model Pearson Similarity on Purchase Counts\n"
     ]
    },
    {
     "data": {
      "text/html": [
       "<pre>recommendations finished on 1000/46770 queries. users per second: 29939.2</pre>"
      ],
      "text/plain": [
       "recommendations finished on 1000/46770 queries. users per second: 29939.2"
      ]
     },
     "metadata": {},
     "output_type": "display_data"
    },
    {
     "data": {
      "text/html": [
       "<pre>recommendations finished on 2000/46770 queries. users per second: 30025.1</pre>"
      ],
      "text/plain": [
       "recommendations finished on 2000/46770 queries. users per second: 30025.1"
      ]
     },
     "metadata": {},
     "output_type": "display_data"
    },
    {
     "data": {
      "text/html": [
       "<pre>recommendations finished on 3000/46770 queries. users per second: 30392.1</pre>"
      ],
      "text/plain": [
       "recommendations finished on 3000/46770 queries. users per second: 30392.1"
      ]
     },
     "metadata": {},
     "output_type": "display_data"
    },
    {
     "data": {
      "text/html": [
       "<pre>recommendations finished on 4000/46770 queries. users per second: 30586.7</pre>"
      ],
      "text/plain": [
       "recommendations finished on 4000/46770 queries. users per second: 30586.7"
      ]
     },
     "metadata": {},
     "output_type": "display_data"
    },
    {
     "data": {
      "text/html": [
       "<pre>recommendations finished on 5000/46770 queries. users per second: 30820.3</pre>"
      ],
      "text/plain": [
       "recommendations finished on 5000/46770 queries. users per second: 30820.3"
      ]
     },
     "metadata": {},
     "output_type": "display_data"
    },
    {
     "data": {
      "text/html": [
       "<pre>recommendations finished on 6000/46770 queries. users per second: 30075.3</pre>"
      ],
      "text/plain": [
       "recommendations finished on 6000/46770 queries. users per second: 30075.3"
      ]
     },
     "metadata": {},
     "output_type": "display_data"
    },
    {
     "data": {
      "text/html": [
       "<pre>recommendations finished on 7000/46770 queries. users per second: 30364.2</pre>"
      ],
      "text/plain": [
       "recommendations finished on 7000/46770 queries. users per second: 30364.2"
      ]
     },
     "metadata": {},
     "output_type": "display_data"
    },
    {
     "data": {
      "text/html": [
       "<pre>recommendations finished on 8000/46770 queries. users per second: 30557.8</pre>"
      ],
      "text/plain": [
       "recommendations finished on 8000/46770 queries. users per second: 30557.8"
      ]
     },
     "metadata": {},
     "output_type": "display_data"
    },
    {
     "data": {
      "text/html": [
       "<pre>recommendations finished on 9000/46770 queries. users per second: 30631.5</pre>"
      ],
      "text/plain": [
       "recommendations finished on 9000/46770 queries. users per second: 30631.5"
      ]
     },
     "metadata": {},
     "output_type": "display_data"
    },
    {
     "data": {
      "text/html": [
       "<pre>recommendations finished on 10000/46770 queries. users per second: 30778.6</pre>"
      ],
      "text/plain": [
       "recommendations finished on 10000/46770 queries. users per second: 30778.6"
      ]
     },
     "metadata": {},
     "output_type": "display_data"
    },
    {
     "data": {
      "text/html": [
       "<pre>recommendations finished on 11000/46770 queries. users per second: 30564.6</pre>"
      ],
      "text/plain": [
       "recommendations finished on 11000/46770 queries. users per second: 30564.6"
      ]
     },
     "metadata": {},
     "output_type": "display_data"
    },
    {
     "data": {
      "text/html": [
       "<pre>recommendations finished on 12000/46770 queries. users per second: 30434.5</pre>"
      ],
      "text/plain": [
       "recommendations finished on 12000/46770 queries. users per second: 30434.5"
      ]
     },
     "metadata": {},
     "output_type": "display_data"
    },
    {
     "data": {
      "text/html": [
       "<pre>recommendations finished on 13000/46770 queries. users per second: 30435.7</pre>"
      ],
      "text/plain": [
       "recommendations finished on 13000/46770 queries. users per second: 30435.7"
      ]
     },
     "metadata": {},
     "output_type": "display_data"
    },
    {
     "data": {
      "text/html": [
       "<pre>recommendations finished on 14000/46770 queries. users per second: 30439.1</pre>"
      ],
      "text/plain": [
       "recommendations finished on 14000/46770 queries. users per second: 30439.1"
      ]
     },
     "metadata": {},
     "output_type": "display_data"
    },
    {
     "data": {
      "text/html": [
       "<pre>recommendations finished on 15000/46770 queries. users per second: 30468.5</pre>"
      ],
      "text/plain": [
       "recommendations finished on 15000/46770 queries. users per second: 30468.5"
      ]
     },
     "metadata": {},
     "output_type": "display_data"
    },
    {
     "data": {
      "text/html": [
       "<pre>recommendations finished on 16000/46770 queries. users per second: 30610.1</pre>"
      ],
      "text/plain": [
       "recommendations finished on 16000/46770 queries. users per second: 30610.1"
      ]
     },
     "metadata": {},
     "output_type": "display_data"
    },
    {
     "data": {
      "text/html": [
       "<pre>recommendations finished on 17000/46770 queries. users per second: 30686.9</pre>"
      ],
      "text/plain": [
       "recommendations finished on 17000/46770 queries. users per second: 30686.9"
      ]
     },
     "metadata": {},
     "output_type": "display_data"
    },
    {
     "data": {
      "text/html": [
       "<pre>recommendations finished on 18000/46770 queries. users per second: 30662.5</pre>"
      ],
      "text/plain": [
       "recommendations finished on 18000/46770 queries. users per second: 30662.5"
      ]
     },
     "metadata": {},
     "output_type": "display_data"
    },
    {
     "data": {
      "text/html": [
       "<pre>recommendations finished on 19000/46770 queries. users per second: 30862.8</pre>"
      ],
      "text/plain": [
       "recommendations finished on 19000/46770 queries. users per second: 30862.8"
      ]
     },
     "metadata": {},
     "output_type": "display_data"
    },
    {
     "data": {
      "text/html": [
       "<pre>recommendations finished on 20000/46770 queries. users per second: 30914.3</pre>"
      ],
      "text/plain": [
       "recommendations finished on 20000/46770 queries. users per second: 30914.3"
      ]
     },
     "metadata": {},
     "output_type": "display_data"
    },
    {
     "data": {
      "text/html": [
       "<pre>recommendations finished on 21000/46770 queries. users per second: 30888.1</pre>"
      ],
      "text/plain": [
       "recommendations finished on 21000/46770 queries. users per second: 30888.1"
      ]
     },
     "metadata": {},
     "output_type": "display_data"
    },
    {
     "data": {
      "text/html": [
       "<pre>recommendations finished on 22000/46770 queries. users per second: 30856</pre>"
      ],
      "text/plain": [
       "recommendations finished on 22000/46770 queries. users per second: 30856"
      ]
     },
     "metadata": {},
     "output_type": "display_data"
    },
    {
     "data": {
      "text/html": [
       "<pre>recommendations finished on 23000/46770 queries. users per second: 30728.2</pre>"
      ],
      "text/plain": [
       "recommendations finished on 23000/46770 queries. users per second: 30728.2"
      ]
     },
     "metadata": {},
     "output_type": "display_data"
    },
    {
     "data": {
      "text/html": [
       "<pre>recommendations finished on 24000/46770 queries. users per second: 30765.2</pre>"
      ],
      "text/plain": [
       "recommendations finished on 24000/46770 queries. users per second: 30765.2"
      ]
     },
     "metadata": {},
     "output_type": "display_data"
    },
    {
     "data": {
      "text/html": [
       "<pre>recommendations finished on 25000/46770 queries. users per second: 30753.3</pre>"
      ],
      "text/plain": [
       "recommendations finished on 25000/46770 queries. users per second: 30753.3"
      ]
     },
     "metadata": {},
     "output_type": "display_data"
    },
    {
     "data": {
      "text/html": [
       "<pre>recommendations finished on 26000/46770 queries. users per second: 30881</pre>"
      ],
      "text/plain": [
       "recommendations finished on 26000/46770 queries. users per second: 30881"
      ]
     },
     "metadata": {},
     "output_type": "display_data"
    },
    {
     "data": {
      "text/html": [
       "<pre>recommendations finished on 27000/46770 queries. users per second: 30926.8</pre>"
      ],
      "text/plain": [
       "recommendations finished on 27000/46770 queries. users per second: 30926.8"
      ]
     },
     "metadata": {},
     "output_type": "display_data"
    },
    {
     "data": {
      "text/html": [
       "<pre>recommendations finished on 28000/46770 queries. users per second: 30850.2</pre>"
      ],
      "text/plain": [
       "recommendations finished on 28000/46770 queries. users per second: 30850.2"
      ]
     },
     "metadata": {},
     "output_type": "display_data"
    },
    {
     "data": {
      "text/html": [
       "<pre>recommendations finished on 29000/46770 queries. users per second: 30760.9</pre>"
      ],
      "text/plain": [
       "recommendations finished on 29000/46770 queries. users per second: 30760.9"
      ]
     },
     "metadata": {},
     "output_type": "display_data"
    },
    {
     "data": {
      "text/html": [
       "<pre>recommendations finished on 30000/46770 queries. users per second: 30861.9</pre>"
      ],
      "text/plain": [
       "recommendations finished on 30000/46770 queries. users per second: 30861.9"
      ]
     },
     "metadata": {},
     "output_type": "display_data"
    },
    {
     "data": {
      "text/html": [
       "<pre>recommendations finished on 31000/46770 queries. users per second: 30869.6</pre>"
      ],
      "text/plain": [
       "recommendations finished on 31000/46770 queries. users per second: 30869.6"
      ]
     },
     "metadata": {},
     "output_type": "display_data"
    },
    {
     "data": {
      "text/html": [
       "<pre>recommendations finished on 32000/46770 queries. users per second: 30826.2</pre>"
      ],
      "text/plain": [
       "recommendations finished on 32000/46770 queries. users per second: 30826.2"
      ]
     },
     "metadata": {},
     "output_type": "display_data"
    },
    {
     "data": {
      "text/html": [
       "<pre>recommendations finished on 33000/46770 queries. users per second: 30825.5</pre>"
      ],
      "text/plain": [
       "recommendations finished on 33000/46770 queries. users per second: 30825.5"
      ]
     },
     "metadata": {},
     "output_type": "display_data"
    },
    {
     "data": {
      "text/html": [
       "<pre>recommendations finished on 34000/46770 queries. users per second: 30837.3</pre>"
      ],
      "text/plain": [
       "recommendations finished on 34000/46770 queries. users per second: 30837.3"
      ]
     },
     "metadata": {},
     "output_type": "display_data"
    },
    {
     "data": {
      "text/html": [
       "<pre>recommendations finished on 35000/46770 queries. users per second: 30842.8</pre>"
      ],
      "text/plain": [
       "recommendations finished on 35000/46770 queries. users per second: 30842.8"
      ]
     },
     "metadata": {},
     "output_type": "display_data"
    },
    {
     "data": {
      "text/html": [
       "<pre>recommendations finished on 36000/46770 queries. users per second: 30844.5</pre>"
      ],
      "text/plain": [
       "recommendations finished on 36000/46770 queries. users per second: 30844.5"
      ]
     },
     "metadata": {},
     "output_type": "display_data"
    },
    {
     "data": {
      "text/html": [
       "<pre>recommendations finished on 37000/46770 queries. users per second: 30886.3</pre>"
      ],
      "text/plain": [
       "recommendations finished on 37000/46770 queries. users per second: 30886.3"
      ]
     },
     "metadata": {},
     "output_type": "display_data"
    },
    {
     "data": {
      "text/html": [
       "<pre>recommendations finished on 38000/46770 queries. users per second: 30966.1</pre>"
      ],
      "text/plain": [
       "recommendations finished on 38000/46770 queries. users per second: 30966.1"
      ]
     },
     "metadata": {},
     "output_type": "display_data"
    },
    {
     "data": {
      "text/html": [
       "<pre>recommendations finished on 39000/46770 queries. users per second: 30947.5</pre>"
      ],
      "text/plain": [
       "recommendations finished on 39000/46770 queries. users per second: 30947.5"
      ]
     },
     "metadata": {},
     "output_type": "display_data"
    },
    {
     "data": {
      "text/html": [
       "<pre>recommendations finished on 40000/46770 queries. users per second: 30972.1</pre>"
      ],
      "text/plain": [
       "recommendations finished on 40000/46770 queries. users per second: 30972.1"
      ]
     },
     "metadata": {},
     "output_type": "display_data"
    },
    {
     "data": {
      "text/html": [
       "<pre>recommendations finished on 41000/46770 queries. users per second: 30950.8</pre>"
      ],
      "text/plain": [
       "recommendations finished on 41000/46770 queries. users per second: 30950.8"
      ]
     },
     "metadata": {},
     "output_type": "display_data"
    },
    {
     "data": {
      "text/html": [
       "<pre>recommendations finished on 42000/46770 queries. users per second: 30871.7</pre>"
      ],
      "text/plain": [
       "recommendations finished on 42000/46770 queries. users per second: 30871.7"
      ]
     },
     "metadata": {},
     "output_type": "display_data"
    },
    {
     "data": {
      "text/html": [
       "<pre>recommendations finished on 43000/46770 queries. users per second: 30641.3</pre>"
      ],
      "text/plain": [
       "recommendations finished on 43000/46770 queries. users per second: 30641.3"
      ]
     },
     "metadata": {},
     "output_type": "display_data"
    },
    {
     "data": {
      "text/html": [
       "<pre>recommendations finished on 44000/46770 queries. users per second: 30265.5</pre>"
      ],
      "text/plain": [
       "recommendations finished on 44000/46770 queries. users per second: 30265.5"
      ]
     },
     "metadata": {},
     "output_type": "display_data"
    },
    {
     "data": {
      "text/html": [
       "<pre>recommendations finished on 45000/46770 queries. users per second: 29708.3</pre>"
      ],
      "text/plain": [
       "recommendations finished on 45000/46770 queries. users per second: 29708.3"
      ]
     },
     "metadata": {},
     "output_type": "display_data"
    },
    {
     "data": {
      "text/html": [
       "<pre>recommendations finished on 46000/46770 queries. users per second: 28909.4</pre>"
      ],
      "text/plain": [
       "recommendations finished on 46000/46770 queries. users per second: 28909.4"
      ]
     },
     "metadata": {},
     "output_type": "display_data"
    },
    {
     "name": "stdout",
     "output_type": "stream",
     "text": [
      "\n",
      "Precision and recall summary statistics by cutoff\n",
      "+--------+------------------------+------------------------+\n",
      "| cutoff |     mean_precision     |      mean_recall       |\n",
      "+--------+------------------------+------------------------+\n",
      "|   1    | 2.1381227282446286e-05 | 5.345306820611571e-06  |\n",
      "|   2    | 1.0690613641223143e-05 | 5.345306820611571e-06  |\n",
      "|   3    | 2.1381227282446313e-05 | 4.8107761385503194e-05 |\n",
      "|   4    | 2.1381227282446482e-05 | 6.948898866795051e-05  |\n",
      "|   5    | 0.0005003207184092333  |  0.001700682255525091  |\n",
      "|   6    | 0.00043475162140973995 | 0.0017666077063126639  |\n",
      "|   7    | 0.0005070405326980125  | 0.0023628130475468337  |\n",
      "|   8    | 0.00048642292067564507 | 0.0025582985541292118  |\n",
      "|   9    | 0.0004822654598151698  |  0.00279972824552683   |\n",
      "|   10   | 0.00048321573658327826 | 0.0030840823704839197  |\n",
      "+--------+------------------------+------------------------+\n",
      "[10 rows x 3 columns]\n",
      "\n",
      "\n",
      "Overall RMSE: 3.3398832780987644\n",
      "\n",
      "Per User RMSE (best)\n",
      "+----------+------+-------+\n",
      "|  LYBID   | rmse | count |\n",
      "+----------+------+-------+\n",
      "| 31542818 | 0.0  |   1   |\n",
      "+----------+------+-------+\n",
      "[1 rows x 3 columns]\n",
      "\n",
      "\n",
      "Per User RMSE (worst)\n",
      "+----------+-------------------+-------+\n",
      "|  LYBID   |        rmse       | count |\n",
      "+----------+-------------------+-------+\n",
      "| 31077995 | 854.7027016595908 |   1   |\n",
      "+----------+-------------------+-------+\n",
      "[1 rows x 3 columns]\n",
      "\n",
      "\n",
      "Per Item RMSE (best)\n",
      "+--------+------+-------+\n",
      "| ITEMID | rmse | count |\n",
      "+--------+------+-------+\n",
      "| 33621  | 0.0  |   3   |\n",
      "+--------+------+-------+\n",
      "[1 rows x 3 columns]\n",
      "\n",
      "\n",
      "Per Item RMSE (worst)\n",
      "+--------+------+-------+\n",
      "| ITEMID | rmse | count |\n",
      "+--------+------+-------+\n",
      "| 43999  | 85.0 |   1   |\n",
      "+--------+------+-------+\n",
      "[1 rows x 3 columns]\n",
      "\n"
     ]
    }
   ],
   "source": [
    "eval_counts = tc.recommender.util.compare_models(test_data, models_w_counts, model_names=names_w_counts)"
   ]
  },
  {
   "cell_type": "markdown",
   "metadata": {},
   "source": [
    "#### Models on purchase dummy"
   ]
  },
  {
   "cell_type": "code",
   "execution_count": 32,
   "metadata": {
    "scrolled": false
   },
   "outputs": [
    {
     "name": "stdout",
     "output_type": "stream",
     "text": [
      "PROGRESS: Evaluate model Popularity Model on Purchase Dummy\n"
     ]
    },
    {
     "data": {
      "text/html": [
       "<pre>recommendations finished on 1000/46882 queries. users per second: 36836.5</pre>"
      ],
      "text/plain": [
       "recommendations finished on 1000/46882 queries. users per second: 36836.5"
      ]
     },
     "metadata": {},
     "output_type": "display_data"
    },
    {
     "data": {
      "text/html": [
       "<pre>recommendations finished on 2000/46882 queries. users per second: 38018.5</pre>"
      ],
      "text/plain": [
       "recommendations finished on 2000/46882 queries. users per second: 38018.5"
      ]
     },
     "metadata": {},
     "output_type": "display_data"
    },
    {
     "data": {
      "text/html": [
       "<pre>recommendations finished on 3000/46882 queries. users per second: 37923.3</pre>"
      ],
      "text/plain": [
       "recommendations finished on 3000/46882 queries. users per second: 37923.3"
      ]
     },
     "metadata": {},
     "output_type": "display_data"
    },
    {
     "data": {
      "text/html": [
       "<pre>recommendations finished on 4000/46882 queries. users per second: 37765.4</pre>"
      ],
      "text/plain": [
       "recommendations finished on 4000/46882 queries. users per second: 37765.4"
      ]
     },
     "metadata": {},
     "output_type": "display_data"
    },
    {
     "data": {
      "text/html": [
       "<pre>recommendations finished on 5000/46882 queries. users per second: 34882.3</pre>"
      ],
      "text/plain": [
       "recommendations finished on 5000/46882 queries. users per second: 34882.3"
      ]
     },
     "metadata": {},
     "output_type": "display_data"
    },
    {
     "data": {
      "text/html": [
       "<pre>recommendations finished on 6000/46882 queries. users per second: 33964.1</pre>"
      ],
      "text/plain": [
       "recommendations finished on 6000/46882 queries. users per second: 33964.1"
      ]
     },
     "metadata": {},
     "output_type": "display_data"
    },
    {
     "data": {
      "text/html": [
       "<pre>recommendations finished on 7000/46882 queries. users per second: 33074.6</pre>"
      ],
      "text/plain": [
       "recommendations finished on 7000/46882 queries. users per second: 33074.6"
      ]
     },
     "metadata": {},
     "output_type": "display_data"
    },
    {
     "data": {
      "text/html": [
       "<pre>recommendations finished on 8000/46882 queries. users per second: 32885.4</pre>"
      ],
      "text/plain": [
       "recommendations finished on 8000/46882 queries. users per second: 32885.4"
      ]
     },
     "metadata": {},
     "output_type": "display_data"
    },
    {
     "data": {
      "text/html": [
       "<pre>recommendations finished on 9000/46882 queries. users per second: 32121.4</pre>"
      ],
      "text/plain": [
       "recommendations finished on 9000/46882 queries. users per second: 32121.4"
      ]
     },
     "metadata": {},
     "output_type": "display_data"
    },
    {
     "data": {
      "text/html": [
       "<pre>recommendations finished on 10000/46882 queries. users per second: 32510.2</pre>"
      ],
      "text/plain": [
       "recommendations finished on 10000/46882 queries. users per second: 32510.2"
      ]
     },
     "metadata": {},
     "output_type": "display_data"
    },
    {
     "data": {
      "text/html": [
       "<pre>recommendations finished on 11000/46882 queries. users per second: 32691</pre>"
      ],
      "text/plain": [
       "recommendations finished on 11000/46882 queries. users per second: 32691"
      ]
     },
     "metadata": {},
     "output_type": "display_data"
    },
    {
     "data": {
      "text/html": [
       "<pre>recommendations finished on 12000/46882 queries. users per second: 33207</pre>"
      ],
      "text/plain": [
       "recommendations finished on 12000/46882 queries. users per second: 33207"
      ]
     },
     "metadata": {},
     "output_type": "display_data"
    },
    {
     "data": {
      "text/html": [
       "<pre>recommendations finished on 13000/46882 queries. users per second: 32842.9</pre>"
      ],
      "text/plain": [
       "recommendations finished on 13000/46882 queries. users per second: 32842.9"
      ]
     },
     "metadata": {},
     "output_type": "display_data"
    },
    {
     "data": {
      "text/html": [
       "<pre>recommendations finished on 14000/46882 queries. users per second: 32967.4</pre>"
      ],
      "text/plain": [
       "recommendations finished on 14000/46882 queries. users per second: 32967.4"
      ]
     },
     "metadata": {},
     "output_type": "display_data"
    },
    {
     "data": {
      "text/html": [
       "<pre>recommendations finished on 15000/46882 queries. users per second: 33008.7</pre>"
      ],
      "text/plain": [
       "recommendations finished on 15000/46882 queries. users per second: 33008.7"
      ]
     },
     "metadata": {},
     "output_type": "display_data"
    },
    {
     "data": {
      "text/html": [
       "<pre>recommendations finished on 16000/46882 queries. users per second: 33317.3</pre>"
      ],
      "text/plain": [
       "recommendations finished on 16000/46882 queries. users per second: 33317.3"
      ]
     },
     "metadata": {},
     "output_type": "display_data"
    },
    {
     "data": {
      "text/html": [
       "<pre>recommendations finished on 17000/46882 queries. users per second: 33726.4</pre>"
      ],
      "text/plain": [
       "recommendations finished on 17000/46882 queries. users per second: 33726.4"
      ]
     },
     "metadata": {},
     "output_type": "display_data"
    },
    {
     "data": {
      "text/html": [
       "<pre>recommendations finished on 18000/46882 queries. users per second: 33962.5</pre>"
      ],
      "text/plain": [
       "recommendations finished on 18000/46882 queries. users per second: 33962.5"
      ]
     },
     "metadata": {},
     "output_type": "display_data"
    },
    {
     "data": {
      "text/html": [
       "<pre>recommendations finished on 19000/46882 queries. users per second: 33735.6</pre>"
      ],
      "text/plain": [
       "recommendations finished on 19000/46882 queries. users per second: 33735.6"
      ]
     },
     "metadata": {},
     "output_type": "display_data"
    },
    {
     "data": {
      "text/html": [
       "<pre>recommendations finished on 20000/46882 queries. users per second: 34089</pre>"
      ],
      "text/plain": [
       "recommendations finished on 20000/46882 queries. users per second: 34089"
      ]
     },
     "metadata": {},
     "output_type": "display_data"
    },
    {
     "data": {
      "text/html": [
       "<pre>recommendations finished on 21000/46882 queries. users per second: 34387.6</pre>"
      ],
      "text/plain": [
       "recommendations finished on 21000/46882 queries. users per second: 34387.6"
      ]
     },
     "metadata": {},
     "output_type": "display_data"
    },
    {
     "data": {
      "text/html": [
       "<pre>recommendations finished on 22000/46882 queries. users per second: 34543.5</pre>"
      ],
      "text/plain": [
       "recommendations finished on 22000/46882 queries. users per second: 34543.5"
      ]
     },
     "metadata": {},
     "output_type": "display_data"
    },
    {
     "data": {
      "text/html": [
       "<pre>recommendations finished on 23000/46882 queries. users per second: 34048.9</pre>"
      ],
      "text/plain": [
       "recommendations finished on 23000/46882 queries. users per second: 34048.9"
      ]
     },
     "metadata": {},
     "output_type": "display_data"
    },
    {
     "data": {
      "text/html": [
       "<pre>recommendations finished on 24000/46882 queries. users per second: 34189.7</pre>"
      ],
      "text/plain": [
       "recommendations finished on 24000/46882 queries. users per second: 34189.7"
      ]
     },
     "metadata": {},
     "output_type": "display_data"
    },
    {
     "data": {
      "text/html": [
       "<pre>recommendations finished on 25000/46882 queries. users per second: 33925.4</pre>"
      ],
      "text/plain": [
       "recommendations finished on 25000/46882 queries. users per second: 33925.4"
      ]
     },
     "metadata": {},
     "output_type": "display_data"
    },
    {
     "data": {
      "text/html": [
       "<pre>recommendations finished on 26000/46882 queries. users per second: 33713.9</pre>"
      ],
      "text/plain": [
       "recommendations finished on 26000/46882 queries. users per second: 33713.9"
      ]
     },
     "metadata": {},
     "output_type": "display_data"
    },
    {
     "data": {
      "text/html": [
       "<pre>recommendations finished on 27000/46882 queries. users per second: 33539.1</pre>"
      ],
      "text/plain": [
       "recommendations finished on 27000/46882 queries. users per second: 33539.1"
      ]
     },
     "metadata": {},
     "output_type": "display_data"
    },
    {
     "data": {
      "text/html": [
       "<pre>recommendations finished on 28000/46882 queries. users per second: 33054.4</pre>"
      ],
      "text/plain": [
       "recommendations finished on 28000/46882 queries. users per second: 33054.4"
      ]
     },
     "metadata": {},
     "output_type": "display_data"
    },
    {
     "data": {
      "text/html": [
       "<pre>recommendations finished on 29000/46882 queries. users per second: 33051.4</pre>"
      ],
      "text/plain": [
       "recommendations finished on 29000/46882 queries. users per second: 33051.4"
      ]
     },
     "metadata": {},
     "output_type": "display_data"
    },
    {
     "data": {
      "text/html": [
       "<pre>recommendations finished on 30000/46882 queries. users per second: 33005</pre>"
      ],
      "text/plain": [
       "recommendations finished on 30000/46882 queries. users per second: 33005"
      ]
     },
     "metadata": {},
     "output_type": "display_data"
    },
    {
     "data": {
      "text/html": [
       "<pre>recommendations finished on 31000/46882 queries. users per second: 33210.2</pre>"
      ],
      "text/plain": [
       "recommendations finished on 31000/46882 queries. users per second: 33210.2"
      ]
     },
     "metadata": {},
     "output_type": "display_data"
    },
    {
     "data": {
      "text/html": [
       "<pre>recommendations finished on 32000/46882 queries. users per second: 33342</pre>"
      ],
      "text/plain": [
       "recommendations finished on 32000/46882 queries. users per second: 33342"
      ]
     },
     "metadata": {},
     "output_type": "display_data"
    },
    {
     "data": {
      "text/html": [
       "<pre>recommendations finished on 33000/46882 queries. users per second: 33465.4</pre>"
      ],
      "text/plain": [
       "recommendations finished on 33000/46882 queries. users per second: 33465.4"
      ]
     },
     "metadata": {},
     "output_type": "display_data"
    },
    {
     "data": {
      "text/html": [
       "<pre>recommendations finished on 34000/46882 queries. users per second: 33691.6</pre>"
      ],
      "text/plain": [
       "recommendations finished on 34000/46882 queries. users per second: 33691.6"
      ]
     },
     "metadata": {},
     "output_type": "display_data"
    },
    {
     "data": {
      "text/html": [
       "<pre>recommendations finished on 35000/46882 queries. users per second: 33823.3</pre>"
      ],
      "text/plain": [
       "recommendations finished on 35000/46882 queries. users per second: 33823.3"
      ]
     },
     "metadata": {},
     "output_type": "display_data"
    },
    {
     "data": {
      "text/html": [
       "<pre>recommendations finished on 36000/46882 queries. users per second: 34032.1</pre>"
      ],
      "text/plain": [
       "recommendations finished on 36000/46882 queries. users per second: 34032.1"
      ]
     },
     "metadata": {},
     "output_type": "display_data"
    },
    {
     "data": {
      "text/html": [
       "<pre>recommendations finished on 37000/46882 queries. users per second: 34118</pre>"
      ],
      "text/plain": [
       "recommendations finished on 37000/46882 queries. users per second: 34118"
      ]
     },
     "metadata": {},
     "output_type": "display_data"
    },
    {
     "data": {
      "text/html": [
       "<pre>recommendations finished on 38000/46882 queries. users per second: 34118.2</pre>"
      ],
      "text/plain": [
       "recommendations finished on 38000/46882 queries. users per second: 34118.2"
      ]
     },
     "metadata": {},
     "output_type": "display_data"
    },
    {
     "data": {
      "text/html": [
       "<pre>recommendations finished on 39000/46882 queries. users per second: 34182.6</pre>"
      ],
      "text/plain": [
       "recommendations finished on 39000/46882 queries. users per second: 34182.6"
      ]
     },
     "metadata": {},
     "output_type": "display_data"
    },
    {
     "data": {
      "text/html": [
       "<pre>recommendations finished on 40000/46882 queries. users per second: 34222.5</pre>"
      ],
      "text/plain": [
       "recommendations finished on 40000/46882 queries. users per second: 34222.5"
      ]
     },
     "metadata": {},
     "output_type": "display_data"
    },
    {
     "data": {
      "text/html": [
       "<pre>recommendations finished on 41000/46882 queries. users per second: 34168.7</pre>"
      ],
      "text/plain": [
       "recommendations finished on 41000/46882 queries. users per second: 34168.7"
      ]
     },
     "metadata": {},
     "output_type": "display_data"
    },
    {
     "data": {
      "text/html": [
       "<pre>recommendations finished on 42000/46882 queries. users per second: 34225.8</pre>"
      ],
      "text/plain": [
       "recommendations finished on 42000/46882 queries. users per second: 34225.8"
      ]
     },
     "metadata": {},
     "output_type": "display_data"
    },
    {
     "data": {
      "text/html": [
       "<pre>recommendations finished on 43000/46882 queries. users per second: 34373.2</pre>"
      ],
      "text/plain": [
       "recommendations finished on 43000/46882 queries. users per second: 34373.2"
      ]
     },
     "metadata": {},
     "output_type": "display_data"
    },
    {
     "data": {
      "text/html": [
       "<pre>recommendations finished on 44000/46882 queries. users per second: 34525</pre>"
      ],
      "text/plain": [
       "recommendations finished on 44000/46882 queries. users per second: 34525"
      ]
     },
     "metadata": {},
     "output_type": "display_data"
    },
    {
     "data": {
      "text/html": [
       "<pre>recommendations finished on 45000/46882 queries. users per second: 34312.8</pre>"
      ],
      "text/plain": [
       "recommendations finished on 45000/46882 queries. users per second: 34312.8"
      ]
     },
     "metadata": {},
     "output_type": "display_data"
    },
    {
     "data": {
      "text/html": [
       "<pre>recommendations finished on 46000/46882 queries. users per second: 34236.7</pre>"
      ],
      "text/plain": [
       "recommendations finished on 46000/46882 queries. users per second: 34236.7"
      ]
     },
     "metadata": {},
     "output_type": "display_data"
    },
    {
     "name": "stdout",
     "output_type": "stream",
     "text": [
      "\n",
      "Precision and recall summary statistics by cutoff\n",
      "+--------+------------------------+------------------------+\n",
      "| cutoff |     mean_precision     |      mean_recall       |\n",
      "+--------+------------------------+------------------------+\n",
      "|   1    | 0.0002772919244059546  | 0.00014646701648109324 |\n",
      "|   2    | 0.00022396655432788563 | 0.0002202337784224231  |\n",
      "|   3    | 0.00020619143096853147 | 0.0003275955235129346  |\n",
      "|   4    | 0.00017597372125762633 | 0.00039691850461441927 |\n",
      "|   5    | 0.0001535770658248355  | 0.00042891372666126323 |\n",
      "|   6    | 0.00014220098687485035 | 0.00045450990429873693 |\n",
      "|   7    | 0.0001462638722141318  | 0.0005824907924860955  |\n",
      "|   8    | 0.00013597969369907428 | 0.0006144860145329414  |\n",
      "|   9    | 0.00014931103621858996 | 0.0007708563140285332  |\n",
      "|   10   | 0.0001578430954310815  | 0.0009379424736064813  |\n",
      "+--------+------------------------+------------------------+\n",
      "[10 rows x 3 columns]\n",
      "\n",
      "\n",
      "Overall RMSE: 0.0\n",
      "\n",
      "Per User RMSE (best)\n",
      "+------------+------+-------+\n",
      "|   LYBID    | rmse | count |\n",
      "+------------+------+-------+\n",
      "| 1031871100 | 0.0  |   3   |\n",
      "+------------+------+-------+\n",
      "[1 rows x 3 columns]\n",
      "\n",
      "\n",
      "Per User RMSE (worst)\n",
      "+----------+------+-------+\n",
      "|  LYBID   | rmse | count |\n",
      "+----------+------+-------+\n",
      "| 32600562 | 0.0  |   2   |\n",
      "+----------+------+-------+\n",
      "[1 rows x 3 columns]\n",
      "\n",
      "\n",
      "Per Item RMSE (best)\n",
      "+--------+------+-------+\n",
      "| ITEMID | rmse | count |\n",
      "+--------+------+-------+\n",
      "| 43595  | 0.0  |   20  |\n",
      "+--------+------+-------+\n",
      "[1 rows x 3 columns]\n",
      "\n",
      "\n",
      "Per Item RMSE (worst)\n",
      "+--------+------+-------+\n",
      "| ITEMID | rmse | count |\n",
      "+--------+------+-------+\n",
      "| 38036  | 0.0  |   33  |\n",
      "+--------+------+-------+\n",
      "[1 rows x 3 columns]\n",
      "\n",
      "PROGRESS: Evaluate model Cosine Similarity on Purchase Dummy\n"
     ]
    },
    {
     "data": {
      "text/html": [
       "<pre>recommendations finished on 1000/46882 queries. users per second: 30053.5</pre>"
      ],
      "text/plain": [
       "recommendations finished on 1000/46882 queries. users per second: 30053.5"
      ]
     },
     "metadata": {},
     "output_type": "display_data"
    },
    {
     "data": {
      "text/html": [
       "<pre>recommendations finished on 2000/46882 queries. users per second: 31457.9</pre>"
      ],
      "text/plain": [
       "recommendations finished on 2000/46882 queries. users per second: 31457.9"
      ]
     },
     "metadata": {},
     "output_type": "display_data"
    },
    {
     "data": {
      "text/html": [
       "<pre>recommendations finished on 3000/46882 queries. users per second: 29656</pre>"
      ],
      "text/plain": [
       "recommendations finished on 3000/46882 queries. users per second: 29656"
      ]
     },
     "metadata": {},
     "output_type": "display_data"
    },
    {
     "data": {
      "text/html": [
       "<pre>recommendations finished on 4000/46882 queries. users per second: 29951.8</pre>"
      ],
      "text/plain": [
       "recommendations finished on 4000/46882 queries. users per second: 29951.8"
      ]
     },
     "metadata": {},
     "output_type": "display_data"
    },
    {
     "data": {
      "text/html": [
       "<pre>recommendations finished on 5000/46882 queries. users per second: 29873.2</pre>"
      ],
      "text/plain": [
       "recommendations finished on 5000/46882 queries. users per second: 29873.2"
      ]
     },
     "metadata": {},
     "output_type": "display_data"
    },
    {
     "data": {
      "text/html": [
       "<pre>recommendations finished on 6000/46882 queries. users per second: 29076</pre>"
      ],
      "text/plain": [
       "recommendations finished on 6000/46882 queries. users per second: 29076"
      ]
     },
     "metadata": {},
     "output_type": "display_data"
    },
    {
     "data": {
      "text/html": [
       "<pre>recommendations finished on 7000/46882 queries. users per second: 29250.6</pre>"
      ],
      "text/plain": [
       "recommendations finished on 7000/46882 queries. users per second: 29250.6"
      ]
     },
     "metadata": {},
     "output_type": "display_data"
    },
    {
     "data": {
      "text/html": [
       "<pre>recommendations finished on 8000/46882 queries. users per second: 28966.4</pre>"
      ],
      "text/plain": [
       "recommendations finished on 8000/46882 queries. users per second: 28966.4"
      ]
     },
     "metadata": {},
     "output_type": "display_data"
    },
    {
     "data": {
      "text/html": [
       "<pre>recommendations finished on 9000/46882 queries. users per second: 28368.7</pre>"
      ],
      "text/plain": [
       "recommendations finished on 9000/46882 queries. users per second: 28368.7"
      ]
     },
     "metadata": {},
     "output_type": "display_data"
    },
    {
     "data": {
      "text/html": [
       "<pre>recommendations finished on 10000/46882 queries. users per second: 27860.4</pre>"
      ],
      "text/plain": [
       "recommendations finished on 10000/46882 queries. users per second: 27860.4"
      ]
     },
     "metadata": {},
     "output_type": "display_data"
    },
    {
     "data": {
      "text/html": [
       "<pre>recommendations finished on 11000/46882 queries. users per second: 27110.3</pre>"
      ],
      "text/plain": [
       "recommendations finished on 11000/46882 queries. users per second: 27110.3"
      ]
     },
     "metadata": {},
     "output_type": "display_data"
    },
    {
     "data": {
      "text/html": [
       "<pre>recommendations finished on 12000/46882 queries. users per second: 26702.7</pre>"
      ],
      "text/plain": [
       "recommendations finished on 12000/46882 queries. users per second: 26702.7"
      ]
     },
     "metadata": {},
     "output_type": "display_data"
    },
    {
     "data": {
      "text/html": [
       "<pre>recommendations finished on 13000/46882 queries. users per second: 26045.2</pre>"
      ],
      "text/plain": [
       "recommendations finished on 13000/46882 queries. users per second: 26045.2"
      ]
     },
     "metadata": {},
     "output_type": "display_data"
    },
    {
     "data": {
      "text/html": [
       "<pre>recommendations finished on 14000/46882 queries. users per second: 25795</pre>"
      ],
      "text/plain": [
       "recommendations finished on 14000/46882 queries. users per second: 25795"
      ]
     },
     "metadata": {},
     "output_type": "display_data"
    },
    {
     "data": {
      "text/html": [
       "<pre>recommendations finished on 15000/46882 queries. users per second: 25415.7</pre>"
      ],
      "text/plain": [
       "recommendations finished on 15000/46882 queries. users per second: 25415.7"
      ]
     },
     "metadata": {},
     "output_type": "display_data"
    },
    {
     "data": {
      "text/html": [
       "<pre>recommendations finished on 16000/46882 queries. users per second: 25480.1</pre>"
      ],
      "text/plain": [
       "recommendations finished on 16000/46882 queries. users per second: 25480.1"
      ]
     },
     "metadata": {},
     "output_type": "display_data"
    },
    {
     "data": {
      "text/html": [
       "<pre>recommendations finished on 17000/46882 queries. users per second: 25703.4</pre>"
      ],
      "text/plain": [
       "recommendations finished on 17000/46882 queries. users per second: 25703.4"
      ]
     },
     "metadata": {},
     "output_type": "display_data"
    },
    {
     "data": {
      "text/html": [
       "<pre>recommendations finished on 18000/46882 queries. users per second: 25700.5</pre>"
      ],
      "text/plain": [
       "recommendations finished on 18000/46882 queries. users per second: 25700.5"
      ]
     },
     "metadata": {},
     "output_type": "display_data"
    },
    {
     "data": {
      "text/html": [
       "<pre>recommendations finished on 19000/46882 queries. users per second: 25881.2</pre>"
      ],
      "text/plain": [
       "recommendations finished on 19000/46882 queries. users per second: 25881.2"
      ]
     },
     "metadata": {},
     "output_type": "display_data"
    },
    {
     "data": {
      "text/html": [
       "<pre>recommendations finished on 20000/46882 queries. users per second: 26005.8</pre>"
      ],
      "text/plain": [
       "recommendations finished on 20000/46882 queries. users per second: 26005.8"
      ]
     },
     "metadata": {},
     "output_type": "display_data"
    },
    {
     "data": {
      "text/html": [
       "<pre>recommendations finished on 21000/46882 queries. users per second: 25956.1</pre>"
      ],
      "text/plain": [
       "recommendations finished on 21000/46882 queries. users per second: 25956.1"
      ]
     },
     "metadata": {},
     "output_type": "display_data"
    },
    {
     "data": {
      "text/html": [
       "<pre>recommendations finished on 22000/46882 queries. users per second: 25780.7</pre>"
      ],
      "text/plain": [
       "recommendations finished on 22000/46882 queries. users per second: 25780.7"
      ]
     },
     "metadata": {},
     "output_type": "display_data"
    },
    {
     "data": {
      "text/html": [
       "<pre>recommendations finished on 23000/46882 queries. users per second: 25859.7</pre>"
      ],
      "text/plain": [
       "recommendations finished on 23000/46882 queries. users per second: 25859.7"
      ]
     },
     "metadata": {},
     "output_type": "display_data"
    },
    {
     "data": {
      "text/html": [
       "<pre>recommendations finished on 24000/46882 queries. users per second: 25840.5</pre>"
      ],
      "text/plain": [
       "recommendations finished on 24000/46882 queries. users per second: 25840.5"
      ]
     },
     "metadata": {},
     "output_type": "display_data"
    },
    {
     "data": {
      "text/html": [
       "<pre>recommendations finished on 25000/46882 queries. users per second: 25912.7</pre>"
      ],
      "text/plain": [
       "recommendations finished on 25000/46882 queries. users per second: 25912.7"
      ]
     },
     "metadata": {},
     "output_type": "display_data"
    },
    {
     "data": {
      "text/html": [
       "<pre>recommendations finished on 26000/46882 queries. users per second: 25817</pre>"
      ],
      "text/plain": [
       "recommendations finished on 26000/46882 queries. users per second: 25817"
      ]
     },
     "metadata": {},
     "output_type": "display_data"
    },
    {
     "data": {
      "text/html": [
       "<pre>recommendations finished on 27000/46882 queries. users per second: 25843.6</pre>"
      ],
      "text/plain": [
       "recommendations finished on 27000/46882 queries. users per second: 25843.6"
      ]
     },
     "metadata": {},
     "output_type": "display_data"
    },
    {
     "data": {
      "text/html": [
       "<pre>recommendations finished on 28000/46882 queries. users per second: 25741</pre>"
      ],
      "text/plain": [
       "recommendations finished on 28000/46882 queries. users per second: 25741"
      ]
     },
     "metadata": {},
     "output_type": "display_data"
    },
    {
     "data": {
      "text/html": [
       "<pre>recommendations finished on 29000/46882 queries. users per second: 25666.8</pre>"
      ],
      "text/plain": [
       "recommendations finished on 29000/46882 queries. users per second: 25666.8"
      ]
     },
     "metadata": {},
     "output_type": "display_data"
    },
    {
     "data": {
      "text/html": [
       "<pre>recommendations finished on 30000/46882 queries. users per second: 25554.4</pre>"
      ],
      "text/plain": [
       "recommendations finished on 30000/46882 queries. users per second: 25554.4"
      ]
     },
     "metadata": {},
     "output_type": "display_data"
    },
    {
     "data": {
      "text/html": [
       "<pre>recommendations finished on 31000/46882 queries. users per second: 25595.9</pre>"
      ],
      "text/plain": [
       "recommendations finished on 31000/46882 queries. users per second: 25595.9"
      ]
     },
     "metadata": {},
     "output_type": "display_data"
    },
    {
     "data": {
      "text/html": [
       "<pre>recommendations finished on 32000/46882 queries. users per second: 25643.9</pre>"
      ],
      "text/plain": [
       "recommendations finished on 32000/46882 queries. users per second: 25643.9"
      ]
     },
     "metadata": {},
     "output_type": "display_data"
    },
    {
     "data": {
      "text/html": [
       "<pre>recommendations finished on 33000/46882 queries. users per second: 25665.5</pre>"
      ],
      "text/plain": [
       "recommendations finished on 33000/46882 queries. users per second: 25665.5"
      ]
     },
     "metadata": {},
     "output_type": "display_data"
    },
    {
     "data": {
      "text/html": [
       "<pre>recommendations finished on 34000/46882 queries. users per second: 25721.9</pre>"
      ],
      "text/plain": [
       "recommendations finished on 34000/46882 queries. users per second: 25721.9"
      ]
     },
     "metadata": {},
     "output_type": "display_data"
    },
    {
     "data": {
      "text/html": [
       "<pre>recommendations finished on 35000/46882 queries. users per second: 25842.7</pre>"
      ],
      "text/plain": [
       "recommendations finished on 35000/46882 queries. users per second: 25842.7"
      ]
     },
     "metadata": {},
     "output_type": "display_data"
    },
    {
     "data": {
      "text/html": [
       "<pre>recommendations finished on 36000/46882 queries. users per second: 25989.3</pre>"
      ],
      "text/plain": [
       "recommendations finished on 36000/46882 queries. users per second: 25989.3"
      ]
     },
     "metadata": {},
     "output_type": "display_data"
    },
    {
     "data": {
      "text/html": [
       "<pre>recommendations finished on 37000/46882 queries. users per second: 26006.8</pre>"
      ],
      "text/plain": [
       "recommendations finished on 37000/46882 queries. users per second: 26006.8"
      ]
     },
     "metadata": {},
     "output_type": "display_data"
    },
    {
     "data": {
      "text/html": [
       "<pre>recommendations finished on 38000/46882 queries. users per second: 26061.5</pre>"
      ],
      "text/plain": [
       "recommendations finished on 38000/46882 queries. users per second: 26061.5"
      ]
     },
     "metadata": {},
     "output_type": "display_data"
    },
    {
     "data": {
      "text/html": [
       "<pre>recommendations finished on 39000/46882 queries. users per second: 25964</pre>"
      ],
      "text/plain": [
       "recommendations finished on 39000/46882 queries. users per second: 25964"
      ]
     },
     "metadata": {},
     "output_type": "display_data"
    },
    {
     "data": {
      "text/html": [
       "<pre>recommendations finished on 40000/46882 queries. users per second: 26002</pre>"
      ],
      "text/plain": [
       "recommendations finished on 40000/46882 queries. users per second: 26002"
      ]
     },
     "metadata": {},
     "output_type": "display_data"
    },
    {
     "data": {
      "text/html": [
       "<pre>recommendations finished on 41000/46882 queries. users per second: 26028.5</pre>"
      ],
      "text/plain": [
       "recommendations finished on 41000/46882 queries. users per second: 26028.5"
      ]
     },
     "metadata": {},
     "output_type": "display_data"
    },
    {
     "data": {
      "text/html": [
       "<pre>recommendations finished on 42000/46882 queries. users per second: 25932.1</pre>"
      ],
      "text/plain": [
       "recommendations finished on 42000/46882 queries. users per second: 25932.1"
      ]
     },
     "metadata": {},
     "output_type": "display_data"
    },
    {
     "data": {
      "text/html": [
       "<pre>recommendations finished on 43000/46882 queries. users per second: 25884.3</pre>"
      ],
      "text/plain": [
       "recommendations finished on 43000/46882 queries. users per second: 25884.3"
      ]
     },
     "metadata": {},
     "output_type": "display_data"
    },
    {
     "data": {
      "text/html": [
       "<pre>recommendations finished on 44000/46882 queries. users per second: 25765.1</pre>"
      ],
      "text/plain": [
       "recommendations finished on 44000/46882 queries. users per second: 25765.1"
      ]
     },
     "metadata": {},
     "output_type": "display_data"
    },
    {
     "data": {
      "text/html": [
       "<pre>recommendations finished on 45000/46882 queries. users per second: 25719.3</pre>"
      ],
      "text/plain": [
       "recommendations finished on 45000/46882 queries. users per second: 25719.3"
      ]
     },
     "metadata": {},
     "output_type": "display_data"
    },
    {
     "data": {
      "text/html": [
       "<pre>recommendations finished on 46000/46882 queries. users per second: 25476.3</pre>"
      ],
      "text/plain": [
       "recommendations finished on 46000/46882 queries. users per second: 25476.3"
      ]
     },
     "metadata": {},
     "output_type": "display_data"
    },
    {
     "name": "stdout",
     "output_type": "stream",
     "text": [
      "\n",
      "Precision and recall summary statistics by cutoff\n",
      "+--------+----------------------+---------------------+\n",
      "| cutoff |    mean_precision    |     mean_recall     |\n",
      "+--------+----------------------+---------------------+\n",
      "|   1    | 0.09112239238940292  | 0.06299956010285963 |\n",
      "|   2    | 0.07237319226995476  | 0.09842490435035275 |\n",
      "|   3    | 0.06150903687271666  | 0.12424859625671045 |\n",
      "|   4    | 0.05408792287018459  | 0.14500307578447863 |\n",
      "|   5    |  0.0487607183993858  | 0.16259764179157668 |\n",
      "|   6    | 0.04452312899051525  | 0.17725783853471813 |\n",
      "|   7    | 0.041109289584184375 | 0.19081146927981893 |\n",
      "|   8    | 0.038290281984557153 |  0.2029215596371595 |\n",
      "|   9    | 0.03591522925169074  | 0.21384947363518733 |\n",
      "|   10   | 0.03385947698477067  |  0.2236334504123605 |\n",
      "+--------+----------------------+---------------------+\n",
      "[10 rows x 3 columns]\n",
      "\n",
      "\n",
      "Overall RMSE: 0.9814789708981958\n",
      "\n",
      "Per User RMSE (best)\n",
      "+------------+--------------------+-------+\n",
      "|   LYBID    |        rmse        | count |\n",
      "+------------+--------------------+-------+\n",
      "| 1031150080 | 0.6012954413890839 |   1   |\n",
      "+------------+--------------------+-------+\n",
      "[1 rows x 3 columns]\n",
      "\n",
      "\n",
      "Per User RMSE (worst)\n",
      "+------------+------+-------+\n",
      "|   LYBID    | rmse | count |\n",
      "+------------+------+-------+\n",
      "| 1031396758 | 1.0  |   1   |\n",
      "+------------+------+-------+\n",
      "[1 rows x 3 columns]\n",
      "\n",
      "\n",
      "Per Item RMSE (best)\n",
      "+--------+--------------------+-------+\n",
      "| ITEMID |        rmse        | count |\n",
      "+--------+--------------------+-------+\n",
      "| 44168  | 0.8652277343834599 |   32  |\n",
      "+--------+--------------------+-------+\n",
      "[1 rows x 3 columns]\n",
      "\n",
      "\n",
      "Per Item RMSE (worst)\n",
      "+--------+------+-------+\n",
      "| ITEMID | rmse | count |\n",
      "+--------+------+-------+\n",
      "| 37874  | 1.0  |   1   |\n",
      "+--------+------+-------+\n",
      "[1 rows x 3 columns]\n",
      "\n",
      "PROGRESS: Evaluate model Pearson Similarity on Purchase Dummy\n"
     ]
    },
    {
     "data": {
      "text/html": [
       "<pre>recommendations finished on 1000/46882 queries. users per second: 33961.6</pre>"
      ],
      "text/plain": [
       "recommendations finished on 1000/46882 queries. users per second: 33961.6"
      ]
     },
     "metadata": {},
     "output_type": "display_data"
    },
    {
     "data": {
      "text/html": [
       "<pre>recommendations finished on 2000/46882 queries. users per second: 31993.9</pre>"
      ],
      "text/plain": [
       "recommendations finished on 2000/46882 queries. users per second: 31993.9"
      ]
     },
     "metadata": {},
     "output_type": "display_data"
    },
    {
     "data": {
      "text/html": [
       "<pre>recommendations finished on 3000/46882 queries. users per second: 31698.4</pre>"
      ],
      "text/plain": [
       "recommendations finished on 3000/46882 queries. users per second: 31698.4"
      ]
     },
     "metadata": {},
     "output_type": "display_data"
    },
    {
     "data": {
      "text/html": [
       "<pre>recommendations finished on 4000/46882 queries. users per second: 31182</pre>"
      ],
      "text/plain": [
       "recommendations finished on 4000/46882 queries. users per second: 31182"
      ]
     },
     "metadata": {},
     "output_type": "display_data"
    },
    {
     "data": {
      "text/html": [
       "<pre>recommendations finished on 5000/46882 queries. users per second: 30474.4</pre>"
      ],
      "text/plain": [
       "recommendations finished on 5000/46882 queries. users per second: 30474.4"
      ]
     },
     "metadata": {},
     "output_type": "display_data"
    },
    {
     "data": {
      "text/html": [
       "<pre>recommendations finished on 6000/46882 queries. users per second: 30679.9</pre>"
      ],
      "text/plain": [
       "recommendations finished on 6000/46882 queries. users per second: 30679.9"
      ]
     },
     "metadata": {},
     "output_type": "display_data"
    },
    {
     "data": {
      "text/html": [
       "<pre>recommendations finished on 7000/46882 queries. users per second: 30866.8</pre>"
      ],
      "text/plain": [
       "recommendations finished on 7000/46882 queries. users per second: 30866.8"
      ]
     },
     "metadata": {},
     "output_type": "display_data"
    },
    {
     "data": {
      "text/html": [
       "<pre>recommendations finished on 8000/46882 queries. users per second: 30761.4</pre>"
      ],
      "text/plain": [
       "recommendations finished on 8000/46882 queries. users per second: 30761.4"
      ]
     },
     "metadata": {},
     "output_type": "display_data"
    },
    {
     "data": {
      "text/html": [
       "<pre>recommendations finished on 9000/46882 queries. users per second: 30786.4</pre>"
      ],
      "text/plain": [
       "recommendations finished on 9000/46882 queries. users per second: 30786.4"
      ]
     },
     "metadata": {},
     "output_type": "display_data"
    },
    {
     "data": {
      "text/html": [
       "<pre>recommendations finished on 10000/46882 queries. users per second: 30117.3</pre>"
      ],
      "text/plain": [
       "recommendations finished on 10000/46882 queries. users per second: 30117.3"
      ]
     },
     "metadata": {},
     "output_type": "display_data"
    },
    {
     "data": {
      "text/html": [
       "<pre>recommendations finished on 11000/46882 queries. users per second: 29817.5</pre>"
      ],
      "text/plain": [
       "recommendations finished on 11000/46882 queries. users per second: 29817.5"
      ]
     },
     "metadata": {},
     "output_type": "display_data"
    },
    {
     "data": {
      "text/html": [
       "<pre>recommendations finished on 12000/46882 queries. users per second: 29327.1</pre>"
      ],
      "text/plain": [
       "recommendations finished on 12000/46882 queries. users per second: 29327.1"
      ]
     },
     "metadata": {},
     "output_type": "display_data"
    },
    {
     "data": {
      "text/html": [
       "<pre>recommendations finished on 13000/46882 queries. users per second: 29581.1</pre>"
      ],
      "text/plain": [
       "recommendations finished on 13000/46882 queries. users per second: 29581.1"
      ]
     },
     "metadata": {},
     "output_type": "display_data"
    },
    {
     "data": {
      "text/html": [
       "<pre>recommendations finished on 14000/46882 queries. users per second: 29499.8</pre>"
      ],
      "text/plain": [
       "recommendations finished on 14000/46882 queries. users per second: 29499.8"
      ]
     },
     "metadata": {},
     "output_type": "display_data"
    },
    {
     "data": {
      "text/html": [
       "<pre>recommendations finished on 15000/46882 queries. users per second: 29635.8</pre>"
      ],
      "text/plain": [
       "recommendations finished on 15000/46882 queries. users per second: 29635.8"
      ]
     },
     "metadata": {},
     "output_type": "display_data"
    },
    {
     "data": {
      "text/html": [
       "<pre>recommendations finished on 16000/46882 queries. users per second: 29751.8</pre>"
      ],
      "text/plain": [
       "recommendations finished on 16000/46882 queries. users per second: 29751.8"
      ]
     },
     "metadata": {},
     "output_type": "display_data"
    },
    {
     "data": {
      "text/html": [
       "<pre>recommendations finished on 17000/46882 queries. users per second: 29935.2</pre>"
      ],
      "text/plain": [
       "recommendations finished on 17000/46882 queries. users per second: 29935.2"
      ]
     },
     "metadata": {},
     "output_type": "display_data"
    },
    {
     "data": {
      "text/html": [
       "<pre>recommendations finished on 18000/46882 queries. users per second: 30237.2</pre>"
      ],
      "text/plain": [
       "recommendations finished on 18000/46882 queries. users per second: 30237.2"
      ]
     },
     "metadata": {},
     "output_type": "display_data"
    },
    {
     "data": {
      "text/html": [
       "<pre>recommendations finished on 19000/46882 queries. users per second: 30425.4</pre>"
      ],
      "text/plain": [
       "recommendations finished on 19000/46882 queries. users per second: 30425.4"
      ]
     },
     "metadata": {},
     "output_type": "display_data"
    },
    {
     "data": {
      "text/html": [
       "<pre>recommendations finished on 20000/46882 queries. users per second: 29952.9</pre>"
      ],
      "text/plain": [
       "recommendations finished on 20000/46882 queries. users per second: 29952.9"
      ]
     },
     "metadata": {},
     "output_type": "display_data"
    },
    {
     "data": {
      "text/html": [
       "<pre>recommendations finished on 21000/46882 queries. users per second: 30238.1</pre>"
      ],
      "text/plain": [
       "recommendations finished on 21000/46882 queries. users per second: 30238.1"
      ]
     },
     "metadata": {},
     "output_type": "display_data"
    },
    {
     "data": {
      "text/html": [
       "<pre>recommendations finished on 22000/46882 queries. users per second: 30444.4</pre>"
      ],
      "text/plain": [
       "recommendations finished on 22000/46882 queries. users per second: 30444.4"
      ]
     },
     "metadata": {},
     "output_type": "display_data"
    },
    {
     "data": {
      "text/html": [
       "<pre>recommendations finished on 23000/46882 queries. users per second: 30502.9</pre>"
      ],
      "text/plain": [
       "recommendations finished on 23000/46882 queries. users per second: 30502.9"
      ]
     },
     "metadata": {},
     "output_type": "display_data"
    },
    {
     "data": {
      "text/html": [
       "<pre>recommendations finished on 24000/46882 queries. users per second: 30423.4</pre>"
      ],
      "text/plain": [
       "recommendations finished on 24000/46882 queries. users per second: 30423.4"
      ]
     },
     "metadata": {},
     "output_type": "display_data"
    },
    {
     "data": {
      "text/html": [
       "<pre>recommendations finished on 25000/46882 queries. users per second: 30190.5</pre>"
      ],
      "text/plain": [
       "recommendations finished on 25000/46882 queries. users per second: 30190.5"
      ]
     },
     "metadata": {},
     "output_type": "display_data"
    },
    {
     "data": {
      "text/html": [
       "<pre>recommendations finished on 26000/46882 queries. users per second: 30118.7</pre>"
      ],
      "text/plain": [
       "recommendations finished on 26000/46882 queries. users per second: 30118.7"
      ]
     },
     "metadata": {},
     "output_type": "display_data"
    },
    {
     "data": {
      "text/html": [
       "<pre>recommendations finished on 27000/46882 queries. users per second: 29872.2</pre>"
      ],
      "text/plain": [
       "recommendations finished on 27000/46882 queries. users per second: 29872.2"
      ]
     },
     "metadata": {},
     "output_type": "display_data"
    },
    {
     "data": {
      "text/html": [
       "<pre>recommendations finished on 28000/46882 queries. users per second: 29937</pre>"
      ],
      "text/plain": [
       "recommendations finished on 28000/46882 queries. users per second: 29937"
      ]
     },
     "metadata": {},
     "output_type": "display_data"
    },
    {
     "data": {
      "text/html": [
       "<pre>recommendations finished on 29000/46882 queries. users per second: 29837.3</pre>"
      ],
      "text/plain": [
       "recommendations finished on 29000/46882 queries. users per second: 29837.3"
      ]
     },
     "metadata": {},
     "output_type": "display_data"
    },
    {
     "data": {
      "text/html": [
       "<pre>recommendations finished on 30000/46882 queries. users per second: 29865.9</pre>"
      ],
      "text/plain": [
       "recommendations finished on 30000/46882 queries. users per second: 29865.9"
      ]
     },
     "metadata": {},
     "output_type": "display_data"
    },
    {
     "data": {
      "text/html": [
       "<pre>recommendations finished on 31000/46882 queries. users per second: 29748</pre>"
      ],
      "text/plain": [
       "recommendations finished on 31000/46882 queries. users per second: 29748"
      ]
     },
     "metadata": {},
     "output_type": "display_data"
    },
    {
     "data": {
      "text/html": [
       "<pre>recommendations finished on 32000/46882 queries. users per second: 29975.7</pre>"
      ],
      "text/plain": [
       "recommendations finished on 32000/46882 queries. users per second: 29975.7"
      ]
     },
     "metadata": {},
     "output_type": "display_data"
    },
    {
     "data": {
      "text/html": [
       "<pre>recommendations finished on 33000/46882 queries. users per second: 30006.7</pre>"
      ],
      "text/plain": [
       "recommendations finished on 33000/46882 queries. users per second: 30006.7"
      ]
     },
     "metadata": {},
     "output_type": "display_data"
    },
    {
     "data": {
      "text/html": [
       "<pre>recommendations finished on 34000/46882 queries. users per second: 30048.4</pre>"
      ],
      "text/plain": [
       "recommendations finished on 34000/46882 queries. users per second: 30048.4"
      ]
     },
     "metadata": {},
     "output_type": "display_data"
    },
    {
     "data": {
      "text/html": [
       "<pre>recommendations finished on 35000/46882 queries. users per second: 30064.8</pre>"
      ],
      "text/plain": [
       "recommendations finished on 35000/46882 queries. users per second: 30064.8"
      ]
     },
     "metadata": {},
     "output_type": "display_data"
    },
    {
     "data": {
      "text/html": [
       "<pre>recommendations finished on 36000/46882 queries. users per second: 30139.4</pre>"
      ],
      "text/plain": [
       "recommendations finished on 36000/46882 queries. users per second: 30139.4"
      ]
     },
     "metadata": {},
     "output_type": "display_data"
    },
    {
     "data": {
      "text/html": [
       "<pre>recommendations finished on 37000/46882 queries. users per second: 30280.4</pre>"
      ],
      "text/plain": [
       "recommendations finished on 37000/46882 queries. users per second: 30280.4"
      ]
     },
     "metadata": {},
     "output_type": "display_data"
    },
    {
     "data": {
      "text/html": [
       "<pre>recommendations finished on 38000/46882 queries. users per second: 30360.7</pre>"
      ],
      "text/plain": [
       "recommendations finished on 38000/46882 queries. users per second: 30360.7"
      ]
     },
     "metadata": {},
     "output_type": "display_data"
    },
    {
     "data": {
      "text/html": [
       "<pre>recommendations finished on 39000/46882 queries. users per second: 30378.6</pre>"
      ],
      "text/plain": [
       "recommendations finished on 39000/46882 queries. users per second: 30378.6"
      ]
     },
     "metadata": {},
     "output_type": "display_data"
    },
    {
     "data": {
      "text/html": [
       "<pre>recommendations finished on 40000/46882 queries. users per second: 30460.2</pre>"
      ],
      "text/plain": [
       "recommendations finished on 40000/46882 queries. users per second: 30460.2"
      ]
     },
     "metadata": {},
     "output_type": "display_data"
    },
    {
     "data": {
      "text/html": [
       "<pre>recommendations finished on 41000/46882 queries. users per second: 30507.4</pre>"
      ],
      "text/plain": [
       "recommendations finished on 41000/46882 queries. users per second: 30507.4"
      ]
     },
     "metadata": {},
     "output_type": "display_data"
    },
    {
     "data": {
      "text/html": [
       "<pre>recommendations finished on 42000/46882 queries. users per second: 30435</pre>"
      ],
      "text/plain": [
       "recommendations finished on 42000/46882 queries. users per second: 30435"
      ]
     },
     "metadata": {},
     "output_type": "display_data"
    },
    {
     "data": {
      "text/html": [
       "<pre>recommendations finished on 43000/46882 queries. users per second: 30481.8</pre>"
      ],
      "text/plain": [
       "recommendations finished on 43000/46882 queries. users per second: 30481.8"
      ]
     },
     "metadata": {},
     "output_type": "display_data"
    },
    {
     "data": {
      "text/html": [
       "<pre>recommendations finished on 44000/46882 queries. users per second: 30528.1</pre>"
      ],
      "text/plain": [
       "recommendations finished on 44000/46882 queries. users per second: 30528.1"
      ]
     },
     "metadata": {},
     "output_type": "display_data"
    },
    {
     "data": {
      "text/html": [
       "<pre>recommendations finished on 45000/46882 queries. users per second: 30597.4</pre>"
      ],
      "text/plain": [
       "recommendations finished on 45000/46882 queries. users per second: 30597.4"
      ]
     },
     "metadata": {},
     "output_type": "display_data"
    },
    {
     "data": {
      "text/html": [
       "<pre>recommendations finished on 46000/46882 queries. users per second: 30216.2</pre>"
      ],
      "text/plain": [
       "recommendations finished on 46000/46882 queries. users per second: 30216.2"
      ]
     },
     "metadata": {},
     "output_type": "display_data"
    },
    {
     "name": "stdout",
     "output_type": "stream",
     "text": [
      "\n",
      "Precision and recall summary statistics by cutoff\n",
      "+--------+------------------------+------------------------+\n",
      "| cutoff |     mean_precision     |      mean_recall       |\n",
      "+--------+------------------------+------------------------+\n",
      "|   1    | 0.00010665074015613798 | 5.4036375012442895e-05 |\n",
      "|   2    | 8.532059212490934e-05  | 9.314164640302634e-05  |\n",
      "|   3    | 7.821054278116642e-05  | 0.0001429119918092236  |\n",
      "|   4    | 7.465551810929518e-05  | 0.00018023975086387106 |\n",
      "|   5    | 6.825647369992793e-05  | 0.0001916158298138589  |\n",
      "|   6    | 6.754546876555276e-05  | 0.00022538856419663386 |\n",
      "|   7    | 6.094328008922046e-05  | 0.00022805483270053737 |\n",
      "|   8    | 5.332537007806865e-05  | 0.00022805483270053737 |\n",
      "|   9    | 5.925041119785348e-05  | 0.00030182159464186604 |\n",
      "|   10   | 5.972441448743649e-05  | 0.0003409268660324512  |\n",
      "+--------+------------------------+------------------------+\n",
      "[10 rows x 3 columns]\n",
      "\n",
      "\n",
      "Overall RMSE: 1.0\n",
      "\n",
      "Per User RMSE (best)\n",
      "+------------+------+-------+\n",
      "|   LYBID    | rmse | count |\n",
      "+------------+------+-------+\n",
      "| 1031871100 | 1.0  |   3   |\n",
      "+------------+------+-------+\n",
      "[1 rows x 3 columns]\n",
      "\n",
      "\n",
      "Per User RMSE (worst)\n",
      "+----------+------+-------+\n",
      "|  LYBID   | rmse | count |\n",
      "+----------+------+-------+\n",
      "| 32600562 | 1.0  |   2   |\n",
      "+----------+------+-------+\n",
      "[1 rows x 3 columns]\n",
      "\n",
      "\n",
      "Per Item RMSE (best)\n",
      "+--------+------+-------+\n",
      "| ITEMID | rmse | count |\n",
      "+--------+------+-------+\n",
      "| 43595  | 1.0  |   20  |\n",
      "+--------+------+-------+\n",
      "[1 rows x 3 columns]\n",
      "\n",
      "\n",
      "Per Item RMSE (worst)\n",
      "+--------+------+-------+\n",
      "| ITEMID | rmse | count |\n",
      "+--------+------+-------+\n",
      "| 38036  | 1.0  |   33  |\n",
      "+--------+------+-------+\n",
      "[1 rows x 3 columns]\n",
      "\n"
     ]
    }
   ],
   "source": [
    "eval_dummy = tc.recommender.util.compare_models(test_data_dummy, models_w_dummy, model_names=names_w_dummy)"
   ]
  },
  {
   "cell_type": "markdown",
   "metadata": {},
   "source": [
    "#### Models on normalized purchase frequency"
   ]
  },
  {
   "cell_type": "code",
   "execution_count": 33,
   "metadata": {
    "scrolled": false
   },
   "outputs": [
    {
     "name": "stdout",
     "output_type": "stream",
     "text": [
      "PROGRESS: Evaluate model Popularity Model on Scaled Purchase Counts\n"
     ]
    },
    {
     "data": {
      "text/html": [
       "<pre>recommendations finished on 1000/46585 queries. users per second: 39726.7</pre>"
      ],
      "text/plain": [
       "recommendations finished on 1000/46585 queries. users per second: 39726.7"
      ]
     },
     "metadata": {},
     "output_type": "display_data"
    },
    {
     "data": {
      "text/html": [
       "<pre>recommendations finished on 2000/46585 queries. users per second: 41724</pre>"
      ],
      "text/plain": [
       "recommendations finished on 2000/46585 queries. users per second: 41724"
      ]
     },
     "metadata": {},
     "output_type": "display_data"
    },
    {
     "data": {
      "text/html": [
       "<pre>recommendations finished on 3000/46585 queries. users per second: 42101.7</pre>"
      ],
      "text/plain": [
       "recommendations finished on 3000/46585 queries. users per second: 42101.7"
      ]
     },
     "metadata": {},
     "output_type": "display_data"
    },
    {
     "data": {
      "text/html": [
       "<pre>recommendations finished on 4000/46585 queries. users per second: 41757.1</pre>"
      ],
      "text/plain": [
       "recommendations finished on 4000/46585 queries. users per second: 41757.1"
      ]
     },
     "metadata": {},
     "output_type": "display_data"
    },
    {
     "data": {
      "text/html": [
       "<pre>recommendations finished on 5000/46585 queries. users per second: 40734.2</pre>"
      ],
      "text/plain": [
       "recommendations finished on 5000/46585 queries. users per second: 40734.2"
      ]
     },
     "metadata": {},
     "output_type": "display_data"
    },
    {
     "data": {
      "text/html": [
       "<pre>recommendations finished on 6000/46585 queries. users per second: 39751.7</pre>"
      ],
      "text/plain": [
       "recommendations finished on 6000/46585 queries. users per second: 39751.7"
      ]
     },
     "metadata": {},
     "output_type": "display_data"
    },
    {
     "data": {
      "text/html": [
       "<pre>recommendations finished on 7000/46585 queries. users per second: 40089.6</pre>"
      ],
      "text/plain": [
       "recommendations finished on 7000/46585 queries. users per second: 40089.6"
      ]
     },
     "metadata": {},
     "output_type": "display_data"
    },
    {
     "data": {
      "text/html": [
       "<pre>recommendations finished on 8000/46585 queries. users per second: 38253.2</pre>"
      ],
      "text/plain": [
       "recommendations finished on 8000/46585 queries. users per second: 38253.2"
      ]
     },
     "metadata": {},
     "output_type": "display_data"
    },
    {
     "data": {
      "text/html": [
       "<pre>recommendations finished on 9000/46585 queries. users per second: 37678.5</pre>"
      ],
      "text/plain": [
       "recommendations finished on 9000/46585 queries. users per second: 37678.5"
      ]
     },
     "metadata": {},
     "output_type": "display_data"
    },
    {
     "data": {
      "text/html": [
       "<pre>recommendations finished on 10000/46585 queries. users per second: 37684.2</pre>"
      ],
      "text/plain": [
       "recommendations finished on 10000/46585 queries. users per second: 37684.2"
      ]
     },
     "metadata": {},
     "output_type": "display_data"
    },
    {
     "data": {
      "text/html": [
       "<pre>recommendations finished on 11000/46585 queries. users per second: 37574.2</pre>"
      ],
      "text/plain": [
       "recommendations finished on 11000/46585 queries. users per second: 37574.2"
      ]
     },
     "metadata": {},
     "output_type": "display_data"
    },
    {
     "data": {
      "text/html": [
       "<pre>recommendations finished on 12000/46585 queries. users per second: 37009.5</pre>"
      ],
      "text/plain": [
       "recommendations finished on 12000/46585 queries. users per second: 37009.5"
      ]
     },
     "metadata": {},
     "output_type": "display_data"
    },
    {
     "data": {
      "text/html": [
       "<pre>recommendations finished on 13000/46585 queries. users per second: 37348</pre>"
      ],
      "text/plain": [
       "recommendations finished on 13000/46585 queries. users per second: 37348"
      ]
     },
     "metadata": {},
     "output_type": "display_data"
    },
    {
     "data": {
      "text/html": [
       "<pre>recommendations finished on 14000/46585 queries. users per second: 37614.9</pre>"
      ],
      "text/plain": [
       "recommendations finished on 14000/46585 queries. users per second: 37614.9"
      ]
     },
     "metadata": {},
     "output_type": "display_data"
    },
    {
     "data": {
      "text/html": [
       "<pre>recommendations finished on 15000/46585 queries. users per second: 36963.7</pre>"
      ],
      "text/plain": [
       "recommendations finished on 15000/46585 queries. users per second: 36963.7"
      ]
     },
     "metadata": {},
     "output_type": "display_data"
    },
    {
     "data": {
      "text/html": [
       "<pre>recommendations finished on 16000/46585 queries. users per second: 37082.9</pre>"
      ],
      "text/plain": [
       "recommendations finished on 16000/46585 queries. users per second: 37082.9"
      ]
     },
     "metadata": {},
     "output_type": "display_data"
    },
    {
     "data": {
      "text/html": [
       "<pre>recommendations finished on 17000/46585 queries. users per second: 35745.4</pre>"
      ],
      "text/plain": [
       "recommendations finished on 17000/46585 queries. users per second: 35745.4"
      ]
     },
     "metadata": {},
     "output_type": "display_data"
    },
    {
     "data": {
      "text/html": [
       "<pre>recommendations finished on 18000/46585 queries. users per second: 35919.1</pre>"
      ],
      "text/plain": [
       "recommendations finished on 18000/46585 queries. users per second: 35919.1"
      ]
     },
     "metadata": {},
     "output_type": "display_data"
    },
    {
     "data": {
      "text/html": [
       "<pre>recommendations finished on 19000/46585 queries. users per second: 36030.6</pre>"
      ],
      "text/plain": [
       "recommendations finished on 19000/46585 queries. users per second: 36030.6"
      ]
     },
     "metadata": {},
     "output_type": "display_data"
    },
    {
     "data": {
      "text/html": [
       "<pre>recommendations finished on 20000/46585 queries. users per second: 36531.2</pre>"
      ],
      "text/plain": [
       "recommendations finished on 20000/46585 queries. users per second: 36531.2"
      ]
     },
     "metadata": {},
     "output_type": "display_data"
    },
    {
     "data": {
      "text/html": [
       "<pre>recommendations finished on 21000/46585 queries. users per second: 36339.2</pre>"
      ],
      "text/plain": [
       "recommendations finished on 21000/46585 queries. users per second: 36339.2"
      ]
     },
     "metadata": {},
     "output_type": "display_data"
    },
    {
     "data": {
      "text/html": [
       "<pre>recommendations finished on 22000/46585 queries. users per second: 36644.7</pre>"
      ],
      "text/plain": [
       "recommendations finished on 22000/46585 queries. users per second: 36644.7"
      ]
     },
     "metadata": {},
     "output_type": "display_data"
    },
    {
     "data": {
      "text/html": [
       "<pre>recommendations finished on 23000/46585 queries. users per second: 36964.3</pre>"
      ],
      "text/plain": [
       "recommendations finished on 23000/46585 queries. users per second: 36964.3"
      ]
     },
     "metadata": {},
     "output_type": "display_data"
    },
    {
     "data": {
      "text/html": [
       "<pre>recommendations finished on 24000/46585 queries. users per second: 37070.7</pre>"
      ],
      "text/plain": [
       "recommendations finished on 24000/46585 queries. users per second: 37070.7"
      ]
     },
     "metadata": {},
     "output_type": "display_data"
    },
    {
     "data": {
      "text/html": [
       "<pre>recommendations finished on 25000/46585 queries. users per second: 37444</pre>"
      ],
      "text/plain": [
       "recommendations finished on 25000/46585 queries. users per second: 37444"
      ]
     },
     "metadata": {},
     "output_type": "display_data"
    },
    {
     "data": {
      "text/html": [
       "<pre>recommendations finished on 26000/46585 queries. users per second: 37661.8</pre>"
      ],
      "text/plain": [
       "recommendations finished on 26000/46585 queries. users per second: 37661.8"
      ]
     },
     "metadata": {},
     "output_type": "display_data"
    },
    {
     "data": {
      "text/html": [
       "<pre>recommendations finished on 27000/46585 queries. users per second: 37897.8</pre>"
      ],
      "text/plain": [
       "recommendations finished on 27000/46585 queries. users per second: 37897.8"
      ]
     },
     "metadata": {},
     "output_type": "display_data"
    },
    {
     "data": {
      "text/html": [
       "<pre>recommendations finished on 28000/46585 queries. users per second: 37976.7</pre>"
      ],
      "text/plain": [
       "recommendations finished on 28000/46585 queries. users per second: 37976.7"
      ]
     },
     "metadata": {},
     "output_type": "display_data"
    },
    {
     "data": {
      "text/html": [
       "<pre>recommendations finished on 29000/46585 queries. users per second: 38125.5</pre>"
      ],
      "text/plain": [
       "recommendations finished on 29000/46585 queries. users per second: 38125.5"
      ]
     },
     "metadata": {},
     "output_type": "display_data"
    },
    {
     "data": {
      "text/html": [
       "<pre>recommendations finished on 30000/46585 queries. users per second: 38376.2</pre>"
      ],
      "text/plain": [
       "recommendations finished on 30000/46585 queries. users per second: 38376.2"
      ]
     },
     "metadata": {},
     "output_type": "display_data"
    },
    {
     "data": {
      "text/html": [
       "<pre>recommendations finished on 31000/46585 queries. users per second: 38407.8</pre>"
      ],
      "text/plain": [
       "recommendations finished on 31000/46585 queries. users per second: 38407.8"
      ]
     },
     "metadata": {},
     "output_type": "display_data"
    },
    {
     "data": {
      "text/html": [
       "<pre>recommendations finished on 32000/46585 queries. users per second: 38543.3</pre>"
      ],
      "text/plain": [
       "recommendations finished on 32000/46585 queries. users per second: 38543.3"
      ]
     },
     "metadata": {},
     "output_type": "display_data"
    },
    {
     "data": {
      "text/html": [
       "<pre>recommendations finished on 33000/46585 queries. users per second: 38579.2</pre>"
      ],
      "text/plain": [
       "recommendations finished on 33000/46585 queries. users per second: 38579.2"
      ]
     },
     "metadata": {},
     "output_type": "display_data"
    },
    {
     "data": {
      "text/html": [
       "<pre>recommendations finished on 34000/46585 queries. users per second: 38235</pre>"
      ],
      "text/plain": [
       "recommendations finished on 34000/46585 queries. users per second: 38235"
      ]
     },
     "metadata": {},
     "output_type": "display_data"
    },
    {
     "data": {
      "text/html": [
       "<pre>recommendations finished on 35000/46585 queries. users per second: 38084.2</pre>"
      ],
      "text/plain": [
       "recommendations finished on 35000/46585 queries. users per second: 38084.2"
      ]
     },
     "metadata": {},
     "output_type": "display_data"
    },
    {
     "data": {
      "text/html": [
       "<pre>recommendations finished on 36000/46585 queries. users per second: 38043.9</pre>"
      ],
      "text/plain": [
       "recommendations finished on 36000/46585 queries. users per second: 38043.9"
      ]
     },
     "metadata": {},
     "output_type": "display_data"
    },
    {
     "data": {
      "text/html": [
       "<pre>recommendations finished on 37000/46585 queries. users per second: 37878.7</pre>"
      ],
      "text/plain": [
       "recommendations finished on 37000/46585 queries. users per second: 37878.7"
      ]
     },
     "metadata": {},
     "output_type": "display_data"
    },
    {
     "data": {
      "text/html": [
       "<pre>recommendations finished on 38000/46585 queries. users per second: 37624.5</pre>"
      ],
      "text/plain": [
       "recommendations finished on 38000/46585 queries. users per second: 37624.5"
      ]
     },
     "metadata": {},
     "output_type": "display_data"
    },
    {
     "data": {
      "text/html": [
       "<pre>recommendations finished on 39000/46585 queries. users per second: 37346.4</pre>"
      ],
      "text/plain": [
       "recommendations finished on 39000/46585 queries. users per second: 37346.4"
      ]
     },
     "metadata": {},
     "output_type": "display_data"
    },
    {
     "data": {
      "text/html": [
       "<pre>recommendations finished on 40000/46585 queries. users per second: 37436.9</pre>"
      ],
      "text/plain": [
       "recommendations finished on 40000/46585 queries. users per second: 37436.9"
      ]
     },
     "metadata": {},
     "output_type": "display_data"
    },
    {
     "data": {
      "text/html": [
       "<pre>recommendations finished on 41000/46585 queries. users per second: 37518.7</pre>"
      ],
      "text/plain": [
       "recommendations finished on 41000/46585 queries. users per second: 37518.7"
      ]
     },
     "metadata": {},
     "output_type": "display_data"
    },
    {
     "data": {
      "text/html": [
       "<pre>recommendations finished on 42000/46585 queries. users per second: 37561.1</pre>"
      ],
      "text/plain": [
       "recommendations finished on 42000/46585 queries. users per second: 37561.1"
      ]
     },
     "metadata": {},
     "output_type": "display_data"
    },
    {
     "data": {
      "text/html": [
       "<pre>recommendations finished on 43000/46585 queries. users per second: 37644.6</pre>"
      ],
      "text/plain": [
       "recommendations finished on 43000/46585 queries. users per second: 37644.6"
      ]
     },
     "metadata": {},
     "output_type": "display_data"
    },
    {
     "data": {
      "text/html": [
       "<pre>recommendations finished on 44000/46585 queries. users per second: 37608</pre>"
      ],
      "text/plain": [
       "recommendations finished on 44000/46585 queries. users per second: 37608"
      ]
     },
     "metadata": {},
     "output_type": "display_data"
    },
    {
     "data": {
      "text/html": [
       "<pre>recommendations finished on 45000/46585 queries. users per second: 37465.8</pre>"
      ],
      "text/plain": [
       "recommendations finished on 45000/46585 queries. users per second: 37465.8"
      ]
     },
     "metadata": {},
     "output_type": "display_data"
    },
    {
     "data": {
      "text/html": [
       "<pre>recommendations finished on 46000/46585 queries. users per second: 37073.4</pre>"
      ],
      "text/plain": [
       "recommendations finished on 46000/46585 queries. users per second: 37073.4"
      ]
     },
     "metadata": {},
     "output_type": "display_data"
    },
    {
     "name": "stdout",
     "output_type": "stream",
     "text": [
      "\n",
      "Precision and recall summary statistics by cutoff\n",
      "+--------+------------------------+------------------------+\n",
      "| cutoff |     mean_precision     |      mean_recall       |\n",
      "+--------+------------------------+------------------------+\n",
      "|   1    | 2.1466137168616598e-05 | 2.1466137168616598e-05 |\n",
      "|   2    | 2.146613716861659e-05  | 4.293227433723318e-05  |\n",
      "|   3    | 2.146613716861659e-05  | 5.366534292154137e-05  |\n",
      "|   4    | 3.7565740045078776e-05 | 0.00010017530678687633 |\n",
      "|   5    | 3.0052592036063467e-05 | 0.00010017530678687633 |\n",
      "|   6    | 3.219920575292455e-05  | 0.00013237451253980171 |\n",
      "|   7    |  2.75993192167929e-05  | 0.00013237451253980171 |\n",
      "|   8    | 2.4149404314693747e-05 | 0.00013237451253980171 |\n",
      "|   9    | 2.1466137168616683e-05 | 0.00013237451253980171 |\n",
      "|   10   | 2.1466137168616693e-05 | 0.00013666773997352637 |\n",
      "+--------+------------------------+------------------------+\n",
      "[10 rows x 3 columns]\n",
      "\n",
      "\n",
      "Overall RMSE: 0.09174209744262064\n",
      "\n",
      "Per User RMSE (best)\n",
      "+------------+------+-------+\n",
      "|   LYBID    | rmse | count |\n",
      "+------------+------+-------+\n",
      "| 1031351900 | 0.0  |   1   |\n",
      "+------------+------+-------+\n",
      "[1 rows x 3 columns]\n",
      "\n",
      "\n",
      "Per User RMSE (worst)\n",
      "+----------+------+-------+\n",
      "|  LYBID   | rmse | count |\n",
      "+----------+------+-------+\n",
      "| 30521390 | 1.0  |   1   |\n",
      "+----------+------+-------+\n",
      "[1 rows x 3 columns]\n",
      "\n",
      "\n",
      "Per Item RMSE (best)\n",
      "+--------+----------------------+-------+\n",
      "| ITEMID |         rmse         | count |\n",
      "+--------+----------------------+-------+\n",
      "| 43442  | 0.005751006376344076 |  1334 |\n",
      "+--------+----------------------+-------+\n",
      "[1 rows x 3 columns]\n",
      "\n",
      "\n",
      "Per Item RMSE (worst)\n",
      "+--------+------+-------+\n",
      "| ITEMID | rmse | count |\n",
      "+--------+------+-------+\n",
      "| 43563  | 1.0  |   1   |\n",
      "+--------+------+-------+\n",
      "[1 rows x 3 columns]\n",
      "\n",
      "PROGRESS: Evaluate model Cosine Similarity on Scaled Purchase Counts\n"
     ]
    },
    {
     "data": {
      "text/html": [
       "<pre>recommendations finished on 1000/46585 queries. users per second: 17600.1</pre>"
      ],
      "text/plain": [
       "recommendations finished on 1000/46585 queries. users per second: 17600.1"
      ]
     },
     "metadata": {},
     "output_type": "display_data"
    },
    {
     "data": {
      "text/html": [
       "<pre>recommendations finished on 2000/46585 queries. users per second: 25485.5</pre>"
      ],
      "text/plain": [
       "recommendations finished on 2000/46585 queries. users per second: 25485.5"
      ]
     },
     "metadata": {},
     "output_type": "display_data"
    },
    {
     "data": {
      "text/html": [
       "<pre>recommendations finished on 3000/46585 queries. users per second: 29101.1</pre>"
      ],
      "text/plain": [
       "recommendations finished on 3000/46585 queries. users per second: 29101.1"
      ]
     },
     "metadata": {},
     "output_type": "display_data"
    },
    {
     "data": {
      "text/html": [
       "<pre>recommendations finished on 4000/46585 queries. users per second: 30884.9</pre>"
      ],
      "text/plain": [
       "recommendations finished on 4000/46585 queries. users per second: 30884.9"
      ]
     },
     "metadata": {},
     "output_type": "display_data"
    },
    {
     "data": {
      "text/html": [
       "<pre>recommendations finished on 5000/46585 queries. users per second: 31543.4</pre>"
      ],
      "text/plain": [
       "recommendations finished on 5000/46585 queries. users per second: 31543.4"
      ]
     },
     "metadata": {},
     "output_type": "display_data"
    },
    {
     "data": {
      "text/html": [
       "<pre>recommendations finished on 6000/46585 queries. users per second: 32283.4</pre>"
      ],
      "text/plain": [
       "recommendations finished on 6000/46585 queries. users per second: 32283.4"
      ]
     },
     "metadata": {},
     "output_type": "display_data"
    },
    {
     "data": {
      "text/html": [
       "<pre>recommendations finished on 7000/46585 queries. users per second: 32503.7</pre>"
      ],
      "text/plain": [
       "recommendations finished on 7000/46585 queries. users per second: 32503.7"
      ]
     },
     "metadata": {},
     "output_type": "display_data"
    },
    {
     "data": {
      "text/html": [
       "<pre>recommendations finished on 8000/46585 queries. users per second: 32832.8</pre>"
      ],
      "text/plain": [
       "recommendations finished on 8000/46585 queries. users per second: 32832.8"
      ]
     },
     "metadata": {},
     "output_type": "display_data"
    },
    {
     "data": {
      "text/html": [
       "<pre>recommendations finished on 9000/46585 queries. users per second: 32340</pre>"
      ],
      "text/plain": [
       "recommendations finished on 9000/46585 queries. users per second: 32340"
      ]
     },
     "metadata": {},
     "output_type": "display_data"
    },
    {
     "data": {
      "text/html": [
       "<pre>recommendations finished on 10000/46585 queries. users per second: 32790.6</pre>"
      ],
      "text/plain": [
       "recommendations finished on 10000/46585 queries. users per second: 32790.6"
      ]
     },
     "metadata": {},
     "output_type": "display_data"
    },
    {
     "data": {
      "text/html": [
       "<pre>recommendations finished on 11000/46585 queries. users per second: 32214</pre>"
      ],
      "text/plain": [
       "recommendations finished on 11000/46585 queries. users per second: 32214"
      ]
     },
     "metadata": {},
     "output_type": "display_data"
    },
    {
     "data": {
      "text/html": [
       "<pre>recommendations finished on 12000/46585 queries. users per second: 31181.2</pre>"
      ],
      "text/plain": [
       "recommendations finished on 12000/46585 queries. users per second: 31181.2"
      ]
     },
     "metadata": {},
     "output_type": "display_data"
    },
    {
     "data": {
      "text/html": [
       "<pre>recommendations finished on 13000/46585 queries. users per second: 30892.3</pre>"
      ],
      "text/plain": [
       "recommendations finished on 13000/46585 queries. users per second: 30892.3"
      ]
     },
     "metadata": {},
     "output_type": "display_data"
    },
    {
     "data": {
      "text/html": [
       "<pre>recommendations finished on 14000/46585 queries. users per second: 31000.3</pre>"
      ],
      "text/plain": [
       "recommendations finished on 14000/46585 queries. users per second: 31000.3"
      ]
     },
     "metadata": {},
     "output_type": "display_data"
    },
    {
     "data": {
      "text/html": [
       "<pre>recommendations finished on 15000/46585 queries. users per second: 30980.8</pre>"
      ],
      "text/plain": [
       "recommendations finished on 15000/46585 queries. users per second: 30980.8"
      ]
     },
     "metadata": {},
     "output_type": "display_data"
    },
    {
     "data": {
      "text/html": [
       "<pre>recommendations finished on 16000/46585 queries. users per second: 30883.4</pre>"
      ],
      "text/plain": [
       "recommendations finished on 16000/46585 queries. users per second: 30883.4"
      ]
     },
     "metadata": {},
     "output_type": "display_data"
    },
    {
     "data": {
      "text/html": [
       "<pre>recommendations finished on 17000/46585 queries. users per second: 30889</pre>"
      ],
      "text/plain": [
       "recommendations finished on 17000/46585 queries. users per second: 30889"
      ]
     },
     "metadata": {},
     "output_type": "display_data"
    },
    {
     "data": {
      "text/html": [
       "<pre>recommendations finished on 18000/46585 queries. users per second: 31256</pre>"
      ],
      "text/plain": [
       "recommendations finished on 18000/46585 queries. users per second: 31256"
      ]
     },
     "metadata": {},
     "output_type": "display_data"
    },
    {
     "data": {
      "text/html": [
       "<pre>recommendations finished on 19000/46585 queries. users per second: 31641.5</pre>"
      ],
      "text/plain": [
       "recommendations finished on 19000/46585 queries. users per second: 31641.5"
      ]
     },
     "metadata": {},
     "output_type": "display_data"
    },
    {
     "data": {
      "text/html": [
       "<pre>recommendations finished on 20000/46585 queries. users per second: 32004.4</pre>"
      ],
      "text/plain": [
       "recommendations finished on 20000/46585 queries. users per second: 32004.4"
      ]
     },
     "metadata": {},
     "output_type": "display_data"
    },
    {
     "data": {
      "text/html": [
       "<pre>recommendations finished on 21000/46585 queries. users per second: 32184.5</pre>"
      ],
      "text/plain": [
       "recommendations finished on 21000/46585 queries. users per second: 32184.5"
      ]
     },
     "metadata": {},
     "output_type": "display_data"
    },
    {
     "data": {
      "text/html": [
       "<pre>recommendations finished on 22000/46585 queries. users per second: 31863.4</pre>"
      ],
      "text/plain": [
       "recommendations finished on 22000/46585 queries. users per second: 31863.4"
      ]
     },
     "metadata": {},
     "output_type": "display_data"
    },
    {
     "data": {
      "text/html": [
       "<pre>recommendations finished on 23000/46585 queries. users per second: 31778.4</pre>"
      ],
      "text/plain": [
       "recommendations finished on 23000/46585 queries. users per second: 31778.4"
      ]
     },
     "metadata": {},
     "output_type": "display_data"
    },
    {
     "data": {
      "text/html": [
       "<pre>recommendations finished on 24000/46585 queries. users per second: 32008.3</pre>"
      ],
      "text/plain": [
       "recommendations finished on 24000/46585 queries. users per second: 32008.3"
      ]
     },
     "metadata": {},
     "output_type": "display_data"
    },
    {
     "data": {
      "text/html": [
       "<pre>recommendations finished on 25000/46585 queries. users per second: 32244.9</pre>"
      ],
      "text/plain": [
       "recommendations finished on 25000/46585 queries. users per second: 32244.9"
      ]
     },
     "metadata": {},
     "output_type": "display_data"
    },
    {
     "data": {
      "text/html": [
       "<pre>recommendations finished on 26000/46585 queries. users per second: 32496.1</pre>"
      ],
      "text/plain": [
       "recommendations finished on 26000/46585 queries. users per second: 32496.1"
      ]
     },
     "metadata": {},
     "output_type": "display_data"
    },
    {
     "data": {
      "text/html": [
       "<pre>recommendations finished on 27000/46585 queries. users per second: 32540.4</pre>"
      ],
      "text/plain": [
       "recommendations finished on 27000/46585 queries. users per second: 32540.4"
      ]
     },
     "metadata": {},
     "output_type": "display_data"
    },
    {
     "data": {
      "text/html": [
       "<pre>recommendations finished on 28000/46585 queries. users per second: 32875</pre>"
      ],
      "text/plain": [
       "recommendations finished on 28000/46585 queries. users per second: 32875"
      ]
     },
     "metadata": {},
     "output_type": "display_data"
    },
    {
     "data": {
      "text/html": [
       "<pre>recommendations finished on 29000/46585 queries. users per second: 33130</pre>"
      ],
      "text/plain": [
       "recommendations finished on 29000/46585 queries. users per second: 33130"
      ]
     },
     "metadata": {},
     "output_type": "display_data"
    },
    {
     "data": {
      "text/html": [
       "<pre>recommendations finished on 30000/46585 queries. users per second: 33250.8</pre>"
      ],
      "text/plain": [
       "recommendations finished on 30000/46585 queries. users per second: 33250.8"
      ]
     },
     "metadata": {},
     "output_type": "display_data"
    },
    {
     "data": {
      "text/html": [
       "<pre>recommendations finished on 31000/46585 queries. users per second: 33456.9</pre>"
      ],
      "text/plain": [
       "recommendations finished on 31000/46585 queries. users per second: 33456.9"
      ]
     },
     "metadata": {},
     "output_type": "display_data"
    },
    {
     "data": {
      "text/html": [
       "<pre>recommendations finished on 32000/46585 queries. users per second: 33600</pre>"
      ],
      "text/plain": [
       "recommendations finished on 32000/46585 queries. users per second: 33600"
      ]
     },
     "metadata": {},
     "output_type": "display_data"
    },
    {
     "data": {
      "text/html": [
       "<pre>recommendations finished on 33000/46585 queries. users per second: 33734.6</pre>"
      ],
      "text/plain": [
       "recommendations finished on 33000/46585 queries. users per second: 33734.6"
      ]
     },
     "metadata": {},
     "output_type": "display_data"
    },
    {
     "data": {
      "text/html": [
       "<pre>recommendations finished on 34000/46585 queries. users per second: 33956.9</pre>"
      ],
      "text/plain": [
       "recommendations finished on 34000/46585 queries. users per second: 33956.9"
      ]
     },
     "metadata": {},
     "output_type": "display_data"
    },
    {
     "data": {
      "text/html": [
       "<pre>recommendations finished on 35000/46585 queries. users per second: 34058</pre>"
      ],
      "text/plain": [
       "recommendations finished on 35000/46585 queries. users per second: 34058"
      ]
     },
     "metadata": {},
     "output_type": "display_data"
    },
    {
     "data": {
      "text/html": [
       "<pre>recommendations finished on 36000/46585 queries. users per second: 34211.7</pre>"
      ],
      "text/plain": [
       "recommendations finished on 36000/46585 queries. users per second: 34211.7"
      ]
     },
     "metadata": {},
     "output_type": "display_data"
    },
    {
     "data": {
      "text/html": [
       "<pre>recommendations finished on 37000/46585 queries. users per second: 34200.5</pre>"
      ],
      "text/plain": [
       "recommendations finished on 37000/46585 queries. users per second: 34200.5"
      ]
     },
     "metadata": {},
     "output_type": "display_data"
    },
    {
     "data": {
      "text/html": [
       "<pre>recommendations finished on 38000/46585 queries. users per second: 34242.7</pre>"
      ],
      "text/plain": [
       "recommendations finished on 38000/46585 queries. users per second: 34242.7"
      ]
     },
     "metadata": {},
     "output_type": "display_data"
    },
    {
     "data": {
      "text/html": [
       "<pre>recommendations finished on 39000/46585 queries. users per second: 34109.3</pre>"
      ],
      "text/plain": [
       "recommendations finished on 39000/46585 queries. users per second: 34109.3"
      ]
     },
     "metadata": {},
     "output_type": "display_data"
    },
    {
     "data": {
      "text/html": [
       "<pre>recommendations finished on 40000/46585 queries. users per second: 33848.9</pre>"
      ],
      "text/plain": [
       "recommendations finished on 40000/46585 queries. users per second: 33848.9"
      ]
     },
     "metadata": {},
     "output_type": "display_data"
    },
    {
     "data": {
      "text/html": [
       "<pre>recommendations finished on 41000/46585 queries. users per second: 33988.2</pre>"
      ],
      "text/plain": [
       "recommendations finished on 41000/46585 queries. users per second: 33988.2"
      ]
     },
     "metadata": {},
     "output_type": "display_data"
    },
    {
     "data": {
      "text/html": [
       "<pre>recommendations finished on 42000/46585 queries. users per second: 34116</pre>"
      ],
      "text/plain": [
       "recommendations finished on 42000/46585 queries. users per second: 34116"
      ]
     },
     "metadata": {},
     "output_type": "display_data"
    },
    {
     "data": {
      "text/html": [
       "<pre>recommendations finished on 43000/46585 queries. users per second: 34235.9</pre>"
      ],
      "text/plain": [
       "recommendations finished on 43000/46585 queries. users per second: 34235.9"
      ]
     },
     "metadata": {},
     "output_type": "display_data"
    },
    {
     "data": {
      "text/html": [
       "<pre>recommendations finished on 44000/46585 queries. users per second: 34128.7</pre>"
      ],
      "text/plain": [
       "recommendations finished on 44000/46585 queries. users per second: 34128.7"
      ]
     },
     "metadata": {},
     "output_type": "display_data"
    },
    {
     "data": {
      "text/html": [
       "<pre>recommendations finished on 45000/46585 queries. users per second: 34086.7</pre>"
      ],
      "text/plain": [
       "recommendations finished on 45000/46585 queries. users per second: 34086.7"
      ]
     },
     "metadata": {},
     "output_type": "display_data"
    },
    {
     "data": {
      "text/html": [
       "<pre>recommendations finished on 46000/46585 queries. users per second: 33411.7</pre>"
      ],
      "text/plain": [
       "recommendations finished on 46000/46585 queries. users per second: 33411.7"
      ]
     },
     "metadata": {},
     "output_type": "display_data"
    },
    {
     "name": "stdout",
     "output_type": "stream",
     "text": [
      "\n",
      "Precision and recall summary statistics by cutoff\n",
      "+--------+----------------------+----------------------+\n",
      "| cutoff |    mean_precision    |     mean_recall      |\n",
      "+--------+----------------------+----------------------+\n",
      "|   1    | 0.008242996672748776 | 0.006029991260215607 |\n",
      "|   2    | 0.007255554362992399 | 0.010076279748062519 |\n",
      "|   3    | 0.008006869163894011 | 0.01741083302229571  |\n",
      "|   4    | 0.007153590211441343 | 0.02040836689457507  |\n",
      "|   5    | 0.006701728024042116 | 0.023626038636449777 |\n",
      "|   6    | 0.006282422811348418 | 0.02644744370509102  |\n",
      "|   7    | 0.00602278477130899  | 0.029116957387001322 |\n",
      "|   8    | 0.005801223569818598 | 0.03175096315559997  |\n",
      "|   9    | 0.00552872288409478  | 0.03394861935078762  |\n",
      "|   10   | 0.005428786089943147 |  0.0372792020448995  |\n",
      "+--------+----------------------+----------------------+\n",
      "[10 rows x 3 columns]\n",
      "\n",
      "\n",
      "Overall RMSE: 0.09588570371649034\n",
      "\n",
      "Per User RMSE (best)\n",
      "+------------+------+-------+\n",
      "|   LYBID    | rmse | count |\n",
      "+------------+------+-------+\n",
      "| 1031871100 | 0.0  |   2   |\n",
      "+------------+------+-------+\n",
      "[1 rows x 3 columns]\n",
      "\n",
      "\n",
      "Per User RMSE (worst)\n",
      "+----------+------+-------+\n",
      "|  LYBID   | rmse | count |\n",
      "+----------+------+-------+\n",
      "| 31433366 | 1.0  |   1   |\n",
      "+----------+------+-------+\n",
      "[1 rows x 3 columns]\n",
      "\n",
      "\n",
      "Per Item RMSE (best)\n",
      "+--------+------+-------+\n",
      "| ITEMID | rmse | count |\n",
      "+--------+------+-------+\n",
      "| 28877  | 0.0  |   2   |\n",
      "+--------+------+-------+\n",
      "[1 rows x 3 columns]\n",
      "\n",
      "\n",
      "Per Item RMSE (worst)\n",
      "+--------+------+-------+\n",
      "| ITEMID | rmse | count |\n",
      "+--------+------+-------+\n",
      "| 42745  | 1.0  |   1   |\n",
      "+--------+------+-------+\n",
      "[1 rows x 3 columns]\n",
      "\n",
      "PROGRESS: Evaluate model Pearson Similarity on Scaled Purchase Counts\n"
     ]
    },
    {
     "data": {
      "text/html": [
       "<pre>recommendations finished on 1000/46585 queries. users per second: 33400.1</pre>"
      ],
      "text/plain": [
       "recommendations finished on 1000/46585 queries. users per second: 33400.1"
      ]
     },
     "metadata": {},
     "output_type": "display_data"
    },
    {
     "data": {
      "text/html": [
       "<pre>recommendations finished on 2000/46585 queries. users per second: 34576.4</pre>"
      ],
      "text/plain": [
       "recommendations finished on 2000/46585 queries. users per second: 34576.4"
      ]
     },
     "metadata": {},
     "output_type": "display_data"
    },
    {
     "data": {
      "text/html": [
       "<pre>recommendations finished on 3000/46585 queries. users per second: 34694.1</pre>"
      ],
      "text/plain": [
       "recommendations finished on 3000/46585 queries. users per second: 34694.1"
      ]
     },
     "metadata": {},
     "output_type": "display_data"
    },
    {
     "data": {
      "text/html": [
       "<pre>recommendations finished on 4000/46585 queries. users per second: 32226.6</pre>"
      ],
      "text/plain": [
       "recommendations finished on 4000/46585 queries. users per second: 32226.6"
      ]
     },
     "metadata": {},
     "output_type": "display_data"
    },
    {
     "data": {
      "text/html": [
       "<pre>recommendations finished on 5000/46585 queries. users per second: 31722.7</pre>"
      ],
      "text/plain": [
       "recommendations finished on 5000/46585 queries. users per second: 31722.7"
      ]
     },
     "metadata": {},
     "output_type": "display_data"
    },
    {
     "data": {
      "text/html": [
       "<pre>recommendations finished on 6000/46585 queries. users per second: 31293.7</pre>"
      ],
      "text/plain": [
       "recommendations finished on 6000/46585 queries. users per second: 31293.7"
      ]
     },
     "metadata": {},
     "output_type": "display_data"
    },
    {
     "data": {
      "text/html": [
       "<pre>recommendations finished on 7000/46585 queries. users per second: 31220.7</pre>"
      ],
      "text/plain": [
       "recommendations finished on 7000/46585 queries. users per second: 31220.7"
      ]
     },
     "metadata": {},
     "output_type": "display_data"
    },
    {
     "data": {
      "text/html": [
       "<pre>recommendations finished on 8000/46585 queries. users per second: 31208.8</pre>"
      ],
      "text/plain": [
       "recommendations finished on 8000/46585 queries. users per second: 31208.8"
      ]
     },
     "metadata": {},
     "output_type": "display_data"
    },
    {
     "data": {
      "text/html": [
       "<pre>recommendations finished on 9000/46585 queries. users per second: 31760.3</pre>"
      ],
      "text/plain": [
       "recommendations finished on 9000/46585 queries. users per second: 31760.3"
      ]
     },
     "metadata": {},
     "output_type": "display_data"
    },
    {
     "data": {
      "text/html": [
       "<pre>recommendations finished on 10000/46585 queries. users per second: 31378.7</pre>"
      ],
      "text/plain": [
       "recommendations finished on 10000/46585 queries. users per second: 31378.7"
      ]
     },
     "metadata": {},
     "output_type": "display_data"
    },
    {
     "data": {
      "text/html": [
       "<pre>recommendations finished on 11000/46585 queries. users per second: 31497.3</pre>"
      ],
      "text/plain": [
       "recommendations finished on 11000/46585 queries. users per second: 31497.3"
      ]
     },
     "metadata": {},
     "output_type": "display_data"
    },
    {
     "data": {
      "text/html": [
       "<pre>recommendations finished on 12000/46585 queries. users per second: 30988.2</pre>"
      ],
      "text/plain": [
       "recommendations finished on 12000/46585 queries. users per second: 30988.2"
      ]
     },
     "metadata": {},
     "output_type": "display_data"
    },
    {
     "data": {
      "text/html": [
       "<pre>recommendations finished on 13000/46585 queries. users per second: 31379.1</pre>"
      ],
      "text/plain": [
       "recommendations finished on 13000/46585 queries. users per second: 31379.1"
      ]
     },
     "metadata": {},
     "output_type": "display_data"
    },
    {
     "data": {
      "text/html": [
       "<pre>recommendations finished on 14000/46585 queries. users per second: 31148.1</pre>"
      ],
      "text/plain": [
       "recommendations finished on 14000/46585 queries. users per second: 31148.1"
      ]
     },
     "metadata": {},
     "output_type": "display_data"
    },
    {
     "data": {
      "text/html": [
       "<pre>recommendations finished on 15000/46585 queries. users per second: 30730.5</pre>"
      ],
      "text/plain": [
       "recommendations finished on 15000/46585 queries. users per second: 30730.5"
      ]
     },
     "metadata": {},
     "output_type": "display_data"
    },
    {
     "data": {
      "text/html": [
       "<pre>recommendations finished on 16000/46585 queries. users per second: 30705.5</pre>"
      ],
      "text/plain": [
       "recommendations finished on 16000/46585 queries. users per second: 30705.5"
      ]
     },
     "metadata": {},
     "output_type": "display_data"
    },
    {
     "data": {
      "text/html": [
       "<pre>recommendations finished on 17000/46585 queries. users per second: 30562.6</pre>"
      ],
      "text/plain": [
       "recommendations finished on 17000/46585 queries. users per second: 30562.6"
      ]
     },
     "metadata": {},
     "output_type": "display_data"
    },
    {
     "data": {
      "text/html": [
       "<pre>recommendations finished on 18000/46585 queries. users per second: 30575</pre>"
      ],
      "text/plain": [
       "recommendations finished on 18000/46585 queries. users per second: 30575"
      ]
     },
     "metadata": {},
     "output_type": "display_data"
    },
    {
     "data": {
      "text/html": [
       "<pre>recommendations finished on 19000/46585 queries. users per second: 30603.4</pre>"
      ],
      "text/plain": [
       "recommendations finished on 19000/46585 queries. users per second: 30603.4"
      ]
     },
     "metadata": {},
     "output_type": "display_data"
    },
    {
     "data": {
      "text/html": [
       "<pre>recommendations finished on 20000/46585 queries. users per second: 30818.3</pre>"
      ],
      "text/plain": [
       "recommendations finished on 20000/46585 queries. users per second: 30818.3"
      ]
     },
     "metadata": {},
     "output_type": "display_data"
    },
    {
     "data": {
      "text/html": [
       "<pre>recommendations finished on 21000/46585 queries. users per second: 30924.6</pre>"
      ],
      "text/plain": [
       "recommendations finished on 21000/46585 queries. users per second: 30924.6"
      ]
     },
     "metadata": {},
     "output_type": "display_data"
    },
    {
     "data": {
      "text/html": [
       "<pre>recommendations finished on 22000/46585 queries. users per second: 31118.3</pre>"
      ],
      "text/plain": [
       "recommendations finished on 22000/46585 queries. users per second: 31118.3"
      ]
     },
     "metadata": {},
     "output_type": "display_data"
    },
    {
     "data": {
      "text/html": [
       "<pre>recommendations finished on 23000/46585 queries. users per second: 30817.6</pre>"
      ],
      "text/plain": [
       "recommendations finished on 23000/46585 queries. users per second: 30817.6"
      ]
     },
     "metadata": {},
     "output_type": "display_data"
    },
    {
     "data": {
      "text/html": [
       "<pre>recommendations finished on 24000/46585 queries. users per second: 30710.5</pre>"
      ],
      "text/plain": [
       "recommendations finished on 24000/46585 queries. users per second: 30710.5"
      ]
     },
     "metadata": {},
     "output_type": "display_data"
    },
    {
     "data": {
      "text/html": [
       "<pre>recommendations finished on 25000/46585 queries. users per second: 30578.9</pre>"
      ],
      "text/plain": [
       "recommendations finished on 25000/46585 queries. users per second: 30578.9"
      ]
     },
     "metadata": {},
     "output_type": "display_data"
    },
    {
     "data": {
      "text/html": [
       "<pre>recommendations finished on 26000/46585 queries. users per second: 30685.6</pre>"
      ],
      "text/plain": [
       "recommendations finished on 26000/46585 queries. users per second: 30685.6"
      ]
     },
     "metadata": {},
     "output_type": "display_data"
    },
    {
     "data": {
      "text/html": [
       "<pre>recommendations finished on 27000/46585 queries. users per second: 30955</pre>"
      ],
      "text/plain": [
       "recommendations finished on 27000/46585 queries. users per second: 30955"
      ]
     },
     "metadata": {},
     "output_type": "display_data"
    },
    {
     "data": {
      "text/html": [
       "<pre>recommendations finished on 28000/46585 queries. users per second: 31070.1</pre>"
      ],
      "text/plain": [
       "recommendations finished on 28000/46585 queries. users per second: 31070.1"
      ]
     },
     "metadata": {},
     "output_type": "display_data"
    },
    {
     "data": {
      "text/html": [
       "<pre>recommendations finished on 29000/46585 queries. users per second: 31176.6</pre>"
      ],
      "text/plain": [
       "recommendations finished on 29000/46585 queries. users per second: 31176.6"
      ]
     },
     "metadata": {},
     "output_type": "display_data"
    },
    {
     "data": {
      "text/html": [
       "<pre>recommendations finished on 30000/46585 queries. users per second: 31307</pre>"
      ],
      "text/plain": [
       "recommendations finished on 30000/46585 queries. users per second: 31307"
      ]
     },
     "metadata": {},
     "output_type": "display_data"
    },
    {
     "data": {
      "text/html": [
       "<pre>recommendations finished on 31000/46585 queries. users per second: 31420.3</pre>"
      ],
      "text/plain": [
       "recommendations finished on 31000/46585 queries. users per second: 31420.3"
      ]
     },
     "metadata": {},
     "output_type": "display_data"
    },
    {
     "data": {
      "text/html": [
       "<pre>recommendations finished on 32000/46585 queries. users per second: 31621.8</pre>"
      ],
      "text/plain": [
       "recommendations finished on 32000/46585 queries. users per second: 31621.8"
      ]
     },
     "metadata": {},
     "output_type": "display_data"
    },
    {
     "data": {
      "text/html": [
       "<pre>recommendations finished on 33000/46585 queries. users per second: 31770</pre>"
      ],
      "text/plain": [
       "recommendations finished on 33000/46585 queries. users per second: 31770"
      ]
     },
     "metadata": {},
     "output_type": "display_data"
    },
    {
     "data": {
      "text/html": [
       "<pre>recommendations finished on 34000/46585 queries. users per second: 31890</pre>"
      ],
      "text/plain": [
       "recommendations finished on 34000/46585 queries. users per second: 31890"
      ]
     },
     "metadata": {},
     "output_type": "display_data"
    },
    {
     "data": {
      "text/html": [
       "<pre>recommendations finished on 35000/46585 queries. users per second: 31965</pre>"
      ],
      "text/plain": [
       "recommendations finished on 35000/46585 queries. users per second: 31965"
      ]
     },
     "metadata": {},
     "output_type": "display_data"
    },
    {
     "data": {
      "text/html": [
       "<pre>recommendations finished on 36000/46585 queries. users per second: 31950.7</pre>"
      ],
      "text/plain": [
       "recommendations finished on 36000/46585 queries. users per second: 31950.7"
      ]
     },
     "metadata": {},
     "output_type": "display_data"
    },
    {
     "data": {
      "text/html": [
       "<pre>recommendations finished on 37000/46585 queries. users per second: 32097.5</pre>"
      ],
      "text/plain": [
       "recommendations finished on 37000/46585 queries. users per second: 32097.5"
      ]
     },
     "metadata": {},
     "output_type": "display_data"
    },
    {
     "data": {
      "text/html": [
       "<pre>recommendations finished on 38000/46585 queries. users per second: 32231.3</pre>"
      ],
      "text/plain": [
       "recommendations finished on 38000/46585 queries. users per second: 32231.3"
      ]
     },
     "metadata": {},
     "output_type": "display_data"
    },
    {
     "data": {
      "text/html": [
       "<pre>recommendations finished on 39000/46585 queries. users per second: 32309.6</pre>"
      ],
      "text/plain": [
       "recommendations finished on 39000/46585 queries. users per second: 32309.6"
      ]
     },
     "metadata": {},
     "output_type": "display_data"
    },
    {
     "data": {
      "text/html": [
       "<pre>recommendations finished on 40000/46585 queries. users per second: 32277.5</pre>"
      ],
      "text/plain": [
       "recommendations finished on 40000/46585 queries. users per second: 32277.5"
      ]
     },
     "metadata": {},
     "output_type": "display_data"
    },
    {
     "data": {
      "text/html": [
       "<pre>recommendations finished on 41000/46585 queries. users per second: 32322.1</pre>"
      ],
      "text/plain": [
       "recommendations finished on 41000/46585 queries. users per second: 32322.1"
      ]
     },
     "metadata": {},
     "output_type": "display_data"
    },
    {
     "data": {
      "text/html": [
       "<pre>recommendations finished on 42000/46585 queries. users per second: 32337.9</pre>"
      ],
      "text/plain": [
       "recommendations finished on 42000/46585 queries. users per second: 32337.9"
      ]
     },
     "metadata": {},
     "output_type": "display_data"
    },
    {
     "data": {
      "text/html": [
       "<pre>recommendations finished on 43000/46585 queries. users per second: 32357.8</pre>"
      ],
      "text/plain": [
       "recommendations finished on 43000/46585 queries. users per second: 32357.8"
      ]
     },
     "metadata": {},
     "output_type": "display_data"
    },
    {
     "data": {
      "text/html": [
       "<pre>recommendations finished on 44000/46585 queries. users per second: 32272.8</pre>"
      ],
      "text/plain": [
       "recommendations finished on 44000/46585 queries. users per second: 32272.8"
      ]
     },
     "metadata": {},
     "output_type": "display_data"
    },
    {
     "data": {
      "text/html": [
       "<pre>recommendations finished on 45000/46585 queries. users per second: 32336.1</pre>"
      ],
      "text/plain": [
       "recommendations finished on 45000/46585 queries. users per second: 32336.1"
      ]
     },
     "metadata": {},
     "output_type": "display_data"
    },
    {
     "data": {
      "text/html": [
       "<pre>recommendations finished on 46000/46585 queries. users per second: 32037.5</pre>"
      ],
      "text/plain": [
       "recommendations finished on 46000/46585 queries. users per second: 32037.5"
      ]
     },
     "metadata": {},
     "output_type": "display_data"
    },
    {
     "name": "stdout",
     "output_type": "stream",
     "text": [
      "\n",
      "Precision and recall summary statistics by cutoff\n",
      "+--------+------------------------+------------------------+\n",
      "| cutoff |     mean_precision     |      mean_recall       |\n",
      "+--------+------------------------+------------------------+\n",
      "|   1    | 2.1466137168616598e-05 | 2.1466137168616598e-05 |\n",
      "|   2    | 2.1466137168616642e-05 | 4.2932274337233284e-05 |\n",
      "|   3    | 2.1466137168616676e-05 | 5.3665342921541215e-05 |\n",
      "|   4    | 3.756574004507888e-05  | 0.00010017530678687646 |\n",
      "|   5    | 3.0052592036063433e-05 | 0.00010017530678687646 |\n",
      "|   6    | 2.8621516224821725e-05 | 0.00011090837537118519 |\n",
      "|   7    | 2.4532728192704725e-05 | 0.00011090837537118519 |\n",
      "|   8    | 2.414940431469368e-05  | 0.00013237451253980144 |\n",
      "|   9    | 2.385126352068513e-05  | 0.00015384064970841655 |\n",
      "|   10   | 2.3612750885478223e-05 | 0.00015813387714214177 |\n",
      "+--------+------------------------+------------------------+\n",
      "[10 rows x 3 columns]\n",
      "\n",
      "\n",
      "Overall RMSE: 0.09134139179218768\n",
      "\n",
      "Per User RMSE (best)\n",
      "+------------+------+-------+\n",
      "|   LYBID    | rmse | count |\n",
      "+------------+------+-------+\n",
      "| 1031351900 | 0.0  |   1   |\n",
      "+------------+------+-------+\n",
      "[1 rows x 3 columns]\n",
      "\n",
      "\n",
      "Per User RMSE (worst)\n",
      "+----------+------+-------+\n",
      "|  LYBID   | rmse | count |\n",
      "+----------+------+-------+\n",
      "| 30521390 | 1.0  |   1   |\n",
      "+----------+------+-------+\n",
      "[1 rows x 3 columns]\n",
      "\n",
      "\n",
      "Per Item RMSE (best)\n",
      "+--------+----------------------+-------+\n",
      "| ITEMID |         rmse         | count |\n",
      "+--------+----------------------+-------+\n",
      "| 43442  | 0.005751461737469623 |  1334 |\n",
      "+--------+----------------------+-------+\n",
      "[1 rows x 3 columns]\n",
      "\n",
      "\n",
      "Per Item RMSE (worst)\n",
      "+--------+------+-------+\n",
      "| ITEMID | rmse | count |\n",
      "+--------+------+-------+\n",
      "| 43563  | 1.0  |   1   |\n",
      "+--------+------+-------+\n",
      "[1 rows x 3 columns]\n",
      "\n"
     ]
    }
   ],
   "source": [
    "eval_norm = tc.recommender.util.compare_models(test_data_norm, models_w_norm, model_names=names_w_norm)"
   ]
  },
  {
   "cell_type": "markdown",
   "metadata": {},
   "source": [
    "## 8. Final Output\n",
    "* In this step, we would like to manipulate format for recommendation output to one we can export to csv, and also a function that will return recommendation list given a customer ID.\n",
    "* We need to first rerun the model using the whole dataset, as we came to a final model using train data and evaluated with test set."
   ]
  },
  {
   "cell_type": "code",
   "execution_count": 44,
   "metadata": {},
   "outputs": [
    {
     "data": {
      "text/html": [
       "<pre>Warning: Ignoring columns TotalQtyPurchased;</pre>"
      ],
      "text/plain": [
       "Warning: Ignoring columns TotalQtyPurchased;"
      ]
     },
     "metadata": {},
     "output_type": "display_data"
    },
    {
     "data": {
      "text/html": [
       "<pre>    To use these columns in scoring predictions, use a model that allows the use of additional features.</pre>"
      ],
      "text/plain": [
       "    To use these columns in scoring predictions, use a model that allows the use of additional features."
      ]
     },
     "metadata": {},
     "output_type": "display_data"
    },
    {
     "data": {
      "text/html": [
       "<pre>Preparing data set.</pre>"
      ],
      "text/plain": [
       "Preparing data set."
      ]
     },
     "metadata": {},
     "output_type": "display_data"
    },
    {
     "data": {
      "text/html": [
       "<pre>    Data has 352444 observations with 101140 users and 1467 items.</pre>"
      ],
      "text/plain": [
       "    Data has 352444 observations with 101140 users and 1467 items."
      ]
     },
     "metadata": {},
     "output_type": "display_data"
    },
    {
     "data": {
      "text/html": [
       "<pre>    Data prepared in: 0.369387s</pre>"
      ],
      "text/plain": [
       "    Data prepared in: 0.369387s"
      ]
     },
     "metadata": {},
     "output_type": "display_data"
    },
    {
     "data": {
      "text/html": [
       "<pre>Training model from provided data.</pre>"
      ],
      "text/plain": [
       "Training model from provided data."
      ]
     },
     "metadata": {},
     "output_type": "display_data"
    },
    {
     "data": {
      "text/html": [
       "<pre>Gathering per-item and per-user statistics.</pre>"
      ],
      "text/plain": [
       "Gathering per-item and per-user statistics."
      ]
     },
     "metadata": {},
     "output_type": "display_data"
    },
    {
     "data": {
      "text/html": [
       "<pre>+--------------------------------+------------+</pre>"
      ],
      "text/plain": [
       "+--------------------------------+------------+"
      ]
     },
     "metadata": {},
     "output_type": "display_data"
    },
    {
     "data": {
      "text/html": [
       "<pre>| Elapsed Time (Item Statistics) | % Complete |</pre>"
      ],
      "text/plain": [
       "| Elapsed Time (Item Statistics) | % Complete |"
      ]
     },
     "metadata": {},
     "output_type": "display_data"
    },
    {
     "data": {
      "text/html": [
       "<pre>+--------------------------------+------------+</pre>"
      ],
      "text/plain": [
       "+--------------------------------+------------+"
      ]
     },
     "metadata": {},
     "output_type": "display_data"
    },
    {
     "data": {
      "text/html": [
       "<pre>| 1.438ms                        | 0.75       |</pre>"
      ],
      "text/plain": [
       "| 1.438ms                        | 0.75       |"
      ]
     },
     "metadata": {},
     "output_type": "display_data"
    },
    {
     "data": {
      "text/html": [
       "<pre>| 29.909ms                       | 100        |</pre>"
      ],
      "text/plain": [
       "| 29.909ms                       | 100        |"
      ]
     },
     "metadata": {},
     "output_type": "display_data"
    },
    {
     "data": {
      "text/html": [
       "<pre>+--------------------------------+------------+</pre>"
      ],
      "text/plain": [
       "+--------------------------------+------------+"
      ]
     },
     "metadata": {},
     "output_type": "display_data"
    },
    {
     "data": {
      "text/html": [
       "<pre>Setting up lookup tables.</pre>"
      ],
      "text/plain": [
       "Setting up lookup tables."
      ]
     },
     "metadata": {},
     "output_type": "display_data"
    },
    {
     "data": {
      "text/html": [
       "<pre>Processing data in one pass using dense lookup tables.</pre>"
      ],
      "text/plain": [
       "Processing data in one pass using dense lookup tables."
      ]
     },
     "metadata": {},
     "output_type": "display_data"
    },
    {
     "data": {
      "text/html": [
       "<pre>+-------------------------------------+------------------+-----------------+</pre>"
      ],
      "text/plain": [
       "+-------------------------------------+------------------+-----------------+"
      ]
     },
     "metadata": {},
     "output_type": "display_data"
    },
    {
     "data": {
      "text/html": [
       "<pre>| Elapsed Time (Constructing Lookups) | Total % Complete | Items Processed |</pre>"
      ],
      "text/plain": [
       "| Elapsed Time (Constructing Lookups) | Total % Complete | Items Processed |"
      ]
     },
     "metadata": {},
     "output_type": "display_data"
    },
    {
     "data": {
      "text/html": [
       "<pre>+-------------------------------------+------------------+-----------------+</pre>"
      ],
      "text/plain": [
       "+-------------------------------------+------------------+-----------------+"
      ]
     },
     "metadata": {},
     "output_type": "display_data"
    },
    {
     "data": {
      "text/html": [
       "<pre>| 34.515ms                            | 0                | 0               |</pre>"
      ],
      "text/plain": [
       "| 34.515ms                            | 0                | 0               |"
      ]
     },
     "metadata": {},
     "output_type": "display_data"
    },
    {
     "data": {
      "text/html": [
       "<pre>| 120.121ms                           | 100              | 1467            |</pre>"
      ],
      "text/plain": [
       "| 120.121ms                           | 100              | 1467            |"
      ]
     },
     "metadata": {},
     "output_type": "display_data"
    },
    {
     "data": {
      "text/html": [
       "<pre>+-------------------------------------+------------------+-----------------+</pre>"
      ],
      "text/plain": [
       "+-------------------------------------+------------------+-----------------+"
      ]
     },
     "metadata": {},
     "output_type": "display_data"
    },
    {
     "data": {
      "text/html": [
       "<pre>Finalizing lookup tables.</pre>"
      ],
      "text/plain": [
       "Finalizing lookup tables."
      ]
     },
     "metadata": {},
     "output_type": "display_data"
    },
    {
     "data": {
      "text/html": [
       "<pre>Generating candidate set for working with new users.</pre>"
      ],
      "text/plain": [
       "Generating candidate set for working with new users."
      ]
     },
     "metadata": {},
     "output_type": "display_data"
    },
    {
     "data": {
      "text/html": [
       "<pre>Finished training in 0.156439s</pre>"
      ],
      "text/plain": [
       "Finished training in 0.156439s"
      ]
     },
     "metadata": {},
     "output_type": "display_data"
    },
    {
     "data": {
      "text/html": [
       "<pre>recommendations finished on 1000/101140 queries. users per second: 62980.2</pre>"
      ],
      "text/plain": [
       "recommendations finished on 1000/101140 queries. users per second: 62980.2"
      ]
     },
     "metadata": {},
     "output_type": "display_data"
    },
    {
     "data": {
      "text/html": [
       "<pre>recommendations finished on 2000/101140 queries. users per second: 56881.2</pre>"
      ],
      "text/plain": [
       "recommendations finished on 2000/101140 queries. users per second: 56881.2"
      ]
     },
     "metadata": {},
     "output_type": "display_data"
    },
    {
     "data": {
      "text/html": [
       "<pre>recommendations finished on 3000/101140 queries. users per second: 54113.5</pre>"
      ],
      "text/plain": [
       "recommendations finished on 3000/101140 queries. users per second: 54113.5"
      ]
     },
     "metadata": {},
     "output_type": "display_data"
    },
    {
     "data": {
      "text/html": [
       "<pre>recommendations finished on 4000/101140 queries. users per second: 51478.7</pre>"
      ],
      "text/plain": [
       "recommendations finished on 4000/101140 queries. users per second: 51478.7"
      ]
     },
     "metadata": {},
     "output_type": "display_data"
    },
    {
     "data": {
      "text/html": [
       "<pre>recommendations finished on 5000/101140 queries. users per second: 50184.7</pre>"
      ],
      "text/plain": [
       "recommendations finished on 5000/101140 queries. users per second: 50184.7"
      ]
     },
     "metadata": {},
     "output_type": "display_data"
    },
    {
     "data": {
      "text/html": [
       "<pre>recommendations finished on 6000/101140 queries. users per second: 49714.6</pre>"
      ],
      "text/plain": [
       "recommendations finished on 6000/101140 queries. users per second: 49714.6"
      ]
     },
     "metadata": {},
     "output_type": "display_data"
    },
    {
     "data": {
      "text/html": [
       "<pre>recommendations finished on 7000/101140 queries. users per second: 49688</pre>"
      ],
      "text/plain": [
       "recommendations finished on 7000/101140 queries. users per second: 49688"
      ]
     },
     "metadata": {},
     "output_type": "display_data"
    },
    {
     "data": {
      "text/html": [
       "<pre>recommendations finished on 8000/101140 queries. users per second: 49270.5</pre>"
      ],
      "text/plain": [
       "recommendations finished on 8000/101140 queries. users per second: 49270.5"
      ]
     },
     "metadata": {},
     "output_type": "display_data"
    },
    {
     "data": {
      "text/html": [
       "<pre>recommendations finished on 9000/101140 queries. users per second: 49120.2</pre>"
      ],
      "text/plain": [
       "recommendations finished on 9000/101140 queries. users per second: 49120.2"
      ]
     },
     "metadata": {},
     "output_type": "display_data"
    },
    {
     "data": {
      "text/html": [
       "<pre>recommendations finished on 10000/101140 queries. users per second: 47761.2</pre>"
      ],
      "text/plain": [
       "recommendations finished on 10000/101140 queries. users per second: 47761.2"
      ]
     },
     "metadata": {},
     "output_type": "display_data"
    },
    {
     "data": {
      "text/html": [
       "<pre>recommendations finished on 11000/101140 queries. users per second: 47383.2</pre>"
      ],
      "text/plain": [
       "recommendations finished on 11000/101140 queries. users per second: 47383.2"
      ]
     },
     "metadata": {},
     "output_type": "display_data"
    },
    {
     "data": {
      "text/html": [
       "<pre>recommendations finished on 12000/101140 queries. users per second: 46629.1</pre>"
      ],
      "text/plain": [
       "recommendations finished on 12000/101140 queries. users per second: 46629.1"
      ]
     },
     "metadata": {},
     "output_type": "display_data"
    },
    {
     "data": {
      "text/html": [
       "<pre>recommendations finished on 13000/101140 queries. users per second: 46294.5</pre>"
      ],
      "text/plain": [
       "recommendations finished on 13000/101140 queries. users per second: 46294.5"
      ]
     },
     "metadata": {},
     "output_type": "display_data"
    },
    {
     "data": {
      "text/html": [
       "<pre>recommendations finished on 14000/101140 queries. users per second: 46215.1</pre>"
      ],
      "text/plain": [
       "recommendations finished on 14000/101140 queries. users per second: 46215.1"
      ]
     },
     "metadata": {},
     "output_type": "display_data"
    },
    {
     "data": {
      "text/html": [
       "<pre>recommendations finished on 15000/101140 queries. users per second: 45325.3</pre>"
      ],
      "text/plain": [
       "recommendations finished on 15000/101140 queries. users per second: 45325.3"
      ]
     },
     "metadata": {},
     "output_type": "display_data"
    },
    {
     "data": {
      "text/html": [
       "<pre>recommendations finished on 16000/101140 queries. users per second: 45128.8</pre>"
      ],
      "text/plain": [
       "recommendations finished on 16000/101140 queries. users per second: 45128.8"
      ]
     },
     "metadata": {},
     "output_type": "display_data"
    },
    {
     "data": {
      "text/html": [
       "<pre>recommendations finished on 17000/101140 queries. users per second: 44756.4</pre>"
      ],
      "text/plain": [
       "recommendations finished on 17000/101140 queries. users per second: 44756.4"
      ]
     },
     "metadata": {},
     "output_type": "display_data"
    },
    {
     "data": {
      "text/html": [
       "<pre>recommendations finished on 18000/101140 queries. users per second: 45023.6</pre>"
      ],
      "text/plain": [
       "recommendations finished on 18000/101140 queries. users per second: 45023.6"
      ]
     },
     "metadata": {},
     "output_type": "display_data"
    },
    {
     "data": {
      "text/html": [
       "<pre>recommendations finished on 19000/101140 queries. users per second: 45193.2</pre>"
      ],
      "text/plain": [
       "recommendations finished on 19000/101140 queries. users per second: 45193.2"
      ]
     },
     "metadata": {},
     "output_type": "display_data"
    },
    {
     "data": {
      "text/html": [
       "<pre>recommendations finished on 20000/101140 queries. users per second: 44188.5</pre>"
      ],
      "text/plain": [
       "recommendations finished on 20000/101140 queries. users per second: 44188.5"
      ]
     },
     "metadata": {},
     "output_type": "display_data"
    },
    {
     "data": {
      "text/html": [
       "<pre>recommendations finished on 21000/101140 queries. users per second: 43634.5</pre>"
      ],
      "text/plain": [
       "recommendations finished on 21000/101140 queries. users per second: 43634.5"
      ]
     },
     "metadata": {},
     "output_type": "display_data"
    },
    {
     "data": {
      "text/html": [
       "<pre>recommendations finished on 22000/101140 queries. users per second: 43415.6</pre>"
      ],
      "text/plain": [
       "recommendations finished on 22000/101140 queries. users per second: 43415.6"
      ]
     },
     "metadata": {},
     "output_type": "display_data"
    },
    {
     "data": {
      "text/html": [
       "<pre>recommendations finished on 23000/101140 queries. users per second: 43557.9</pre>"
      ],
      "text/plain": [
       "recommendations finished on 23000/101140 queries. users per second: 43557.9"
      ]
     },
     "metadata": {},
     "output_type": "display_data"
    },
    {
     "data": {
      "text/html": [
       "<pre>recommendations finished on 24000/101140 queries. users per second: 43063.8</pre>"
      ],
      "text/plain": [
       "recommendations finished on 24000/101140 queries. users per second: 43063.8"
      ]
     },
     "metadata": {},
     "output_type": "display_data"
    },
    {
     "data": {
      "text/html": [
       "<pre>recommendations finished on 25000/101140 queries. users per second: 42869.1</pre>"
      ],
      "text/plain": [
       "recommendations finished on 25000/101140 queries. users per second: 42869.1"
      ]
     },
     "metadata": {},
     "output_type": "display_data"
    },
    {
     "data": {
      "text/html": [
       "<pre>recommendations finished on 26000/101140 queries. users per second: 42876.8</pre>"
      ],
      "text/plain": [
       "recommendations finished on 26000/101140 queries. users per second: 42876.8"
      ]
     },
     "metadata": {},
     "output_type": "display_data"
    },
    {
     "data": {
      "text/html": [
       "<pre>recommendations finished on 27000/101140 queries. users per second: 42618.8</pre>"
      ],
      "text/plain": [
       "recommendations finished on 27000/101140 queries. users per second: 42618.8"
      ]
     },
     "metadata": {},
     "output_type": "display_data"
    },
    {
     "data": {
      "text/html": [
       "<pre>recommendations finished on 28000/101140 queries. users per second: 42793.8</pre>"
      ],
      "text/plain": [
       "recommendations finished on 28000/101140 queries. users per second: 42793.8"
      ]
     },
     "metadata": {},
     "output_type": "display_data"
    },
    {
     "data": {
      "text/html": [
       "<pre>recommendations finished on 29000/101140 queries. users per second: 42550.8</pre>"
      ],
      "text/plain": [
       "recommendations finished on 29000/101140 queries. users per second: 42550.8"
      ]
     },
     "metadata": {},
     "output_type": "display_data"
    },
    {
     "data": {
      "text/html": [
       "<pre>recommendations finished on 30000/101140 queries. users per second: 42734.7</pre>"
      ],
      "text/plain": [
       "recommendations finished on 30000/101140 queries. users per second: 42734.7"
      ]
     },
     "metadata": {},
     "output_type": "display_data"
    },
    {
     "data": {
      "text/html": [
       "<pre>recommendations finished on 31000/101140 queries. users per second: 42677.5</pre>"
      ],
      "text/plain": [
       "recommendations finished on 31000/101140 queries. users per second: 42677.5"
      ]
     },
     "metadata": {},
     "output_type": "display_data"
    },
    {
     "data": {
      "text/html": [
       "<pre>recommendations finished on 32000/101140 queries. users per second: 42809</pre>"
      ],
      "text/plain": [
       "recommendations finished on 32000/101140 queries. users per second: 42809"
      ]
     },
     "metadata": {},
     "output_type": "display_data"
    },
    {
     "data": {
      "text/html": [
       "<pre>recommendations finished on 33000/101140 queries. users per second: 42859.6</pre>"
      ],
      "text/plain": [
       "recommendations finished on 33000/101140 queries. users per second: 42859.6"
      ]
     },
     "metadata": {},
     "output_type": "display_data"
    },
    {
     "data": {
      "text/html": [
       "<pre>recommendations finished on 34000/101140 queries. users per second: 42793.5</pre>"
      ],
      "text/plain": [
       "recommendations finished on 34000/101140 queries. users per second: 42793.5"
      ]
     },
     "metadata": {},
     "output_type": "display_data"
    },
    {
     "data": {
      "text/html": [
       "<pre>recommendations finished on 35000/101140 queries. users per second: 42981.4</pre>"
      ],
      "text/plain": [
       "recommendations finished on 35000/101140 queries. users per second: 42981.4"
      ]
     },
     "metadata": {},
     "output_type": "display_data"
    },
    {
     "data": {
      "text/html": [
       "<pre>recommendations finished on 36000/101140 queries. users per second: 43217.8</pre>"
      ],
      "text/plain": [
       "recommendations finished on 36000/101140 queries. users per second: 43217.8"
      ]
     },
     "metadata": {},
     "output_type": "display_data"
    },
    {
     "data": {
      "text/html": [
       "<pre>recommendations finished on 37000/101140 queries. users per second: 43302</pre>"
      ],
      "text/plain": [
       "recommendations finished on 37000/101140 queries. users per second: 43302"
      ]
     },
     "metadata": {},
     "output_type": "display_data"
    },
    {
     "data": {
      "text/html": [
       "<pre>recommendations finished on 38000/101140 queries. users per second: 43466.8</pre>"
      ],
      "text/plain": [
       "recommendations finished on 38000/101140 queries. users per second: 43466.8"
      ]
     },
     "metadata": {},
     "output_type": "display_data"
    },
    {
     "data": {
      "text/html": [
       "<pre>recommendations finished on 39000/101140 queries. users per second: 43488.3</pre>"
      ],
      "text/plain": [
       "recommendations finished on 39000/101140 queries. users per second: 43488.3"
      ]
     },
     "metadata": {},
     "output_type": "display_data"
    },
    {
     "data": {
      "text/html": [
       "<pre>recommendations finished on 40000/101140 queries. users per second: 43549.8</pre>"
      ],
      "text/plain": [
       "recommendations finished on 40000/101140 queries. users per second: 43549.8"
      ]
     },
     "metadata": {},
     "output_type": "display_data"
    },
    {
     "data": {
      "text/html": [
       "<pre>recommendations finished on 41000/101140 queries. users per second: 43411.4</pre>"
      ],
      "text/plain": [
       "recommendations finished on 41000/101140 queries. users per second: 43411.4"
      ]
     },
     "metadata": {},
     "output_type": "display_data"
    },
    {
     "data": {
      "text/html": [
       "<pre>recommendations finished on 42000/101140 queries. users per second: 43595.1</pre>"
      ],
      "text/plain": [
       "recommendations finished on 42000/101140 queries. users per second: 43595.1"
      ]
     },
     "metadata": {},
     "output_type": "display_data"
    },
    {
     "data": {
      "text/html": [
       "<pre>recommendations finished on 43000/101140 queries. users per second: 43693.3</pre>"
      ],
      "text/plain": [
       "recommendations finished on 43000/101140 queries. users per second: 43693.3"
      ]
     },
     "metadata": {},
     "output_type": "display_data"
    },
    {
     "data": {
      "text/html": [
       "<pre>recommendations finished on 44000/101140 queries. users per second: 43996.2</pre>"
      ],
      "text/plain": [
       "recommendations finished on 44000/101140 queries. users per second: 43996.2"
      ]
     },
     "metadata": {},
     "output_type": "display_data"
    },
    {
     "data": {
      "text/html": [
       "<pre>recommendations finished on 45000/101140 queries. users per second: 44227.7</pre>"
      ],
      "text/plain": [
       "recommendations finished on 45000/101140 queries. users per second: 44227.7"
      ]
     },
     "metadata": {},
     "output_type": "display_data"
    },
    {
     "data": {
      "text/html": [
       "<pre>recommendations finished on 46000/101140 queries. users per second: 44431.4</pre>"
      ],
      "text/plain": [
       "recommendations finished on 46000/101140 queries. users per second: 44431.4"
      ]
     },
     "metadata": {},
     "output_type": "display_data"
    },
    {
     "data": {
      "text/html": [
       "<pre>recommendations finished on 47000/101140 queries. users per second: 44733.4</pre>"
      ],
      "text/plain": [
       "recommendations finished on 47000/101140 queries. users per second: 44733.4"
      ]
     },
     "metadata": {},
     "output_type": "display_data"
    },
    {
     "data": {
      "text/html": [
       "<pre>recommendations finished on 48000/101140 queries. users per second: 44960.6</pre>"
      ],
      "text/plain": [
       "recommendations finished on 48000/101140 queries. users per second: 44960.6"
      ]
     },
     "metadata": {},
     "output_type": "display_data"
    },
    {
     "data": {
      "text/html": [
       "<pre>recommendations finished on 49000/101140 queries. users per second: 45164.5</pre>"
      ],
      "text/plain": [
       "recommendations finished on 49000/101140 queries. users per second: 45164.5"
      ]
     },
     "metadata": {},
     "output_type": "display_data"
    },
    {
     "data": {
      "text/html": [
       "<pre>recommendations finished on 50000/101140 queries. users per second: 45430</pre>"
      ],
      "text/plain": [
       "recommendations finished on 50000/101140 queries. users per second: 45430"
      ]
     },
     "metadata": {},
     "output_type": "display_data"
    },
    {
     "data": {
      "text/html": [
       "<pre>recommendations finished on 51000/101140 queries. users per second: 45496.1</pre>"
      ],
      "text/plain": [
       "recommendations finished on 51000/101140 queries. users per second: 45496.1"
      ]
     },
     "metadata": {},
     "output_type": "display_data"
    },
    {
     "data": {
      "text/html": [
       "<pre>recommendations finished on 52000/101140 queries. users per second: 45565.3</pre>"
      ],
      "text/plain": [
       "recommendations finished on 52000/101140 queries. users per second: 45565.3"
      ]
     },
     "metadata": {},
     "output_type": "display_data"
    },
    {
     "data": {
      "text/html": [
       "<pre>recommendations finished on 53000/101140 queries. users per second: 45555.8</pre>"
      ],
      "text/plain": [
       "recommendations finished on 53000/101140 queries. users per second: 45555.8"
      ]
     },
     "metadata": {},
     "output_type": "display_data"
    },
    {
     "data": {
      "text/html": [
       "<pre>recommendations finished on 54000/101140 queries. users per second: 45645</pre>"
      ],
      "text/plain": [
       "recommendations finished on 54000/101140 queries. users per second: 45645"
      ]
     },
     "metadata": {},
     "output_type": "display_data"
    },
    {
     "data": {
      "text/html": [
       "<pre>recommendations finished on 55000/101140 queries. users per second: 45685.9</pre>"
      ],
      "text/plain": [
       "recommendations finished on 55000/101140 queries. users per second: 45685.9"
      ]
     },
     "metadata": {},
     "output_type": "display_data"
    },
    {
     "data": {
      "text/html": [
       "<pre>recommendations finished on 56000/101140 queries. users per second: 45847.5</pre>"
      ],
      "text/plain": [
       "recommendations finished on 56000/101140 queries. users per second: 45847.5"
      ]
     },
     "metadata": {},
     "output_type": "display_data"
    },
    {
     "data": {
      "text/html": [
       "<pre>recommendations finished on 57000/101140 queries. users per second: 46069.5</pre>"
      ],
      "text/plain": [
       "recommendations finished on 57000/101140 queries. users per second: 46069.5"
      ]
     },
     "metadata": {},
     "output_type": "display_data"
    },
    {
     "data": {
      "text/html": [
       "<pre>recommendations finished on 58000/101140 queries. users per second: 46153.5</pre>"
      ],
      "text/plain": [
       "recommendations finished on 58000/101140 queries. users per second: 46153.5"
      ]
     },
     "metadata": {},
     "output_type": "display_data"
    },
    {
     "data": {
      "text/html": [
       "<pre>recommendations finished on 59000/101140 queries. users per second: 46331.7</pre>"
      ],
      "text/plain": [
       "recommendations finished on 59000/101140 queries. users per second: 46331.7"
      ]
     },
     "metadata": {},
     "output_type": "display_data"
    },
    {
     "data": {
      "text/html": [
       "<pre>recommendations finished on 60000/101140 queries. users per second: 46294.8</pre>"
      ],
      "text/plain": [
       "recommendations finished on 60000/101140 queries. users per second: 46294.8"
      ]
     },
     "metadata": {},
     "output_type": "display_data"
    },
    {
     "data": {
      "text/html": [
       "<pre>recommendations finished on 61000/101140 queries. users per second: 46440.7</pre>"
      ],
      "text/plain": [
       "recommendations finished on 61000/101140 queries. users per second: 46440.7"
      ]
     },
     "metadata": {},
     "output_type": "display_data"
    },
    {
     "data": {
      "text/html": [
       "<pre>recommendations finished on 62000/101140 queries. users per second: 46582.8</pre>"
      ],
      "text/plain": [
       "recommendations finished on 62000/101140 queries. users per second: 46582.8"
      ]
     },
     "metadata": {},
     "output_type": "display_data"
    },
    {
     "data": {
      "text/html": [
       "<pre>recommendations finished on 63000/101140 queries. users per second: 46610.1</pre>"
      ],
      "text/plain": [
       "recommendations finished on 63000/101140 queries. users per second: 46610.1"
      ]
     },
     "metadata": {},
     "output_type": "display_data"
    },
    {
     "data": {
      "text/html": [
       "<pre>recommendations finished on 64000/101140 queries. users per second: 46764.1</pre>"
      ],
      "text/plain": [
       "recommendations finished on 64000/101140 queries. users per second: 46764.1"
      ]
     },
     "metadata": {},
     "output_type": "display_data"
    },
    {
     "data": {
      "text/html": [
       "<pre>recommendations finished on 65000/101140 queries. users per second: 46883.4</pre>"
      ],
      "text/plain": [
       "recommendations finished on 65000/101140 queries. users per second: 46883.4"
      ]
     },
     "metadata": {},
     "output_type": "display_data"
    },
    {
     "data": {
      "text/html": [
       "<pre>recommendations finished on 66000/101140 queries. users per second: 47035.9</pre>"
      ],
      "text/plain": [
       "recommendations finished on 66000/101140 queries. users per second: 47035.9"
      ]
     },
     "metadata": {},
     "output_type": "display_data"
    },
    {
     "data": {
      "text/html": [
       "<pre>recommendations finished on 67000/101140 queries. users per second: 47102.6</pre>"
      ],
      "text/plain": [
       "recommendations finished on 67000/101140 queries. users per second: 47102.6"
      ]
     },
     "metadata": {},
     "output_type": "display_data"
    },
    {
     "data": {
      "text/html": [
       "<pre>recommendations finished on 68000/101140 queries. users per second: 47201.3</pre>"
      ],
      "text/plain": [
       "recommendations finished on 68000/101140 queries. users per second: 47201.3"
      ]
     },
     "metadata": {},
     "output_type": "display_data"
    },
    {
     "data": {
      "text/html": [
       "<pre>recommendations finished on 69000/101140 queries. users per second: 47216.8</pre>"
      ],
      "text/plain": [
       "recommendations finished on 69000/101140 queries. users per second: 47216.8"
      ]
     },
     "metadata": {},
     "output_type": "display_data"
    },
    {
     "data": {
      "text/html": [
       "<pre>recommendations finished on 70000/101140 queries. users per second: 47338.5</pre>"
      ],
      "text/plain": [
       "recommendations finished on 70000/101140 queries. users per second: 47338.5"
      ]
     },
     "metadata": {},
     "output_type": "display_data"
    },
    {
     "data": {
      "text/html": [
       "<pre>recommendations finished on 71000/101140 queries. users per second: 47272.5</pre>"
      ],
      "text/plain": [
       "recommendations finished on 71000/101140 queries. users per second: 47272.5"
      ]
     },
     "metadata": {},
     "output_type": "display_data"
    },
    {
     "data": {
      "text/html": [
       "<pre>recommendations finished on 72000/101140 queries. users per second: 47141.6</pre>"
      ],
      "text/plain": [
       "recommendations finished on 72000/101140 queries. users per second: 47141.6"
      ]
     },
     "metadata": {},
     "output_type": "display_data"
    },
    {
     "data": {
      "text/html": [
       "<pre>recommendations finished on 73000/101140 queries. users per second: 46982.7</pre>"
      ],
      "text/plain": [
       "recommendations finished on 73000/101140 queries. users per second: 46982.7"
      ]
     },
     "metadata": {},
     "output_type": "display_data"
    },
    {
     "data": {
      "text/html": [
       "<pre>recommendations finished on 74000/101140 queries. users per second: 46962.2</pre>"
      ],
      "text/plain": [
       "recommendations finished on 74000/101140 queries. users per second: 46962.2"
      ]
     },
     "metadata": {},
     "output_type": "display_data"
    },
    {
     "data": {
      "text/html": [
       "<pre>recommendations finished on 75000/101140 queries. users per second: 46829.8</pre>"
      ],
      "text/plain": [
       "recommendations finished on 75000/101140 queries. users per second: 46829.8"
      ]
     },
     "metadata": {},
     "output_type": "display_data"
    },
    {
     "data": {
      "text/html": [
       "<pre>recommendations finished on 76000/101140 queries. users per second: 46678.4</pre>"
      ],
      "text/plain": [
       "recommendations finished on 76000/101140 queries. users per second: 46678.4"
      ]
     },
     "metadata": {},
     "output_type": "display_data"
    },
    {
     "data": {
      "text/html": [
       "<pre>recommendations finished on 77000/101140 queries. users per second: 46513.9</pre>"
      ],
      "text/plain": [
       "recommendations finished on 77000/101140 queries. users per second: 46513.9"
      ]
     },
     "metadata": {},
     "output_type": "display_data"
    },
    {
     "data": {
      "text/html": [
       "<pre>recommendations finished on 78000/101140 queries. users per second: 46470.3</pre>"
      ],
      "text/plain": [
       "recommendations finished on 78000/101140 queries. users per second: 46470.3"
      ]
     },
     "metadata": {},
     "output_type": "display_data"
    },
    {
     "data": {
      "text/html": [
       "<pre>recommendations finished on 79000/101140 queries. users per second: 46361.7</pre>"
      ],
      "text/plain": [
       "recommendations finished on 79000/101140 queries. users per second: 46361.7"
      ]
     },
     "metadata": {},
     "output_type": "display_data"
    },
    {
     "data": {
      "text/html": [
       "<pre>recommendations finished on 80000/101140 queries. users per second: 46211.4</pre>"
      ],
      "text/plain": [
       "recommendations finished on 80000/101140 queries. users per second: 46211.4"
      ]
     },
     "metadata": {},
     "output_type": "display_data"
    },
    {
     "data": {
      "text/html": [
       "<pre>recommendations finished on 81000/101140 queries. users per second: 46111.8</pre>"
      ],
      "text/plain": [
       "recommendations finished on 81000/101140 queries. users per second: 46111.8"
      ]
     },
     "metadata": {},
     "output_type": "display_data"
    },
    {
     "data": {
      "text/html": [
       "<pre>recommendations finished on 82000/101140 queries. users per second: 45798.5</pre>"
      ],
      "text/plain": [
       "recommendations finished on 82000/101140 queries. users per second: 45798.5"
      ]
     },
     "metadata": {},
     "output_type": "display_data"
    },
    {
     "data": {
      "text/html": [
       "<pre>recommendations finished on 83000/101140 queries. users per second: 45739.4</pre>"
      ],
      "text/plain": [
       "recommendations finished on 83000/101140 queries. users per second: 45739.4"
      ]
     },
     "metadata": {},
     "output_type": "display_data"
    },
    {
     "data": {
      "text/html": [
       "<pre>recommendations finished on 84000/101140 queries. users per second: 45611.3</pre>"
      ],
      "text/plain": [
       "recommendations finished on 84000/101140 queries. users per second: 45611.3"
      ]
     },
     "metadata": {},
     "output_type": "display_data"
    },
    {
     "data": {
      "text/html": [
       "<pre>recommendations finished on 85000/101140 queries. users per second: 45508.3</pre>"
      ],
      "text/plain": [
       "recommendations finished on 85000/101140 queries. users per second: 45508.3"
      ]
     },
     "metadata": {},
     "output_type": "display_data"
    },
    {
     "data": {
      "text/html": [
       "<pre>recommendations finished on 86000/101140 queries. users per second: 45287.9</pre>"
      ],
      "text/plain": [
       "recommendations finished on 86000/101140 queries. users per second: 45287.9"
      ]
     },
     "metadata": {},
     "output_type": "display_data"
    },
    {
     "data": {
      "text/html": [
       "<pre>recommendations finished on 87000/101140 queries. users per second: 45083.7</pre>"
      ],
      "text/plain": [
       "recommendations finished on 87000/101140 queries. users per second: 45083.7"
      ]
     },
     "metadata": {},
     "output_type": "display_data"
    },
    {
     "data": {
      "text/html": [
       "<pre>recommendations finished on 88000/101140 queries. users per second: 44897.6</pre>"
      ],
      "text/plain": [
       "recommendations finished on 88000/101140 queries. users per second: 44897.6"
      ]
     },
     "metadata": {},
     "output_type": "display_data"
    },
    {
     "data": {
      "text/html": [
       "<pre>recommendations finished on 89000/101140 queries. users per second: 44847.1</pre>"
      ],
      "text/plain": [
       "recommendations finished on 89000/101140 queries. users per second: 44847.1"
      ]
     },
     "metadata": {},
     "output_type": "display_data"
    },
    {
     "data": {
      "text/html": [
       "<pre>recommendations finished on 90000/101140 queries. users per second: 44676</pre>"
      ],
      "text/plain": [
       "recommendations finished on 90000/101140 queries. users per second: 44676"
      ]
     },
     "metadata": {},
     "output_type": "display_data"
    },
    {
     "data": {
      "text/html": [
       "<pre>recommendations finished on 91000/101140 queries. users per second: 44656.1</pre>"
      ],
      "text/plain": [
       "recommendations finished on 91000/101140 queries. users per second: 44656.1"
      ]
     },
     "metadata": {},
     "output_type": "display_data"
    },
    {
     "data": {
      "text/html": [
       "<pre>recommendations finished on 92000/101140 queries. users per second: 44452.6</pre>"
      ],
      "text/plain": [
       "recommendations finished on 92000/101140 queries. users per second: 44452.6"
      ]
     },
     "metadata": {},
     "output_type": "display_data"
    },
    {
     "data": {
      "text/html": [
       "<pre>recommendations finished on 93000/101140 queries. users per second: 44279</pre>"
      ],
      "text/plain": [
       "recommendations finished on 93000/101140 queries. users per second: 44279"
      ]
     },
     "metadata": {},
     "output_type": "display_data"
    },
    {
     "data": {
      "text/html": [
       "<pre>recommendations finished on 94000/101140 queries. users per second: 44111.4</pre>"
      ],
      "text/plain": [
       "recommendations finished on 94000/101140 queries. users per second: 44111.4"
      ]
     },
     "metadata": {},
     "output_type": "display_data"
    },
    {
     "data": {
      "text/html": [
       "<pre>recommendations finished on 95000/101140 queries. users per second: 43891.9</pre>"
      ],
      "text/plain": [
       "recommendations finished on 95000/101140 queries. users per second: 43891.9"
      ]
     },
     "metadata": {},
     "output_type": "display_data"
    },
    {
     "data": {
      "text/html": [
       "<pre>recommendations finished on 96000/101140 queries. users per second: 43786.7</pre>"
      ],
      "text/plain": [
       "recommendations finished on 96000/101140 queries. users per second: 43786.7"
      ]
     },
     "metadata": {},
     "output_type": "display_data"
    },
    {
     "data": {
      "text/html": [
       "<pre>recommendations finished on 97000/101140 queries. users per second: 43724.4</pre>"
      ],
      "text/plain": [
       "recommendations finished on 97000/101140 queries. users per second: 43724.4"
      ]
     },
     "metadata": {},
     "output_type": "display_data"
    },
    {
     "data": {
      "text/html": [
       "<pre>recommendations finished on 98000/101140 queries. users per second: 43612.1</pre>"
      ],
      "text/plain": [
       "recommendations finished on 98000/101140 queries. users per second: 43612.1"
      ]
     },
     "metadata": {},
     "output_type": "display_data"
    },
    {
     "data": {
      "text/html": [
       "<pre>recommendations finished on 99000/101140 queries. users per second: 43537.2</pre>"
      ],
      "text/plain": [
       "recommendations finished on 99000/101140 queries. users per second: 43537.2"
      ]
     },
     "metadata": {},
     "output_type": "display_data"
    },
    {
     "data": {
      "text/html": [
       "<pre>recommendations finished on 100000/101140 queries. users per second: 43437.3</pre>"
      ],
      "text/plain": [
       "recommendations finished on 100000/101140 queries. users per second: 43437.3"
      ]
     },
     "metadata": {},
     "output_type": "display_data"
    },
    {
     "data": {
      "text/html": [
       "<pre>recommendations finished on 101000/101140 queries. users per second: 43313.1</pre>"
      ],
      "text/plain": [
       "recommendations finished on 101000/101140 queries. users per second: 43313.1"
      ]
     },
     "metadata": {},
     "output_type": "display_data"
    },
    {
     "name": "stdout",
     "output_type": "stream",
     "text": [
      "+-------+--------+----------------------+------+\n",
      "| LYBID | ITEMID |        score         | rank |\n",
      "+-------+--------+----------------------+------+\n",
      "| 10004 | 43508  | 0.07162949868610927  |  1   |\n",
      "| 10004 | 43646  | 0.05709114245006016  |  2   |\n",
      "| 10004 | 43507  | 0.05089901174817767  |  3   |\n",
      "| 10004 | 21089  | 0.05017979655947004  |  4   |\n",
      "| 10004 | 35650  | 0.04822603293827602  |  5   |\n",
      "| 10009 | 42701  | 0.10445459683736165  |  1   |\n",
      "| 10009 | 43515  | 0.04533270994822184  |  2   |\n",
      "| 10009 | 43604  | 0.03413587808609009  |  3   |\n",
      "| 10009 | 35578  | 0.03187417984008789  |  4   |\n",
      "| 10009 | 35545  | 0.025119324525197346 |  5   |\n",
      "| 10012 | 42655  | 0.15089134375254312  |  1   |\n",
      "| 10012 | 43442  | 0.05090361833572388  |  2   |\n",
      "| 10012 | 15862  | 0.05022907257080078  |  3   |\n",
      "| 10012 | 43507  | 0.048831939697265625 |  4   |\n",
      "| 10012 | 33584  | 0.048500259717305504 |  5   |\n",
      "| 10022 | 43507  | 0.03914217154184977  |  1   |\n",
      "| 10022 | 15862  | 0.03719216017496018  |  2   |\n",
      "| 10022 | 43853  | 0.037019164789290654 |  3   |\n",
      "| 10022 | 43442  | 0.03486204715002151  |  4   |\n",
      "| 10022 | 43508  | 0.029157292275201706 |  5   |\n",
      "| 10023 | 43507  | 0.04894331693649292  |  1   |\n",
      "| 10023 | 15862  | 0.046427786350250244 |  2   |\n",
      "| 10023 | 42653  | 0.04550643563270569  |  3   |\n",
      "| 10023 | 43442  | 0.04258849620819092  |  4   |\n",
      "| 10023 | 28901  | 0.041560739278793335 |  5   |\n",
      "| 10029 | 43919  |  0.0841759443283081  |  1   |\n",
      "| 10029 | 43915  | 0.07422485947608948  |  2   |\n",
      "| 10029 | 43917  |  0.0682540237903595  |  3   |\n",
      "| 10029 | 43929  | 0.06006404757499695  |  4   |\n",
      "| 10029 | 43914  | 0.05406787991523743  |  5   |\n",
      "+-------+--------+----------------------+------+\n",
      "[505700 rows x 4 columns]\n",
      "\n"
     ]
    }
   ],
   "source": [
    "users_to_recommend = list(data[user_id].unique())\n",
    "\n",
    "##choice of model not evaluated yet\n",
    "final_model = tc.item_similarity_recommender.create(tc.SFrame(data_dummy), \n",
    "                                            user_id=user_id, \n",
    "                                            item_id=item_id, \n",
    "                                            target='purchase_dummy', \n",
    "                                            similarity_type='cosine')\n",
    "\n",
    "recom = final_model.recommend(users=users_to_recommend, k=n_rec)\n",
    "recom.print_rows(n_display)"
   ]
  },
  {
   "cell_type": "markdown",
   "metadata": {},
   "source": [
    "### 8.1. CSV output file"
   ]
  },
  {
   "cell_type": "code",
   "execution_count": 45,
   "metadata": {},
   "outputs": [
    {
     "name": "stdout",
     "output_type": "stream",
     "text": [
      "(505700, 4)\n"
     ]
    },
    {
     "data": {
      "text/html": [
       "<div>\n",
       "<style scoped>\n",
       "    .dataframe tbody tr th:only-of-type {\n",
       "        vertical-align: middle;\n",
       "    }\n",
       "\n",
       "    .dataframe tbody tr th {\n",
       "        vertical-align: top;\n",
       "    }\n",
       "\n",
       "    .dataframe thead th {\n",
       "        text-align: right;\n",
       "    }\n",
       "</style>\n",
       "<table border=\"1\" class=\"dataframe\">\n",
       "  <thead>\n",
       "    <tr style=\"text-align: right;\">\n",
       "      <th></th>\n",
       "      <th>LYBID</th>\n",
       "      <th>ITEMID</th>\n",
       "      <th>score</th>\n",
       "      <th>rank</th>\n",
       "    </tr>\n",
       "  </thead>\n",
       "  <tbody>\n",
       "    <tr>\n",
       "      <th>0</th>\n",
       "      <td>10004</td>\n",
       "      <td>43508</td>\n",
       "      <td>0.071629</td>\n",
       "      <td>1</td>\n",
       "    </tr>\n",
       "    <tr>\n",
       "      <th>1</th>\n",
       "      <td>10004</td>\n",
       "      <td>43646</td>\n",
       "      <td>0.057091</td>\n",
       "      <td>2</td>\n",
       "    </tr>\n",
       "    <tr>\n",
       "      <th>2</th>\n",
       "      <td>10004</td>\n",
       "      <td>43507</td>\n",
       "      <td>0.050899</td>\n",
       "      <td>3</td>\n",
       "    </tr>\n",
       "    <tr>\n",
       "      <th>3</th>\n",
       "      <td>10004</td>\n",
       "      <td>21089</td>\n",
       "      <td>0.050180</td>\n",
       "      <td>4</td>\n",
       "    </tr>\n",
       "    <tr>\n",
       "      <th>4</th>\n",
       "      <td>10004</td>\n",
       "      <td>35650</td>\n",
       "      <td>0.048226</td>\n",
       "      <td>5</td>\n",
       "    </tr>\n",
       "  </tbody>\n",
       "</table>\n",
       "</div>"
      ],
      "text/plain": [
       "   LYBID  ITEMID     score  rank\n",
       "0  10004   43508  0.071629     1\n",
       "1  10004   43646  0.057091     2\n",
       "2  10004   43507  0.050899     3\n",
       "3  10004   21089  0.050180     4\n",
       "4  10004   35650  0.048226     5"
      ]
     },
     "execution_count": 45,
     "metadata": {},
     "output_type": "execute_result"
    }
   ],
   "source": [
    "df_rec = recom.to_dataframe()\n",
    "print(df_rec.shape)\n",
    "df_rec.head()"
   ]
  },
  {
   "cell_type": "code",
   "execution_count": 46,
   "metadata": {},
   "outputs": [],
   "source": [
    "df_rec['recommendedProducts'] = df_rec.groupby([user_id])[item_id].transform(lambda x: '|'.join(x.astype(str)))\n",
    "df_output = df_rec[['LYBID', 'recommendedProducts']].drop_duplicates().sort_values('LYBID').set_index('LYBID')"
   ]
  },
  {
   "cell_type": "markdown",
   "metadata": {},
   "source": [
    "#### Define a function to create a desired output"
   ]
  },
  {
   "cell_type": "code",
   "execution_count": 50,
   "metadata": {},
   "outputs": [],
   "source": [
    "def create_output(model, users_to_recommend, n_rec, print_csv=True):\n",
    "    recomendation = model.recommend(users=users_to_recommend, k=n_rec)\n",
    "    df_rec = recomendation.to_dataframe()\n",
    "    df_rec['recommendedProducts'] = df_rec.groupby([user_id])[item_id] \\\n",
    "        .transform(lambda x: '|'.join(x.astype(str)))\n",
    "    df_output = df_rec[['LYBID', 'recommendedProducts']].drop_duplicates() \\\n",
    "        .sort_values('LYBID').set_index('LYBID')\n",
    "    if print_csv:\n",
    "        df_output.to_csv('../output/sos_dummy_recommendation.csv')\n",
    "        print(\"An output file can be found in 'output' folder with name 'new_recommendation.csv'\")\n",
    "    return df_output"
   ]
  },
  {
   "cell_type": "code",
   "execution_count": 51,
   "metadata": {},
   "outputs": [
    {
     "data": {
      "text/html": [
       "<pre>recommendations finished on 1000/101140 queries. users per second: 37313.4</pre>"
      ],
      "text/plain": [
       "recommendations finished on 1000/101140 queries. users per second: 37313.4"
      ]
     },
     "metadata": {},
     "output_type": "display_data"
    },
    {
     "data": {
      "text/html": [
       "<pre>recommendations finished on 2000/101140 queries. users per second: 40523.6</pre>"
      ],
      "text/plain": [
       "recommendations finished on 2000/101140 queries. users per second: 40523.6"
      ]
     },
     "metadata": {},
     "output_type": "display_data"
    },
    {
     "data": {
      "text/html": [
       "<pre>recommendations finished on 3000/101140 queries. users per second: 38589.7</pre>"
      ],
      "text/plain": [
       "recommendations finished on 3000/101140 queries. users per second: 38589.7"
      ]
     },
     "metadata": {},
     "output_type": "display_data"
    },
    {
     "data": {
      "text/html": [
       "<pre>recommendations finished on 4000/101140 queries. users per second: 37995.4</pre>"
      ],
      "text/plain": [
       "recommendations finished on 4000/101140 queries. users per second: 37995.4"
      ]
     },
     "metadata": {},
     "output_type": "display_data"
    },
    {
     "data": {
      "text/html": [
       "<pre>recommendations finished on 5000/101140 queries. users per second: 38538</pre>"
      ],
      "text/plain": [
       "recommendations finished on 5000/101140 queries. users per second: 38538"
      ]
     },
     "metadata": {},
     "output_type": "display_data"
    },
    {
     "data": {
      "text/html": [
       "<pre>recommendations finished on 6000/101140 queries. users per second: 38987.4</pre>"
      ],
      "text/plain": [
       "recommendations finished on 6000/101140 queries. users per second: 38987.4"
      ]
     },
     "metadata": {},
     "output_type": "display_data"
    },
    {
     "data": {
      "text/html": [
       "<pre>recommendations finished on 7000/101140 queries. users per second: 37908.1</pre>"
      ],
      "text/plain": [
       "recommendations finished on 7000/101140 queries. users per second: 37908.1"
      ]
     },
     "metadata": {},
     "output_type": "display_data"
    },
    {
     "data": {
      "text/html": [
       "<pre>recommendations finished on 8000/101140 queries. users per second: 37481.4</pre>"
      ],
      "text/plain": [
       "recommendations finished on 8000/101140 queries. users per second: 37481.4"
      ]
     },
     "metadata": {},
     "output_type": "display_data"
    },
    {
     "data": {
      "text/html": [
       "<pre>recommendations finished on 9000/101140 queries. users per second: 36868.8</pre>"
      ],
      "text/plain": [
       "recommendations finished on 9000/101140 queries. users per second: 36868.8"
      ]
     },
     "metadata": {},
     "output_type": "display_data"
    },
    {
     "data": {
      "text/html": [
       "<pre>recommendations finished on 10000/101140 queries. users per second: 36079.6</pre>"
      ],
      "text/plain": [
       "recommendations finished on 10000/101140 queries. users per second: 36079.6"
      ]
     },
     "metadata": {},
     "output_type": "display_data"
    },
    {
     "data": {
      "text/html": [
       "<pre>recommendations finished on 11000/101140 queries. users per second: 36526.5</pre>"
      ],
      "text/plain": [
       "recommendations finished on 11000/101140 queries. users per second: 36526.5"
      ]
     },
     "metadata": {},
     "output_type": "display_data"
    },
    {
     "data": {
      "text/html": [
       "<pre>recommendations finished on 12000/101140 queries. users per second: 37460</pre>"
      ],
      "text/plain": [
       "recommendations finished on 12000/101140 queries. users per second: 37460"
      ]
     },
     "metadata": {},
     "output_type": "display_data"
    },
    {
     "data": {
      "text/html": [
       "<pre>recommendations finished on 13000/101140 queries. users per second: 38221.9</pre>"
      ],
      "text/plain": [
       "recommendations finished on 13000/101140 queries. users per second: 38221.9"
      ]
     },
     "metadata": {},
     "output_type": "display_data"
    },
    {
     "data": {
      "text/html": [
       "<pre>recommendations finished on 14000/101140 queries. users per second: 38937.8</pre>"
      ],
      "text/plain": [
       "recommendations finished on 14000/101140 queries. users per second: 38937.8"
      ]
     },
     "metadata": {},
     "output_type": "display_data"
    },
    {
     "data": {
      "text/html": [
       "<pre>recommendations finished on 15000/101140 queries. users per second: 39386.8</pre>"
      ],
      "text/plain": [
       "recommendations finished on 15000/101140 queries. users per second: 39386.8"
      ]
     },
     "metadata": {},
     "output_type": "display_data"
    },
    {
     "data": {
      "text/html": [
       "<pre>recommendations finished on 16000/101140 queries. users per second: 39504.9</pre>"
      ],
      "text/plain": [
       "recommendations finished on 16000/101140 queries. users per second: 39504.9"
      ]
     },
     "metadata": {},
     "output_type": "display_data"
    },
    {
     "data": {
      "text/html": [
       "<pre>recommendations finished on 17000/101140 queries. users per second: 40101.2</pre>"
      ],
      "text/plain": [
       "recommendations finished on 17000/101140 queries. users per second: 40101.2"
      ]
     },
     "metadata": {},
     "output_type": "display_data"
    },
    {
     "data": {
      "text/html": [
       "<pre>recommendations finished on 18000/101140 queries. users per second: 40406.7</pre>"
      ],
      "text/plain": [
       "recommendations finished on 18000/101140 queries. users per second: 40406.7"
      ]
     },
     "metadata": {},
     "output_type": "display_data"
    },
    {
     "data": {
      "text/html": [
       "<pre>recommendations finished on 19000/101140 queries. users per second: 40748.5</pre>"
      ],
      "text/plain": [
       "recommendations finished on 19000/101140 queries. users per second: 40748.5"
      ]
     },
     "metadata": {},
     "output_type": "display_data"
    },
    {
     "data": {
      "text/html": [
       "<pre>recommendations finished on 20000/101140 queries. users per second: 40986.5</pre>"
      ],
      "text/plain": [
       "recommendations finished on 20000/101140 queries. users per second: 40986.5"
      ]
     },
     "metadata": {},
     "output_type": "display_data"
    },
    {
     "data": {
      "text/html": [
       "<pre>recommendations finished on 21000/101140 queries. users per second: 41025.7</pre>"
      ],
      "text/plain": [
       "recommendations finished on 21000/101140 queries. users per second: 41025.7"
      ]
     },
     "metadata": {},
     "output_type": "display_data"
    },
    {
     "data": {
      "text/html": [
       "<pre>recommendations finished on 22000/101140 queries. users per second: 41238.3</pre>"
      ],
      "text/plain": [
       "recommendations finished on 22000/101140 queries. users per second: 41238.3"
      ]
     },
     "metadata": {},
     "output_type": "display_data"
    },
    {
     "data": {
      "text/html": [
       "<pre>recommendations finished on 23000/101140 queries. users per second: 41622</pre>"
      ],
      "text/plain": [
       "recommendations finished on 23000/101140 queries. users per second: 41622"
      ]
     },
     "metadata": {},
     "output_type": "display_data"
    },
    {
     "data": {
      "text/html": [
       "<pre>recommendations finished on 24000/101140 queries. users per second: 41451.6</pre>"
      ],
      "text/plain": [
       "recommendations finished on 24000/101140 queries. users per second: 41451.6"
      ]
     },
     "metadata": {},
     "output_type": "display_data"
    },
    {
     "data": {
      "text/html": [
       "<pre>recommendations finished on 25000/101140 queries. users per second: 41359.8</pre>"
      ],
      "text/plain": [
       "recommendations finished on 25000/101140 queries. users per second: 41359.8"
      ]
     },
     "metadata": {},
     "output_type": "display_data"
    },
    {
     "data": {
      "text/html": [
       "<pre>recommendations finished on 26000/101140 queries. users per second: 41332.3</pre>"
      ],
      "text/plain": [
       "recommendations finished on 26000/101140 queries. users per second: 41332.3"
      ]
     },
     "metadata": {},
     "output_type": "display_data"
    },
    {
     "data": {
      "text/html": [
       "<pre>recommendations finished on 27000/101140 queries. users per second: 41035.9</pre>"
      ],
      "text/plain": [
       "recommendations finished on 27000/101140 queries. users per second: 41035.9"
      ]
     },
     "metadata": {},
     "output_type": "display_data"
    },
    {
     "data": {
      "text/html": [
       "<pre>recommendations finished on 28000/101140 queries. users per second: 41072.9</pre>"
      ],
      "text/plain": [
       "recommendations finished on 28000/101140 queries. users per second: 41072.9"
      ]
     },
     "metadata": {},
     "output_type": "display_data"
    },
    {
     "data": {
      "text/html": [
       "<pre>recommendations finished on 29000/101140 queries. users per second: 41210</pre>"
      ],
      "text/plain": [
       "recommendations finished on 29000/101140 queries. users per second: 41210"
      ]
     },
     "metadata": {},
     "output_type": "display_data"
    },
    {
     "data": {
      "text/html": [
       "<pre>recommendations finished on 30000/101140 queries. users per second: 41422.6</pre>"
      ],
      "text/plain": [
       "recommendations finished on 30000/101140 queries. users per second: 41422.6"
      ]
     },
     "metadata": {},
     "output_type": "display_data"
    },
    {
     "data": {
      "text/html": [
       "<pre>recommendations finished on 31000/101140 queries. users per second: 41420.5</pre>"
      ],
      "text/plain": [
       "recommendations finished on 31000/101140 queries. users per second: 41420.5"
      ]
     },
     "metadata": {},
     "output_type": "display_data"
    },
    {
     "data": {
      "text/html": [
       "<pre>recommendations finished on 32000/101140 queries. users per second: 41340.7</pre>"
      ],
      "text/plain": [
       "recommendations finished on 32000/101140 queries. users per second: 41340.7"
      ]
     },
     "metadata": {},
     "output_type": "display_data"
    },
    {
     "data": {
      "text/html": [
       "<pre>recommendations finished on 33000/101140 queries. users per second: 41396</pre>"
      ],
      "text/plain": [
       "recommendations finished on 33000/101140 queries. users per second: 41396"
      ]
     },
     "metadata": {},
     "output_type": "display_data"
    },
    {
     "data": {
      "text/html": [
       "<pre>recommendations finished on 34000/101140 queries. users per second: 41262.7</pre>"
      ],
      "text/plain": [
       "recommendations finished on 34000/101140 queries. users per second: 41262.7"
      ]
     },
     "metadata": {},
     "output_type": "display_data"
    },
    {
     "data": {
      "text/html": [
       "<pre>recommendations finished on 35000/101140 queries. users per second: 41119.4</pre>"
      ],
      "text/plain": [
       "recommendations finished on 35000/101140 queries. users per second: 41119.4"
      ]
     },
     "metadata": {},
     "output_type": "display_data"
    },
    {
     "data": {
      "text/html": [
       "<pre>recommendations finished on 36000/101140 queries. users per second: 41294.6</pre>"
      ],
      "text/plain": [
       "recommendations finished on 36000/101140 queries. users per second: 41294.6"
      ]
     },
     "metadata": {},
     "output_type": "display_data"
    },
    {
     "data": {
      "text/html": [
       "<pre>recommendations finished on 37000/101140 queries. users per second: 41381.1</pre>"
      ],
      "text/plain": [
       "recommendations finished on 37000/101140 queries. users per second: 41381.1"
      ]
     },
     "metadata": {},
     "output_type": "display_data"
    },
    {
     "data": {
      "text/html": [
       "<pre>recommendations finished on 38000/101140 queries. users per second: 41472.4</pre>"
      ],
      "text/plain": [
       "recommendations finished on 38000/101140 queries. users per second: 41472.4"
      ]
     },
     "metadata": {},
     "output_type": "display_data"
    },
    {
     "data": {
      "text/html": [
       "<pre>recommendations finished on 39000/101140 queries. users per second: 41648.6</pre>"
      ],
      "text/plain": [
       "recommendations finished on 39000/101140 queries. users per second: 41648.6"
      ]
     },
     "metadata": {},
     "output_type": "display_data"
    },
    {
     "data": {
      "text/html": [
       "<pre>recommendations finished on 40000/101140 queries. users per second: 41512.1</pre>"
      ],
      "text/plain": [
       "recommendations finished on 40000/101140 queries. users per second: 41512.1"
      ]
     },
     "metadata": {},
     "output_type": "display_data"
    },
    {
     "data": {
      "text/html": [
       "<pre>recommendations finished on 41000/101140 queries. users per second: 41319.7</pre>"
      ],
      "text/plain": [
       "recommendations finished on 41000/101140 queries. users per second: 41319.7"
      ]
     },
     "metadata": {},
     "output_type": "display_data"
    },
    {
     "data": {
      "text/html": [
       "<pre>recommendations finished on 42000/101140 queries. users per second: 41245.5</pre>"
      ],
      "text/plain": [
       "recommendations finished on 42000/101140 queries. users per second: 41245.5"
      ]
     },
     "metadata": {},
     "output_type": "display_data"
    },
    {
     "data": {
      "text/html": [
       "<pre>recommendations finished on 43000/101140 queries. users per second: 41208.1</pre>"
      ],
      "text/plain": [
       "recommendations finished on 43000/101140 queries. users per second: 41208.1"
      ]
     },
     "metadata": {},
     "output_type": "display_data"
    },
    {
     "data": {
      "text/html": [
       "<pre>recommendations finished on 44000/101140 queries. users per second: 41053</pre>"
      ],
      "text/plain": [
       "recommendations finished on 44000/101140 queries. users per second: 41053"
      ]
     },
     "metadata": {},
     "output_type": "display_data"
    },
    {
     "data": {
      "text/html": [
       "<pre>recommendations finished on 45000/101140 queries. users per second: 41196.6</pre>"
      ],
      "text/plain": [
       "recommendations finished on 45000/101140 queries. users per second: 41196.6"
      ]
     },
     "metadata": {},
     "output_type": "display_data"
    },
    {
     "data": {
      "text/html": [
       "<pre>recommendations finished on 46000/101140 queries. users per second: 41093.3</pre>"
      ],
      "text/plain": [
       "recommendations finished on 46000/101140 queries. users per second: 41093.3"
      ]
     },
     "metadata": {},
     "output_type": "display_data"
    },
    {
     "data": {
      "text/html": [
       "<pre>recommendations finished on 47000/101140 queries. users per second: 41285.9</pre>"
      ],
      "text/plain": [
       "recommendations finished on 47000/101140 queries. users per second: 41285.9"
      ]
     },
     "metadata": {},
     "output_type": "display_data"
    },
    {
     "data": {
      "text/html": [
       "<pre>recommendations finished on 48000/101140 queries. users per second: 41177.9</pre>"
      ],
      "text/plain": [
       "recommendations finished on 48000/101140 queries. users per second: 41177.9"
      ]
     },
     "metadata": {},
     "output_type": "display_data"
    },
    {
     "data": {
      "text/html": [
       "<pre>recommendations finished on 49000/101140 queries. users per second: 41076.4</pre>"
      ],
      "text/plain": [
       "recommendations finished on 49000/101140 queries. users per second: 41076.4"
      ]
     },
     "metadata": {},
     "output_type": "display_data"
    },
    {
     "data": {
      "text/html": [
       "<pre>recommendations finished on 50000/101140 queries. users per second: 41089.5</pre>"
      ],
      "text/plain": [
       "recommendations finished on 50000/101140 queries. users per second: 41089.5"
      ]
     },
     "metadata": {},
     "output_type": "display_data"
    },
    {
     "data": {
      "text/html": [
       "<pre>recommendations finished on 51000/101140 queries. users per second: 41146.6</pre>"
      ],
      "text/plain": [
       "recommendations finished on 51000/101140 queries. users per second: 41146.6"
      ]
     },
     "metadata": {},
     "output_type": "display_data"
    },
    {
     "data": {
      "text/html": [
       "<pre>recommendations finished on 52000/101140 queries. users per second: 41256.6</pre>"
      ],
      "text/plain": [
       "recommendations finished on 52000/101140 queries. users per second: 41256.6"
      ]
     },
     "metadata": {},
     "output_type": "display_data"
    },
    {
     "data": {
      "text/html": [
       "<pre>recommendations finished on 53000/101140 queries. users per second: 41272</pre>"
      ],
      "text/plain": [
       "recommendations finished on 53000/101140 queries. users per second: 41272"
      ]
     },
     "metadata": {},
     "output_type": "display_data"
    },
    {
     "data": {
      "text/html": [
       "<pre>recommendations finished on 54000/101140 queries. users per second: 41362.1</pre>"
      ],
      "text/plain": [
       "recommendations finished on 54000/101140 queries. users per second: 41362.1"
      ]
     },
     "metadata": {},
     "output_type": "display_data"
    },
    {
     "data": {
      "text/html": [
       "<pre>recommendations finished on 55000/101140 queries. users per second: 41434</pre>"
      ],
      "text/plain": [
       "recommendations finished on 55000/101140 queries. users per second: 41434"
      ]
     },
     "metadata": {},
     "output_type": "display_data"
    },
    {
     "data": {
      "text/html": [
       "<pre>recommendations finished on 56000/101140 queries. users per second: 41434.9</pre>"
      ],
      "text/plain": [
       "recommendations finished on 56000/101140 queries. users per second: 41434.9"
      ]
     },
     "metadata": {},
     "output_type": "display_data"
    },
    {
     "data": {
      "text/html": [
       "<pre>recommendations finished on 57000/101140 queries. users per second: 41541.4</pre>"
      ],
      "text/plain": [
       "recommendations finished on 57000/101140 queries. users per second: 41541.4"
      ]
     },
     "metadata": {},
     "output_type": "display_data"
    },
    {
     "data": {
      "text/html": [
       "<pre>recommendations finished on 58000/101140 queries. users per second: 41614.9</pre>"
      ],
      "text/plain": [
       "recommendations finished on 58000/101140 queries. users per second: 41614.9"
      ]
     },
     "metadata": {},
     "output_type": "display_data"
    },
    {
     "data": {
      "text/html": [
       "<pre>recommendations finished on 59000/101140 queries. users per second: 41424</pre>"
      ],
      "text/plain": [
       "recommendations finished on 59000/101140 queries. users per second: 41424"
      ]
     },
     "metadata": {},
     "output_type": "display_data"
    },
    {
     "data": {
      "text/html": [
       "<pre>recommendations finished on 60000/101140 queries. users per second: 41227.6</pre>"
      ],
      "text/plain": [
       "recommendations finished on 60000/101140 queries. users per second: 41227.6"
      ]
     },
     "metadata": {},
     "output_type": "display_data"
    },
    {
     "data": {
      "text/html": [
       "<pre>recommendations finished on 61000/101140 queries. users per second: 41156.8</pre>"
      ],
      "text/plain": [
       "recommendations finished on 61000/101140 queries. users per second: 41156.8"
      ]
     },
     "metadata": {},
     "output_type": "display_data"
    },
    {
     "data": {
      "text/html": [
       "<pre>recommendations finished on 62000/101140 queries. users per second: 41136.3</pre>"
      ],
      "text/plain": [
       "recommendations finished on 62000/101140 queries. users per second: 41136.3"
      ]
     },
     "metadata": {},
     "output_type": "display_data"
    },
    {
     "data": {
      "text/html": [
       "<pre>recommendations finished on 63000/101140 queries. users per second: 41206</pre>"
      ],
      "text/plain": [
       "recommendations finished on 63000/101140 queries. users per second: 41206"
      ]
     },
     "metadata": {},
     "output_type": "display_data"
    },
    {
     "data": {
      "text/html": [
       "<pre>recommendations finished on 64000/101140 queries. users per second: 41285</pre>"
      ],
      "text/plain": [
       "recommendations finished on 64000/101140 queries. users per second: 41285"
      ]
     },
     "metadata": {},
     "output_type": "display_data"
    },
    {
     "data": {
      "text/html": [
       "<pre>recommendations finished on 65000/101140 queries. users per second: 41405.7</pre>"
      ],
      "text/plain": [
       "recommendations finished on 65000/101140 queries. users per second: 41405.7"
      ]
     },
     "metadata": {},
     "output_type": "display_data"
    },
    {
     "data": {
      "text/html": [
       "<pre>recommendations finished on 66000/101140 queries. users per second: 41548.1</pre>"
      ],
      "text/plain": [
       "recommendations finished on 66000/101140 queries. users per second: 41548.1"
      ]
     },
     "metadata": {},
     "output_type": "display_data"
    },
    {
     "data": {
      "text/html": [
       "<pre>recommendations finished on 67000/101140 queries. users per second: 41683.3</pre>"
      ],
      "text/plain": [
       "recommendations finished on 67000/101140 queries. users per second: 41683.3"
      ]
     },
     "metadata": {},
     "output_type": "display_data"
    },
    {
     "data": {
      "text/html": [
       "<pre>recommendations finished on 68000/101140 queries. users per second: 41820.5</pre>"
      ],
      "text/plain": [
       "recommendations finished on 68000/101140 queries. users per second: 41820.5"
      ]
     },
     "metadata": {},
     "output_type": "display_data"
    },
    {
     "data": {
      "text/html": [
       "<pre>recommendations finished on 69000/101140 queries. users per second: 42046.5</pre>"
      ],
      "text/plain": [
       "recommendations finished on 69000/101140 queries. users per second: 42046.5"
      ]
     },
     "metadata": {},
     "output_type": "display_data"
    },
    {
     "data": {
      "text/html": [
       "<pre>recommendations finished on 70000/101140 queries. users per second: 42192.6</pre>"
      ],
      "text/plain": [
       "recommendations finished on 70000/101140 queries. users per second: 42192.6"
      ]
     },
     "metadata": {},
     "output_type": "display_data"
    },
    {
     "data": {
      "text/html": [
       "<pre>recommendations finished on 71000/101140 queries. users per second: 42001.9</pre>"
      ],
      "text/plain": [
       "recommendations finished on 71000/101140 queries. users per second: 42001.9"
      ]
     },
     "metadata": {},
     "output_type": "display_data"
    },
    {
     "data": {
      "text/html": [
       "<pre>recommendations finished on 72000/101140 queries. users per second: 41868.6</pre>"
      ],
      "text/plain": [
       "recommendations finished on 72000/101140 queries. users per second: 41868.6"
      ]
     },
     "metadata": {},
     "output_type": "display_data"
    },
    {
     "data": {
      "text/html": [
       "<pre>recommendations finished on 73000/101140 queries. users per second: 41901.9</pre>"
      ],
      "text/plain": [
       "recommendations finished on 73000/101140 queries. users per second: 41901.9"
      ]
     },
     "metadata": {},
     "output_type": "display_data"
    },
    {
     "data": {
      "text/html": [
       "<pre>recommendations finished on 74000/101140 queries. users per second: 41847</pre>"
      ],
      "text/plain": [
       "recommendations finished on 74000/101140 queries. users per second: 41847"
      ]
     },
     "metadata": {},
     "output_type": "display_data"
    },
    {
     "data": {
      "text/html": [
       "<pre>recommendations finished on 75000/101140 queries. users per second: 41853.1</pre>"
      ],
      "text/plain": [
       "recommendations finished on 75000/101140 queries. users per second: 41853.1"
      ]
     },
     "metadata": {},
     "output_type": "display_data"
    },
    {
     "data": {
      "text/html": [
       "<pre>recommendations finished on 76000/101140 queries. users per second: 41760.1</pre>"
      ],
      "text/plain": [
       "recommendations finished on 76000/101140 queries. users per second: 41760.1"
      ]
     },
     "metadata": {},
     "output_type": "display_data"
    },
    {
     "data": {
      "text/html": [
       "<pre>recommendations finished on 77000/101140 queries. users per second: 41791.3</pre>"
      ],
      "text/plain": [
       "recommendations finished on 77000/101140 queries. users per second: 41791.3"
      ]
     },
     "metadata": {},
     "output_type": "display_data"
    },
    {
     "data": {
      "text/html": [
       "<pre>recommendations finished on 78000/101140 queries. users per second: 41700.3</pre>"
      ],
      "text/plain": [
       "recommendations finished on 78000/101140 queries. users per second: 41700.3"
      ]
     },
     "metadata": {},
     "output_type": "display_data"
    },
    {
     "data": {
      "text/html": [
       "<pre>recommendations finished on 79000/101140 queries. users per second: 41596.1</pre>"
      ],
      "text/plain": [
       "recommendations finished on 79000/101140 queries. users per second: 41596.1"
      ]
     },
     "metadata": {},
     "output_type": "display_data"
    },
    {
     "data": {
      "text/html": [
       "<pre>recommendations finished on 80000/101140 queries. users per second: 41614.7</pre>"
      ],
      "text/plain": [
       "recommendations finished on 80000/101140 queries. users per second: 41614.7"
      ]
     },
     "metadata": {},
     "output_type": "display_data"
    },
    {
     "data": {
      "text/html": [
       "<pre>recommendations finished on 81000/101140 queries. users per second: 41558.9</pre>"
      ],
      "text/plain": [
       "recommendations finished on 81000/101140 queries. users per second: 41558.9"
      ]
     },
     "metadata": {},
     "output_type": "display_data"
    },
    {
     "data": {
      "text/html": [
       "<pre>recommendations finished on 82000/101140 queries. users per second: 41587</pre>"
      ],
      "text/plain": [
       "recommendations finished on 82000/101140 queries. users per second: 41587"
      ]
     },
     "metadata": {},
     "output_type": "display_data"
    },
    {
     "data": {
      "text/html": [
       "<pre>recommendations finished on 83000/101140 queries. users per second: 41608.2</pre>"
      ],
      "text/plain": [
       "recommendations finished on 83000/101140 queries. users per second: 41608.2"
      ]
     },
     "metadata": {},
     "output_type": "display_data"
    },
    {
     "data": {
      "text/html": [
       "<pre>recommendations finished on 84000/101140 queries. users per second: 41649</pre>"
      ],
      "text/plain": [
       "recommendations finished on 84000/101140 queries. users per second: 41649"
      ]
     },
     "metadata": {},
     "output_type": "display_data"
    },
    {
     "data": {
      "text/html": [
       "<pre>recommendations finished on 85000/101140 queries. users per second: 41772</pre>"
      ],
      "text/plain": [
       "recommendations finished on 85000/101140 queries. users per second: 41772"
      ]
     },
     "metadata": {},
     "output_type": "display_data"
    },
    {
     "data": {
      "text/html": [
       "<pre>recommendations finished on 86000/101140 queries. users per second: 41867.8</pre>"
      ],
      "text/plain": [
       "recommendations finished on 86000/101140 queries. users per second: 41867.8"
      ]
     },
     "metadata": {},
     "output_type": "display_data"
    },
    {
     "data": {
      "text/html": [
       "<pre>recommendations finished on 87000/101140 queries. users per second: 41987.8</pre>"
      ],
      "text/plain": [
       "recommendations finished on 87000/101140 queries. users per second: 41987.8"
      ]
     },
     "metadata": {},
     "output_type": "display_data"
    },
    {
     "data": {
      "text/html": [
       "<pre>recommendations finished on 88000/101140 queries. users per second: 42065.7</pre>"
      ],
      "text/plain": [
       "recommendations finished on 88000/101140 queries. users per second: 42065.7"
      ]
     },
     "metadata": {},
     "output_type": "display_data"
    },
    {
     "data": {
      "text/html": [
       "<pre>recommendations finished on 89000/101140 queries. users per second: 42142.7</pre>"
      ],
      "text/plain": [
       "recommendations finished on 89000/101140 queries. users per second: 42142.7"
      ]
     },
     "metadata": {},
     "output_type": "display_data"
    },
    {
     "data": {
      "text/html": [
       "<pre>recommendations finished on 90000/101140 queries. users per second: 42214</pre>"
      ],
      "text/plain": [
       "recommendations finished on 90000/101140 queries. users per second: 42214"
      ]
     },
     "metadata": {},
     "output_type": "display_data"
    },
    {
     "data": {
      "text/html": [
       "<pre>recommendations finished on 91000/101140 queries. users per second: 42292.8</pre>"
      ],
      "text/plain": [
       "recommendations finished on 91000/101140 queries. users per second: 42292.8"
      ]
     },
     "metadata": {},
     "output_type": "display_data"
    },
    {
     "data": {
      "text/html": [
       "<pre>recommendations finished on 92000/101140 queries. users per second: 42424.9</pre>"
      ],
      "text/plain": [
       "recommendations finished on 92000/101140 queries. users per second: 42424.9"
      ]
     },
     "metadata": {},
     "output_type": "display_data"
    },
    {
     "data": {
      "text/html": [
       "<pre>recommendations finished on 93000/101140 queries. users per second: 42478.1</pre>"
      ],
      "text/plain": [
       "recommendations finished on 93000/101140 queries. users per second: 42478.1"
      ]
     },
     "metadata": {},
     "output_type": "display_data"
    },
    {
     "data": {
      "text/html": [
       "<pre>recommendations finished on 94000/101140 queries. users per second: 42524.2</pre>"
      ],
      "text/plain": [
       "recommendations finished on 94000/101140 queries. users per second: 42524.2"
      ]
     },
     "metadata": {},
     "output_type": "display_data"
    },
    {
     "data": {
      "text/html": [
       "<pre>recommendations finished on 95000/101140 queries. users per second: 42609.9</pre>"
      ],
      "text/plain": [
       "recommendations finished on 95000/101140 queries. users per second: 42609.9"
      ]
     },
     "metadata": {},
     "output_type": "display_data"
    },
    {
     "data": {
      "text/html": [
       "<pre>recommendations finished on 96000/101140 queries. users per second: 42648.8</pre>"
      ],
      "text/plain": [
       "recommendations finished on 96000/101140 queries. users per second: 42648.8"
      ]
     },
     "metadata": {},
     "output_type": "display_data"
    },
    {
     "data": {
      "text/html": [
       "<pre>recommendations finished on 97000/101140 queries. users per second: 42634.5</pre>"
      ],
      "text/plain": [
       "recommendations finished on 97000/101140 queries. users per second: 42634.5"
      ]
     },
     "metadata": {},
     "output_type": "display_data"
    },
    {
     "data": {
      "text/html": [
       "<pre>recommendations finished on 98000/101140 queries. users per second: 42396.3</pre>"
      ],
      "text/plain": [
       "recommendations finished on 98000/101140 queries. users per second: 42396.3"
      ]
     },
     "metadata": {},
     "output_type": "display_data"
    },
    {
     "data": {
      "text/html": [
       "<pre>recommendations finished on 99000/101140 queries. users per second: 41731.1</pre>"
      ],
      "text/plain": [
       "recommendations finished on 99000/101140 queries. users per second: 41731.1"
      ]
     },
     "metadata": {},
     "output_type": "display_data"
    },
    {
     "data": {
      "text/html": [
       "<pre>recommendations finished on 100000/101140 queries. users per second: 41124.2</pre>"
      ],
      "text/plain": [
       "recommendations finished on 100000/101140 queries. users per second: 41124.2"
      ]
     },
     "metadata": {},
     "output_type": "display_data"
    },
    {
     "data": {
      "text/html": [
       "<pre>recommendations finished on 101000/101140 queries. users per second: 40482.5</pre>"
      ],
      "text/plain": [
       "recommendations finished on 101000/101140 queries. users per second: 40482.5"
      ]
     },
     "metadata": {},
     "output_type": "display_data"
    },
    {
     "name": "stdout",
     "output_type": "stream",
     "text": [
      "An output file can be found in 'output' folder with name 'new_recommendation.csv'\n",
      "(101140, 1)\n"
     ]
    },
    {
     "data": {
      "text/html": [
       "<div>\n",
       "<style scoped>\n",
       "    .dataframe tbody tr th:only-of-type {\n",
       "        vertical-align: middle;\n",
       "    }\n",
       "\n",
       "    .dataframe tbody tr th {\n",
       "        vertical-align: top;\n",
       "    }\n",
       "\n",
       "    .dataframe thead th {\n",
       "        text-align: right;\n",
       "    }\n",
       "</style>\n",
       "<table border=\"1\" class=\"dataframe\">\n",
       "  <thead>\n",
       "    <tr style=\"text-align: right;\">\n",
       "      <th></th>\n",
       "      <th>recommendedProducts</th>\n",
       "    </tr>\n",
       "    <tr>\n",
       "      <th>LYBID</th>\n",
       "      <th></th>\n",
       "    </tr>\n",
       "  </thead>\n",
       "  <tbody>\n",
       "    <tr>\n",
       "      <th>10004</th>\n",
       "      <td>43508|15862|43987|43507|21089</td>\n",
       "    </tr>\n",
       "    <tr>\n",
       "      <th>10009</th>\n",
       "      <td>35578|43515|43604|43679|28876</td>\n",
       "    </tr>\n",
       "    <tr>\n",
       "      <th>10012</th>\n",
       "      <td>42655|15862|43442|33584|43604</td>\n",
       "    </tr>\n",
       "    <tr>\n",
       "      <th>10022</th>\n",
       "      <td>15862|42653|43507|43853|43442</td>\n",
       "    </tr>\n",
       "    <tr>\n",
       "      <th>10023</th>\n",
       "      <td>43507|28901|43612|43442|15862</td>\n",
       "    </tr>\n",
       "  </tbody>\n",
       "</table>\n",
       "</div>"
      ],
      "text/plain": [
       "                 recommendedProducts\n",
       "LYBID                               \n",
       "10004  43508|15862|43987|43507|21089\n",
       "10009  35578|43515|43604|43679|28876\n",
       "10012  42655|15862|43442|33584|43604\n",
       "10022  15862|42653|43507|43853|43442\n",
       "10023  43507|28901|43612|43442|15862"
      ]
     },
     "execution_count": 51,
     "metadata": {},
     "output_type": "execute_result"
    }
   ],
   "source": [
    "df_output = create_output(cos_dummy, users_to_recommend, n_rec, print_csv=True)\n",
    "print(df_output.shape)\n",
    "df_output.head()"
   ]
  },
  {
   "cell_type": "markdown",
   "metadata": {},
   "source": [
    "### 8.2. Customer recommendation function"
   ]
  },
  {
   "cell_type": "code",
   "execution_count": 48,
   "metadata": {},
   "outputs": [],
   "source": [
    "def customer_recomendation(LYBID):\n",
    "    if LYBID not in df_output.index:\n",
    "        print('Customer not found.')\n",
    "        return LYBID\n",
    "    return df_output.loc[LYBID]"
   ]
  },
  {
   "cell_type": "code",
   "execution_count": 49,
   "metadata": {},
   "outputs": [
    {
     "data": {
      "text/plain": [
       "recommendedProducts    42655|15862|43442|33584|43604\n",
       "Name: 10012, dtype: object"
      ]
     },
     "execution_count": 49,
     "metadata": {},
     "output_type": "execute_result"
    }
   ],
   "source": [
    "customer_recomendation(10012)"
   ]
  },
  {
   "cell_type": "code",
   "execution_count": null,
   "metadata": {},
   "outputs": [],
   "source": [
    "customer_recomendation(10012)"
   ]
  },
  {
   "cell_type": "code",
   "execution_count": null,
   "metadata": {},
   "outputs": [],
   "source": []
  }
 ],
 "metadata": {
  "kernelspec": {
   "display_name": "Python 3",
   "language": "python",
   "name": "python3"
  },
  "language_info": {
   "codemirror_mode": {
    "name": "ipython",
    "version": 3
   },
   "file_extension": ".py",
   "mimetype": "text/x-python",
   "name": "python",
   "nbconvert_exporter": "python",
   "pygments_lexer": "ipython3",
   "version": "3.6.7"
  }
 },
 "nbformat": 4,
 "nbformat_minor": 2
}
